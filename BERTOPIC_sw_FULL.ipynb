{
 "cells": [
  {
   "cell_type": "code",
   "execution_count": 2,
   "metadata": {},
   "outputs": [],
   "source": [
    "from bertopic import BERTopic"
   ]
  },
  {
   "cell_type": "code",
   "execution_count": 3,
   "metadata": {},
   "outputs": [],
   "source": [
    "piacere = open('/Users/albertobaldi/Desktop/Ricerca/READINGMACHINES/ILPIACERE/TXT/ILPIACERETXT/PIACERE/SINGOLI/IlPiacere_LibroCompleto.txt', encoding=\"utf-8\").read().split('\\n')"
   ]
  },
  {
   "cell_type": "code",
   "execution_count": 4,
   "metadata": {},
   "outputs": [],
   "source": [
    "from sklearn.feature_extraction.text import CountVectorizer\n",
    "\n",
    "vectorizer_model = CountVectorizer(stop_words=[\"aldobrandini\", \"andrew\", \"Andrew\", \"fa\", \"stephen\", \"ferdinando\", \"sant\", \"dov\", \"disse\", \"nell\", \"un\", \"all\", \"dall\", \"cose\", \"ora\", \"m\", \"quell\", \"gran\", \"all\", \"lui\", \"vinci\", \"tiziano\", \"sciarra\", \"paolo\", \"veronese\", \"galeazzo\", \"maria\", \"sforza\", \"maffeo\", \"clivate\", \"dallo\", \"nello\", \"ancóra\", \"s\", \"d\", \"l\", \"tutt\", \"deve\", \"dell\", \"ch\", \"nell\", \"s\", \"all\", \"disse\", \"di\", \"e\", \"la\", \"un\", \"il\", \"le\", \"una\", \"che\", \"a\", \"in\", \"d'\", \"l'\", \"non\", \"con\", \"si\", \"del\", \"per\", \"gli\", \"come\", \"i\", \"della\", \"egli\", \"ella\", \"era\", \"più\", \"ed\", \"d'un\", \"così\", \"ch'\", \"o\", \"senza\", \"nell'\", \"ogni\", \"s'\", \"lui\", \"quasi\", \"quel\", \"aveva\", \"nel\", \"io\", \"al\", \"mi\", \"è\", \"nella\", \"ma\", \"dell'\", \"sua\", \"delle\", \"suo\", \"alla\", \"lo\", \"quella\", \"un'\", \"da\", \"su\", \"cosa\", \"ti\", \"altra\", \"erano\", \"quelle\", \"tutti\", \"sue\", \"tutta\", \"forse\", \"innanzi\", \"tu\", \"me\", \"de'\", \"voi\", \"cui\", \"perché\", \"poi\", \"ha\", \"vi\", \"già\", \"verso\", \"alle\", \"mio\", \"sempre\", \"ho\", \"dei\", \"mia\", \"mai\", \"uno\", \"se\", \"qualche\", \"tra\", \"anche\", \"lei\", \"dal\", \"dalla\", \"poco\", \"all'\", \"quando\", \"tutto\", \"sotto\", \"due\", \"sul\", \"tutte\", \"ad\", \"faceva\", \"appena\", \"quale\", \"talvolta\", \"tanto\", \"ove\", \"né\", \"ne'\", \"fra\", \"altre\", \"chi\", \"sopra\", \"certo\", \"allora\", \"altri\", \"col\", \"dunque\", \"tre\", \"lungo\", \"no\", \"nulla\", \"ai\", \"poiché\", \"fu\", \"contro\", \"degli\", \"molto\", \"questa\", \"questo\", \"sé\", \"prima\", \"mentre\", \"po'\", \"loro\", \"quell'\", \"altro\", \"nelle\", \"sono\", \"dall'\", \"avrebbe\", \"suoi\", \"dalle\", \"d'una\", \"de\", \"dopo\", \"ora\", \"ne\", \"so\", \"po\", \"fosse\", \"intorno\", \"ch'egli\", \"dove\", \"mezzo\", \"là\", \"assai\", \"fino\", \"li\", \"quello\", \"ch'io\", \"son\", \"negli\", \"ci\", \"fece\", \"quindi\", \"qui\", \"solo\", \"ch'ella\", \"pur\", \"avevano\", \"ebbe\", \"noi\", \"sia\", \"quali\", \"quanto\", \"stava\", \"stesso\", \"allo\", \"dietro\", \"parevano\", \"quei\", \"volte\", \"può\", \"te\", \"sì\", \"stato\", \"dai\", \"andrea\", \"elena\", \"sperelli\", \"luzio\", \"ovidio\", \"trinità\", \"de'\", \"monti\", \"luzio\", \"dolci\", \"zuccari\", \"spagna\", \"san\", \"silvestro\", \"giorgio\", \"dafne\", \"danae\", \"correggio\", \"porta\", \"pia\", \"palazzo\", \"farnese\", \"palazzo\", \"barberini\", \"via\", \"sistina\", \"aniene\", \"ancóra\", \"quattro\", \"fontane\", \"palazzo\", \"roccagiovine\", \"cherubino\", \"don\", \"giovanni\", \"via\", \"de'\", \"condotti\", \"casteldelfino\", \"pincio\", \"monte\", \"mario\", \"piazzetta\", \"mignanelli\", \"via\", \"gregoriana\", \"percy\", \"shelley\", \"inghilterra\", \"roma\", \"lady\", \"helen\", \"heathfield\", \"helen\", \"heathfield\", \"giustiniani-bandini\", \"joshua\", \"reynolds\", \"reynolds\", \"humphrey\", \"lord\", \"gibilterra\", \"carmélite\", \"palazzo\", \"chigi\", \"monna\", \"lisa\", \"nelly\", \"o'\", \"brien\", \"laldomine\", \"mona\", \"amorrosisca\", \"albergo\", \"del\", \"quirinale\", \"sùbito\", \"mumps\", \"alfonso\", \"ferdinando\", \"re\", \"di\", \"napoli\", \"alessandro\", \"lorenzo\", \"de'\", \"medici\", \"giovanni\", \"gossaert\", \"massimiliano\", \"filippo\", \"di\", \"borgogna\", \"piero\", \"di\", \"cosimo\", \"firenze\", \"papa\", \"giulio\", \"ii\", \"bartolomeo\", \"napoli\", \"la\", \"faustina\", \"giovanni\", \"sperelli\", \"carlo\", \"sperelli\", \"giovanni\", \"carlo\", \"piero\", \"fieschi\", \"carolina\", \"pericle\", \"colosseo\", \"villa\", \"medici\", \"campo\", \"vaccino\", \"piazza\", \"di\", \"spagna\", \"arco\", \"di\", \"tito\", \"tito\", \"caracci\", \"michelangelo\", \"doria\", \"barberini\", \"domenichini\", \"albani\", \"luni\", \"grecia\", \"pio\", \"vi\", \"thomas\", \"lawrence\", \"lawrence\", \"conny\", \"landbrooke\", \"elena\", \"muti\", \"gravelot\", \"luigi\", \"xv\", \"teatro\", \"valle\", \"don\", \"filippo\", \"del\", \"monte\", \"ugenta\", \"musèllaro\", \"giulio\", \"sakumi\", \"d'ateleta\", \"francesca\", \"burano\", \"lady\", \"ouless\", \"ouless\", \"lady\", \"cahen\", \"madame\", \"leonardo\", \"borghese\", \"borgia\", \"cesare\", \"sanzio\", \"ferentino\", \"mary\", \"maria\", \"silvandri\", \"secìnaro\", \"lucio\", \"vero\", \"immenraet\", \"stubbs\", \"beethoven\", \"crivelli\", \"lucrezia\", \"dyce\", \"schumann\", \"von\", \"huffel\", \"von\", \"caradosso\", \"pollajuolo\", \"antonio\", \"urbino\", \"volterra\", \"rùtolo\", \"giannetto\", \"roberto\", \"casteldieri\", \"ludovico\", \"barbarisi\", \"leczinska\", \"albónico\", \"ippolita\", \"bianca\", \"dolcebuono\", \"laura\", \"miano\", \"angelieri\", \"annibale\", \"gabriella\", \"barbarisi\", \"bommìnaco\", \"aldobrandini\", \"fa\", \"stephen\", \"ferdinando\", \"sant\", \"dov\", \"disse\", \"nell\", \"un\", \"all\", \"dall\", \"cose\", \"ora\", \"quell\", \"gran\", \"all\", \"lui\", \"vinci\", \"tiziano\", \"sciarra\", \"paolo\", \"veronese\", \"galeazzo\", \"maria\", \"sforza\", \"maffeo\", \"clivate\", \"dallo\", \"nello\", \"ancóra\", \"s\", \"d\", \"l\", \"tutt\", \"deve\", \"dell\", \"ch\", \"nell\", \"s\", \"all\", \"disse\", \"di\", \"e\", \"la\", \"un\", \"il\", \"le\", \"una\", \"che\", \"a\", \"in\", \"d'\", \"l'\", \"non\", \"con\", \"si\", \"del\", \"per\", \"gli\", \"come\", \"i\", \"della\", \"egli\", \"ella\", \"era\", \"più\", \"ed\", \"d'un\", \"così\", \"ch'\", \"o\", \"senza\", \"nell'\", \"ogni\", \"s'\", \"lui\", \"quasi\", \"quel\", \"aveva\", \"nel\", \"io\", \"al\", \"mi\", \"è\", \"nella\", \"ma\", \"dell'\", \"sua\", \"delle\", \"suo\", \"alla\", \"lo\", \"quella\", \"un'\", \"da\", \"su\", \"cosa\", \"ti\", \"altra\", \"erano\", \"quelle\", \"tutti\", \"sue\", \"tutta\", \"forse\", \"innanzi\", \"tu\", \"me\", \"de'\", \"voi\", \"cui\", \"perché\", \"poi\", \"ha\", \"vi\", \"già\", \"verso\", \"alle\", \"mio\", \"sempre\", \"ho\", \"dei\", \"mia\", \"mai\", \"uno\", \"se\", \"qualche\", \"tra\", \"anche\", \"lei\", \"dal\", \"dalla\", \"poco\", \"all'\", \"quando\", \"tutto\", \"sotto\", \"due\", \"sul\", \"tutte\", \"ad\", \"faceva\", \"appena\", \"quale\", \"talvolta\", \"tanto\", \"ove\", \"né\", \"ne'\", \"fra\", \"altre\", \"chi\", \"sopra\", \"certo\", \"allora\", \"altri\", \"col\", \"dunque\", \"tre\", \"lungo\", \"no\", \"nulla\", \"ai\", \"poiché\", \"fu\", \"contro\", \"degli\", \"molto\", \"questa\", \"questo\", \"sé\", \"prima\", \"mentre\", \"po'\", \"loro\", \"quell'\", \"altro\", \"nelle\", \"sono\", \"dall'\", \"avrebbe\", \"suoi\", \"dalle\", \"d'una\", \"de\", \"dopo\", \"ora\", \"ne\", \"so\", \"po\", \"fosse\", \"intorno\", \"ch'egli\", \"dove\", \"mezzo\", \"là\", \"assai\", \"fino\", \"li\", \"quello\", \"ch'io\", \"son\", \"negli\", \"ci\", \"fece\", \"quindi\", \"qui\", \"solo\", \"ch'ella\", \"pur\", \"avevano\", \"ebbe\", \"noi\", \"sia\", \"quali\", \"quanto\", \"stava\", \"stesso\", \"allo\", \"dietro\", \"parevano\", \"quei\", \"volte\", \"può\", \"te\", \"sì\", \"stato\", \"dai\", \"andrea\", \"elena\", \"sperelli\", \"luzio\", \"ovidio\", \"trinità\", \"de'\", \"monti\", \"luzio\", \"dolci\", \"zuccari\", \"spagna\", \"san\", \"silvestro\", \"giorgio\", \"dafne\", \"danae\", \"correggio\", \"porta\", \"pia\", \"palazzo\", \"farnese\", \"palazzo\", \"barberini\", \"via\", \"sistina\", \"aniene\", \"ancóra\", \"quattro\", \"fontane\", \"palazzo\", \"roccagiovine\", \"cherubino\", \"don\", \"giovanni\", \"via\", \"de'\", \"condotti\", \"casteldelfino\", \"pincio\", \"monte\", \"mario\", \"piazzetta\", \"mignanelli\", \"via\", \"gregoriana\", \"percy\", \"shelley\", \"inghilterra\", \"roma\", \"lady\", \"helen\", \"heathfield\", \"helen\", \"heathfield\", \"giustiniani-bandini\", \"joshua\", \"reynolds\", \"reynolds\", \"humphrey\", \"lord\", \"gibilterra\", \"carmélite\", \"palazzo\", \"chigi\", \"monna\", \"lisa\", \"nelly\", \"o'\", \"brien\", \"laldomine\", \"mona\", \"amorrosisca\", \"albergo\", \"del\", \"quirinale\", \"sùbito\", \"mumps\", \"alfonso\", \"ferdinando\", \"re\", \"di\", \"napoli\", \"alessandro\", \"lorenzo\", \"de'\", \"medici\", \"giovanni\", \"gossaert\", \"massimiliano\", \"filippo\", \"di\", \"borgogna\", \"piero\", \"di\", \"cosimo\", \"firenze\", \"papa\", \"giulio\", \"ii\", \"bartolomeo\", \"napoli\", \"la\", \"faustina\", \"giovanni\", \"sperelli\", \"carlo\", \"sperelli\", \"giovanni\", \"carlo\", \"piero\", \"fieschi\", \"carolina\", \"pericle\", \"colosseo\", \"villa\", \"medici\", \"campo\", \"vaccino\", \"piazza\", \"di\", \"spagna\", \"arco\", \"di\", \"tito\", \"tito\", \"caracci\", \"michelangelo\", \"doria\", \"barberini\", \"domenichini\", \"albani\", \"luni\", \"grecia\", \"pio\", \"vi\", \"thomas\", \"lawrence\", \"lawrence\", \"conny\", \"landbrooke\", \"elena\", \"muti\", \"gravelot\", \"luigi\", \"xv\", \"teatro\", \"valle\", \"don\", \"filippo\", \"del\", \"monte\", \"ugenta\", \"musèllaro\", \"giulio\", \"sakumi\", \"d'ateleta\", \"francesca\", \"burano\", \"lady\", \"ouless\", \"ouless\", \"lady\", \"cahen\", \"madame\", \"leonardo\", \"borghese\", \"borgia\", \"cesare\", \"sanzio\", \"ferentino\", \"mary\", \"maria\", \"silvandri\", \"secìnaro\", \"lucio\", \"vero\", \"immenraet\", \"stubbs\", \"beethoven\", \"crivelli\", \"lucrezia\", \"dyce\", \"schumann\", \"von\", \"huffel\", \"von\", \"caradosso\", \"pollajuolo\", \"antonio\", \"urbino\", \"volterra\", \"rùtolo\", \"giannetto\", \"roberto\", \"casteldieri\", \"ludovico\", \"barbarisi\", \"leczinska\", \"albónico\", \"ippolita\", \"bianca\", \"dolcebuono\", \"laura\", \"miano\", \"angelieri\", \"annibale\", \"gabriella\", \"barbarisi\", \"bommìnaco\", \"aldobrandini\", \"fa\", \"stephen\", \"ferdinando\", \"sant\", \"dov\", \"disse\", \"nell\", \"un\", \"all\", \"dall\", \"cose\", \"ora\", \"quell\", \"gran\", \"all\", \"lui\", \"vinci\", \"tiziano\", \"sciarra\", \"paolo\", \"veronese\", \"galeazzo\", \"maria\", \"sforza\", \"maffeo\", \"clivate\", \"dallo\", \"nello\", \"ancóra\", \"s\", \"d\", \"l\", \"tutt\", \"deve\", \"dell\", \"ch\", \"nell\", \"s\", \"all\", \"disse\", \"di\", \"e\", \"la\", \"un\", \"il\", \"le\", \"una\", \"che\", \"a\", \"in\", \"d'\", \"l'\", \"non\", \"con\", \"si\", \"del\", \"per\", \"gli\", \"come\", \"i\", \"della\", \"egli\", \"ella\", \"era\", \"più\", \"ed\", \"d'un\", \"così\", \"ch'\", \"o\", \"senza\", \"nell'\", \"ogni\", \"s'\", \"lui\", \"quasi\", \"quel\", \"aveva\", \"nel\", \"io\", \"al\", \"mi\", \"è\", \"nella\", \"ma\", \"dell'\", \"sua\", \"delle\", \"suo\", \"alla\", \"lo\", \"quella\", \"un'\", \"da\", \"su\", \"cosa\", \"ti\", \"altra\", \"erano\", \"quelle\", \"tutti\", \"sue\", \"tutta\", \"forse\", \"innanzi\", \"tu\", \"me\", \"de'\", \"voi\", \"cui\", \"perché\", \"poi\", \"ha\", \"vi\", \"già\", \"verso\", \"alle\", \"mio\", \"sempre\", \"ho\", \"dei\", \"mia\", \"mai\", \"uno\", \"se\", \"qualche\", \"tra\", \"anche\", \"lei\", \"dal\", \"dalla\", \"poco\", \"all'\", \"quando\", \"tutto\", \"sotto\", \"due\", \"sul\", \"tutte\", \"ad\", \"faceva\", \"appena\", \"quale\", \"talvolta\", \"tanto\", \"ove\", \"né\", \"ne'\", \"fra\", \"altre\", \"chi\", \"sopra\", \"certo\", \"allora\", \"altri\", \"col\", \"dunque\", \"tre\", \"lungo\", \"no\", \"nulla\", \"ai\", \"poiché\", \"fu\", \"contro\", \"degli\", \"molto\", \"questa\", \"questo\", \"sé\", \"prima\", \"mentre\", \"po'\", \"loro\", \"quell'\", \"altro\", \"nelle\", \"sono\", \"dall'\", \"avrebbe\", \"suoi\", \"dalle\", \"d'una\", \"de\", \"dopo\", \"ora\", \"ne\", \"so\", \"po\", \"fosse\", \"intorno\", \"ch'egli\", \"dove\", \"mezzo\", \"là\", \"assai\", \"fino\", \"li\", \"quello\", \"ch'io\", \"son\", \"negli\", \"ci\", \"fece\", \"quindi\", \"qui\", \"solo\", \"ch'ella\", \"pur\", \"avevano\", \"ebbe\", \"noi\", \"sia\", \"quali\", \"quanto\", \"stava\", \"stesso\", \"allo\", \"dietro\", \"parevano\", \"quei\", \"volte\", \"può\", \"te\", \"sì\", \"stato\", \"dai\", \"andrea\", \"elena\", \"sperelli\", \"luzio\", \"ovidio\", \"trinità\", \"de'\", \"monti\", \"luzio\", \"dolci\", \"zuccari\", \"spagna\", \"san\", \"silvestro\", \"giorgio\", \"dafne\", \"danae\", \"correggio\", \"porta\", \"pia\", \"palazzo\", \"farnese\", \"palazzo\", \"barberini\", \"via\", \"sistina\", \"aniene\", \"ancóra\", \"quattro\", \"fontane\", \"palazzo\", \"roccagiovine\", \"cherubino\", \"don\", \"giovanni\", \"via\", \"de'\", \"condotti\", \"casteldelfino\", \"pincio\", \"monte\", \"mario\", \"piazzetta\", \"mignanelli\", \"via\", \"gregoriana\", \"percy\", \"shelley\", \"inghilterra\", \"roma\", \"lady\", \"helen\", \"heathfield\", \"helen\", \"heathfield\", \"giustiniani-bandini\", \"joshua\", \"reynolds\", \"reynolds\", \"humphrey\", \"lord\", \"gibilterra\", \"carmélite\", \"palazzo\", \"chigi\", \"monna\", \"lisa\", \"nelly\", \"o'\", \"brien\", \"laldomine\", \"mona\", \"amorrosisca\", \"albergo\", \"del\", \"quirinale\", \"sùbito\", \"mumps\", \"alfonso\", \"ferdinando\", \"re\", \"di\", \"napoli\", \"alessandro\", \"lorenzo\", \"de'\", \"medici\", \"giovanni\", \"gossaert\", \"massimiliano\", \"filippo\", \"di\", \"borgogna\", \"piero\", \"di\", \"cosimo\", \"firenze\", \"papa\", \"giulio\", \"ii\", \"bartolomeo\", \"napoli\", \"la\", \"faustina\", \"giovanni\", \"sperelli\", \"carlo\", \"sperelli\", \"giovanni\", \"carlo\", \"piero\", \"fieschi\", \"carolina\", \"pericle\", \"colosseo\", \"villa\", \"medici\", \"campo\", \"vaccino\", \"piazza\", \"di\", \"spagna\", \"arco\", \"di\", \"tito\", \"tito\", \"caracci\", \"michelangelo\", \"doria\", \"barberini\", \"domenichini\", \"albani\", \"luni\", \"grecia\", \"pio\", \"vi\", \"thomas\", \"lawrence\", \"lawrence\", \"conny\", \"landbrooke\", \"elena\", \"muti\", \"gravelot\", \"luigi\", \"xv\", \"teatro\", \"valle\", \"don\", \"filippo\", \"del\", \"monte\", \"ugenta\", \"musèllaro\", \"giulio\", \"sakumi\", \"d'ateleta\", \"francesca\", \"burano\", \"lady\", \"ouless\", \"ouless\", \"lady\", \"cahen\", \"madame\", \"leonardo\", \"borghese\", \"borgia\", \"cesare\", \"sanzio\", \"ferentino\", \"mary\", \"maria\", \"silvandri\", \"secìnaro\", \"lucio\", \"vero\", \"immenraet\", \"stubbs\", \"beethoven\", \"crivelli\", \"lucrezia\", \"dyce\", \"schumann\", \"von\", \"huffel\", \"von\", \"caradosso\", \"pollajuolo\", \"antonio\", \"urbino\", \"volterra\", \"rùtolo\", \"giannetto\", \"roberto\", \"casteldieri\", \"ludovico\", \"barbarisi\", \"leczinska\", \"albónico\", \"ippolita\", \"bianca\", \"dolcebuono\", \"laura\", \"miano\", \"angelieri\", \"annibale\", \"gabriella\", \"barbarisi\", \"bommìnaco\", \"a.\", \"s.\", \"abentino\", \"aber\", \"aborrendo\", \"academia\", \"acrisio\", \"ade\", \"adolphus\", \"jeckyll\", \"adorazione\", \"dei\", \"magi\", \"africa\", \"aix-les-bains\", \"ajace\", \"albergo\", \"d'europa\", \"albergo\", \"del\", \"quirinale\", \"alberoni\", \"alberto\", \"durero\", \"albónico\", \"albumblätter\", \"alceo\", \"alenava\", \"alerione\", \"alessandro\", \"alessandro\", \"albani\", \"alessandro\", \"sperelli\", \"alfonso\", \"alfonso\", \"carafa\", \"d'ateleta\", \"alma\", \"tadema\", \"amasie\", \"ambasciata\", \"d'austria\", \"amburgo\", \"amphora\", \"anchise\", \"andrea\", \"andrea\", \"andrea\", \"al\", \"barbarisi\", \"andrea\", \"al\", \"musèllaro\", \"andrea\", \"il\", \"barbarisi\", \"andrea\", \"la\", \"tentazion\", \"andrea\", \"sperelli\", \"andrea\", \"sperelli-fieschi\", \"angelieri\", \"angélique\", \"du\", \"deffand\", \"aniene\", \"anna\", \"rosemberg\", \"annibale\", \"caracci\", \"annunciazione\", \"annunziata\", \"antinoo\", \"farnese\", \"antonio\", \"del\", \"pollajuolo\", \"antonio\", \"pollajuolo\", \"antonio\", \"salieri\", \"antonio\", \"watteau\", \"apollo\", \"apulejo\", \"metamorphoseon\", \"ara\", \"arcangelo\", \"michele\", \"arcangelo\", \"michele\", \"del\", \"perugino\", \"arcipelago\", \"arcitenens\", \"arco\", \"dei\", \"pantani\", \"arco\", \"della\", \"porta\", \"pia\", \"arco\", \"di\", \"tito\", \"ardano\", \"ariadne\", \"arici\", \"ariele\", \"aries,\", \"taurus\", \"arietta\", \"armata\", \"nera\", \"arpie\", \"arte\", \"arundel\", \"asfodilli\", \"astrakan\", \"ateleta\", \"attavante\", \"attendre\", \"pour\", \"atteindre\", \"attraevan\", \"aurora\", \"seymour\", \"aurore\", \"autunno\", \"ave\", \"aventino\", \"babuino\", \"bach\", \"badia\", \"di\", \"subiaco\", \"badia\", \"di\", \"weingarten\", \"bahar\", \"balenio\", \"intermittente\", \"balla\", \"bambocciate\", \"bandinelli\", \"barbarella\", \"barbarella\", \"viti\", \"barbarisi\", \"barbarisi\", \"allo\", \"sperelli\", \"barberini\", \"barcaccia\", \"bartolomeo\", \"sperelli\", \"basilica\", \"di\", \"san\", \"giovanni\", \"beata\", \"vergine\", \"assunta\", \"beau\", \"bébé\", \"bébé\", \"silva\", \"beethoven\", \"beffi\", \"bellerofonte\", \"bellezza\", \"belvedere\", \"belvedere\", \"della\", \"villa\", \"medici\", \"benedettini\", \"bernini\", \"bianca\", \"dolcebuono\", \"bianca\", \"maria\", \"sforza\", \"bisenti\", \"boccaccio\", \"boeckhorst\", \"bommìnaco\", \"boote\", \"borghese\", \"borgia\", \"bosco\", \"di\", \"vicomìle\", \"botticelli\", \"bouckara\", \"brantôme\", \"brummel\", \"buddha\", \"bugnano\", \"bugnara\", \"burano\", \"bussi\", \"centenarii\", \"cachoucha\", \"del\", \"raff\", \"caffè\", \"caffè\", \"di\", \"roma\", \"calabrie\", \"callimaco\", \"callot\", \"callotta\", \"camillo\", \"agrippa\", \"campania\", \"campo\", \"vaccino\", \"campomorto\", \"campos\", \"cancer\", \"capannelle\", \"caper\", \"cappella\", \"chigi\", \"cappella\", \"sistina\", \"capricci\", \"capricci\", \"di\", \"domenico\", \"scarlatti\", \"caracci\", \"caradosso\", \"carbonilla\", \"carlo\", \"baudelaire\", \"carlo\", \"de\", \"souza\", \"carlo\", \"i\", \"carlo\", \"il\", \"temerario\", \"carlo\", \"sperelli\", \"carlo\", \"viii\", \"carlotta\", \"fiordelise\", \"carmélite\", \"carmine\", \"carolina\", \"casa\", \"pallavicini\", \"casa\", \"von\", \"huffel\", \"casanova\", \"cascine\", \"cassìbile\", \"cassiopea\", \"castel\", \"castel\", \"durante\", \"casteldelfino\", \"casteldieri\", \"catania\", \"catullo\", \"cavalcanti\", \"giulia\", \"centauri\", \"centauro\", \"cento\", \"fontane\", \"cesare\", \"borgia\", \"cesari\", \"chablis\", \"champagne\", \"cherubini\", \"cherubino\", \"chimera\", \"chimere\", \"chimerico\", \"chinchilla\", \"chinon\", \"chopin\", \"cibele\", \"ciel\", \"cigno\", \"cino\", \"cipriano\", \"dei\", \"piccolpasso\", \"cipro\", \"circe\", \"circolo\", \"circolo\", \"delle\", \"cacce\", \"ciro\", \"ferri\", \"clara\", \"clara\", \"green\", \"claudio\", \"lorenese\", \"clodion\", \"coiny\", \"colei\", \"colonna\", \"colosseo\", \"comis\", \"condotti\", \"conducetemi\", \"conducimi\", \"conny\", \"conny\", \"landbrooke\", \"conquistami\", \"clara\", \"green\", \"conservatorio\", \"di\", \"bruxelles\", \"conte\", \"caligàro\", \"conte\", \"d'ugenta\", \"conte\", \"d'urbino\", \"conte\", \"di\", \"bradford\", \"contemplatori\", \"solitarii\", \"cordelia\", \"corpo\", \"di\", \"gesù\", \"corsini\", \"corso\", \"cosimo\", \"cosimo\", \"ii\", \"de'\", \"medici\", \"cosimo\", \"tura\", \"cossa\", \"costantia\", \"landbrooke\", \"costantinopoli\", \"cremona\", \"cristina\", \"nilsson\", \"crosciar\", \"cugino\", \"sperelli\", \"cupola\", \"di\", \"s.\", \"pietro\", \"cupola\", \"di\", \"san\", \"pietro\", \"d'\", \"d'elisabetta\", \"daddi\", \"dafne\", \"danae\", \"danae\", \"del\", \"correggio\", \"daniel\", \"maclisius\", \"danimarca\", \"dante\", \"gabriele\", \"rossetti\", \"dàvila\", \"de\", \"lùcoli\", \"de\", \"nativitatibus\", \"delfina\", \"delfina\", \"–\", \"demi-mondaines.\", \"descouverture\", \"desiderio\", \"diana\", \"dioscuri\", \"directoire\", \"divina\", \"simonetta\", \"dixon\", \"dogali\", \"dolcebuono\", \"domenichini\", \"domenico\", \"ghirlandajo\", \"domenico\", \"scarlatti\", \"domini\", \"don\", \"filippo\", \"don\", \"filippo\", \"del\", \"monte\", \"don\", \"giovanni\", \"don\", \"luigi\", \"don\", \"manuel\", \"don\", \"manuel\", \"ferres\", \"don\", \"manuel\", \"ferres\", \"y\", \"capdevila\", \"donatello\", \"doney\", \"donna\", \"anna\", \"donna\", \"bianca\", \"donna\", \"bianca\", \"dolcebuono\", \"donna\", \"elena\", \"donna\", \"elena\", \"muti\", \"donna\", \"francesca\", \"donna\", \"francesca\", \"d'ateleta\", \"donna\", \"giulia\", \"donna\", \"giulia\", \"moceto...\", \"tu\", \"sei\", \"donna\", \"ippolita\", \"donna\", \"ippolita\", \"albónico\", \"donna\", \"isotta\", \"cellesi\", \"donna\", \"maria\", \"donna\", \"maria\", \"–\", \"donna\", \"maria\", \"esalavano\", \"donna\", \"maria\", \"ferres\", \"donna\", \"maria\", \"ferres\", \"y\", \"capdevila\", \"donna\", \"unica\", \"doria\", \"doriforo\", \"dorothy\", \"dosso\", \"dossi\", \"du\", \"deffand\", \"duca\", \"di\", \"duca\", \"di\", \"buckingham\", \"duca\", \"di\", \"grimiti\", \"duo\", \"duomo\", \"duomo\", \"bianco\", \"earlom\", \"elena\", \"elena\", \"–\", \"elena\", \"heathfield\", \"elena\", \"muti\", \"elena!\", \"eliodoro\", \"elisa\", \"empoli\", \"endymion\", \"enrico\", \"taine\", \"epifania\", \"epifania\", \"dell'amore\", \"er\", \"amor\", \"eranvi\", \"eravi\", \"ludovico\", \"barbarisi\", \"ercole\", \"erma\", \"ermafrodito\", \"erotopaegnion\", \"esitava\", \"este\", \"europa\", \"famulus\", \"fantasie\", \"farnese\", \"faublas\", \"faustina\", \"federico\", \"d'aragona\", \"ferdinando\", \"ferdinando\", \"re\", \"di\", \"napoli\", \"ferentino\", \"ferrara\", \"ferres\", \"fiamma\", \"fiandra\", \"fiera\", \"fiesole\", \"filarmonici\", \"filippino\", \"lippi\", \"filippo\", \"filippo\", \"del\", \"gallo\", \"filippo\", \"di\", \"borgogna\", \"filli\", \"filotea\", \"fineo\", \"fiore\", \"fioretti\", \"firenze\", \"firenzuola\", \"flaminia\", \"flaubert\", \"flirtation\", \"fluttuava\", \"fontane\", \"fontane\", \"ammutolite\", \"fontane\", \"di\", \"schifanoja\", \"fontanella\", \"delle\", \"tartarughe\", \"fontanella\", \"di\", \"borghese\", \"fonte\", \"fonte\", \"della\", \"gioia\", \"fonte\", \"gaia\", \"fòri\", \"formava\", \"fòro\", \"fòro\", \"di\", \"nerva\", \"fortuna\", \"francavilla\", \"al\", \"mare\", \"francesca\", \"francesca\", \"francesca\", \"daddi\", \"francesca:\", \"francesco\", \"i\", \"francesco\", \"paolo\", \"michetti\", \"francesco\", \"petrarca\", \"francia\", \"francis\", \"redgrave\", \"frascati\", \"frauenliebe\", \"freddolosa\", \"fuga\", \"fuor\", \"g.\", \"d'a.\", \"gabriella\", \"gabriella\", \"barbarisi\", \"gabriella\", \"vanni\", \"gainsborough\", \"galatea\", \"galatee\", \"galeazzo\", \"galeazzo\", \"allo\", \"sperelli\", \"galeazzo\", \"maria\", \"sforza\", \"galeazzo\", \"secìnaro\", \"galleria\", \"borghese\", \"galleria\", \"borghese?\", \"galleria\", \"sciarra\", \"gallucci\", \"gavaudan\", \"gavotta\", \"gemini\", \"gerardo\", \"audran\", \"gervetius\", \"gesù\", \"gesù\", \"cristo\", \"giace\", \"gianicolo\", \"giannetto\", \"giannetto\", \"rùtolo\", \"gibilterra\", \"gino\", \"gino\", \"bommìnaco\", \"ginosa\", \"giorgio\", \"giorgio\", \"bizet\", \"giorgio\", \"byron\", \"giornale\", \"giovan\", \"francesco\", \"bolognesi\", \"giovanella\", \"daddi\", \"giovanna\", \"tornabuoni\", \"giovanni\", \"gossaert\", \"giovanni\", \"moceto\", \"giovanni\", \"sperelli\", \"girolamo\", \"storace\", \"gittato\", \"giulia\", \"giulia\", \"arici\", \"giulia\", \"farnese\", \"giulia\", \"moceto\", \"giulietta\", \"guicciardi\", \"giulio\", \"giulio\", \"montelatici\", \"giulio\", \"musèllaro\", \"giulio\", \"romano\", \"giungeva\", \"giunone\", \"giuntole\", \"da\", \"calcutta\", \"giuseppe\", \"haydn\", \"giustiniani\", \"giustiniani-bandini\", \"giusto\", \"sperelli\", \"giusto\", \"suttermans\", \"goethe\", \"grazia\", \"grazie\", \"grecia\", \"green\", \"grimiti\", \"guatemala\", \"guglielmo\", \"shakespeare\", \"guido\", \"guido\", \"reni\", \"halfousn\", \"street\", \"hans\", \"memling\", \"heatfield\", \"helena\", \"amyclaea\", \"helles\", \"hérissey\", \"hoffmann\", \"holbein\", \"holman\", \"hunt\", \"humphrey\", \"heathfield\", \"ida\", \"ideale\", \"idillii,\", \"il\", \"grimiti\", \"il\", \"rùtolo\", \"ila\", \"immenraet\", \"imperia\", \"impero\", \"india\", \"inghilterra\", \"ippolita\", \"ippolita\", \"albónico\", \"ippolito\", \"isola\", \"isola\", \"di\", \"san\", \"bartolomeo\", \"isotta\", \"cellesi\", \"israeliti\", \"issé\", \"issè\", \"italia\", \"itinerario\", \"dell'anima\", \"jane\", \"jefferies\", \"jenny\", \"jockey-club\", \"john\", \"keats\", \"john\", \"wilkes\", \"joshua\", \"reynolds\", \"julia\", \"kalliwoda\", \"karamanieh\", \"kien-lung\", \"l'arici\", \"là\", \"la\", \"silva\", \"la\", \"simona\", \"laldomine\", \"lampsaco\", \"landbrooke\", \"lapo\", \"gianni\", \"lass\", \"dich\", \"laura\", \"laura\", \"miano\", \"lauzun\", \"lawrences\", \"lazzarone\", \"leandro\", \"legazione\", \"leo\", \"leonardo\", \"leo\", \"leonetto\", \"leonetto\", \"lanza\", \"les\", \"aphrodites\", \"del\", \"nerciat\", \"liaisons\", \"dangereuses\", \"liberale\", \"da\", \"verona\", \"libra\", \"liebende\", \"life\", \"were\", \"single\", \"hearted!\", \"lilian\", \"theed\", \"lo\", \"sperelli\", \"loggia\", \"loggia\", \"del\", \"papa\", \"londra\", \"lord\", \"heathfield\", \"lord\", \"heathfield?\", \"lord\", \"humphrey\", \"lord\", \"humphrey\", \"heathfield\", \"lorenzo\", \"de'\", \"medici\", \"lorenzo\", \"il\", \"magnifico\", \"louis\", \"xv\", \"luca\", \"d'olanda\", \"luca\", \"della\", \"robbia\", \"lucca\", \"lucerna\", \"lucio\", \"vero\", \"lucio\", \"vero\", \"biondo\", \"lùcoli\", \"lucrezia\", \"crivelli\", \"ludovic\", \"ludovico\", \"ludovico\", \"barbarisi\", \"ludovico\", \"beethoven\", \"ludovico\", \"il\", \"moro\", \"ludovico,\", \"luigi\", \"luigi\", \"gullì\", \"luigi\", \"rameau\", \"luigi\", \"xii\", \"luigi\", \"xv\", \"luna\", \"luni\", \"luzio\", \"dolci\", \"macedone\", \"madame\", \"chrysoloras?\", \"madame\", \"de\", \"la\", \"boissière\", \"madame\", \"de\", \"parabère\", \"madame\", \"van\", \"huffel\", \"madamoiselle\", \"madamoiselle\", \"vanloo\", \"madonna\", \"madonna\", \"del\", \"giglio\", \"madonna\", \"del\", \"rosario!\", \"madonna\", \"di\", \"pavia\", \"maffeo\", \"di\", \"clivate\", \"magna\", \"grecia\", \"mallecho\", \"manca\", \"mani\", \"manifatture\", \"imperiali\", \"del\", \"giappone\", \"manuel\", \"marc-ardell\", \"marc'antonio\", \"marc'antonio!\", \"maria\", \"maria\", \"maria\", \"bandinelli\", \"maria\", \"ferres\", \"maria\", \"fortuna\", \"maria\", \"leczinska\", \"maria\", \"maddalena\", \"d'austria\", \"maria\", \"vergine\", \"maria\", \"vergine\", \"del\", \"rosario\", \"mario\", \"de'\", \"fiori\", \"mary\", \"dyce\", \"marziale\", \"massa\", \"d'albe\", \"massa\", \"d'albe!\", \"massimiliano\", \"mazurka\", \"mercedes\", \"messer\", \"ludovico\", \"metamorphoseon\", \"miano\", \"michelangelo\", \"miching\", \"miching\", \"mallecho\", \"micigliano\", \"miranda\", \"mitilene\", \"moceto\", \"mona\", \"amorrosisca\", \"monna\", \"francesca\", \"montate\", \"monte\", \"mario\", \"monte\", \"pincio\", \"monte\", \"testaccio\", \"montecassino\", \"montecitorio\", \"al\", \"corso\", \"montpensier\", \"montughi\", \"moreau\", \"morella\", \"del\", \"caligàro\", \"mosè\", \"mount\", \"edgcumbe\", \"mozart\", \"mumps\", \"murano\", \"muriella\", \"musellaro\", \"musèllaro\", \"muti\", \"muzio\", \"clementi\", \"n'\", \"napoli\", \"nazionale\", \"nazzarri\", \"nelly\", \"o'\", \"brien\", \"nemico\", \"niccolò\", \"niccoli\", \"ninì\", \"ninì\", \"santamarta\", \"obermann\", \"ofelia\", \"omero\", \"onesti\", \"onna\", \"ippolita\", \"orse\", \"orvieto\", \"ostia\", \"ovidio\", \"padmavati\", \"paisiello\", \"palazzo\", \"barberini\", \"palazzo\", \"chigi\", \"palazzo\", \"de'\", \"sabini\", \"palazzo\", \"dei\", \"sabini\", \"palazzo\", \"del\", \"re\", \"palazzo\", \"della\", \"consulta\", \"palazzo\", \"farnese\", \"palazzo\", \"roccagiovine\", \"palazzo\", \"zuccari\", \"palermo\", \"pall\", \"mall\", \"gazette\", \"pallade\", \"pandora\", \"d'alma\", \"tadema\", \"pandora\", \"infeconda\", \"paolo\", \"caligàro\", \"paolo\", \"veronese\", \"papa\", \"giulio\", \"ii\", \"parigi\", \"parlamento\", \"parma\", \"parmigiano\", \"peek-frean\", \"penetrarsi\", \"pepe\", \"percy\", \"percy\", \"bysshe\", \"shelley\", \"percy\", \"shelley\", \"pericle\", \"perseo\", \"persia\", \"perugia\", \"perugino\", \"petrarca\", \"petronio\", \"piazza\", \"barberini\", \"piazza\", \"colonna\", \"piazza\", \"del\", \"popolo\", \"piazza\", \"del\", \"quirinale\", \"piazza\", \"della\", \"piazza\", \"della\", \"trinità\", \"piazza\", \"di\", \"montecitorio\", \"piazza\", \"di\", \"spagna\", \"piazza\", \"di\", \"termini\", \"piazza\", \"di\", \"venezia\", \"piazza\", \"mignanelli\", \"piazzetta\", \"mignanelli\", \"piccola\", \"dama\", \"piedestalli\", \"piero\", \"di\", \"cosimo\", \"pietro\", \"aretino\", \"pietro\", \"duranti\", \"pietro\", \"loar\", \"pietro\", \"paolo\", \"rubens\", \"pincio\", \"pinturicchio\", \"pio\", \"vi\", \"piranesi\", \"pisa\", \"pisces\", \"pittura\", \"policleto\", \"pollajuolo\", \"pompadour\", \"pompei\", \"ponte\", \"del\", \"convito\", \"porta\", \"chiusa\", \"porta\", \"pia\", \"premunisciti\", \"priamo\", \"primaticcio\", \"primitivi\", \"principe\", \"di\", \"galles\", \"psiche\", \"quartetto\", \"quattro\", \"fontane\", \"quattrocentisti\", \"quattrocento\", \"quintetti\", \"quintetto\", \"quirinale\", \"raffaelli\", \"raffaello\", \"rameau\", \"rarae\", \"re\", \"di\", \"cipro\", \"rea\", \"silva\", \"recollection\", \"redgrave\", \"reggente\", \"rembrandt\", \"requiem\", \"restaurant\", \"reynolds\", \"riconobbe\", \"donna\", \"maria\", \"ferres\", \"riconstruir\", \"rinascimento\", \"ripa\", \"grande\", \"robert\", \"schumann\", \"roberto\", \"casteldieri\", \"roberto\", \"schumann\", \"roccagiovine\", \"roma\", \"roma\", \"degli\", \"imperatori\", \"roma\", \"delle\", \"ville\", \"rosa\", \"rosa\", \"linguatica\", \"rose\", \"rose\", \"rose\", \"rovigliano\", \"rubens\", \"ruggero\", \"ruggero\", \"ruggero\", \"grimiti\", \"rùtolo\", \"s.\", \"e.\", \"il\", \"ministro\", \"sade\", \"saffo\", \"sagan\", \"sakumi\", \"sal\", \"y\", \"pimienta\", \"salì\", \"salieri\", \"saliva\", \"salmace\", \"salutami\", \"donna\", \"giulia\", \"salutazione\", \"angelica\", \"san\", \"bernardino\", \"san\", \"dionigi\", \"san\", \"francesco\", \"san\", \"giorgio\", \"in\", \"velabro\", \"san\", \"giovanni\", \"san\", \"martino\", \"san\", \"paolo\", \"san\", \"remo\", \"san\", \"sebastianello\", \"san\", \"silvestro\", \"san\", \"sulpizio\", \"sandro\", \"botticelli\", \"sant'isidoro\", \"santa\", \"margherita\", \"santa\", \"maria\", \"del\", \"priorato\", \"santa\", \"maria\", \"in\", \"cosmedin\", \"santa\", \"maria\", \"maggiore\", \"santa\", \"maria\", \"novella\", \"santa\", \"prisca\", \"santa\", \"sabina\", \"sante\", \"sanzio\", \"sardi\", \"scerni\", \"schifanoja\", \"schumann\", \"sciampagna\", \"scita\", \"scorpione\", \"scorpius\", \"sebastiano\", \"bach\", \"secìnaro\", \"selene\", \"servio\", \"settecento\", \"settemplice\", \"sfingi\", \"shaftesbury\", \"shelley\", \"siam\", \"sibylla\", \"palmifera\", \"siena\", \"sigismondo\", \"malatesta\", \"signoria\", \"di\", \"firenze\", \"sileno\", \"silvandri\", \"simone\", \"sir\", \"frederick\", \"leiyhton\", \"sirene\", \"siviglia\", \"sofia\", \"vanloo\", \"sole\", \"sommessione\", \"sonate-fantasie\", \"sperelli\", \"starnina\", \"stazione\", \"di\", \"rovigliano\", \"stefano\", \"stefano\", \"sperelli\", \"stellt\", \"auch\", \"der\", \"dritte\", \"sich\", \"stephen\", \"strada\", \"di\", \"schifanoja\", \"stras\", \"strasburgo\", \"stringendole\", \"stroganow\", \"stubbs\", \"stuoli\", \"di\", \"sagittarii\", \"taddeo\", \"teatro\", \"teatro\", \"nazionale\", \"teatro\", \"valle\", \"teofilo\", \"gautier\", \"terenzio\", \"terme\", \"termini\", \"tevere\", \"tevere\", \"lucido\", \"thomas\", \"lawrence\", \"tibi\", \"tibullo\", \"tifone\", \"tiziani\", \"tiziano\", \"torre\", \"delle\", \"milizie\", \"toscana\", \"toschi\", \"tre\", \"fontane\", \"trecentisti\", \"trelawny\", \"tremava\", \"tremo\", \"trinità\", \"trino\", \"tritone\", \"tu\", \"giorgio\", \"ugenta\", \"urbe\", \"valentino\", \"van\", \"dyck\", \"van\", \"huffel\", \"vaticano\", \"venere\", \"venere\", \"afrodite\", \"venezia\", \"vergine\", \"vergini\", \"verrocchio\", \"via\", \"de'\", \"condotti\", \"via\", \"de'\", \"due\", \"macelli\", \"via\", \"dei\", \"condotti\", \"via\", \"dei\", \"due\", \"macelli\", \"via\", \"del\", \"babuino\", \"via\", \"del\", \"quirinale\", \"via\", \"del\", \"tritone\", \"via\", \"delle\", \"quattro\", \"fontane\", \"via\", \"frattina\", \"via\", \"gregoriana\", \"via\", \"lattea\", \"via\", \"nazionale\", \"via\", \"nomentana\", \"via\", \"rasella\", \"via\", \"sistina\", \"viale\", \"de'\", \"lauri!\", \"vicomìle\", \"vide\", \"vieux\", \"cognac\", \"vignola\", \"villa\", \"albani\", \"villa\", \"aldobrandini\", \"villa\", \"borghese\", \"villa\", \"d'este\", \"villa\", \"di\", \"schifanoja\", \"villa\", \"ludovisi\", \"villa\", \"maritima\", \"villa\", \"medici\", \"villa\", \"mondragone\", \"villa\", \"pamphily\", \"villa\", \"sciarra\", \"vinci\", \"violante\", \"viti\", \"volfango\", \"mozart\", \"volterra\", \"waki-zashi\", \"watteau\", \"west-end\", \"wolfgang\", \"zodiaco\", \"zuccari\", \"Aldobrandini\", \"Fa\", \"Stephen\", \"Ferdinando\", \"Sant\", \"Dov\", \"Disse\", \"Nell\", \"Un\", \"All\", \"Dall\", \"Cose\", \"Ora\", \"Quell\", \"Gran\", \"All\", \"Lui\", \"Vinci\", \"Tiziano\", \"Sciarra\", \"Paolo\", \"Veronese\", \"Galeazzo\", \"Maria\", \"Sforza\", \"Maffeo\", \"Clivate\", \"Dallo\", \"Nello\", \"Ancóra\", \"S\", \"D\", \"L\", \"Tutt\", \"Deve\", \"Dell\", \"Ch\", \"Nell\", \"S\", \"All\", \"Disse\", \"Di\", \"E\", \"La\", \"Un\", \"Il\", \"Le\", \"Una\", \"Che\", \"A\", \"In\", \"D'\", \"L'\", \"Non\", \"Con\", \"Si\", \"Del\", \"Per\", \"Gli\", \"Come\", \"I\", \"Della\", \"Egli\", \"Ella\", \"Era\", \"Più\", \"Ed\", \"D'un\", \"Così\", \"Ch'\", \"O\", \"Senza\", \"Nell'\", \"Ogni\", \"S'\", \"Lui\", \"Quasi\", \"Quel\", \"Aveva\", \"Nel\", \"Io\", \"Al\", \"Mi\", \"È\", \"Nella\", \"Ma\", \"Dell'\", \"Sua\", \"Delle\", \"Suo\", \"Alla\", \"Lo\", \"Quella\", \"Un'\", \"Da\", \"Su\", \"Cosa\", \"Ti\", \"Altra\", \"Erano\", \"Quelle\", \"Tutti\", \"Sue\", \"Tutta\", \"Forse\", \"Innanzi\", \"Tu\", \"Me\", \"De'\", \"Voi\", \"Cui\", \"Perché\", \"Poi\", \"Ha\", \"Vi\", \"Già\", \"Verso\", \"Alle\", \"Mio\", \"Sempre\", \"Ho\", \"Dei\", \"Mia\", \"Mai\", \"Uno\", \"Se\", \"Qualche\", \"Tra\", \"Anche\", \"Lei\", \"Dal\", \"Dalla\", \"Poco\", \"All'\", \"Quando\", \"Tutto\", \"Sotto\", \"Due\", \"Sul\", \"Tutte\", \"Ad\", \"Faceva\", \"Appena\", \"Quale\", \"Talvolta\", \"Tanto\", \"Ove\", \"Né\", \"Ne'\", \"Fra\", \"Altre\", \"Chi\", \"Sopra\", \"Certo\", \"Allora\", \"Altri\", \"Col\", \"Dunque\", \"Tre\", \"Lungo\", \"No\", \"Nulla\", \"Ai\", \"Poiché\", \"Fu\", \"Contro\", \"Degli\", \"Molto\", \"Questa\", \"Questo\", \"Sé\", \"Prima\", \"Mentre\", \"Po'\", \"Loro\", \"Quell'\", \"Altro\", \"Nelle\", \"Sono\", \"Dall'\", \"Avrebbe\", \"Suoi\", \"Dalle\", \"D'una\", \"De\", \"Dopo\", \"Ora\", \"Ne\", \"So\", \"Po\", \"Fosse\", \"Intorno\", \"Ch'egli\", \"Dove\", \"Mezzo\", \"Là\", \"Assai\", \"Fino\", \"Li\", \"Quello\", \"Ch'io\", \"Son\", \"Negli\", \"Ci\", \"Fece\", \"Quindi\", \"Qui\", \"Solo\", \"Ch'ella\", \"Pur\", \"Avevano\", \"Ebbe\", \"Noi\", \"Sia\", \"Quali\", \"Quanto\", \"Stava\", \"Stesso\", \"Allo\", \"Dietro\", \"Parevano\", \"Quei\", \"Volte\", \"Può\", \"Te\", \"Sì\", \"Stato\", \"Dai\", \"Andrea\", \"Elena\", \"Sperelli\", \"Luzio\", \"Ovidio\", \"Trinità\", \"De'\", \"Monti\", \"Luzio\", \"Dolci\", \"Zuccari\", \"Spagna\", \"San\", \"Silvestro\", \"Giorgio\", \"Dafne\", \"Danae\", \"Correggio\", \"Porta\", \"Pia\", \"Palazzo\", \"Farnese\", \"Palazzo\", \"Barberini\", \"Via\", \"Sistina\", \"Aniene\", \"Ancóra\", \"Quattro\", \"Fontane\", \"Palazzo\", \"Roccagiovine\", \"Cherubino\", \"Don\", \"Giovanni\", \"Via\", \"De'\", \"Condotti\", \"Casteldelfino\", \"Pincio\", \"Monte\", \"Mario\", \"Piazzetta\", \"Mignanelli\", \"Via\", \"Gregoriana\", \"Percy\", \"Shelley\", \"Inghilterra\", \"Roma\", \"Lady\", \"Helen\", \"Heathfield\", \"Helen\", \"Heathfield\", \"Giustiniani-Bandini\", \"Joshua\", \"Reynolds\", \"Reynolds\", \"Humphrey\", \"Lord\", \"Gibilterra\", \"Carmélite\", \"Palazzo\", \"Chigi\", \"Monna\", \"Lisa\", \"Nelly\", \"O'\", \"Brien\", \"Laldomine\", \"Mona\", \"Amorrosisca\", \"Albergo\", \"Del\", \"Quirinale\", \"Sùbito\", \"Mumps\", \"Alfonso\", \"Ferdinando\", \"Re\", \"Di\", \"Napoli\", \"Alessandro\", \"Lorenzo\", \"De'\", \"Medici\", \"Giovanni\", \"Gossaert\", \"Massimiliano\", \"Filippo\", \"Di\", \"Borgogna\", \"Piero\", \"Di\", \"Cosimo\", \"Firenze\", \"Papa\", \"Giulio\", \"Ii\", \"Bartolomeo\", \"Napoli\", \"La\", \"Faustina\", \"Giovanni\", \"Sperelli\", \"Carlo\", \"Sperelli\", \"Giovanni\", \"Carlo\", \"Piero\", \"Fieschi\", \"Carolina\", \"Pericle\", \"Colosseo\", \"Villa\", \"Medici\", \"Campo\", \"Vaccino\", \"Piazza\", \"Di\", \"Spagna\", \"Arco\", \"Di\", \"Tito\", \"Tito\", \"Caracci\", \"Michelangelo\", \"Doria\", \"Barberini\", \"Domenichini\", \"Albani\", \"Luni\", \"Grecia\", \"Pio\", \"Vi\", \"Thomas\", \"Lawrence\", \"Lawrence\", \"Conny\", \"Landbrooke\", \"Elena\", \"Muti\", \"Gravelot\", \"Luigi\", \"Xv\", \"Teatro\", \"Valle\", \"Don\", \"Filippo\", \"Del\", \"Monte\", \"Ugenta\", \"Musèllaro\", \"Giulio\", \"Sakumi\", \"D'ateleta\", \"Francesca\", \"Burano\", \"Lady\", \"Ouless\", \"Ouless\", \"Lady\", \"Cahen\", \"Madame\", \"Leonardo\", \"Borghese\", \"Borgia\", \"Cesare\", \"Sanzio\", \"Ferentino\", \"Mary\", \"Maria\", \"Silvandri\", \"Secìnaro\", \"Lucio\", \"Vero\", \"Immenraet\", \"Stubbs\", \"Beethoven\", \"Crivelli\", \"Lucrezia\", \"Dyce\", \"Schumann\", \"Von\", \"Huffel\", \"Von\", \"Caradosso\", \"Pollajuolo\", \"Antonio\", \"Urbino\", \"Volterra\", \"Rùtolo\", \"Giannetto\", \"Roberto\", \"Casteldieri\", \"Ludovico\", \"Barbarisi\", \"Leczinska\", \"Albónico\", \"Ippolita\", \"Bianca\", \"Dolcebuono\", \"Laura\", \"Miano\", \"Angelieri\", \"Annibale\", \"Gabriella\", \"Barbarisi\", \"Bommìnaco\", \"Aldobrandini\", \"Fa\", \"Stephen\", \"Ferdinando\", \"Sant\", \"Dov\", \"Disse\", \"Nell\", \"Un\", \"All\", \"Dall\", \"Cose\", \"Ora\", \"Quell\", \"Gran\", \"All\", \"Lui\", \"Vinci\", \"Tiziano\", \"Sciarra\", \"Paolo\", \"Veronese\", \"Galeazzo\", \"Maria\", \"Sforza\", \"Maffeo\", \"Clivate\", \"Dallo\", \"Nello\", \"Ancóra\", \"S\", \"D\", \"L\", \"Tutt\", \"Deve\", \"Dell\", \"Ch\", \"Nell\", \"S\", \"All\", \"Disse\", \"Di\", \"E\", \"La\", \"Un\", \"Il\", \"Le\", \"Una\", \"Che\", \"A\", \"In\", \"D'\", \"L'\", \"Non\", \"Con\", \"Si\", \"Del\", \"Per\", \"Gli\", \"Come\", \"I\", \"Della\", \"Egli\", \"Ella\", \"Era\", \"Più\", \"Ed\", \"D'un\", \"Così\", \"Ch'\", \"O\", \"Senza\", \"Nell'\", \"Ogni\", \"S'\", \"Lui\", \"Quasi\", \"Quel\", \"Aveva\", \"Nel\", \"Io\", \"Al\", \"Mi\", \"È\", \"Nella\", \"Ma\", \"Dell'\", \"Sua\", \"Delle\", \"Suo\", \"Alla\", \"Lo\", \"Quella\", \"Un'\", \"Da\", \"Su\", \"Cosa\", \"Ti\", \"Altra\", \"Erano\", \"Quelle\", \"Tutti\", \"Sue\", \"Tutta\", \"Forse\", \"Innanzi\", \"Tu\", \"Me\", \"De'\", \"Voi\", \"Cui\", \"Perché\", \"Poi\", \"Ha\", \"Vi\", \"Già\", \"Verso\", \"Alle\", \"Mio\", \"Sempre\", \"Ho\", \"Dei\", \"Mia\", \"Mai\", \"Uno\", \"Se\", \"Qualche\", \"Tra\", \"Anche\", \"Lei\", \"Dal\", \"Dalla\", \"Poco\", \"All'\", \"Quando\", \"Tutto\", \"Sotto\", \"Due\", \"Sul\", \"Tutte\", \"Ad\", \"Faceva\", \"Appena\", \"Quale\", \"Talvolta\", \"Tanto\", \"Ove\", \"Né\", \"Ne'\", \"Fra\", \"Altre\", \"Chi\", \"Sopra\", \"Certo\", \"Allora\", \"Altri\", \"Col\", \"Dunque\", \"Tre\", \"Lungo\", \"No\", \"Nulla\", \"Ai\", \"Poiché\", \"Fu\", \"Contro\", \"Degli\", \"Molto\", \"Questa\", \"Questo\", \"Sé\", \"Prima\", \"Mentre\", \"Po'\", \"Loro\", \"Quell'\", \"Altro\", \"Nelle\", \"Sono\", \"Dall'\", \"Avrebbe\", \"Suoi\", \"Dalle\", \"D'una\", \"De\", \"Dopo\", \"Ora\", \"Ne\", \"So\", \"Po\", \"Fosse\", \"Intorno\", \"Ch'egli\", \"Dove\", \"Mezzo\", \"Là\", \"Assai\", \"Fino\", \"Li\", \"Quello\", \"Ch'io\", \"Son\", \"Negli\", \"Ci\", \"Fece\", \"Quindi\", \"Qui\", \"Solo\", \"Ch'ella\", \"Pur\", \"Avevano\", \"Ebbe\", \"Noi\", \"Sia\", \"Quali\", \"Quanto\", \"Stava\", \"Stesso\", \"Allo\", \"Dietro\", \"Parevano\", \"Quei\", \"Volte\", \"Può\", \"Te\", \"Sì\", \"Stato\", \"Dai\", \"Andrea\", \"Elena\", \"Sperelli\", \"Luzio\", \"Ovidio\", \"Trinità\", \"De'\", \"Monti\", \"Luzio\", \"Dolci\", \"Zuccari\", \"Spagna\", \"San\", \"Silvestro\", \"Giorgio\", \"Dafne\", \"Danae\", \"Correggio\", \"Porta\", \"Pia\", \"Palazzo\", \"Farnese\", \"Palazzo\", \"Barberini\", \"Via\", \"Sistina\", \"Aniene\", \"Ancóra\", \"Quattro\", \"Fontane\", \"Palazzo\", \"Roccagiovine\", \"Cherubino\", \"Don\", \"Giovanni\", \"Via\", \"De'\", \"Condotti\", \"Casteldelfino\", \"Pincio\", \"Monte\", \"Mario\", \"Piazzetta\", \"Mignanelli\", \"Via\", \"Gregoriana\", \"Percy\", \"Shelley\", \"Inghilterra\", \"Roma\", \"Lady\", \"Helen\", \"Heathfield\", \"Helen\", \"Heathfield\", \"Giustiniani-Bandini\", \"Joshua\", \"Reynolds\", \"Reynolds\", \"Humphrey\", \"Lord\", \"Gibilterra\", \"Carmélite\", \"Palazzo\", \"Chigi\", \"Monna\", \"Lisa\", \"Nelly\", \"O'\", \"Brien\", \"Laldomine\", \"Mona\", \"Amorrosisca\", \"Albergo\", \"Del\", \"Quirinale\", \"Sùbito\", \"Mumps\", \"Alfonso\", \"Ferdinando\", \"Re\", \"Di\", \"Napoli\", \"Alessandro\", \"Lorenzo\", \"De'\", \"Medici\", \"Giovanni\", \"Gossaert\", \"Massimiliano\", \"Filippo\", \"Di\", \"Borgogna\", \"Piero\", \"Di\", \"Cosimo\", \"Firenze\", \"Papa\", \"Giulio\", \"Ii\", \"Bartolomeo\", \"Napoli\", \"La\", \"Faustina\", \"Giovanni\", \"Sperelli\", \"Carlo\", \"Sperelli\", \"Giovanni\", \"Carlo\", \"Piero\", \"Fieschi\", \"Carolina\", \"Pericle\", \"Colosseo\", \"Villa\", \"Medici\", \"Campo\", \"Vaccino\", \"Piazza\", \"Di\", \"Spagna\", \"Arco\", \"Di\", \"Tito\", \"Tito\", \"Caracci\", \"Michelangelo\", \"Doria\", \"Barberini\", \"Domenichini\", \"Albani\", \"Luni\", \"Grecia\", \"Pio\", \"Vi\", \"Thomas\", \"Lawrence\", \"Lawrence\", \"Conny\", \"Landbrooke\", \"Elena\", \"Muti\", \"Gravelot\", \"Luigi\", \"Xv\", \"Teatro\", \"Valle\", \"Don\", \"Filippo\", \"Del\", \"Monte\", \"Ugenta\", \"Musèllaro\", \"Giulio\", \"Sakumi\", \"D'ateleta\", \"Francesca\", \"Burano\", \"Lady\", \"Ouless\", \"Ouless\", \"Lady\", \"Cahen\", \"Madame\", \"Leonardo\", \"Borghese\", \"Borgia\", \"Cesare\", \"Sanzio\", \"Ferentino\", \"Mary\", \"Maria\", \"Silvandri\", \"Secìnaro\", \"Lucio\", \"Vero\", \"Immenraet\", \"Stubbs\", \"Beethoven\", \"Crivelli\", \"Lucrezia\", \"Dyce\", \"Schumann\", \"Von\", \"Huffel\", \"Von\", \"Caradosso\", \"Pollajuolo\", \"Antonio\", \"Urbino\", \"Volterra\", \"Rùtolo\", \"Giannetto\", \"Roberto\", \"Casteldieri\", \"Ludovico\", \"Barbarisi\", \"Leczinska\", \"Albónico\", \"Ippolita\", \"Bianca\", \"Dolcebuono\", \"Laura\", \"Miano\", \"Angelieri\", \"Annibale\", \"Gabriella\", \"Barbarisi\", \"Bommìnaco\", \"Aldobrandini\", \"Fa\", \"Stephen\", \"Ferdinando\", \"Sant\", \"Dov\", \"Disse\", \"Nell\", \"Un\", \"All\", \"Dall\", \"Cose\", \"Ora\", \"Quell\", \"Gran\", \"All\", \"Lui\", \"Vinci\", \"Tiziano\", \"Sciarra\", \"Paolo\", \"Veronese\", \"Galeazzo\", \"Maria\", \"Sforza\", \"Maffeo\", \"Clivate\", \"Dallo\", \"Nello\", \"Ancóra\", \"S\", \"D\", \"L\", \"Tutt\", \"Deve\", \"Dell\", \"Ch\", \"Nell\", \"S\", \"All\", \"Disse\", \"Di\", \"E\", \"La\", \"Un\", \"Il\", \"Le\", \"Una\", \"Che\", \"A\", \"In\", \"D'\", \"L'\", \"Non\", \"Con\", \"Si\", \"Del\", \"Per\", \"Gli\", \"Come\", \"I\", \"Della\", \"Egli\", \"Ella\", \"Era\", \"Più\", \"Ed\", \"D'un\", \"Così\", \"Ch'\", \"O\", \"Senza\", \"Nell'\", \"Ogni\", \"S'\", \"Lui\", \"Quasi\", \"Quel\", \"Aveva\", \"Nel\", \"Io\", \"Al\", \"Mi\", \"È\", \"Nella\", \"Ma\", \"Dell'\", \"Sua\", \"Delle\", \"Suo\", \"Alla\", \"Lo\", \"Quella\", \"Un'\", \"Da\", \"Su\", \"Cosa\", \"Ti\", \"Altra\", \"Erano\", \"Quelle\", \"Tutti\", \"Sue\", \"Tutta\", \"Forse\", \"Innanzi\", \"Tu\", \"Me\", \"De'\", \"Voi\", \"Cui\", \"Perché\", \"Poi\", \"Ha\", \"Vi\", \"Già\", \"Verso\", \"Alle\", \"Mio\", \"Sempre\", \"Ho\", \"Dei\", \"Mia\", \"Mai\", \"Uno\", \"Se\", \"Qualche\", \"Tra\", \"Anche\", \"Lei\", \"Dal\", \"Dalla\", \"Poco\", \"All'\", \"Quando\", \"Tutto\", \"Sotto\", \"Due\", \"Sul\", \"Tutte\", \"Ad\", \"Faceva\", \"Appena\", \"Quale\", \"Talvolta\", \"Tanto\", \"Ove\", \"Né\", \"Ne'\", \"Fra\", \"Altre\", \"Chi\", \"Sopra\", \"Certo\", \"Allora\", \"Altri\", \"Col\", \"Dunque\", \"Tre\", \"Lungo\", \"No\", \"Nulla\", \"Ai\", \"Poiché\", \"Fu\", \"Contro\", \"Degli\", \"Molto\", \"Questa\", \"Questo\", \"Sé\", \"Prima\", \"Mentre\", \"Po'\", \"Loro\", \"Quell'\", \"Altro\", \"Nelle\", \"Sono\", \"Dall'\", \"Avrebbe\", \"Suoi\", \"Dalle\", \"D'una\", \"De\", \"Dopo\", \"Ora\", \"Ne\", \"So\", \"Po\", \"Fosse\", \"Intorno\", \"Ch'egli\", \"Dove\", \"Mezzo\", \"Là\", \"Assai\", \"Fino\", \"Li\", \"Quello\", \"Ch'io\", \"Son\", \"Negli\", \"Ci\", \"Fece\", \"Quindi\", \"Qui\", \"Solo\", \"Ch'ella\", \"Pur\", \"Avevano\", \"Ebbe\", \"Noi\", \"Sia\", \"Quali\", \"Quanto\", \"Stava\", \"Stesso\", \"Allo\", \"Dietro\", \"Parevano\", \"Quei\", \"Volte\", \"Può\", \"Te\", \"Sì\", \"Stato\", \"Dai\", \"Andrea\", \"Elena\", \"Sperelli\", \"Luzio\", \"Ovidio\", \"Trinità\", \"De'\", \"Monti\", \"Luzio\", \"Dolci\", \"Zuccari\", \"Spagna\", \"San\", \"Silvestro\", \"Giorgio\", \"Dafne\", \"Danae\", \"Correggio\", \"Porta\", \"Pia\", \"Palazzo\", \"Farnese\", \"Palazzo\", \"Barberini\", \"Via\", \"Sistina\", \"Aniene\", \"Ancóra\", \"Quattro\", \"Fontane\", \"Palazzo\", \"Roccagiovine\", \"Cherubino\", \"Don\", \"Giovanni\", \"Via\", \"De'\", \"Condotti\", \"Casteldelfino\", \"Pincio\", \"Monte\", \"Mario\", \"Piazzetta\", \"Mignanelli\", \"Via\", \"Gregoriana\", \"Percy\", \"Shelley\", \"Inghilterra\", \"Roma\", \"Lady\", \"Helen\", \"Heathfield\", \"Helen\", \"Heathfield\", \"Giustiniani-Bandini\", \"Joshua\", \"Reynolds\", \"Reynolds\", \"Humphrey\", \"Lord\", \"Gibilterra\", \"Carmélite\", \"Palazzo\", \"Chigi\", \"Monna\", \"Lisa\", \"Nelly\", \"O'\", \"Brien\", \"Laldomine\", \"Mona\", \"Amorrosisca\", \"Albergo\", \"Del\", \"Quirinale\", \"Sùbito\", \"Mumps\", \"Alfonso\", \"Ferdinando\", \"Re\", \"Di\", \"Napoli\", \"Alessandro\", \"Lorenzo\", \"De'\", \"Medici\", \"Giovanni\", \"Gossaert\", \"Massimiliano\", \"Filippo\", \"Di\", \"Borgogna\", \"Piero\", \"Di\", \"Cosimo\", \"Firenze\", \"Papa\", \"Giulio\", \"Ii\", \"Bartolomeo\", \"Napoli\", \"La\", \"Faustina\", \"Giovanni\", \"Sperelli\", \"Carlo\", \"Sperelli\", \"Giovanni\", \"Carlo\", \"Piero\", \"Fieschi\", \"Carolina\", \"Pericle\", \"Colosseo\", \"Villa\", \"Medici\", \"Campo\", \"Vaccino\", \"Piazza\", \"Di\", \"Spagna\", \"Arco\", \"Di\", \"Tito\", \"Tito\", \"Caracci\", \"Michelangelo\", \"Doria\", \"Barberini\", \"Domenichini\", \"Albani\", \"Luni\", \"Grecia\", \"Pio\", \"Vi\", \"Thomas\", \"Lawrence\", \"Lawrence\", \"Conny\", \"Landbrooke\", \"Elena\", \"Muti\", \"Gravelot\", \"Luigi\", \"Xv\", \"Teatro\", \"Valle\", \"Don\", \"Filippo\", \"Del\", \"Monte\", \"Ugenta\", \"Musèllaro\", \"Giulio\", \"Sakumi\", \"D'ateleta\", \"Francesca\", \"Burano\", \"Lady\", \"Ouless\", \"Ouless\", \"Lady\", \"Cahen\", \"Madame\", \"Leonardo\", \"Borghese\", \"Borgia\", \"Cesare\", \"Sanzio\", \"Ferentino\", \"Mary\", \"Maria\", \"Silvandri\", \"Secìnaro\", \"Lucio\", \"Vero\", \"Immenraet\", \"Stubbs\", \"Beethoven\", \"Crivelli\", \"Lucrezia\", \"Dyce\", \"Schumann\", \"Von\", \"Huffel\", \"Von\", \"Caradosso\", \"Pollajuolo\", \"Antonio\", \"Urbino\", \"Volterra\", \"Rùtolo\", \"Giannetto\", \"Roberto\", \"Casteldieri\", \"Ludovico\", \"Barbarisi\", \"Leczinska\", \"Albónico\", \"Ippolita\", \"Bianca\", \"Dolcebuono\", \"Laura\", \"Miano\", \"Angelieri\", \"Annibale\", \"Gabriella\", \"Barbarisi\", \"Bommìnaco\", \"A.\", \"S.\", \"Abentino\", \"Aber\", \"Aborrendo\", \"Academia\", \"Acrisio\", \"Ade\", \"Adolphus\", \"Jeckyll\", \"Adorazione\", \"Dei\", \"Magi\", \"Africa\", \"Aix-Les-Bains\", \"Ajace\", \"Albergo\", \"D'europa\", \"Albergo\", \"Del\", \"Quirinale\", \"Alberoni\", \"Alberto\", \"Durero\", \"Albónico\", \"Albumblätter\", \"Alceo\", \"Alenava\", \"Alerione\", \"Alessandro\", \"Alessandro\", \"Albani\", \"Alessandro\", \"Sperelli\", \"Alfonso\", \"Alfonso\", \"Carafa\", \"D'ateleta\", \"Alma\", \"Tadema\", \"Amasie\", \"Ambasciata\", \"D'austria\", \"Amburgo\", \"Amphora\", \"Anchise\", \"Andrea\", \"Andrea\", \"Andrea\", \"Al\", \"Barbarisi\", \"Andrea\", \"Al\", \"Musèllaro\", \"Andrea\", \"Il\", \"Barbarisi\", \"Andrea\", \"La\", \"Tentazion\", \"Andrea\", \"Sperelli\", \"Andrea\", \"Sperelli-Fieschi\", \"Angelieri\", \"Angélique\", \"Du\", \"Deffand\", \"Aniene\", \"Anna\", \"Rosemberg\", \"Annibale\", \"Caracci\", \"Annunciazione\", \"Annunziata\", \"Antinoo\", \"Farnese\", \"Antonio\", \"Del\", \"Pollajuolo\", \"Antonio\", \"Pollajuolo\", \"Antonio\", \"Salieri\", \"Antonio\", \"Watteau\", \"Apollo\", \"Apulejo\", \"Metamorphoseon\", \"Ara\", \"Arcangelo\", \"Michele\", \"Arcangelo\", \"Michele\", \"Del\", \"Perugino\", \"Arcipelago\", \"Arcitenens\", \"Arco\", \"Dei\", \"Pantani\", \"Arco\", \"Della\", \"Porta\", \"Pia\", \"Arco\", \"Di\", \"Tito\", \"Ardano\", \"Ariadne\", \"Arici\", \"Ariele\", \"Aries,\", \"Taurus\", \"Arietta\", \"Armata\", \"Nera\", \"Arpie\", \"Arte\", \"Arundel\", \"Asfodilli\", \"Astrakan\", \"Ateleta\", \"Attavante\", \"Attendre\", \"Pour\", \"Atteindre\", \"Attraevan\", \"Aurora\", \"Seymour\", \"Aurore\", \"Autunno\", \"Ave\", \"Aventino\", \"Babuino\", \"Bach\", \"Badia\", \"Di\", \"Subiaco\", \"Badia\", \"Di\", \"Weingarten\", \"Bahar\", \"Balenio\", \"Intermittente\", \"Balla\", \"Bambocciate\", \"Bandinelli\", \"Barbarella\", \"Barbarella\", \"Viti\", \"Barbarisi\", \"Barbarisi\", \"Allo\", \"Sperelli\", \"Barberini\", \"Barcaccia\", \"Bartolomeo\", \"Sperelli\", \"Basilica\", \"Di\", \"San\", \"Giovanni\", \"Beata\", \"Vergine\", \"Assunta\", \"Beau\", \"Bébé\", \"Bébé\", \"Silva\", \"Beethoven\", \"Beffi\", \"Bellerofonte\", \"Bellezza\", \"Belvedere\", \"Belvedere\", \"Della\", \"Villa\", \"Medici\", \"Benedettini\", \"Bernini\", \"Bianca\", \"Dolcebuono\", \"Bianca\", \"Maria\", \"Sforza\", \"Bisenti\", \"Boccaccio\", \"Boeckhorst\", \"Bommìnaco\", \"Boote\", \"Borghese\", \"Borgia\", \"Bosco\", \"Di\", \"Vicomìle\", \"Botticelli\", \"Bouckara\", \"Brantôme\", \"Brummel\", \"Buddha\", \"Bugnano\", \"Bugnara\", \"Burano\", \"Bussi\", \"Centenarii\", \"Cachoucha\", \"Del\", \"Raff\", \"Caffè\", \"Caffè\", \"Di\", \"Roma\", \"Calabrie\", \"Callimaco\", \"Callot\", \"Callotta\", \"Camillo\", \"Agrippa\", \"Campania\", \"Campo\", \"Vaccino\", \"Campomorto\", \"Campos\", \"Cancer\", \"Capannelle\", \"Caper\", \"Cappella\", \"Chigi\", \"Cappella\", \"Sistina\", \"Capricci\", \"Capricci\", \"Di\", \"Domenico\", \"Scarlatti\", \"Caracci\", \"Caradosso\", \"Carbonilla\", \"Carlo\", \"Baudelaire\", \"Carlo\", \"De\", \"Souza\", \"Carlo\", \"I\", \"Carlo\", \"Il\", \"Temerario\", \"Carlo\", \"Sperelli\", \"Carlo\", \"Viii\", \"Carlotta\", \"Fiordelise\", \"Carmélite\", \"Carmine\", \"Carolina\", \"Casa\", \"Pallavicini\", \"Casa\", \"Von\", \"Huffel\", \"Casanova\", \"Cascine\", \"Cassìbile\", \"Cassiopea\", \"Castel\", \"Castel\", \"Durante\", \"Casteldelfino\", \"Casteldieri\", \"Catania\", \"Catullo\", \"Cavalcanti\", \"Giulia\", \"Centauri\", \"Centauro\", \"Cento\", \"Fontane\", \"Cesare\", \"Borgia\", \"Cesari\", \"Chablis\", \"Champagne\", \"Cherubini\", \"Cherubino\", \"Chimera\", \"Chimere\", \"Chimerico\", \"Chinchilla\", \"Chinon\", \"Chopin\", \"Cibele\", \"Ciel\", \"Cigno\", \"Cino\", \"Cipriano\", \"Dei\", \"Piccolpasso\", \"Cipro\", \"Circe\", \"Circolo\", \"Circolo\", \"Delle\", \"Cacce\", \"Ciro\", \"Ferri\", \"Clara\", \"Clara\", \"Green\", \"Claudio\", \"Lorenese\", \"Clodion\", \"Coiny\", \"Colei\", \"Colonna\", \"Colosseo\", \"Comis\", \"Condotti\", \"Conducetemi\", \"Conducimi\", \"Conny\", \"Conny\", \"Landbrooke\", \"Conquistami\", \"Clara\", \"Green\", \"Conservatorio\", \"Di\", \"Bruxelles\", \"Conte\", \"Caligàro\", \"Conte\", \"D'ugenta\", \"Conte\", \"D'urbino\", \"Conte\", \"Di\", \"Bradford\", \"Contemplatori\", \"Solitarii\", \"Cordelia\", \"Corpo\", \"Di\", \"Gesù\", \"Corsini\", \"Corso\", \"Cosimo\", \"Cosimo\", \"Ii\", \"De'\", \"Medici\", \"Cosimo\", \"Tura\", \"Cossa\", \"Costantia\", \"Landbrooke\", \"Costantinopoli\", \"Cremona\", \"Cristina\", \"Nilsson\", \"Crosciar\", \"Cugino\", \"Sperelli\", \"Cupola\", \"Di\", \"S.\", \"Pietro\", \"Cupola\", \"Di\", \"San\", \"Pietro\", \"D'\", \"D'elisabetta\", \"Daddi\", \"Dafne\", \"Danae\", \"Danae\", \"Del\", \"Correggio\", \"Daniel\", \"Maclisius\", \"Danimarca\", \"Dante\", \"Gabriele\", \"Rossetti\", \"Dàvila\", \"De\", \"Lùcoli\", \"De\", \"Nativitatibus\", \"Delfina\", \"Delfina\", \"–\", \"Demi-Mondaines.\", \"Descouverture\", \"Desiderio\", \"Diana\", \"Dioscuri\", \"Directoire\", \"Divina\", \"Simonetta\", \"Dixon\", \"Dogali\", \"Dolcebuono\", \"Domenichini\", \"Domenico\", \"Ghirlandajo\", \"Domenico\", \"Scarlatti\", \"Domini\", \"Don\", \"Filippo\", \"Don\", \"Filippo\", \"Del\", \"Monte\", \"Don\", \"Giovanni\", \"Don\", \"Luigi\", \"Don\", \"Manuel\", \"Don\", \"Manuel\", \"Ferres\", \"Don\", \"Manuel\", \"Ferres\", \"Y\", \"Capdevila\", \"Donatello\", \"Doney\", \"Donna\", \"Anna\", \"Donna\", \"Bianca\", \"Donna\", \"Bianca\", \"Dolcebuono\", \"Donna\", \"Elena\", \"Donna\", \"Elena\", \"Muti\", \"Donna\", \"Francesca\", \"Donna\", \"Francesca\", \"D'ateleta\", \"Donna\", \"Giulia\", \"Donna\", \"Giulia\", \"Moceto...\", \"Tu\", \"Sei\", \"Donna\", \"Ippolita\", \"Donna\", \"Ippolita\", \"Albónico\", \"Donna\", \"Isotta\", \"Cellesi\", \"Donna\", \"Maria\", \"Donna\", \"Maria\", \"–\", \"Donna\", \"Maria\", \"Esalavano\", \"Donna\", \"Maria\", \"Ferres\", \"Donna\", \"Maria\", \"Ferres\", \"Y\", \"Capdevila\", \"Donna\", \"Unica\", \"Doria\", \"Doriforo\", \"Dorothy\", \"Dosso\", \"Dossi\", \"Du\", \"Deffand\", \"Duca\", \"Di\", \"Duca\", \"Di\", \"Buckingham\", \"Duca\", \"Di\", \"Grimiti\", \"Duo\", \"Duomo\", \"Duomo\", \"Bianco\", \"Earlom\", \"Elena\", \"Elena\", \"–\", \"Elena\", \"Heathfield\", \"Elena\", \"Muti\", \"Elena!\", \"Eliodoro\", \"Elisa\", \"Empoli\", \"Endymion\", \"Enrico\", \"Taine\", \"Epifania\", \"Epifania\", \"Dell'amore\", \"Er\", \"Amor\", \"Eranvi\", \"Eravi\", \"Ludovico\", \"Barbarisi\", \"Ercole\", \"Erma\", \"Ermafrodito\", \"Erotopaegnion\", \"Esitava\", \"Este\", \"Europa\", \"Famulus\", \"Fantasie\", \"Farnese\", \"Faublas\", \"Faustina\", \"Federico\", \"D'aragona\", \"Ferdinando\", \"Ferdinando\", \"Re\", \"Di\", \"Napoli\", \"Ferentino\", \"Ferrara\", \"Ferres\", \"Fiamma\", \"Fiandra\", \"Fiera\", \"Fiesole\", \"Filarmonici\", \"Filippino\", \"Lippi\", \"Filippo\", \"Filippo\", \"Del\", \"Gallo\", \"Filippo\", \"Di\", \"Borgogna\", \"Filli\", \"Filotea\", \"Fineo\", \"Fiore\", \"Fioretti\", \"Firenze\", \"Firenzuola\", \"Flaminia\", \"Flaubert\", \"Flirtation\", \"Fluttuava\", \"Fontane\", \"Fontane\", \"Ammutolite\", \"Fontane\", \"Di\", \"Schifanoja\", \"Fontanella\", \"Delle\", \"Tartarughe\", \"Fontanella\", \"Di\", \"Borghese\", \"Fonte\", \"Fonte\", \"Della\", \"Gioia\", \"Fonte\", \"Gaia\", \"Fòri\", \"Formava\", \"Fòro\", \"Fòro\", \"Di\", \"Nerva\", \"Fortuna\", \"Francavilla\", \"Al\", \"Mare\", \"Francesca\", \"Francesca\", \"Francesca\", \"Daddi\", \"Francesca:\", \"Francesco\", \"I\", \"Francesco\", \"Paolo\", \"Michetti\", \"Francesco\", \"Petrarca\", \"Francia\", \"Francis\", \"Redgrave\", \"Frascati\", \"Frauenliebe\", \"Freddolosa\", \"Fuga\", \"Fuor\", \"G.\", \"D'a.\", \"Gabriella\", \"Gabriella\", \"Barbarisi\", \"Gabriella\", \"Vanni\", \"Gainsborough\", \"Galatea\", \"Galatee\", \"Galeazzo\", \"Galeazzo\", \"Allo\", \"Sperelli\", \"Galeazzo\", \"Maria\", \"Sforza\", \"Galeazzo\", \"Secìnaro\", \"Galleria\", \"Borghese\", \"Galleria\", \"Borghese?\", \"Galleria\", \"Sciarra\", \"Gallucci\", \"Gavaudan\", \"Gavotta\", \"Gemini\", \"Gerardo\", \"Audran\", \"Gervetius\", \"Gesù\", \"Gesù\", \"Cristo\", \"Giace\", \"Gianicolo\", \"Giannetto\", \"Giannetto\", \"Rùtolo\", \"Gibilterra\", \"Gino\", \"Gino\", \"Bommìnaco\", \"Ginosa\", \"Giorgio\", \"Giorgio\", \"Bizet\", \"Giorgio\", \"Byron\", \"Giornale\", \"Giovan\", \"Francesco\", \"Bolognesi\", \"Giovanella\", \"Daddi\", \"Giovanna\", \"Tornabuoni\", \"Giovanni\", \"Gossaert\", \"Giovanni\", \"Moceto\", \"Giovanni\", \"Sperelli\", \"Girolamo\", \"Storace\", \"Gittato\", \"Giulia\", \"Giulia\", \"Arici\", \"Giulia\", \"Farnese\", \"Giulia\", \"Moceto\", \"Giulietta\", \"Guicciardi\", \"Giulio\", \"Giulio\", \"Montelatici\", \"Giulio\", \"Musèllaro\", \"Giulio\", \"Romano\", \"Giungeva\", \"Giunone\", \"Giuntole\", \"Da\", \"Calcutta\", \"Giuseppe\", \"Haydn\", \"Giustiniani\", \"Giustiniani-Bandini\", \"Giusto\", \"Sperelli\", \"Giusto\", \"Suttermans\", \"Goethe\", \"Grazia\", \"Grazie\", \"Grecia\", \"Green\", \"Grimiti\", \"Guatemala\", \"Guglielmo\", \"Shakespeare\", \"Guido\", \"Guido\", \"Reni\", \"Halfousn\", \"Street\", \"Hans\", \"Memling\", \"Heatfield\", \"Helena\", \"Amyclaea\", \"Helles\", \"Hérissey\", \"Hoffmann\", \"Holbein\", \"Holman\", \"Hunt\", \"Humphrey\", \"Heathfield\", \"Ida\", \"Ideale\", \"Idillii,\", \"Il\", \"Grimiti\", \"Il\", \"Rùtolo\", \"Ila\", \"Immenraet\", \"Imperia\", \"Impero\", \"India\", \"Inghilterra\", \"Ippolita\", \"Ippolita\", \"Albónico\", \"Ippolito\", \"Isola\", \"Isola\", \"Di\", \"San\", \"Bartolomeo\", \"Isotta\", \"Cellesi\", \"Israeliti\", \"Issé\", \"Issè\", \"Italia\", \"Itinerario\", \"Dell'anima\", \"Jane\", \"Jefferies\", \"Jenny\", \"Jockey-Club\", \"John\", \"Keats\", \"John\", \"Wilkes\", \"Joshua\", \"Reynolds\", \"Julia\", \"Kalliwoda\", \"Karamanieh\", \"Kien-Lung\", \"L'arici\", \"Là\", \"La\", \"Silva\", \"La\", \"Simona\", \"Laldomine\", \"Lampsaco\", \"Landbrooke\", \"Lapo\", \"Gianni\", \"Lass\", \"Dich\", \"Laura\", \"Laura\", \"Miano\", \"Lauzun\", \"Lawrences\", \"Lazzarone\", \"Leandro\", \"Legazione\", \"Leo\", \"Leonardo\", \"Leo\", \"Leonetto\", \"Leonetto\", \"Lanza\", \"Les\", \"Aphrodites\", \"Del\", \"Nerciat\", \"Liaisons\", \"Dangereuses\", \"Liberale\", \"Da\", \"Verona\", \"Libra\", \"Liebende\", \"Life\", \"Were\", \"Single\", \"Hearted!\", \"Lilian\", \"Theed\", \"Lo\", \"Sperelli\", \"Loggia\", \"Loggia\", \"Del\", \"Papa\", \"Londra\", \"Lord\", \"Heathfield\", \"Lord\", \"Heathfield?\", \"Lord\", \"Humphrey\", \"Lord\", \"Humphrey\", \"Heathfield\", \"Lorenzo\", \"De'\", \"Medici\", \"Lorenzo\", \"Il\", \"Magnifico\", \"Louis\", \"Xv\", \"Luca\", \"D'olanda\", \"Luca\", \"Della\", \"Robbia\", \"Lucca\", \"Lucerna\", \"Lucio\", \"Vero\", \"Lucio\", \"Vero\", \"Biondo\", \"Lùcoli\", \"Lucrezia\", \"Crivelli\", \"Ludovic\", \"Ludovico\", \"Ludovico\", \"Barbarisi\", \"Ludovico\", \"Beethoven\", \"Ludovico\", \"Il\", \"Moro\", \"Ludovico,\", \"Luigi\", \"Luigi\", \"Gullì\", \"Luigi\", \"Rameau\", \"Luigi\", \"Xii\", \"Luigi\", \"Xv\", \"Luna\", \"Luni\", \"Luzio\", \"Dolci\", \"Macedone\", \"Madame\", \"Chrysoloras?\", \"Madame\", \"De\", \"La\", \"Boissière\", \"Madame\", \"De\", \"Parabère\", \"Madame\", \"Van\", \"Huffel\", \"Madamoiselle\", \"Madamoiselle\", \"Vanloo\", \"Madonna\", \"Madonna\", \"Del\", \"Giglio\", \"Madonna\", \"Del\", \"Rosario!\", \"Madonna\", \"Di\", \"Pavia\", \"Maffeo\", \"Di\", \"Clivate\", \"Magna\", \"Grecia\", \"Mallecho\", \"Manca\", \"Mani\", \"Manifatture\", \"Imperiali\", \"Del\", \"Giappone\", \"Manuel\", \"Marc-Ardell\", \"Marc'antonio\", \"Marc'antonio!\", \"Maria\", \"Maria\", \"Maria\", \"Bandinelli\", \"Maria\", \"Ferres\", \"Maria\", \"Fortuna\", \"Maria\", \"Leczinska\", \"Maria\", \"Maddalena\", \"D'austria\", \"Maria\", \"Vergine\", \"Maria\", \"Vergine\", \"Del\", \"Rosario\", \"Mario\", \"De'\", \"Fiori\", \"Mary\", \"Dyce\", \"Marziale\", \"Massa\", \"D'albe\", \"Massa\", \"D'albe!\", \"Massimiliano\", \"Mazurka\", \"Mercedes\", \"Messer\", \"Ludovico\", \"Metamorphoseon\", \"Miano\", \"Michelangelo\", \"Miching\", \"Miching\", \"Mallecho\", \"Micigliano\", \"Miranda\", \"Mitilene\", \"Moceto\", \"Mona\", \"Amorrosisca\", \"Monna\", \"Francesca\", \"Montate\", \"Monte\", \"Mario\", \"Monte\", \"Pincio\", \"Monte\", \"Testaccio\", \"Montecassino\", \"Montecitorio\", \"Al\", \"Corso\", \"Montpensier\", \"Montughi\", \"Moreau\", \"Morella\", \"Del\", \"Caligàro\", \"Mosè\", \"Mount\", \"Edgcumbe\", \"Mozart\", \"Mumps\", \"Murano\", \"Muriella\", \"Musellaro\", \"Musèllaro\", \"Muti\", \"Muzio\", \"Clementi\", \"N'\", \"Napoli\", \"Nazionale\", \"Nazzarri\", \"Nelly\", \"O'\", \"Brien\", \"Nemico\", \"Niccolò\", \"Niccoli\", \"Ninì\", \"Ninì\", \"Santamarta\", \"Obermann\", \"Ofelia\", \"Omero\", \"Onesti\", \"Onna\", \"Ippolita\", \"Orse\", \"Orvieto\", \"Ostia\", \"Ovidio\", \"Padmavati\", \"Paisiello\", \"Palazzo\", \"Barberini\", \"Palazzo\", \"Chigi\", \"Palazzo\", \"De'\", \"Sabini\", \"Palazzo\", \"Dei\", \"Sabini\", \"Palazzo\", \"Del\", \"Re\", \"Palazzo\", \"Della\", \"Consulta\", \"Palazzo\", \"Farnese\", \"Palazzo\", \"Roccagiovine\", \"Palazzo\", \"Zuccari\", \"Palermo\", \"Pall\", \"Mall\", \"Gazette\", \"Pallade\", \"Pandora\", \"D'alma\", \"Tadema\", \"Pandora\", \"Infeconda\", \"Paolo\", \"Caligàro\", \"Paolo\", \"Veronese\", \"Papa\", \"Giulio\", \"Ii\", \"Parigi\", \"Parlamento\", \"Parma\", \"Parmigiano\", \"Peek-Frean\", \"Penetrarsi\", \"Pepe\", \"Percy\", \"Percy\", \"Bysshe\", \"Shelley\", \"Percy\", \"Shelley\", \"Pericle\", \"Perseo\", \"Persia\", \"Perugia\", \"Perugino\", \"Petrarca\", \"Petronio\", \"Piazza\", \"Barberini\", \"Piazza\", \"Colonna\", \"Piazza\", \"Del\", \"Popolo\", \"Piazza\", \"Del\", \"Quirinale\", \"Piazza\", \"Della\", \"Piazza\", \"Della\", \"Trinità\", \"Piazza\", \"Di\", \"Montecitorio\", \"Piazza\", \"Di\", \"Spagna\", \"Piazza\", \"Di\", \"Termini\", \"Piazza\", \"Di\", \"Venezia\", \"Piazza\", \"Mignanelli\", \"Piazzetta\", \"Mignanelli\", \"Piccola\", \"Dama\", \"Piedestalli\", \"Piero\", \"Di\", \"Cosimo\", \"Pietro\", \"Aretino\", \"Pietro\", \"Duranti\", \"Pietro\", \"Loar\", \"Pietro\", \"Paolo\", \"Rubens\", \"Pincio\", \"Pinturicchio\", \"Pio\", \"Vi\", \"Piranesi\", \"Pisa\", \"Pisces\", \"Pittura\", \"Policleto\", \"Pollajuolo\", \"Pompadour\", \"Pompei\", \"Ponte\", \"Del\", \"Convito\", \"Porta\", \"Chiusa\", \"Porta\", \"Pia\", \"Premunisciti\", \"Priamo\", \"Primaticcio\", \"Primitivi\", \"Principe\", \"Di\", \"Galles\", \"Psiche\", \"Quartetto\", \"Quattro\", \"Fontane\", \"Quattrocentisti\", \"Quattrocento\", \"Quintetti\", \"Quintetto\", \"Quirinale\", \"Raffaelli\", \"Raffaello\", \"Rameau\", \"Rarae\", \"Re\", \"Di\", \"Cipro\", \"Rea\", \"Silva\", \"Recollection\", \"Redgrave\", \"Reggente\", \"Rembrandt\", \"Requiem\", \"Restaurant\", \"Reynolds\", \"Riconobbe\", \"Donna\", \"Maria\", \"Ferres\", \"Riconstruir\", \"Rinascimento\", \"Ripa\", \"Grande\", \"Robert\", \"Schumann\", \"Roberto\", \"Casteldieri\", \"Roberto\", \"Schumann\", \"Roccagiovine\", \"Roma\", \"Roma\", \"Degli\", \"Imperatori\", \"Roma\", \"Delle\", \"Ville\", \"Rosa\", \"Rosa\", \"Linguatica\", \"Rose\", \"Rose\", \"Rose\", \"Rovigliano\", \"Rubens\", \"Ruggero\", \"Ruggero\", \"Ruggero\", \"Grimiti\", \"Rùtolo\", \"S.\", \"E.\", \"Il\", \"Ministro\", \"Sade\", \"Saffo\", \"Sagan\", \"Sakumi\", \"Sal\", \"Y\", \"Pimienta\", \"Salì\", \"Salieri\", \"Saliva\", \"Salmace\", \"Salutami\", \"Donna\", \"Giulia\", \"Salutazione\", \"Angelica\", \"San\", \"Bernardino\", \"San\", \"Dionigi\", \"San\", \"Francesco\", \"San\", \"Giorgio\", \"In\", \"Velabro\", \"San\", \"Giovanni\", \"San\", \"Martino\", \"San\", \"Paolo\", \"San\", \"Remo\", \"San\", \"Sebastianello\", \"San\", \"Silvestro\", \"San\", \"Sulpizio\", \"Sandro\", \"Botticelli\", \"Sant'isidoro\", \"Santa\", \"Margherita\", \"Santa\", \"Maria\", \"Del\", \"Priorato\", \"Santa\", \"Maria\", \"In\", \"Cosmedin\", \"Santa\", \"Maria\", \"Maggiore\", \"Santa\", \"Maria\", \"Novella\", \"Santa\", \"Prisca\", \"Santa\", \"Sabina\", \"Sante\", \"Sanzio\", \"Sardi\", \"Scerni\", \"Schifanoja\", \"Schumann\", \"Sciampagna\", \"Scita\", \"Scorpione\", \"Scorpius\", \"Sebastiano\", \"Bach\", \"Secìnaro\", \"Selene\", \"Servio\", \"Settecento\", \"Settemplice\", \"Sfingi\", \"Shaftesbury\", \"Shelley\", \"Siam\", \"Sibylla\", \"Palmifera\", \"Siena\", \"Sigismondo\", \"Malatesta\", \"Signoria\", \"Di\", \"Firenze\", \"Sileno\", \"Silvandri\", \"Simone\", \"Sir\", \"Frederick\", \"Leiyhton\", \"Sirene\", \"Siviglia\", \"Sofia\", \"Vanloo\", \"Sole\", \"Sommessione\", \"Sonate-Fantasie\", \"Sperelli\", \"Starnina\", \"Stazione\", \"Di\", \"Rovigliano\", \"Stefano\", \"Stefano\", \"Sperelli\", \"Stellt\", \"Auch\", \"Der\", \"Dritte\", \"Sich\", \"Stephen\", \"Strada\", \"Di\", \"Schifanoja\", \"Stras\", \"Strasburgo\", \"Stringendole\", \"Stroganow\", \"Stubbs\", \"Stuoli\", \"Di\", \"Sagittarii\", \"Taddeo\", \"Teatro\", \"Teatro\", \"Nazionale\", \"Teatro\", \"Valle\", \"Teofilo\", \"Gautier\", \"Terenzio\", \"Terme\", \"Termini\", \"Tevere\", \"Tevere\", \"Lucido\", \"Thomas\", \"Lawrence\", \"Tibi\", \"Tibullo\", \"Tifone\", \"Tiziani\", \"Tiziano\", \"Torre\", \"Delle\", \"Milizie\", \"Toscana\", \"Toschi\", \"Tre\", \"Fontane\", \"Trecentisti\", \"Trelawny\", \"Tremava\", \"Tremo\", \"Trinità\", \"Trino\", \"Tritone\", \"Tu\", \"Giorgio\", \"Ugenta\", \"Urbe\", \"Valentino\", \"Van\", \"Dyck\", \"Van\", \"Huffel\", \"Vaticano\", \"Venere\", \"Venere\", \"Afrodite\", \"Venezia\", \"Vergine\", \"Vergini\", \"Verrocchio\", \"Via\", \"De'\", \"Condotti\", \"Via\", \"De'\", \"Due\", \"Macelli\", \"Via\", \"Dei\", \"Condotti\", \"Via\", \"Dei\", \"Due\", \"Macelli\", \"Via\", \"Del\", \"Babuino\", \"Via\", \"Del\", \"Quirinale\", \"Via\", \"Del\", \"Tritone\", \"Via\", \"Delle\", \"Quattro\", \"Fontane\", \"Via\", \"Frattina\", \"Via\", \"Gregoriana\", \"Via\", \"Lattea\", \"Via\", \"Nazionale\", \"Via\", \"Nomentana\", \"Via\", \"Rasella\", \"Via\", \"Sistina\", \"Viale\", \"De'\", \"Lauri!\", \"Vicomìle\", \"Vide\", \"Vieux\", \"Cognac\", \"Vignola\", \"Villa\", \"Albani\", \"Villa\", \"Aldobrandini\", \"Villa\", \"Borghese\", \"Villa\", \"D'este\", \"Villa\", \"Di\", \"Schifanoja\", \"Villa\", \"Ludovisi\", \"Villa\", \"Maritima\", \"Villa\", \"Medici\", \"Villa\", \"Mondragone\", \"Villa\", \"Pamphily\", \"Villa\", \"Sciarra\", \"Vinci\", \"Violante\", \"Viti\", \"Volfango\", \"Mozart\", \"Volterra\", \"Waki-Zashi\", \"Watteau\", \"West-End\", \"Wolfgang\", \"Zodiaco\", \"Zuccari\"])\n",
    "\n",
    "topic_model = BERTopic(language=\"multilingual\", calculate_probabilities=True, verbose=True, vectorizer_model=vectorizer_model)"
   ]
  },
  {
   "cell_type": "code",
   "execution_count": 5,
   "metadata": {},
   "outputs": [
    {
     "data": {
      "application/vnd.jupyter.widget-view+json": {
       "model_id": "da0edd2421fb4816bb73ccd40d550932",
       "version_major": 2,
       "version_minor": 0
      },
      "text/plain": [
       "Batches:   0%|          | 0/47 [00:00<?, ?it/s]"
      ]
     },
     "metadata": {},
     "output_type": "display_data"
    },
    {
     "name": "stderr",
     "output_type": "stream",
     "text": [
      "2022-05-25 17:13:28,277 - BERTopic - Transformed documents to Embeddings\n",
      "2022-05-25 17:13:34,420 - BERTopic - Reduced dimensionality\n",
      "2022-05-25 17:13:34,544 - BERTopic - Clustered reduced embeddings\n"
     ]
    }
   ],
   "source": [
    "topics, probs = topic_model.fit_transform(piacere)"
   ]
  },
  {
   "cell_type": "code",
   "execution_count": 6,
   "metadata": {},
   "outputs": [
    {
     "data": {
      "text/html": [
       "<div>\n",
       "<style scoped>\n",
       "    .dataframe tbody tr th:only-of-type {\n",
       "        vertical-align: middle;\n",
       "    }\n",
       "\n",
       "    .dataframe tbody tr th {\n",
       "        vertical-align: top;\n",
       "    }\n",
       "\n",
       "    .dataframe thead th {\n",
       "        text-align: right;\n",
       "    }\n",
       "</style>\n",
       "<table border=\"1\" class=\"dataframe\">\n",
       "  <thead>\n",
       "    <tr style=\"text-align: right;\">\n",
       "      <th></th>\n",
       "      <th>Topic</th>\n",
       "      <th>Count</th>\n",
       "      <th>Name</th>\n",
       "    </tr>\n",
       "  </thead>\n",
       "  <tbody>\n",
       "    <tr>\n",
       "      <th>0</th>\n",
       "      <td>-1</td>\n",
       "      <td>606</td>\n",
       "      <td>-1_voce_amore_occhi_mano</td>\n",
       "    </tr>\n",
       "    <tr>\n",
       "      <th>1</th>\n",
       "      <td>0</td>\n",
       "      <td>112</td>\n",
       "      <td>0_mano_bocca_rispose_occhi</td>\n",
       "    </tr>\n",
       "    <tr>\n",
       "      <th>2</th>\n",
       "      <td>1</td>\n",
       "      <td>111</td>\n",
       "      <td>1_spirito_tempo_sentiva_cuore</td>\n",
       "    </tr>\n",
       "    <tr>\n",
       "      <th>3</th>\n",
       "      <td>2</td>\n",
       "      <td>81</td>\n",
       "      <td>2_vita_anima_spirito_forza</td>\n",
       "    </tr>\n",
       "    <tr>\n",
       "      <th>4</th>\n",
       "      <td>3</td>\n",
       "      <td>65</td>\n",
       "      <td>3_addio_taci_tua_hai</td>\n",
       "    </tr>\n",
       "  </tbody>\n",
       "</table>\n",
       "</div>"
      ],
      "text/plain": [
       "   Topic  Count                           Name\n",
       "0     -1    606       -1_voce_amore_occhi_mano\n",
       "1      0    112     0_mano_bocca_rispose_occhi\n",
       "2      1    111  1_spirito_tempo_sentiva_cuore\n",
       "3      2     81     2_vita_anima_spirito_forza\n",
       "4      3     65           3_addio_taci_tua_hai"
      ]
     },
     "execution_count": 6,
     "metadata": {},
     "output_type": "execute_result"
    }
   ],
   "source": [
    "freq = topic_model.get_topic_info(); freq.head(5)"
   ]
  },
  {
   "cell_type": "code",
   "execution_count": 7,
   "metadata": {},
   "outputs": [
    {
     "data": {
      "text/plain": [
       "[('mano', 0.03189343998726231),\n",
       " ('bocca', 0.029378720283934786),\n",
       " ('rispose', 0.01921561704300029),\n",
       " ('occhi', 0.01889834603181997),\n",
       " ('parole', 0.018424192885202865),\n",
       " ('giovine', 0.01841268476782342),\n",
       " ('amo', 0.01776048891324497),\n",
       " ('amore', 0.01774820498508853),\n",
       " ('vostra', 0.017637969496085253),\n",
       " ('labbra', 0.017373041990202766)]"
      ]
     },
     "execution_count": 7,
     "metadata": {},
     "output_type": "execute_result"
    }
   ],
   "source": [
    "topic_model.get_topic(0)  # Select the most frequent topic"
   ]
  },
  {
   "cell_type": "code",
   "execution_count": 8,
   "metadata": {},
   "outputs": [
    {
     "data": {
      "application/vnd.plotly.v1+json": {
       "config": {
        "plotlyServerURL": "https://plot.ly"
       },
       "data": [
        {
         "customdata": [
          [
           1,
           "spirito | tempo | sentiva | cuore | ambedue",
           111
          ],
          [
           2,
           "vita | anima | spirito | forza | padre",
           81
          ],
          [
           3,
           "addio | taci | tua | hai | chiese",
           65
          ],
          [
           4,
           "anima | vita | dio | dolore | cuore",
           62
          ],
          [
           5,
           "occhi | testa | bocca | capelli | color",
           59
          ],
          [
           6,
           "interruppe | ah | rispose | marchesa | principessa",
           49
          ],
          [
           7,
           "cielo | acqua | verde | alberi | vento",
           48
          ],
          [
           8,
           "terreno | guardia | barone | botta | metri",
           32
          ],
          [
           9,
           "versi | libro | secolo | libri | corte",
           30
          ],
          [
           10,
           "ottobre | giorno | partire | settembre | sabato",
           29
          ],
          [
           11,
           "occhi | tratto | ambedue | ricordava | erasi",
           26
          ],
          [
           12,
           "città | obelisco | cipressi | luce | giù",
           26
          ],
          [
           13,
           "madre | vieni | parlava | voleva | mamma",
           24
          ],
          [
           14,
           "vendite | vaso | stanza | secolo | caminetto",
           23
          ],
          [
           15,
           "musica | pianoforte | sonata | esprimeva | do",
           23
          ],
          [
           16,
           "domani | nove | mezzogiorno | signor | avvertire",
           19
          ],
          [
           17,
           "carrozza | scale | gradino | giardino | entrò",
           18
          ],
          [
           18,
           "cavalli | cavallo | corsa | rasente | scalpitavano",
           17
          ],
          [
           19,
           "acido | 20 | ornato | anima | istinto",
           12
          ],
          [
           20,
           "parole | voce | voci | amate | imprecavano",
           12
          ]
         ],
         "hovertemplate": "<b>Topic %{customdata[0]}</b><br>Words: %{customdata[1]}<br>Size: %{customdata[2]}",
         "legendgroup": "",
         "marker": {
          "color": "#B0BEC5",
          "line": {
           "color": "DarkSlateGrey",
           "width": 2
          },
          "size": [
           111,
           81,
           65,
           62,
           59,
           49,
           48,
           32,
           30,
           29,
           26,
           26,
           24,
           23,
           23,
           19,
           18,
           17,
           12,
           12
          ],
          "sizemode": "area",
          "sizeref": 0.069375,
          "symbol": "circle"
         },
         "mode": "markers",
         "name": "",
         "orientation": "v",
         "showlegend": false,
         "type": "scatter",
         "x": [
          1.0522968769073486,
          1.2118632793426514,
          17.65379524230957,
          16.87250518798828,
          0.8933760523796082,
          -7.7889509201049805,
          3.2144291400909424,
          -7.2711873054504395,
          0.9435514211654663,
          16.178401947021484,
          -7.552485942840576,
          3.4023706912994385,
          16.473543167114258,
          0.6628519892692566,
          16.790035247802734,
          17.814006805419922,
          17.870075225830078,
          -7.0585103034973145,
          1.6157503128051758,
          16.226720809936523
         ],
         "xaxis": "x",
         "y": [
          13.10494327545166,
          13.65450382232666,
          -1.4656732082366943,
          -0.8291655778884888,
          12.722834587097168,
          4.516254901885986,
          -0.5050044655799866,
          3.9865498542785645,
          13.780779838562012,
          -1.5137261152267456,
          4.281954765319824,
          -0.6929337978363037,
          -0.8285307884216309,
          12.50503921508789,
          -1.4242985248565674,
          -1.1425058841705322,
          -1.6888339519500732,
          3.7292919158935547,
          13.637139320373535,
          -2.0328426361083984
         ],
         "yaxis": "y"
        }
       ],
       "layout": {
        "annotations": [
         {
          "showarrow": false,
          "text": "D1",
          "x": -8.957293558120728,
          "y": 6.755063891410828,
          "yshift": 10
         },
         {
          "showarrow": false,
          "text": "D2",
          "x": 5.796646475791931,
          "xshift": 10,
          "y": 15.847896814346313
         }
        ],
        "height": 650,
        "hoverlabel": {
         "bgcolor": "white",
         "font": {
          "family": "Rockwell",
          "size": 16
         }
        },
        "legend": {
         "itemsizing": "constant",
         "tracegroupgap": 0
        },
        "margin": {
         "t": 60
        },
        "shapes": [
         {
          "line": {
           "color": "#CFD8DC",
           "width": 2
          },
          "type": "line",
          "x0": 5.796646475791931,
          "x1": 5.796646475791931,
          "y0": -2.337769031524658,
          "y1": 15.847896814346313
         },
         {
          "line": {
           "color": "#9E9E9E",
           "width": 2
          },
          "type": "line",
          "x0": -8.957293558120728,
          "x1": 20.55058650970459,
          "y0": 6.755063891410828,
          "y1": 6.755063891410828
         }
        ],
        "sliders": [
         {
          "active": 0,
          "pad": {
           "t": 50
          },
          "steps": [
           {
            "args": [
             {
              "marker.color": [
               [
                "red",
                "#B0BEC5",
                "#B0BEC5",
                "#B0BEC5",
                "#B0BEC5",
                "#B0BEC5",
                "#B0BEC5",
                "#B0BEC5",
                "#B0BEC5",
                "#B0BEC5",
                "#B0BEC5",
                "#B0BEC5",
                "#B0BEC5",
                "#B0BEC5",
                "#B0BEC5",
                "#B0BEC5",
                "#B0BEC5",
                "#B0BEC5",
                "#B0BEC5",
                "#B0BEC5"
               ]
              ]
             }
            ],
            "label": "Topic 1",
            "method": "update"
           },
           {
            "args": [
             {
              "marker.color": [
               [
                "#B0BEC5",
                "red",
                "#B0BEC5",
                "#B0BEC5",
                "#B0BEC5",
                "#B0BEC5",
                "#B0BEC5",
                "#B0BEC5",
                "#B0BEC5",
                "#B0BEC5",
                "#B0BEC5",
                "#B0BEC5",
                "#B0BEC5",
                "#B0BEC5",
                "#B0BEC5",
                "#B0BEC5",
                "#B0BEC5",
                "#B0BEC5",
                "#B0BEC5",
                "#B0BEC5"
               ]
              ]
             }
            ],
            "label": "Topic 2",
            "method": "update"
           },
           {
            "args": [
             {
              "marker.color": [
               [
                "#B0BEC5",
                "#B0BEC5",
                "red",
                "#B0BEC5",
                "#B0BEC5",
                "#B0BEC5",
                "#B0BEC5",
                "#B0BEC5",
                "#B0BEC5",
                "#B0BEC5",
                "#B0BEC5",
                "#B0BEC5",
                "#B0BEC5",
                "#B0BEC5",
                "#B0BEC5",
                "#B0BEC5",
                "#B0BEC5",
                "#B0BEC5",
                "#B0BEC5",
                "#B0BEC5"
               ]
              ]
             }
            ],
            "label": "Topic 3",
            "method": "update"
           },
           {
            "args": [
             {
              "marker.color": [
               [
                "#B0BEC5",
                "#B0BEC5",
                "#B0BEC5",
                "red",
                "#B0BEC5",
                "#B0BEC5",
                "#B0BEC5",
                "#B0BEC5",
                "#B0BEC5",
                "#B0BEC5",
                "#B0BEC5",
                "#B0BEC5",
                "#B0BEC5",
                "#B0BEC5",
                "#B0BEC5",
                "#B0BEC5",
                "#B0BEC5",
                "#B0BEC5",
                "#B0BEC5",
                "#B0BEC5"
               ]
              ]
             }
            ],
            "label": "Topic 4",
            "method": "update"
           },
           {
            "args": [
             {
              "marker.color": [
               [
                "#B0BEC5",
                "#B0BEC5",
                "#B0BEC5",
                "#B0BEC5",
                "red",
                "#B0BEC5",
                "#B0BEC5",
                "#B0BEC5",
                "#B0BEC5",
                "#B0BEC5",
                "#B0BEC5",
                "#B0BEC5",
                "#B0BEC5",
                "#B0BEC5",
                "#B0BEC5",
                "#B0BEC5",
                "#B0BEC5",
                "#B0BEC5",
                "#B0BEC5",
                "#B0BEC5"
               ]
              ]
             }
            ],
            "label": "Topic 5",
            "method": "update"
           },
           {
            "args": [
             {
              "marker.color": [
               [
                "#B0BEC5",
                "#B0BEC5",
                "#B0BEC5",
                "#B0BEC5",
                "#B0BEC5",
                "red",
                "#B0BEC5",
                "#B0BEC5",
                "#B0BEC5",
                "#B0BEC5",
                "#B0BEC5",
                "#B0BEC5",
                "#B0BEC5",
                "#B0BEC5",
                "#B0BEC5",
                "#B0BEC5",
                "#B0BEC5",
                "#B0BEC5",
                "#B0BEC5",
                "#B0BEC5"
               ]
              ]
             }
            ],
            "label": "Topic 6",
            "method": "update"
           },
           {
            "args": [
             {
              "marker.color": [
               [
                "#B0BEC5",
                "#B0BEC5",
                "#B0BEC5",
                "#B0BEC5",
                "#B0BEC5",
                "#B0BEC5",
                "red",
                "#B0BEC5",
                "#B0BEC5",
                "#B0BEC5",
                "#B0BEC5",
                "#B0BEC5",
                "#B0BEC5",
                "#B0BEC5",
                "#B0BEC5",
                "#B0BEC5",
                "#B0BEC5",
                "#B0BEC5",
                "#B0BEC5",
                "#B0BEC5"
               ]
              ]
             }
            ],
            "label": "Topic 7",
            "method": "update"
           },
           {
            "args": [
             {
              "marker.color": [
               [
                "#B0BEC5",
                "#B0BEC5",
                "#B0BEC5",
                "#B0BEC5",
                "#B0BEC5",
                "#B0BEC5",
                "#B0BEC5",
                "red",
                "#B0BEC5",
                "#B0BEC5",
                "#B0BEC5",
                "#B0BEC5",
                "#B0BEC5",
                "#B0BEC5",
                "#B0BEC5",
                "#B0BEC5",
                "#B0BEC5",
                "#B0BEC5",
                "#B0BEC5",
                "#B0BEC5"
               ]
              ]
             }
            ],
            "label": "Topic 8",
            "method": "update"
           },
           {
            "args": [
             {
              "marker.color": [
               [
                "#B0BEC5",
                "#B0BEC5",
                "#B0BEC5",
                "#B0BEC5",
                "#B0BEC5",
                "#B0BEC5",
                "#B0BEC5",
                "#B0BEC5",
                "red",
                "#B0BEC5",
                "#B0BEC5",
                "#B0BEC5",
                "#B0BEC5",
                "#B0BEC5",
                "#B0BEC5",
                "#B0BEC5",
                "#B0BEC5",
                "#B0BEC5",
                "#B0BEC5",
                "#B0BEC5"
               ]
              ]
             }
            ],
            "label": "Topic 9",
            "method": "update"
           },
           {
            "args": [
             {
              "marker.color": [
               [
                "#B0BEC5",
                "#B0BEC5",
                "#B0BEC5",
                "#B0BEC5",
                "#B0BEC5",
                "#B0BEC5",
                "#B0BEC5",
                "#B0BEC5",
                "#B0BEC5",
                "red",
                "#B0BEC5",
                "#B0BEC5",
                "#B0BEC5",
                "#B0BEC5",
                "#B0BEC5",
                "#B0BEC5",
                "#B0BEC5",
                "#B0BEC5",
                "#B0BEC5",
                "#B0BEC5"
               ]
              ]
             }
            ],
            "label": "Topic 10",
            "method": "update"
           },
           {
            "args": [
             {
              "marker.color": [
               [
                "#B0BEC5",
                "#B0BEC5",
                "#B0BEC5",
                "#B0BEC5",
                "#B0BEC5",
                "#B0BEC5",
                "#B0BEC5",
                "#B0BEC5",
                "#B0BEC5",
                "#B0BEC5",
                "red",
                "#B0BEC5",
                "#B0BEC5",
                "#B0BEC5",
                "#B0BEC5",
                "#B0BEC5",
                "#B0BEC5",
                "#B0BEC5",
                "#B0BEC5",
                "#B0BEC5"
               ]
              ]
             }
            ],
            "label": "Topic 11",
            "method": "update"
           },
           {
            "args": [
             {
              "marker.color": [
               [
                "#B0BEC5",
                "#B0BEC5",
                "#B0BEC5",
                "#B0BEC5",
                "#B0BEC5",
                "#B0BEC5",
                "#B0BEC5",
                "#B0BEC5",
                "#B0BEC5",
                "#B0BEC5",
                "#B0BEC5",
                "red",
                "#B0BEC5",
                "#B0BEC5",
                "#B0BEC5",
                "#B0BEC5",
                "#B0BEC5",
                "#B0BEC5",
                "#B0BEC5",
                "#B0BEC5"
               ]
              ]
             }
            ],
            "label": "Topic 12",
            "method": "update"
           },
           {
            "args": [
             {
              "marker.color": [
               [
                "#B0BEC5",
                "#B0BEC5",
                "#B0BEC5",
                "#B0BEC5",
                "#B0BEC5",
                "#B0BEC5",
                "#B0BEC5",
                "#B0BEC5",
                "#B0BEC5",
                "#B0BEC5",
                "#B0BEC5",
                "#B0BEC5",
                "red",
                "#B0BEC5",
                "#B0BEC5",
                "#B0BEC5",
                "#B0BEC5",
                "#B0BEC5",
                "#B0BEC5",
                "#B0BEC5"
               ]
              ]
             }
            ],
            "label": "Topic 13",
            "method": "update"
           },
           {
            "args": [
             {
              "marker.color": [
               [
                "#B0BEC5",
                "#B0BEC5",
                "#B0BEC5",
                "#B0BEC5",
                "#B0BEC5",
                "#B0BEC5",
                "#B0BEC5",
                "#B0BEC5",
                "#B0BEC5",
                "#B0BEC5",
                "#B0BEC5",
                "#B0BEC5",
                "#B0BEC5",
                "red",
                "#B0BEC5",
                "#B0BEC5",
                "#B0BEC5",
                "#B0BEC5",
                "#B0BEC5",
                "#B0BEC5"
               ]
              ]
             }
            ],
            "label": "Topic 14",
            "method": "update"
           },
           {
            "args": [
             {
              "marker.color": [
               [
                "#B0BEC5",
                "#B0BEC5",
                "#B0BEC5",
                "#B0BEC5",
                "#B0BEC5",
                "#B0BEC5",
                "#B0BEC5",
                "#B0BEC5",
                "#B0BEC5",
                "#B0BEC5",
                "#B0BEC5",
                "#B0BEC5",
                "#B0BEC5",
                "#B0BEC5",
                "red",
                "#B0BEC5",
                "#B0BEC5",
                "#B0BEC5",
                "#B0BEC5",
                "#B0BEC5"
               ]
              ]
             }
            ],
            "label": "Topic 15",
            "method": "update"
           },
           {
            "args": [
             {
              "marker.color": [
               [
                "#B0BEC5",
                "#B0BEC5",
                "#B0BEC5",
                "#B0BEC5",
                "#B0BEC5",
                "#B0BEC5",
                "#B0BEC5",
                "#B0BEC5",
                "#B0BEC5",
                "#B0BEC5",
                "#B0BEC5",
                "#B0BEC5",
                "#B0BEC5",
                "#B0BEC5",
                "#B0BEC5",
                "red",
                "#B0BEC5",
                "#B0BEC5",
                "#B0BEC5",
                "#B0BEC5"
               ]
              ]
             }
            ],
            "label": "Topic 16",
            "method": "update"
           },
           {
            "args": [
             {
              "marker.color": [
               [
                "#B0BEC5",
                "#B0BEC5",
                "#B0BEC5",
                "#B0BEC5",
                "#B0BEC5",
                "#B0BEC5",
                "#B0BEC5",
                "#B0BEC5",
                "#B0BEC5",
                "#B0BEC5",
                "#B0BEC5",
                "#B0BEC5",
                "#B0BEC5",
                "#B0BEC5",
                "#B0BEC5",
                "#B0BEC5",
                "red",
                "#B0BEC5",
                "#B0BEC5",
                "#B0BEC5"
               ]
              ]
             }
            ],
            "label": "Topic 17",
            "method": "update"
           },
           {
            "args": [
             {
              "marker.color": [
               [
                "#B0BEC5",
                "#B0BEC5",
                "#B0BEC5",
                "#B0BEC5",
                "#B0BEC5",
                "#B0BEC5",
                "#B0BEC5",
                "#B0BEC5",
                "#B0BEC5",
                "#B0BEC5",
                "#B0BEC5",
                "#B0BEC5",
                "#B0BEC5",
                "#B0BEC5",
                "#B0BEC5",
                "#B0BEC5",
                "#B0BEC5",
                "red",
                "#B0BEC5",
                "#B0BEC5"
               ]
              ]
             }
            ],
            "label": "Topic 18",
            "method": "update"
           },
           {
            "args": [
             {
              "marker.color": [
               [
                "#B0BEC5",
                "#B0BEC5",
                "#B0BEC5",
                "#B0BEC5",
                "#B0BEC5",
                "#B0BEC5",
                "#B0BEC5",
                "#B0BEC5",
                "#B0BEC5",
                "#B0BEC5",
                "#B0BEC5",
                "#B0BEC5",
                "#B0BEC5",
                "#B0BEC5",
                "#B0BEC5",
                "#B0BEC5",
                "#B0BEC5",
                "#B0BEC5",
                "red",
                "#B0BEC5"
               ]
              ]
             }
            ],
            "label": "Topic 19",
            "method": "update"
           },
           {
            "args": [
             {
              "marker.color": [
               [
                "#B0BEC5",
                "#B0BEC5",
                "#B0BEC5",
                "#B0BEC5",
                "#B0BEC5",
                "#B0BEC5",
                "#B0BEC5",
                "#B0BEC5",
                "#B0BEC5",
                "#B0BEC5",
                "#B0BEC5",
                "#B0BEC5",
                "#B0BEC5",
                "#B0BEC5",
                "#B0BEC5",
                "#B0BEC5",
                "#B0BEC5",
                "#B0BEC5",
                "#B0BEC5",
                "red"
               ]
              ]
             }
            ],
            "label": "Topic 20",
            "method": "update"
           }
          ]
         }
        ],
        "template": {
         "data": {
          "bar": [
           {
            "error_x": {
             "color": "rgb(36,36,36)"
            },
            "error_y": {
             "color": "rgb(36,36,36)"
            },
            "marker": {
             "line": {
              "color": "white",
              "width": 0.5
             },
             "pattern": {
              "fillmode": "overlay",
              "size": 10,
              "solidity": 0.2
             }
            },
            "type": "bar"
           }
          ],
          "barpolar": [
           {
            "marker": {
             "line": {
              "color": "white",
              "width": 0.5
             },
             "pattern": {
              "fillmode": "overlay",
              "size": 10,
              "solidity": 0.2
             }
            },
            "type": "barpolar"
           }
          ],
          "carpet": [
           {
            "aaxis": {
             "endlinecolor": "rgb(36,36,36)",
             "gridcolor": "white",
             "linecolor": "white",
             "minorgridcolor": "white",
             "startlinecolor": "rgb(36,36,36)"
            },
            "baxis": {
             "endlinecolor": "rgb(36,36,36)",
             "gridcolor": "white",
             "linecolor": "white",
             "minorgridcolor": "white",
             "startlinecolor": "rgb(36,36,36)"
            },
            "type": "carpet"
           }
          ],
          "choropleth": [
           {
            "colorbar": {
             "outlinewidth": 1,
             "tickcolor": "rgb(36,36,36)",
             "ticks": "outside"
            },
            "type": "choropleth"
           }
          ],
          "contour": [
           {
            "colorbar": {
             "outlinewidth": 1,
             "tickcolor": "rgb(36,36,36)",
             "ticks": "outside"
            },
            "colorscale": [
             [
              0,
              "#440154"
             ],
             [
              0.1111111111111111,
              "#482878"
             ],
             [
              0.2222222222222222,
              "#3e4989"
             ],
             [
              0.3333333333333333,
              "#31688e"
             ],
             [
              0.4444444444444444,
              "#26828e"
             ],
             [
              0.5555555555555556,
              "#1f9e89"
             ],
             [
              0.6666666666666666,
              "#35b779"
             ],
             [
              0.7777777777777778,
              "#6ece58"
             ],
             [
              0.8888888888888888,
              "#b5de2b"
             ],
             [
              1,
              "#fde725"
             ]
            ],
            "type": "contour"
           }
          ],
          "contourcarpet": [
           {
            "colorbar": {
             "outlinewidth": 1,
             "tickcolor": "rgb(36,36,36)",
             "ticks": "outside"
            },
            "type": "contourcarpet"
           }
          ],
          "heatmap": [
           {
            "colorbar": {
             "outlinewidth": 1,
             "tickcolor": "rgb(36,36,36)",
             "ticks": "outside"
            },
            "colorscale": [
             [
              0,
              "#440154"
             ],
             [
              0.1111111111111111,
              "#482878"
             ],
             [
              0.2222222222222222,
              "#3e4989"
             ],
             [
              0.3333333333333333,
              "#31688e"
             ],
             [
              0.4444444444444444,
              "#26828e"
             ],
             [
              0.5555555555555556,
              "#1f9e89"
             ],
             [
              0.6666666666666666,
              "#35b779"
             ],
             [
              0.7777777777777778,
              "#6ece58"
             ],
             [
              0.8888888888888888,
              "#b5de2b"
             ],
             [
              1,
              "#fde725"
             ]
            ],
            "type": "heatmap"
           }
          ],
          "heatmapgl": [
           {
            "colorbar": {
             "outlinewidth": 1,
             "tickcolor": "rgb(36,36,36)",
             "ticks": "outside"
            },
            "colorscale": [
             [
              0,
              "#440154"
             ],
             [
              0.1111111111111111,
              "#482878"
             ],
             [
              0.2222222222222222,
              "#3e4989"
             ],
             [
              0.3333333333333333,
              "#31688e"
             ],
             [
              0.4444444444444444,
              "#26828e"
             ],
             [
              0.5555555555555556,
              "#1f9e89"
             ],
             [
              0.6666666666666666,
              "#35b779"
             ],
             [
              0.7777777777777778,
              "#6ece58"
             ],
             [
              0.8888888888888888,
              "#b5de2b"
             ],
             [
              1,
              "#fde725"
             ]
            ],
            "type": "heatmapgl"
           }
          ],
          "histogram": [
           {
            "marker": {
             "line": {
              "color": "white",
              "width": 0.6
             }
            },
            "type": "histogram"
           }
          ],
          "histogram2d": [
           {
            "colorbar": {
             "outlinewidth": 1,
             "tickcolor": "rgb(36,36,36)",
             "ticks": "outside"
            },
            "colorscale": [
             [
              0,
              "#440154"
             ],
             [
              0.1111111111111111,
              "#482878"
             ],
             [
              0.2222222222222222,
              "#3e4989"
             ],
             [
              0.3333333333333333,
              "#31688e"
             ],
             [
              0.4444444444444444,
              "#26828e"
             ],
             [
              0.5555555555555556,
              "#1f9e89"
             ],
             [
              0.6666666666666666,
              "#35b779"
             ],
             [
              0.7777777777777778,
              "#6ece58"
             ],
             [
              0.8888888888888888,
              "#b5de2b"
             ],
             [
              1,
              "#fde725"
             ]
            ],
            "type": "histogram2d"
           }
          ],
          "histogram2dcontour": [
           {
            "colorbar": {
             "outlinewidth": 1,
             "tickcolor": "rgb(36,36,36)",
             "ticks": "outside"
            },
            "colorscale": [
             [
              0,
              "#440154"
             ],
             [
              0.1111111111111111,
              "#482878"
             ],
             [
              0.2222222222222222,
              "#3e4989"
             ],
             [
              0.3333333333333333,
              "#31688e"
             ],
             [
              0.4444444444444444,
              "#26828e"
             ],
             [
              0.5555555555555556,
              "#1f9e89"
             ],
             [
              0.6666666666666666,
              "#35b779"
             ],
             [
              0.7777777777777778,
              "#6ece58"
             ],
             [
              0.8888888888888888,
              "#b5de2b"
             ],
             [
              1,
              "#fde725"
             ]
            ],
            "type": "histogram2dcontour"
           }
          ],
          "mesh3d": [
           {
            "colorbar": {
             "outlinewidth": 1,
             "tickcolor": "rgb(36,36,36)",
             "ticks": "outside"
            },
            "type": "mesh3d"
           }
          ],
          "parcoords": [
           {
            "line": {
             "colorbar": {
              "outlinewidth": 1,
              "tickcolor": "rgb(36,36,36)",
              "ticks": "outside"
             }
            },
            "type": "parcoords"
           }
          ],
          "pie": [
           {
            "automargin": true,
            "type": "pie"
           }
          ],
          "scatter": [
           {
            "marker": {
             "colorbar": {
              "outlinewidth": 1,
              "tickcolor": "rgb(36,36,36)",
              "ticks": "outside"
             }
            },
            "type": "scatter"
           }
          ],
          "scatter3d": [
           {
            "line": {
             "colorbar": {
              "outlinewidth": 1,
              "tickcolor": "rgb(36,36,36)",
              "ticks": "outside"
             }
            },
            "marker": {
             "colorbar": {
              "outlinewidth": 1,
              "tickcolor": "rgb(36,36,36)",
              "ticks": "outside"
             }
            },
            "type": "scatter3d"
           }
          ],
          "scattercarpet": [
           {
            "marker": {
             "colorbar": {
              "outlinewidth": 1,
              "tickcolor": "rgb(36,36,36)",
              "ticks": "outside"
             }
            },
            "type": "scattercarpet"
           }
          ],
          "scattergeo": [
           {
            "marker": {
             "colorbar": {
              "outlinewidth": 1,
              "tickcolor": "rgb(36,36,36)",
              "ticks": "outside"
             }
            },
            "type": "scattergeo"
           }
          ],
          "scattergl": [
           {
            "marker": {
             "colorbar": {
              "outlinewidth": 1,
              "tickcolor": "rgb(36,36,36)",
              "ticks": "outside"
             }
            },
            "type": "scattergl"
           }
          ],
          "scattermapbox": [
           {
            "marker": {
             "colorbar": {
              "outlinewidth": 1,
              "tickcolor": "rgb(36,36,36)",
              "ticks": "outside"
             }
            },
            "type": "scattermapbox"
           }
          ],
          "scatterpolar": [
           {
            "marker": {
             "colorbar": {
              "outlinewidth": 1,
              "tickcolor": "rgb(36,36,36)",
              "ticks": "outside"
             }
            },
            "type": "scatterpolar"
           }
          ],
          "scatterpolargl": [
           {
            "marker": {
             "colorbar": {
              "outlinewidth": 1,
              "tickcolor": "rgb(36,36,36)",
              "ticks": "outside"
             }
            },
            "type": "scatterpolargl"
           }
          ],
          "scatterternary": [
           {
            "marker": {
             "colorbar": {
              "outlinewidth": 1,
              "tickcolor": "rgb(36,36,36)",
              "ticks": "outside"
             }
            },
            "type": "scatterternary"
           }
          ],
          "surface": [
           {
            "colorbar": {
             "outlinewidth": 1,
             "tickcolor": "rgb(36,36,36)",
             "ticks": "outside"
            },
            "colorscale": [
             [
              0,
              "#440154"
             ],
             [
              0.1111111111111111,
              "#482878"
             ],
             [
              0.2222222222222222,
              "#3e4989"
             ],
             [
              0.3333333333333333,
              "#31688e"
             ],
             [
              0.4444444444444444,
              "#26828e"
             ],
             [
              0.5555555555555556,
              "#1f9e89"
             ],
             [
              0.6666666666666666,
              "#35b779"
             ],
             [
              0.7777777777777778,
              "#6ece58"
             ],
             [
              0.8888888888888888,
              "#b5de2b"
             ],
             [
              1,
              "#fde725"
             ]
            ],
            "type": "surface"
           }
          ],
          "table": [
           {
            "cells": {
             "fill": {
              "color": "rgb(237,237,237)"
             },
             "line": {
              "color": "white"
             }
            },
            "header": {
             "fill": {
              "color": "rgb(217,217,217)"
             },
             "line": {
              "color": "white"
             }
            },
            "type": "table"
           }
          ]
         },
         "layout": {
          "annotationdefaults": {
           "arrowhead": 0,
           "arrowwidth": 1
          },
          "autotypenumbers": "strict",
          "coloraxis": {
           "colorbar": {
            "outlinewidth": 1,
            "tickcolor": "rgb(36,36,36)",
            "ticks": "outside"
           }
          },
          "colorscale": {
           "diverging": [
            [
             0,
             "rgb(103,0,31)"
            ],
            [
             0.1,
             "rgb(178,24,43)"
            ],
            [
             0.2,
             "rgb(214,96,77)"
            ],
            [
             0.3,
             "rgb(244,165,130)"
            ],
            [
             0.4,
             "rgb(253,219,199)"
            ],
            [
             0.5,
             "rgb(247,247,247)"
            ],
            [
             0.6,
             "rgb(209,229,240)"
            ],
            [
             0.7,
             "rgb(146,197,222)"
            ],
            [
             0.8,
             "rgb(67,147,195)"
            ],
            [
             0.9,
             "rgb(33,102,172)"
            ],
            [
             1,
             "rgb(5,48,97)"
            ]
           ],
           "sequential": [
            [
             0,
             "#440154"
            ],
            [
             0.1111111111111111,
             "#482878"
            ],
            [
             0.2222222222222222,
             "#3e4989"
            ],
            [
             0.3333333333333333,
             "#31688e"
            ],
            [
             0.4444444444444444,
             "#26828e"
            ],
            [
             0.5555555555555556,
             "#1f9e89"
            ],
            [
             0.6666666666666666,
             "#35b779"
            ],
            [
             0.7777777777777778,
             "#6ece58"
            ],
            [
             0.8888888888888888,
             "#b5de2b"
            ],
            [
             1,
             "#fde725"
            ]
           ],
           "sequentialminus": [
            [
             0,
             "#440154"
            ],
            [
             0.1111111111111111,
             "#482878"
            ],
            [
             0.2222222222222222,
             "#3e4989"
            ],
            [
             0.3333333333333333,
             "#31688e"
            ],
            [
             0.4444444444444444,
             "#26828e"
            ],
            [
             0.5555555555555556,
             "#1f9e89"
            ],
            [
             0.6666666666666666,
             "#35b779"
            ],
            [
             0.7777777777777778,
             "#6ece58"
            ],
            [
             0.8888888888888888,
             "#b5de2b"
            ],
            [
             1,
             "#fde725"
            ]
           ]
          },
          "colorway": [
           "#1F77B4",
           "#FF7F0E",
           "#2CA02C",
           "#D62728",
           "#9467BD",
           "#8C564B",
           "#E377C2",
           "#7F7F7F",
           "#BCBD22",
           "#17BECF"
          ],
          "font": {
           "color": "rgb(36,36,36)"
          },
          "geo": {
           "bgcolor": "white",
           "lakecolor": "white",
           "landcolor": "white",
           "showlakes": true,
           "showland": true,
           "subunitcolor": "white"
          },
          "hoverlabel": {
           "align": "left"
          },
          "hovermode": "closest",
          "mapbox": {
           "style": "light"
          },
          "paper_bgcolor": "white",
          "plot_bgcolor": "white",
          "polar": {
           "angularaxis": {
            "gridcolor": "rgb(232,232,232)",
            "linecolor": "rgb(36,36,36)",
            "showgrid": false,
            "showline": true,
            "ticks": "outside"
           },
           "bgcolor": "white",
           "radialaxis": {
            "gridcolor": "rgb(232,232,232)",
            "linecolor": "rgb(36,36,36)",
            "showgrid": false,
            "showline": true,
            "ticks": "outside"
           }
          },
          "scene": {
           "xaxis": {
            "backgroundcolor": "white",
            "gridcolor": "rgb(232,232,232)",
            "gridwidth": 2,
            "linecolor": "rgb(36,36,36)",
            "showbackground": true,
            "showgrid": false,
            "showline": true,
            "ticks": "outside",
            "zeroline": false,
            "zerolinecolor": "rgb(36,36,36)"
           },
           "yaxis": {
            "backgroundcolor": "white",
            "gridcolor": "rgb(232,232,232)",
            "gridwidth": 2,
            "linecolor": "rgb(36,36,36)",
            "showbackground": true,
            "showgrid": false,
            "showline": true,
            "ticks": "outside",
            "zeroline": false,
            "zerolinecolor": "rgb(36,36,36)"
           },
           "zaxis": {
            "backgroundcolor": "white",
            "gridcolor": "rgb(232,232,232)",
            "gridwidth": 2,
            "linecolor": "rgb(36,36,36)",
            "showbackground": true,
            "showgrid": false,
            "showline": true,
            "ticks": "outside",
            "zeroline": false,
            "zerolinecolor": "rgb(36,36,36)"
           }
          },
          "shapedefaults": {
           "fillcolor": "black",
           "line": {
            "width": 0
           },
           "opacity": 0.3
          },
          "ternary": {
           "aaxis": {
            "gridcolor": "rgb(232,232,232)",
            "linecolor": "rgb(36,36,36)",
            "showgrid": false,
            "showline": true,
            "ticks": "outside"
           },
           "baxis": {
            "gridcolor": "rgb(232,232,232)",
            "linecolor": "rgb(36,36,36)",
            "showgrid": false,
            "showline": true,
            "ticks": "outside"
           },
           "bgcolor": "white",
           "caxis": {
            "gridcolor": "rgb(232,232,232)",
            "linecolor": "rgb(36,36,36)",
            "showgrid": false,
            "showline": true,
            "ticks": "outside"
           }
          },
          "title": {
           "x": 0.05
          },
          "xaxis": {
           "automargin": true,
           "gridcolor": "rgb(232,232,232)",
           "linecolor": "rgb(36,36,36)",
           "showgrid": false,
           "showline": true,
           "ticks": "outside",
           "title": {
            "standoff": 15
           },
           "zeroline": false,
           "zerolinecolor": "rgb(36,36,36)"
          },
          "yaxis": {
           "automargin": true,
           "gridcolor": "rgb(232,232,232)",
           "linecolor": "rgb(36,36,36)",
           "showgrid": false,
           "showline": true,
           "ticks": "outside",
           "title": {
            "standoff": 15
           },
           "zeroline": false,
           "zerolinecolor": "rgb(36,36,36)"
          }
         }
        },
        "title": {
         "font": {
          "color": "Black",
          "size": 22
         },
         "text": "<b>Intertopic Distance Map",
         "x": 0.5,
         "xanchor": "center",
         "y": 0.95,
         "yanchor": "top"
        },
        "width": 650,
        "xaxis": {
         "anchor": "y",
         "domain": [
          0,
          1
         ],
         "range": [
          -8.957293558120728,
          20.55058650970459
         ],
         "title": {
          "text": ""
         },
         "visible": false
        },
        "yaxis": {
         "anchor": "x",
         "domain": [
          0,
          1
         ],
         "range": [
          -2.337769031524658,
          15.847896814346313
         ],
         "title": {
          "text": ""
         },
         "visible": false
        }
       }
      }
     },
     "metadata": {},
     "output_type": "display_data"
    }
   ],
   "source": [
    "topic_model.visualize_topics()"
   ]
  },
  {
   "cell_type": "code",
   "execution_count": 9,
   "metadata": {},
   "outputs": [
    {
     "data": {
      "application/vnd.plotly.v1+json": {
       "config": {
        "plotlyServerURL": "https://plot.ly"
       },
       "data": [
        {
         "marker": {
          "color": "#C8D2D7",
          "line": {
           "color": "#6E8484",
           "width": 1
          }
         },
         "orientation": "h",
         "type": "bar",
         "x": [
          0.02125557789290451,
          0.028157586538695507,
          0.019102012601652524,
          0.019795526673928192,
          0.14891705153206844,
          0.01793484183149233,
          0.019851975894871973,
          0.016762480713974952,
          0.031147449496506566,
          0.0275387969837726,
          0.02147499319061681,
          0.021406635221600825,
          0.04240234658287637,
          0.02834816349239056,
          0.016857680477019073,
          0.024421351999314393,
          0.019741077957832066,
          0.027295080634953024,
          0.020574722908711096
         ],
         "y": [
          "<b>Topic 0</b>: mano_bocca_rispose_occhi...",
          "<b>Topic 1</b>: spirito_tempo_sentiva_cu...",
          "<b>Topic 2</b>: vita_anima_spirito_forza...",
          "<b>Topic 3</b>: addio_taci_tua_hai_chies...",
          "<b>Topic 5</b>: occhi_testa_bocca_capell...",
          "<b>Topic 6</b>: interruppe_ah_rispose_ma...",
          "<b>Topic 7</b>: cielo_acqua_verde_alberi...",
          "<b>Topic 8</b>: terreno_guardia_barone_b...",
          "<b>Topic 9</b>: versi_libro_secolo_libri...",
          "<b>Topic 11</b>: occhi_tratto_ambedue_ri...",
          "<b>Topic 12</b>: città_obelisco_cipressi...",
          "<b>Topic 13</b>: madre_vieni_parlava_vol...",
          "<b>Topic 14</b>: vendite_vaso_stanza_sec...",
          "<b>Topic 15</b>: musica_pianoforte_sonat...",
          "<b>Topic 16</b>: domani_nove_mezzogiorno...",
          "<b>Topic 17</b>: carrozza_scale_gradino_...",
          "<b>Topic 18</b>: cavalli_cavallo_corsa_r...",
          "<b>Topic 19</b>: acido_20_ornato_anima_i...",
          "<b>Topic 20</b>: parole_voce_voci_amate_..."
         ]
        }
       ],
       "layout": {
        "height": 600,
        "hoverlabel": {
         "bgcolor": "white",
         "font": {
          "family": "Rockwell",
          "size": 16
         }
        },
        "template": {
         "data": {
          "bar": [
           {
            "error_x": {
             "color": "rgb(36,36,36)"
            },
            "error_y": {
             "color": "rgb(36,36,36)"
            },
            "marker": {
             "line": {
              "color": "white",
              "width": 0.5
             },
             "pattern": {
              "fillmode": "overlay",
              "size": 10,
              "solidity": 0.2
             }
            },
            "type": "bar"
           }
          ],
          "barpolar": [
           {
            "marker": {
             "line": {
              "color": "white",
              "width": 0.5
             },
             "pattern": {
              "fillmode": "overlay",
              "size": 10,
              "solidity": 0.2
             }
            },
            "type": "barpolar"
           }
          ],
          "carpet": [
           {
            "aaxis": {
             "endlinecolor": "rgb(36,36,36)",
             "gridcolor": "white",
             "linecolor": "white",
             "minorgridcolor": "white",
             "startlinecolor": "rgb(36,36,36)"
            },
            "baxis": {
             "endlinecolor": "rgb(36,36,36)",
             "gridcolor": "white",
             "linecolor": "white",
             "minorgridcolor": "white",
             "startlinecolor": "rgb(36,36,36)"
            },
            "type": "carpet"
           }
          ],
          "choropleth": [
           {
            "colorbar": {
             "outlinewidth": 1,
             "tickcolor": "rgb(36,36,36)",
             "ticks": "outside"
            },
            "type": "choropleth"
           }
          ],
          "contour": [
           {
            "colorbar": {
             "outlinewidth": 1,
             "tickcolor": "rgb(36,36,36)",
             "ticks": "outside"
            },
            "colorscale": [
             [
              0,
              "#440154"
             ],
             [
              0.1111111111111111,
              "#482878"
             ],
             [
              0.2222222222222222,
              "#3e4989"
             ],
             [
              0.3333333333333333,
              "#31688e"
             ],
             [
              0.4444444444444444,
              "#26828e"
             ],
             [
              0.5555555555555556,
              "#1f9e89"
             ],
             [
              0.6666666666666666,
              "#35b779"
             ],
             [
              0.7777777777777778,
              "#6ece58"
             ],
             [
              0.8888888888888888,
              "#b5de2b"
             ],
             [
              1,
              "#fde725"
             ]
            ],
            "type": "contour"
           }
          ],
          "contourcarpet": [
           {
            "colorbar": {
             "outlinewidth": 1,
             "tickcolor": "rgb(36,36,36)",
             "ticks": "outside"
            },
            "type": "contourcarpet"
           }
          ],
          "heatmap": [
           {
            "colorbar": {
             "outlinewidth": 1,
             "tickcolor": "rgb(36,36,36)",
             "ticks": "outside"
            },
            "colorscale": [
             [
              0,
              "#440154"
             ],
             [
              0.1111111111111111,
              "#482878"
             ],
             [
              0.2222222222222222,
              "#3e4989"
             ],
             [
              0.3333333333333333,
              "#31688e"
             ],
             [
              0.4444444444444444,
              "#26828e"
             ],
             [
              0.5555555555555556,
              "#1f9e89"
             ],
             [
              0.6666666666666666,
              "#35b779"
             ],
             [
              0.7777777777777778,
              "#6ece58"
             ],
             [
              0.8888888888888888,
              "#b5de2b"
             ],
             [
              1,
              "#fde725"
             ]
            ],
            "type": "heatmap"
           }
          ],
          "heatmapgl": [
           {
            "colorbar": {
             "outlinewidth": 1,
             "tickcolor": "rgb(36,36,36)",
             "ticks": "outside"
            },
            "colorscale": [
             [
              0,
              "#440154"
             ],
             [
              0.1111111111111111,
              "#482878"
             ],
             [
              0.2222222222222222,
              "#3e4989"
             ],
             [
              0.3333333333333333,
              "#31688e"
             ],
             [
              0.4444444444444444,
              "#26828e"
             ],
             [
              0.5555555555555556,
              "#1f9e89"
             ],
             [
              0.6666666666666666,
              "#35b779"
             ],
             [
              0.7777777777777778,
              "#6ece58"
             ],
             [
              0.8888888888888888,
              "#b5de2b"
             ],
             [
              1,
              "#fde725"
             ]
            ],
            "type": "heatmapgl"
           }
          ],
          "histogram": [
           {
            "marker": {
             "line": {
              "color": "white",
              "width": 0.6
             }
            },
            "type": "histogram"
           }
          ],
          "histogram2d": [
           {
            "colorbar": {
             "outlinewidth": 1,
             "tickcolor": "rgb(36,36,36)",
             "ticks": "outside"
            },
            "colorscale": [
             [
              0,
              "#440154"
             ],
             [
              0.1111111111111111,
              "#482878"
             ],
             [
              0.2222222222222222,
              "#3e4989"
             ],
             [
              0.3333333333333333,
              "#31688e"
             ],
             [
              0.4444444444444444,
              "#26828e"
             ],
             [
              0.5555555555555556,
              "#1f9e89"
             ],
             [
              0.6666666666666666,
              "#35b779"
             ],
             [
              0.7777777777777778,
              "#6ece58"
             ],
             [
              0.8888888888888888,
              "#b5de2b"
             ],
             [
              1,
              "#fde725"
             ]
            ],
            "type": "histogram2d"
           }
          ],
          "histogram2dcontour": [
           {
            "colorbar": {
             "outlinewidth": 1,
             "tickcolor": "rgb(36,36,36)",
             "ticks": "outside"
            },
            "colorscale": [
             [
              0,
              "#440154"
             ],
             [
              0.1111111111111111,
              "#482878"
             ],
             [
              0.2222222222222222,
              "#3e4989"
             ],
             [
              0.3333333333333333,
              "#31688e"
             ],
             [
              0.4444444444444444,
              "#26828e"
             ],
             [
              0.5555555555555556,
              "#1f9e89"
             ],
             [
              0.6666666666666666,
              "#35b779"
             ],
             [
              0.7777777777777778,
              "#6ece58"
             ],
             [
              0.8888888888888888,
              "#b5de2b"
             ],
             [
              1,
              "#fde725"
             ]
            ],
            "type": "histogram2dcontour"
           }
          ],
          "mesh3d": [
           {
            "colorbar": {
             "outlinewidth": 1,
             "tickcolor": "rgb(36,36,36)",
             "ticks": "outside"
            },
            "type": "mesh3d"
           }
          ],
          "parcoords": [
           {
            "line": {
             "colorbar": {
              "outlinewidth": 1,
              "tickcolor": "rgb(36,36,36)",
              "ticks": "outside"
             }
            },
            "type": "parcoords"
           }
          ],
          "pie": [
           {
            "automargin": true,
            "type": "pie"
           }
          ],
          "scatter": [
           {
            "marker": {
             "colorbar": {
              "outlinewidth": 1,
              "tickcolor": "rgb(36,36,36)",
              "ticks": "outside"
             }
            },
            "type": "scatter"
           }
          ],
          "scatter3d": [
           {
            "line": {
             "colorbar": {
              "outlinewidth": 1,
              "tickcolor": "rgb(36,36,36)",
              "ticks": "outside"
             }
            },
            "marker": {
             "colorbar": {
              "outlinewidth": 1,
              "tickcolor": "rgb(36,36,36)",
              "ticks": "outside"
             }
            },
            "type": "scatter3d"
           }
          ],
          "scattercarpet": [
           {
            "marker": {
             "colorbar": {
              "outlinewidth": 1,
              "tickcolor": "rgb(36,36,36)",
              "ticks": "outside"
             }
            },
            "type": "scattercarpet"
           }
          ],
          "scattergeo": [
           {
            "marker": {
             "colorbar": {
              "outlinewidth": 1,
              "tickcolor": "rgb(36,36,36)",
              "ticks": "outside"
             }
            },
            "type": "scattergeo"
           }
          ],
          "scattergl": [
           {
            "marker": {
             "colorbar": {
              "outlinewidth": 1,
              "tickcolor": "rgb(36,36,36)",
              "ticks": "outside"
             }
            },
            "type": "scattergl"
           }
          ],
          "scattermapbox": [
           {
            "marker": {
             "colorbar": {
              "outlinewidth": 1,
              "tickcolor": "rgb(36,36,36)",
              "ticks": "outside"
             }
            },
            "type": "scattermapbox"
           }
          ],
          "scatterpolar": [
           {
            "marker": {
             "colorbar": {
              "outlinewidth": 1,
              "tickcolor": "rgb(36,36,36)",
              "ticks": "outside"
             }
            },
            "type": "scatterpolar"
           }
          ],
          "scatterpolargl": [
           {
            "marker": {
             "colorbar": {
              "outlinewidth": 1,
              "tickcolor": "rgb(36,36,36)",
              "ticks": "outside"
             }
            },
            "type": "scatterpolargl"
           }
          ],
          "scatterternary": [
           {
            "marker": {
             "colorbar": {
              "outlinewidth": 1,
              "tickcolor": "rgb(36,36,36)",
              "ticks": "outside"
             }
            },
            "type": "scatterternary"
           }
          ],
          "surface": [
           {
            "colorbar": {
             "outlinewidth": 1,
             "tickcolor": "rgb(36,36,36)",
             "ticks": "outside"
            },
            "colorscale": [
             [
              0,
              "#440154"
             ],
             [
              0.1111111111111111,
              "#482878"
             ],
             [
              0.2222222222222222,
              "#3e4989"
             ],
             [
              0.3333333333333333,
              "#31688e"
             ],
             [
              0.4444444444444444,
              "#26828e"
             ],
             [
              0.5555555555555556,
              "#1f9e89"
             ],
             [
              0.6666666666666666,
              "#35b779"
             ],
             [
              0.7777777777777778,
              "#6ece58"
             ],
             [
              0.8888888888888888,
              "#b5de2b"
             ],
             [
              1,
              "#fde725"
             ]
            ],
            "type": "surface"
           }
          ],
          "table": [
           {
            "cells": {
             "fill": {
              "color": "rgb(237,237,237)"
             },
             "line": {
              "color": "white"
             }
            },
            "header": {
             "fill": {
              "color": "rgb(217,217,217)"
             },
             "line": {
              "color": "white"
             }
            },
            "type": "table"
           }
          ]
         },
         "layout": {
          "annotationdefaults": {
           "arrowhead": 0,
           "arrowwidth": 1
          },
          "autotypenumbers": "strict",
          "coloraxis": {
           "colorbar": {
            "outlinewidth": 1,
            "tickcolor": "rgb(36,36,36)",
            "ticks": "outside"
           }
          },
          "colorscale": {
           "diverging": [
            [
             0,
             "rgb(103,0,31)"
            ],
            [
             0.1,
             "rgb(178,24,43)"
            ],
            [
             0.2,
             "rgb(214,96,77)"
            ],
            [
             0.3,
             "rgb(244,165,130)"
            ],
            [
             0.4,
             "rgb(253,219,199)"
            ],
            [
             0.5,
             "rgb(247,247,247)"
            ],
            [
             0.6,
             "rgb(209,229,240)"
            ],
            [
             0.7,
             "rgb(146,197,222)"
            ],
            [
             0.8,
             "rgb(67,147,195)"
            ],
            [
             0.9,
             "rgb(33,102,172)"
            ],
            [
             1,
             "rgb(5,48,97)"
            ]
           ],
           "sequential": [
            [
             0,
             "#440154"
            ],
            [
             0.1111111111111111,
             "#482878"
            ],
            [
             0.2222222222222222,
             "#3e4989"
            ],
            [
             0.3333333333333333,
             "#31688e"
            ],
            [
             0.4444444444444444,
             "#26828e"
            ],
            [
             0.5555555555555556,
             "#1f9e89"
            ],
            [
             0.6666666666666666,
             "#35b779"
            ],
            [
             0.7777777777777778,
             "#6ece58"
            ],
            [
             0.8888888888888888,
             "#b5de2b"
            ],
            [
             1,
             "#fde725"
            ]
           ],
           "sequentialminus": [
            [
             0,
             "#440154"
            ],
            [
             0.1111111111111111,
             "#482878"
            ],
            [
             0.2222222222222222,
             "#3e4989"
            ],
            [
             0.3333333333333333,
             "#31688e"
            ],
            [
             0.4444444444444444,
             "#26828e"
            ],
            [
             0.5555555555555556,
             "#1f9e89"
            ],
            [
             0.6666666666666666,
             "#35b779"
            ],
            [
             0.7777777777777778,
             "#6ece58"
            ],
            [
             0.8888888888888888,
             "#b5de2b"
            ],
            [
             1,
             "#fde725"
            ]
           ]
          },
          "colorway": [
           "#1F77B4",
           "#FF7F0E",
           "#2CA02C",
           "#D62728",
           "#9467BD",
           "#8C564B",
           "#E377C2",
           "#7F7F7F",
           "#BCBD22",
           "#17BECF"
          ],
          "font": {
           "color": "rgb(36,36,36)"
          },
          "geo": {
           "bgcolor": "white",
           "lakecolor": "white",
           "landcolor": "white",
           "showlakes": true,
           "showland": true,
           "subunitcolor": "white"
          },
          "hoverlabel": {
           "align": "left"
          },
          "hovermode": "closest",
          "mapbox": {
           "style": "light"
          },
          "paper_bgcolor": "white",
          "plot_bgcolor": "white",
          "polar": {
           "angularaxis": {
            "gridcolor": "rgb(232,232,232)",
            "linecolor": "rgb(36,36,36)",
            "showgrid": false,
            "showline": true,
            "ticks": "outside"
           },
           "bgcolor": "white",
           "radialaxis": {
            "gridcolor": "rgb(232,232,232)",
            "linecolor": "rgb(36,36,36)",
            "showgrid": false,
            "showline": true,
            "ticks": "outside"
           }
          },
          "scene": {
           "xaxis": {
            "backgroundcolor": "white",
            "gridcolor": "rgb(232,232,232)",
            "gridwidth": 2,
            "linecolor": "rgb(36,36,36)",
            "showbackground": true,
            "showgrid": false,
            "showline": true,
            "ticks": "outside",
            "zeroline": false,
            "zerolinecolor": "rgb(36,36,36)"
           },
           "yaxis": {
            "backgroundcolor": "white",
            "gridcolor": "rgb(232,232,232)",
            "gridwidth": 2,
            "linecolor": "rgb(36,36,36)",
            "showbackground": true,
            "showgrid": false,
            "showline": true,
            "ticks": "outside",
            "zeroline": false,
            "zerolinecolor": "rgb(36,36,36)"
           },
           "zaxis": {
            "backgroundcolor": "white",
            "gridcolor": "rgb(232,232,232)",
            "gridwidth": 2,
            "linecolor": "rgb(36,36,36)",
            "showbackground": true,
            "showgrid": false,
            "showline": true,
            "ticks": "outside",
            "zeroline": false,
            "zerolinecolor": "rgb(36,36,36)"
           }
          },
          "shapedefaults": {
           "fillcolor": "black",
           "line": {
            "width": 0
           },
           "opacity": 0.3
          },
          "ternary": {
           "aaxis": {
            "gridcolor": "rgb(232,232,232)",
            "linecolor": "rgb(36,36,36)",
            "showgrid": false,
            "showline": true,
            "ticks": "outside"
           },
           "baxis": {
            "gridcolor": "rgb(232,232,232)",
            "linecolor": "rgb(36,36,36)",
            "showgrid": false,
            "showline": true,
            "ticks": "outside"
           },
           "bgcolor": "white",
           "caxis": {
            "gridcolor": "rgb(232,232,232)",
            "linecolor": "rgb(36,36,36)",
            "showgrid": false,
            "showline": true,
            "ticks": "outside"
           }
          },
          "title": {
           "x": 0.05
          },
          "xaxis": {
           "automargin": true,
           "gridcolor": "rgb(232,232,232)",
           "linecolor": "rgb(36,36,36)",
           "showgrid": false,
           "showline": true,
           "ticks": "outside",
           "title": {
            "standoff": 15
           },
           "zeroline": false,
           "zerolinecolor": "rgb(36,36,36)"
          },
          "yaxis": {
           "automargin": true,
           "gridcolor": "rgb(232,232,232)",
           "linecolor": "rgb(36,36,36)",
           "showgrid": false,
           "showline": true,
           "ticks": "outside",
           "title": {
            "standoff": 15
           },
           "zeroline": false,
           "zerolinecolor": "rgb(36,36,36)"
          }
         }
        },
        "title": {
         "font": {
          "color": "Black",
          "size": 22
         },
         "text": "<b>Topic Probability Distribution",
         "x": 0.5,
         "xanchor": "center",
         "y": 0.95,
         "yanchor": "top"
        },
        "width": 800,
        "xaxis": {
         "title": {
          "text": "Probability"
         }
        }
       }
      }
     },
     "metadata": {},
     "output_type": "display_data"
    }
   ],
   "source": [
    "topic_model.visualize_distribution(probs[200], min_probability=0.015)"
   ]
  },
  {
   "cell_type": "code",
   "execution_count": 10,
   "metadata": {},
   "outputs": [
    {
     "data": {
      "application/vnd.plotly.v1+json": {
       "config": {
        "plotlyServerURL": "https://plot.ly"
       },
       "data": [
        {
         "hoverinfo": "text",
         "marker": {
          "color": "rgb(61,153,112)"
         },
         "mode": "lines",
         "type": "scatter",
         "x": [
          0,
          0.11268140087527335,
          0.11268140087527335,
          0
         ],
         "xaxis": "x",
         "y": [
          -15,
          -15,
          -25,
          -25
         ],
         "yaxis": "y"
        },
        {
         "hoverinfo": "text",
         "marker": {
          "color": "rgb(61,153,112)"
         },
         "mode": "lines",
         "type": "scatter",
         "x": [
          0,
          0.13191827281358093,
          0.13191827281358093,
          0
         ],
         "xaxis": "x",
         "y": [
          -55,
          -55,
          -65,
          -65
         ],
         "yaxis": "y"
        },
        {
         "hoverinfo": "text",
         "marker": {
          "color": "rgb(61,153,112)"
         },
         "mode": "lines",
         "type": "scatter",
         "x": [
          0,
          0.1562068475217579,
          0.1562068475217579,
          0.13191827281358093
         ],
         "xaxis": "x",
         "y": [
          -45,
          -45,
          -60,
          -60
         ],
         "yaxis": "y"
        },
        {
         "hoverinfo": "text",
         "marker": {
          "color": "rgb(61,153,112)"
         },
         "mode": "lines",
         "type": "scatter",
         "x": [
          0,
          0.1720931032958666,
          0.1720931032958666,
          0.1562068475217579
         ],
         "xaxis": "x",
         "y": [
          -35,
          -35,
          -52.5,
          -52.5
         ],
         "yaxis": "y"
        },
        {
         "hoverinfo": "text",
         "marker": {
          "color": "rgb(61,153,112)"
         },
         "mode": "lines",
         "type": "scatter",
         "x": [
          0.11268140087527335,
          0.23117903599777323,
          0.23117903599777323,
          0.1720931032958666
         ],
         "xaxis": "x",
         "y": [
          -20,
          -20,
          -43.75,
          -43.75
         ],
         "yaxis": "y"
        },
        {
         "hoverinfo": "text",
         "marker": {
          "color": "rgb(61,153,112)"
         },
         "mode": "lines",
         "type": "scatter",
         "x": [
          0,
          0.16269962629316792,
          0.16269962629316792,
          0
         ],
         "xaxis": "x",
         "y": [
          -85,
          -85,
          -95,
          -95
         ],
         "yaxis": "y"
        },
        {
         "hoverinfo": "text",
         "marker": {
          "color": "rgb(61,153,112)"
         },
         "mode": "lines",
         "type": "scatter",
         "x": [
          0,
          0.2578048453689045,
          0.2578048453689045,
          0.16269962629316792
         ],
         "xaxis": "x",
         "y": [
          -75,
          -75,
          -90,
          -90
         ],
         "yaxis": "y"
        },
        {
         "hoverinfo": "text",
         "marker": {
          "color": "rgb(61,153,112)"
         },
         "mode": "lines",
         "type": "scatter",
         "x": [
          0.23117903599777323,
          0.2917173990145322,
          0.2917173990145322,
          0.2578048453689045
         ],
         "xaxis": "x",
         "y": [
          -31.875,
          -31.875,
          -82.5,
          -82.5
         ],
         "yaxis": "y"
        },
        {
         "hoverinfo": "text",
         "marker": {
          "color": "rgb(61,153,112)"
         },
         "mode": "lines",
         "type": "scatter",
         "x": [
          0,
          0.13908109695694806,
          0.13908109695694806,
          0
         ],
         "xaxis": "x",
         "y": [
          -125,
          -125,
          -135,
          -135
         ],
         "yaxis": "y"
        },
        {
         "hoverinfo": "text",
         "marker": {
          "color": "rgb(61,153,112)"
         },
         "mode": "lines",
         "type": "scatter",
         "x": [
          0,
          0.16681718088369016,
          0.16681718088369016,
          0.13908109695694806
         ],
         "xaxis": "x",
         "y": [
          -115,
          -115,
          -130,
          -130
         ],
         "yaxis": "y"
        },
        {
         "hoverinfo": "text",
         "marker": {
          "color": "rgb(61,153,112)"
         },
         "mode": "lines",
         "type": "scatter",
         "x": [
          0,
          0.18660755072467003,
          0.18660755072467003,
          0
         ],
         "xaxis": "x",
         "y": [
          -145,
          -145,
          -155,
          -155
         ],
         "yaxis": "y"
        },
        {
         "hoverinfo": "text",
         "marker": {
          "color": "rgb(61,153,112)"
         },
         "mode": "lines",
         "type": "scatter",
         "x": [
          0.16681718088369016,
          0.24273408449733813,
          0.24273408449733813,
          0.18660755072467003
         ],
         "xaxis": "x",
         "y": [
          -122.5,
          -122.5,
          -150,
          -150
         ],
         "yaxis": "y"
        },
        {
         "hoverinfo": "text",
         "marker": {
          "color": "rgb(61,153,112)"
         },
         "mode": "lines",
         "type": "scatter",
         "x": [
          0,
          0.307153498952492,
          0.307153498952492,
          0.24273408449733813
         ],
         "xaxis": "x",
         "y": [
          -105,
          -105,
          -136.25,
          -136.25
         ],
         "yaxis": "y"
        },
        {
         "hoverinfo": "text",
         "marker": {
          "color": "rgb(61,153,112)"
         },
         "mode": "lines",
         "type": "scatter",
         "x": [
          0,
          0.19793821403073317,
          0.19793821403073317,
          0
         ],
         "xaxis": "x",
         "y": [
          -165,
          -165,
          -175,
          -175
         ],
         "yaxis": "y"
        },
        {
         "hoverinfo": "text",
         "marker": {
          "color": "rgb(61,153,112)"
         },
         "mode": "lines",
         "type": "scatter",
         "x": [
          0,
          0.30969438027940593,
          0.30969438027940593,
          0
         ],
         "xaxis": "x",
         "y": [
          -195,
          -195,
          -205,
          -205
         ],
         "yaxis": "y"
        },
        {
         "hoverinfo": "text",
         "marker": {
          "color": "rgb(61,153,112)"
         },
         "mode": "lines",
         "type": "scatter",
         "x": [
          0,
          0.3968977723971248,
          0.3968977723971248,
          0.30969438027940593
         ],
         "xaxis": "x",
         "y": [
          -185,
          -185,
          -200,
          -200
         ],
         "yaxis": "y"
        },
        {
         "hoverinfo": "text",
         "marker": {
          "color": "rgb(61,153,112)"
         },
         "mode": "lines",
         "type": "scatter",
         "x": [
          0.19793821403073317,
          0.5160647121462978,
          0.5160647121462978,
          0.3968977723971248
         ],
         "xaxis": "x",
         "y": [
          -170,
          -170,
          -192.5,
          -192.5
         ],
         "yaxis": "y"
        },
        {
         "hoverinfo": "text",
         "marker": {
          "color": "rgb(61,153,112)"
         },
         "mode": "lines",
         "type": "scatter",
         "x": [
          0.307153498952492,
          0.5484857192117876,
          0.5484857192117876,
          0.5160647121462978
         ],
         "xaxis": "x",
         "y": [
          -120.625,
          -120.625,
          -181.25,
          -181.25
         ],
         "yaxis": "y"
        },
        {
         "hoverinfo": "text",
         "marker": {
          "color": "rgb(61,153,112)"
         },
         "mode": "lines",
         "type": "scatter",
         "x": [
          0.2917173990145322,
          0.652731608574938,
          0.652731608574938,
          0.5484857192117876
         ],
         "xaxis": "x",
         "y": [
          -57.1875,
          -57.1875,
          -150.9375,
          -150.9375
         ],
         "yaxis": "y"
        },
        {
         "hoverinfo": "text",
         "marker": {
          "color": "rgb(61,153,112)"
         },
         "mode": "lines",
         "type": "scatter",
         "x": [
          0,
          0.8838731731326547,
          0.8838731731326547,
          0.652731608574938
         ],
         "xaxis": "x",
         "y": [
          -5,
          -5,
          -104.0625,
          -104.0625
         ],
         "yaxis": "y"
        }
       ],
       "layout": {
        "autosize": false,
        "height": 515,
        "hoverlabel": {
         "bgcolor": "white",
         "font": {
          "family": "Rockwell",
          "size": 16
         }
        },
        "hovermode": "closest",
        "plot_bgcolor": "#ECEFF1",
        "showlegend": false,
        "template": {
         "data": {
          "bar": [
           {
            "error_x": {
             "color": "#2a3f5f"
            },
            "error_y": {
             "color": "#2a3f5f"
            },
            "marker": {
             "line": {
              "color": "white",
              "width": 0.5
             },
             "pattern": {
              "fillmode": "overlay",
              "size": 10,
              "solidity": 0.2
             }
            },
            "type": "bar"
           }
          ],
          "barpolar": [
           {
            "marker": {
             "line": {
              "color": "white",
              "width": 0.5
             },
             "pattern": {
              "fillmode": "overlay",
              "size": 10,
              "solidity": 0.2
             }
            },
            "type": "barpolar"
           }
          ],
          "carpet": [
           {
            "aaxis": {
             "endlinecolor": "#2a3f5f",
             "gridcolor": "#C8D4E3",
             "linecolor": "#C8D4E3",
             "minorgridcolor": "#C8D4E3",
             "startlinecolor": "#2a3f5f"
            },
            "baxis": {
             "endlinecolor": "#2a3f5f",
             "gridcolor": "#C8D4E3",
             "linecolor": "#C8D4E3",
             "minorgridcolor": "#C8D4E3",
             "startlinecolor": "#2a3f5f"
            },
            "type": "carpet"
           }
          ],
          "choropleth": [
           {
            "colorbar": {
             "outlinewidth": 0,
             "ticks": ""
            },
            "type": "choropleth"
           }
          ],
          "contour": [
           {
            "colorbar": {
             "outlinewidth": 0,
             "ticks": ""
            },
            "colorscale": [
             [
              0,
              "#0d0887"
             ],
             [
              0.1111111111111111,
              "#46039f"
             ],
             [
              0.2222222222222222,
              "#7201a8"
             ],
             [
              0.3333333333333333,
              "#9c179e"
             ],
             [
              0.4444444444444444,
              "#bd3786"
             ],
             [
              0.5555555555555556,
              "#d8576b"
             ],
             [
              0.6666666666666666,
              "#ed7953"
             ],
             [
              0.7777777777777778,
              "#fb9f3a"
             ],
             [
              0.8888888888888888,
              "#fdca26"
             ],
             [
              1,
              "#f0f921"
             ]
            ],
            "type": "contour"
           }
          ],
          "contourcarpet": [
           {
            "colorbar": {
             "outlinewidth": 0,
             "ticks": ""
            },
            "type": "contourcarpet"
           }
          ],
          "heatmap": [
           {
            "colorbar": {
             "outlinewidth": 0,
             "ticks": ""
            },
            "colorscale": [
             [
              0,
              "#0d0887"
             ],
             [
              0.1111111111111111,
              "#46039f"
             ],
             [
              0.2222222222222222,
              "#7201a8"
             ],
             [
              0.3333333333333333,
              "#9c179e"
             ],
             [
              0.4444444444444444,
              "#bd3786"
             ],
             [
              0.5555555555555556,
              "#d8576b"
             ],
             [
              0.6666666666666666,
              "#ed7953"
             ],
             [
              0.7777777777777778,
              "#fb9f3a"
             ],
             [
              0.8888888888888888,
              "#fdca26"
             ],
             [
              1,
              "#f0f921"
             ]
            ],
            "type": "heatmap"
           }
          ],
          "heatmapgl": [
           {
            "colorbar": {
             "outlinewidth": 0,
             "ticks": ""
            },
            "colorscale": [
             [
              0,
              "#0d0887"
             ],
             [
              0.1111111111111111,
              "#46039f"
             ],
             [
              0.2222222222222222,
              "#7201a8"
             ],
             [
              0.3333333333333333,
              "#9c179e"
             ],
             [
              0.4444444444444444,
              "#bd3786"
             ],
             [
              0.5555555555555556,
              "#d8576b"
             ],
             [
              0.6666666666666666,
              "#ed7953"
             ],
             [
              0.7777777777777778,
              "#fb9f3a"
             ],
             [
              0.8888888888888888,
              "#fdca26"
             ],
             [
              1,
              "#f0f921"
             ]
            ],
            "type": "heatmapgl"
           }
          ],
          "histogram": [
           {
            "marker": {
             "pattern": {
              "fillmode": "overlay",
              "size": 10,
              "solidity": 0.2
             }
            },
            "type": "histogram"
           }
          ],
          "histogram2d": [
           {
            "colorbar": {
             "outlinewidth": 0,
             "ticks": ""
            },
            "colorscale": [
             [
              0,
              "#0d0887"
             ],
             [
              0.1111111111111111,
              "#46039f"
             ],
             [
              0.2222222222222222,
              "#7201a8"
             ],
             [
              0.3333333333333333,
              "#9c179e"
             ],
             [
              0.4444444444444444,
              "#bd3786"
             ],
             [
              0.5555555555555556,
              "#d8576b"
             ],
             [
              0.6666666666666666,
              "#ed7953"
             ],
             [
              0.7777777777777778,
              "#fb9f3a"
             ],
             [
              0.8888888888888888,
              "#fdca26"
             ],
             [
              1,
              "#f0f921"
             ]
            ],
            "type": "histogram2d"
           }
          ],
          "histogram2dcontour": [
           {
            "colorbar": {
             "outlinewidth": 0,
             "ticks": ""
            },
            "colorscale": [
             [
              0,
              "#0d0887"
             ],
             [
              0.1111111111111111,
              "#46039f"
             ],
             [
              0.2222222222222222,
              "#7201a8"
             ],
             [
              0.3333333333333333,
              "#9c179e"
             ],
             [
              0.4444444444444444,
              "#bd3786"
             ],
             [
              0.5555555555555556,
              "#d8576b"
             ],
             [
              0.6666666666666666,
              "#ed7953"
             ],
             [
              0.7777777777777778,
              "#fb9f3a"
             ],
             [
              0.8888888888888888,
              "#fdca26"
             ],
             [
              1,
              "#f0f921"
             ]
            ],
            "type": "histogram2dcontour"
           }
          ],
          "mesh3d": [
           {
            "colorbar": {
             "outlinewidth": 0,
             "ticks": ""
            },
            "type": "mesh3d"
           }
          ],
          "parcoords": [
           {
            "line": {
             "colorbar": {
              "outlinewidth": 0,
              "ticks": ""
             }
            },
            "type": "parcoords"
           }
          ],
          "pie": [
           {
            "automargin": true,
            "type": "pie"
           }
          ],
          "scatter": [
           {
            "marker": {
             "colorbar": {
              "outlinewidth": 0,
              "ticks": ""
             }
            },
            "type": "scatter"
           }
          ],
          "scatter3d": [
           {
            "line": {
             "colorbar": {
              "outlinewidth": 0,
              "ticks": ""
             }
            },
            "marker": {
             "colorbar": {
              "outlinewidth": 0,
              "ticks": ""
             }
            },
            "type": "scatter3d"
           }
          ],
          "scattercarpet": [
           {
            "marker": {
             "colorbar": {
              "outlinewidth": 0,
              "ticks": ""
             }
            },
            "type": "scattercarpet"
           }
          ],
          "scattergeo": [
           {
            "marker": {
             "colorbar": {
              "outlinewidth": 0,
              "ticks": ""
             }
            },
            "type": "scattergeo"
           }
          ],
          "scattergl": [
           {
            "marker": {
             "colorbar": {
              "outlinewidth": 0,
              "ticks": ""
             }
            },
            "type": "scattergl"
           }
          ],
          "scattermapbox": [
           {
            "marker": {
             "colorbar": {
              "outlinewidth": 0,
              "ticks": ""
             }
            },
            "type": "scattermapbox"
           }
          ],
          "scatterpolar": [
           {
            "marker": {
             "colorbar": {
              "outlinewidth": 0,
              "ticks": ""
             }
            },
            "type": "scatterpolar"
           }
          ],
          "scatterpolargl": [
           {
            "marker": {
             "colorbar": {
              "outlinewidth": 0,
              "ticks": ""
             }
            },
            "type": "scatterpolargl"
           }
          ],
          "scatterternary": [
           {
            "marker": {
             "colorbar": {
              "outlinewidth": 0,
              "ticks": ""
             }
            },
            "type": "scatterternary"
           }
          ],
          "surface": [
           {
            "colorbar": {
             "outlinewidth": 0,
             "ticks": ""
            },
            "colorscale": [
             [
              0,
              "#0d0887"
             ],
             [
              0.1111111111111111,
              "#46039f"
             ],
             [
              0.2222222222222222,
              "#7201a8"
             ],
             [
              0.3333333333333333,
              "#9c179e"
             ],
             [
              0.4444444444444444,
              "#bd3786"
             ],
             [
              0.5555555555555556,
              "#d8576b"
             ],
             [
              0.6666666666666666,
              "#ed7953"
             ],
             [
              0.7777777777777778,
              "#fb9f3a"
             ],
             [
              0.8888888888888888,
              "#fdca26"
             ],
             [
              1,
              "#f0f921"
             ]
            ],
            "type": "surface"
           }
          ],
          "table": [
           {
            "cells": {
             "fill": {
              "color": "#EBF0F8"
             },
             "line": {
              "color": "white"
             }
            },
            "header": {
             "fill": {
              "color": "#C8D4E3"
             },
             "line": {
              "color": "white"
             }
            },
            "type": "table"
           }
          ]
         },
         "layout": {
          "annotationdefaults": {
           "arrowcolor": "#2a3f5f",
           "arrowhead": 0,
           "arrowwidth": 1
          },
          "autotypenumbers": "strict",
          "coloraxis": {
           "colorbar": {
            "outlinewidth": 0,
            "ticks": ""
           }
          },
          "colorscale": {
           "diverging": [
            [
             0,
             "#8e0152"
            ],
            [
             0.1,
             "#c51b7d"
            ],
            [
             0.2,
             "#de77ae"
            ],
            [
             0.3,
             "#f1b6da"
            ],
            [
             0.4,
             "#fde0ef"
            ],
            [
             0.5,
             "#f7f7f7"
            ],
            [
             0.6,
             "#e6f5d0"
            ],
            [
             0.7,
             "#b8e186"
            ],
            [
             0.8,
             "#7fbc41"
            ],
            [
             0.9,
             "#4d9221"
            ],
            [
             1,
             "#276419"
            ]
           ],
           "sequential": [
            [
             0,
             "#0d0887"
            ],
            [
             0.1111111111111111,
             "#46039f"
            ],
            [
             0.2222222222222222,
             "#7201a8"
            ],
            [
             0.3333333333333333,
             "#9c179e"
            ],
            [
             0.4444444444444444,
             "#bd3786"
            ],
            [
             0.5555555555555556,
             "#d8576b"
            ],
            [
             0.6666666666666666,
             "#ed7953"
            ],
            [
             0.7777777777777778,
             "#fb9f3a"
            ],
            [
             0.8888888888888888,
             "#fdca26"
            ],
            [
             1,
             "#f0f921"
            ]
           ],
           "sequentialminus": [
            [
             0,
             "#0d0887"
            ],
            [
             0.1111111111111111,
             "#46039f"
            ],
            [
             0.2222222222222222,
             "#7201a8"
            ],
            [
             0.3333333333333333,
             "#9c179e"
            ],
            [
             0.4444444444444444,
             "#bd3786"
            ],
            [
             0.5555555555555556,
             "#d8576b"
            ],
            [
             0.6666666666666666,
             "#ed7953"
            ],
            [
             0.7777777777777778,
             "#fb9f3a"
            ],
            [
             0.8888888888888888,
             "#fdca26"
            ],
            [
             1,
             "#f0f921"
            ]
           ]
          },
          "colorway": [
           "#636efa",
           "#EF553B",
           "#00cc96",
           "#ab63fa",
           "#FFA15A",
           "#19d3f3",
           "#FF6692",
           "#B6E880",
           "#FF97FF",
           "#FECB52"
          ],
          "font": {
           "color": "#2a3f5f"
          },
          "geo": {
           "bgcolor": "white",
           "lakecolor": "white",
           "landcolor": "white",
           "showlakes": true,
           "showland": true,
           "subunitcolor": "#C8D4E3"
          },
          "hoverlabel": {
           "align": "left"
          },
          "hovermode": "closest",
          "mapbox": {
           "style": "light"
          },
          "paper_bgcolor": "white",
          "plot_bgcolor": "white",
          "polar": {
           "angularaxis": {
            "gridcolor": "#EBF0F8",
            "linecolor": "#EBF0F8",
            "ticks": ""
           },
           "bgcolor": "white",
           "radialaxis": {
            "gridcolor": "#EBF0F8",
            "linecolor": "#EBF0F8",
            "ticks": ""
           }
          },
          "scene": {
           "xaxis": {
            "backgroundcolor": "white",
            "gridcolor": "#DFE8F3",
            "gridwidth": 2,
            "linecolor": "#EBF0F8",
            "showbackground": true,
            "ticks": "",
            "zerolinecolor": "#EBF0F8"
           },
           "yaxis": {
            "backgroundcolor": "white",
            "gridcolor": "#DFE8F3",
            "gridwidth": 2,
            "linecolor": "#EBF0F8",
            "showbackground": true,
            "ticks": "",
            "zerolinecolor": "#EBF0F8"
           },
           "zaxis": {
            "backgroundcolor": "white",
            "gridcolor": "#DFE8F3",
            "gridwidth": 2,
            "linecolor": "#EBF0F8",
            "showbackground": true,
            "ticks": "",
            "zerolinecolor": "#EBF0F8"
           }
          },
          "shapedefaults": {
           "line": {
            "color": "#2a3f5f"
           }
          },
          "ternary": {
           "aaxis": {
            "gridcolor": "#DFE8F3",
            "linecolor": "#A2B1C6",
            "ticks": ""
           },
           "baxis": {
            "gridcolor": "#DFE8F3",
            "linecolor": "#A2B1C6",
            "ticks": ""
           },
           "bgcolor": "white",
           "caxis": {
            "gridcolor": "#DFE8F3",
            "linecolor": "#A2B1C6",
            "ticks": ""
           }
          },
          "title": {
           "x": 0.05
          },
          "xaxis": {
           "automargin": true,
           "gridcolor": "#EBF0F8",
           "linecolor": "#EBF0F8",
           "ticks": "",
           "title": {
            "standoff": 15
           },
           "zerolinecolor": "#EBF0F8",
           "zerolinewidth": 2
          },
          "yaxis": {
           "automargin": true,
           "gridcolor": "#EBF0F8",
           "linecolor": "#EBF0F8",
           "ticks": "",
           "title": {
            "standoff": 15
           },
           "zerolinecolor": "#EBF0F8",
           "zerolinewidth": 2
          }
         }
        },
        "title": {
         "font": {
          "color": "Black",
          "size": 22
         },
         "text": "<b>Hierarchical Clustering",
         "x": 0.5,
         "xanchor": "center",
         "yanchor": "top"
        },
        "width": 1000,
        "xaxis": {
         "mirror": "allticks",
         "rangemode": "tozero",
         "showgrid": false,
         "showline": true,
         "showticklabels": true,
         "ticks": "outside",
         "type": "linear",
         "zeroline": false
        },
        "yaxis": {
         "mirror": "allticks",
         "range": [
          -210,
          0
         ],
         "rangemode": "tozero",
         "showgrid": false,
         "showline": true,
         "showticklabels": true,
         "tickmode": "array",
         "ticks": "outside",
         "ticktext": [
          "18_cavalli_cavallo_corsa",
          "2_vita_anima_spirito",
          "4_anima_vita_dio",
          "13_madre_vieni_parlava",
          "20_parole_voce_voci",
          "3_addio_taci_tua",
          "6_interruppe_ah_rispose",
          "1_spirito_tempo_sentiva",
          "0_mano_bocca_rispose",
          "11_occhi_tratto_ambedue",
          "8_terreno_guardia_barone",
          "17_carrozza_scale_gradino",
          "12_città_obelisco_cipressi",
          "14_vendite_vaso_stanza",
          "9_versi_libro_secolo",
          "19_acido_20_ornato",
          "10_ottobre_giorno_partire",
          "16_domani_nove_mezzogiorno",
          "15_musica_pianoforte_sonata",
          "5_occhi_testa_bocca",
          "7_cielo_acqua_verde"
         ],
         "tickvals": [
          -5,
          -15,
          -25,
          -35,
          -45,
          -55,
          -65,
          -75,
          -85,
          -95,
          -105,
          -115,
          -125,
          -135,
          -145,
          -155,
          -165,
          -175,
          -185,
          -195,
          -205
         ],
         "type": "linear",
         "zeroline": false
        }
       }
      }
     },
     "metadata": {},
     "output_type": "display_data"
    }
   ],
   "source": [
    "topic_model.visualize_hierarchy(top_n_topics=50)"
   ]
  },
  {
   "cell_type": "code",
   "execution_count": 11,
   "metadata": {},
   "outputs": [
    {
     "data": {
      "application/vnd.plotly.v1+json": {
       "config": {
        "plotlyServerURL": "https://plot.ly"
       },
       "data": [
        {
         "marker": {
          "color": "#D55E00"
         },
         "orientation": "h",
         "type": "bar",
         "x": [
          0.018424192885202865,
          0.01889834603181997,
          0.01921561704300029,
          0.029378720283934786,
          0.03189343998726231
         ],
         "xaxis": "x",
         "y": [
          "parole  ",
          "occhi  ",
          "rispose  ",
          "bocca  ",
          "mano  "
         ],
         "yaxis": "y"
        },
        {
         "marker": {
          "color": "#0072B2"
         },
         "orientation": "h",
         "type": "bar",
         "x": [
          0.012527657222827709,
          0.013430990333100796,
          0.013727269020757958,
          0.01418362493847639,
          0.014530188138968362
         ],
         "xaxis": "x2",
         "y": [
          "ambedue  ",
          "cuore  ",
          "sentiva  ",
          "tempo  ",
          "spirito  "
         ],
         "yaxis": "y2"
        },
        {
         "marker": {
          "color": "#CC79A7"
         },
         "orientation": "h",
         "type": "bar",
         "x": [
          0.015114134768229693,
          0.01620740138774895,
          0.018247798870822313,
          0.019538129433369047,
          0.026296885877800588
         ],
         "xaxis": "x3",
         "y": [
          "padre  ",
          "forza  ",
          "spirito  ",
          "anima  ",
          "vita  "
         ],
         "yaxis": "y3"
        },
        {
         "marker": {
          "color": "#E69F00"
         },
         "orientation": "h",
         "type": "bar",
         "x": [
          0.028413808008341642,
          0.02848801266892888,
          0.029147142942584178,
          0.03182104305544797,
          0.05540132396611032
         ],
         "xaxis": "x4",
         "y": [
          "chiese  ",
          "hai  ",
          "tua  ",
          "taci  ",
          "addio  "
         ],
         "yaxis": "y4"
        },
        {
         "marker": {
          "color": "#56B4E9"
         },
         "orientation": "h",
         "type": "bar",
         "x": [
          0.02576315734271835,
          0.027316063221189107,
          0.029568589876216807,
          0.03456442320296191,
          0.03828336421878492
         ],
         "xaxis": "x5",
         "y": [
          "cuore  ",
          "dolore  ",
          "dio  ",
          "vita  ",
          "anima  "
         ],
         "yaxis": "y5"
        }
       ],
       "layout": {
        "annotations": [
         {
          "font": {
           "size": 16
          },
          "showarrow": false,
          "text": "Topic 0",
          "x": 0.0875,
          "xanchor": "center",
          "xref": "paper",
          "y": 1,
          "yanchor": "bottom",
          "yref": "paper"
         },
         {
          "font": {
           "size": 16
          },
          "showarrow": false,
          "text": "Topic 1",
          "x": 0.36250000000000004,
          "xanchor": "center",
          "xref": "paper",
          "y": 1,
          "yanchor": "bottom",
          "yref": "paper"
         },
         {
          "font": {
           "size": 16
          },
          "showarrow": false,
          "text": "Topic 2",
          "x": 0.6375000000000001,
          "xanchor": "center",
          "xref": "paper",
          "y": 1,
          "yanchor": "bottom",
          "yref": "paper"
         },
         {
          "font": {
           "size": 16
          },
          "showarrow": false,
          "text": "Topic 3",
          "x": 0.9125,
          "xanchor": "center",
          "xref": "paper",
          "y": 1,
          "yanchor": "bottom",
          "yref": "paper"
         },
         {
          "font": {
           "size": 16
          },
          "showarrow": false,
          "text": "Topic 4",
          "x": 0.0875,
          "xanchor": "center",
          "xref": "paper",
          "y": 0.4,
          "yanchor": "bottom",
          "yref": "paper"
         }
        ],
        "height": 500,
        "hoverlabel": {
         "bgcolor": "white",
         "font": {
          "family": "Rockwell",
          "size": 16
         }
        },
        "showlegend": false,
        "template": {
         "data": {
          "bar": [
           {
            "error_x": {
             "color": "#2a3f5f"
            },
            "error_y": {
             "color": "#2a3f5f"
            },
            "marker": {
             "line": {
              "color": "white",
              "width": 0.5
             },
             "pattern": {
              "fillmode": "overlay",
              "size": 10,
              "solidity": 0.2
             }
            },
            "type": "bar"
           }
          ],
          "barpolar": [
           {
            "marker": {
             "line": {
              "color": "white",
              "width": 0.5
             },
             "pattern": {
              "fillmode": "overlay",
              "size": 10,
              "solidity": 0.2
             }
            },
            "type": "barpolar"
           }
          ],
          "carpet": [
           {
            "aaxis": {
             "endlinecolor": "#2a3f5f",
             "gridcolor": "#C8D4E3",
             "linecolor": "#C8D4E3",
             "minorgridcolor": "#C8D4E3",
             "startlinecolor": "#2a3f5f"
            },
            "baxis": {
             "endlinecolor": "#2a3f5f",
             "gridcolor": "#C8D4E3",
             "linecolor": "#C8D4E3",
             "minorgridcolor": "#C8D4E3",
             "startlinecolor": "#2a3f5f"
            },
            "type": "carpet"
           }
          ],
          "choropleth": [
           {
            "colorbar": {
             "outlinewidth": 0,
             "ticks": ""
            },
            "type": "choropleth"
           }
          ],
          "contour": [
           {
            "colorbar": {
             "outlinewidth": 0,
             "ticks": ""
            },
            "colorscale": [
             [
              0,
              "#0d0887"
             ],
             [
              0.1111111111111111,
              "#46039f"
             ],
             [
              0.2222222222222222,
              "#7201a8"
             ],
             [
              0.3333333333333333,
              "#9c179e"
             ],
             [
              0.4444444444444444,
              "#bd3786"
             ],
             [
              0.5555555555555556,
              "#d8576b"
             ],
             [
              0.6666666666666666,
              "#ed7953"
             ],
             [
              0.7777777777777778,
              "#fb9f3a"
             ],
             [
              0.8888888888888888,
              "#fdca26"
             ],
             [
              1,
              "#f0f921"
             ]
            ],
            "type": "contour"
           }
          ],
          "contourcarpet": [
           {
            "colorbar": {
             "outlinewidth": 0,
             "ticks": ""
            },
            "type": "contourcarpet"
           }
          ],
          "heatmap": [
           {
            "colorbar": {
             "outlinewidth": 0,
             "ticks": ""
            },
            "colorscale": [
             [
              0,
              "#0d0887"
             ],
             [
              0.1111111111111111,
              "#46039f"
             ],
             [
              0.2222222222222222,
              "#7201a8"
             ],
             [
              0.3333333333333333,
              "#9c179e"
             ],
             [
              0.4444444444444444,
              "#bd3786"
             ],
             [
              0.5555555555555556,
              "#d8576b"
             ],
             [
              0.6666666666666666,
              "#ed7953"
             ],
             [
              0.7777777777777778,
              "#fb9f3a"
             ],
             [
              0.8888888888888888,
              "#fdca26"
             ],
             [
              1,
              "#f0f921"
             ]
            ],
            "type": "heatmap"
           }
          ],
          "heatmapgl": [
           {
            "colorbar": {
             "outlinewidth": 0,
             "ticks": ""
            },
            "colorscale": [
             [
              0,
              "#0d0887"
             ],
             [
              0.1111111111111111,
              "#46039f"
             ],
             [
              0.2222222222222222,
              "#7201a8"
             ],
             [
              0.3333333333333333,
              "#9c179e"
             ],
             [
              0.4444444444444444,
              "#bd3786"
             ],
             [
              0.5555555555555556,
              "#d8576b"
             ],
             [
              0.6666666666666666,
              "#ed7953"
             ],
             [
              0.7777777777777778,
              "#fb9f3a"
             ],
             [
              0.8888888888888888,
              "#fdca26"
             ],
             [
              1,
              "#f0f921"
             ]
            ],
            "type": "heatmapgl"
           }
          ],
          "histogram": [
           {
            "marker": {
             "pattern": {
              "fillmode": "overlay",
              "size": 10,
              "solidity": 0.2
             }
            },
            "type": "histogram"
           }
          ],
          "histogram2d": [
           {
            "colorbar": {
             "outlinewidth": 0,
             "ticks": ""
            },
            "colorscale": [
             [
              0,
              "#0d0887"
             ],
             [
              0.1111111111111111,
              "#46039f"
             ],
             [
              0.2222222222222222,
              "#7201a8"
             ],
             [
              0.3333333333333333,
              "#9c179e"
             ],
             [
              0.4444444444444444,
              "#bd3786"
             ],
             [
              0.5555555555555556,
              "#d8576b"
             ],
             [
              0.6666666666666666,
              "#ed7953"
             ],
             [
              0.7777777777777778,
              "#fb9f3a"
             ],
             [
              0.8888888888888888,
              "#fdca26"
             ],
             [
              1,
              "#f0f921"
             ]
            ],
            "type": "histogram2d"
           }
          ],
          "histogram2dcontour": [
           {
            "colorbar": {
             "outlinewidth": 0,
             "ticks": ""
            },
            "colorscale": [
             [
              0,
              "#0d0887"
             ],
             [
              0.1111111111111111,
              "#46039f"
             ],
             [
              0.2222222222222222,
              "#7201a8"
             ],
             [
              0.3333333333333333,
              "#9c179e"
             ],
             [
              0.4444444444444444,
              "#bd3786"
             ],
             [
              0.5555555555555556,
              "#d8576b"
             ],
             [
              0.6666666666666666,
              "#ed7953"
             ],
             [
              0.7777777777777778,
              "#fb9f3a"
             ],
             [
              0.8888888888888888,
              "#fdca26"
             ],
             [
              1,
              "#f0f921"
             ]
            ],
            "type": "histogram2dcontour"
           }
          ],
          "mesh3d": [
           {
            "colorbar": {
             "outlinewidth": 0,
             "ticks": ""
            },
            "type": "mesh3d"
           }
          ],
          "parcoords": [
           {
            "line": {
             "colorbar": {
              "outlinewidth": 0,
              "ticks": ""
             }
            },
            "type": "parcoords"
           }
          ],
          "pie": [
           {
            "automargin": true,
            "type": "pie"
           }
          ],
          "scatter": [
           {
            "marker": {
             "colorbar": {
              "outlinewidth": 0,
              "ticks": ""
             }
            },
            "type": "scatter"
           }
          ],
          "scatter3d": [
           {
            "line": {
             "colorbar": {
              "outlinewidth": 0,
              "ticks": ""
             }
            },
            "marker": {
             "colorbar": {
              "outlinewidth": 0,
              "ticks": ""
             }
            },
            "type": "scatter3d"
           }
          ],
          "scattercarpet": [
           {
            "marker": {
             "colorbar": {
              "outlinewidth": 0,
              "ticks": ""
             }
            },
            "type": "scattercarpet"
           }
          ],
          "scattergeo": [
           {
            "marker": {
             "colorbar": {
              "outlinewidth": 0,
              "ticks": ""
             }
            },
            "type": "scattergeo"
           }
          ],
          "scattergl": [
           {
            "marker": {
             "colorbar": {
              "outlinewidth": 0,
              "ticks": ""
             }
            },
            "type": "scattergl"
           }
          ],
          "scattermapbox": [
           {
            "marker": {
             "colorbar": {
              "outlinewidth": 0,
              "ticks": ""
             }
            },
            "type": "scattermapbox"
           }
          ],
          "scatterpolar": [
           {
            "marker": {
             "colorbar": {
              "outlinewidth": 0,
              "ticks": ""
             }
            },
            "type": "scatterpolar"
           }
          ],
          "scatterpolargl": [
           {
            "marker": {
             "colorbar": {
              "outlinewidth": 0,
              "ticks": ""
             }
            },
            "type": "scatterpolargl"
           }
          ],
          "scatterternary": [
           {
            "marker": {
             "colorbar": {
              "outlinewidth": 0,
              "ticks": ""
             }
            },
            "type": "scatterternary"
           }
          ],
          "surface": [
           {
            "colorbar": {
             "outlinewidth": 0,
             "ticks": ""
            },
            "colorscale": [
             [
              0,
              "#0d0887"
             ],
             [
              0.1111111111111111,
              "#46039f"
             ],
             [
              0.2222222222222222,
              "#7201a8"
             ],
             [
              0.3333333333333333,
              "#9c179e"
             ],
             [
              0.4444444444444444,
              "#bd3786"
             ],
             [
              0.5555555555555556,
              "#d8576b"
             ],
             [
              0.6666666666666666,
              "#ed7953"
             ],
             [
              0.7777777777777778,
              "#fb9f3a"
             ],
             [
              0.8888888888888888,
              "#fdca26"
             ],
             [
              1,
              "#f0f921"
             ]
            ],
            "type": "surface"
           }
          ],
          "table": [
           {
            "cells": {
             "fill": {
              "color": "#EBF0F8"
             },
             "line": {
              "color": "white"
             }
            },
            "header": {
             "fill": {
              "color": "#C8D4E3"
             },
             "line": {
              "color": "white"
             }
            },
            "type": "table"
           }
          ]
         },
         "layout": {
          "annotationdefaults": {
           "arrowcolor": "#2a3f5f",
           "arrowhead": 0,
           "arrowwidth": 1
          },
          "autotypenumbers": "strict",
          "coloraxis": {
           "colorbar": {
            "outlinewidth": 0,
            "ticks": ""
           }
          },
          "colorscale": {
           "diverging": [
            [
             0,
             "#8e0152"
            ],
            [
             0.1,
             "#c51b7d"
            ],
            [
             0.2,
             "#de77ae"
            ],
            [
             0.3,
             "#f1b6da"
            ],
            [
             0.4,
             "#fde0ef"
            ],
            [
             0.5,
             "#f7f7f7"
            ],
            [
             0.6,
             "#e6f5d0"
            ],
            [
             0.7,
             "#b8e186"
            ],
            [
             0.8,
             "#7fbc41"
            ],
            [
             0.9,
             "#4d9221"
            ],
            [
             1,
             "#276419"
            ]
           ],
           "sequential": [
            [
             0,
             "#0d0887"
            ],
            [
             0.1111111111111111,
             "#46039f"
            ],
            [
             0.2222222222222222,
             "#7201a8"
            ],
            [
             0.3333333333333333,
             "#9c179e"
            ],
            [
             0.4444444444444444,
             "#bd3786"
            ],
            [
             0.5555555555555556,
             "#d8576b"
            ],
            [
             0.6666666666666666,
             "#ed7953"
            ],
            [
             0.7777777777777778,
             "#fb9f3a"
            ],
            [
             0.8888888888888888,
             "#fdca26"
            ],
            [
             1,
             "#f0f921"
            ]
           ],
           "sequentialminus": [
            [
             0,
             "#0d0887"
            ],
            [
             0.1111111111111111,
             "#46039f"
            ],
            [
             0.2222222222222222,
             "#7201a8"
            ],
            [
             0.3333333333333333,
             "#9c179e"
            ],
            [
             0.4444444444444444,
             "#bd3786"
            ],
            [
             0.5555555555555556,
             "#d8576b"
            ],
            [
             0.6666666666666666,
             "#ed7953"
            ],
            [
             0.7777777777777778,
             "#fb9f3a"
            ],
            [
             0.8888888888888888,
             "#fdca26"
            ],
            [
             1,
             "#f0f921"
            ]
           ]
          },
          "colorway": [
           "#636efa",
           "#EF553B",
           "#00cc96",
           "#ab63fa",
           "#FFA15A",
           "#19d3f3",
           "#FF6692",
           "#B6E880",
           "#FF97FF",
           "#FECB52"
          ],
          "font": {
           "color": "#2a3f5f"
          },
          "geo": {
           "bgcolor": "white",
           "lakecolor": "white",
           "landcolor": "white",
           "showlakes": true,
           "showland": true,
           "subunitcolor": "#C8D4E3"
          },
          "hoverlabel": {
           "align": "left"
          },
          "hovermode": "closest",
          "mapbox": {
           "style": "light"
          },
          "paper_bgcolor": "white",
          "plot_bgcolor": "white",
          "polar": {
           "angularaxis": {
            "gridcolor": "#EBF0F8",
            "linecolor": "#EBF0F8",
            "ticks": ""
           },
           "bgcolor": "white",
           "radialaxis": {
            "gridcolor": "#EBF0F8",
            "linecolor": "#EBF0F8",
            "ticks": ""
           }
          },
          "scene": {
           "xaxis": {
            "backgroundcolor": "white",
            "gridcolor": "#DFE8F3",
            "gridwidth": 2,
            "linecolor": "#EBF0F8",
            "showbackground": true,
            "ticks": "",
            "zerolinecolor": "#EBF0F8"
           },
           "yaxis": {
            "backgroundcolor": "white",
            "gridcolor": "#DFE8F3",
            "gridwidth": 2,
            "linecolor": "#EBF0F8",
            "showbackground": true,
            "ticks": "",
            "zerolinecolor": "#EBF0F8"
           },
           "zaxis": {
            "backgroundcolor": "white",
            "gridcolor": "#DFE8F3",
            "gridwidth": 2,
            "linecolor": "#EBF0F8",
            "showbackground": true,
            "ticks": "",
            "zerolinecolor": "#EBF0F8"
           }
          },
          "shapedefaults": {
           "line": {
            "color": "#2a3f5f"
           }
          },
          "ternary": {
           "aaxis": {
            "gridcolor": "#DFE8F3",
            "linecolor": "#A2B1C6",
            "ticks": ""
           },
           "baxis": {
            "gridcolor": "#DFE8F3",
            "linecolor": "#A2B1C6",
            "ticks": ""
           },
           "bgcolor": "white",
           "caxis": {
            "gridcolor": "#DFE8F3",
            "linecolor": "#A2B1C6",
            "ticks": ""
           }
          },
          "title": {
           "x": 0.05
          },
          "xaxis": {
           "automargin": true,
           "gridcolor": "#EBF0F8",
           "linecolor": "#EBF0F8",
           "ticks": "",
           "title": {
            "standoff": 15
           },
           "zerolinecolor": "#EBF0F8",
           "zerolinewidth": 2
          },
          "yaxis": {
           "automargin": true,
           "gridcolor": "#EBF0F8",
           "linecolor": "#EBF0F8",
           "ticks": "",
           "title": {
            "standoff": 15
           },
           "zerolinecolor": "#EBF0F8",
           "zerolinewidth": 2
          }
         }
        },
        "title": {
         "font": {
          "color": "Black",
          "size": 22
         },
         "text": "<b>Topic Word Scores",
         "x": 0.5,
         "xanchor": "center",
         "yanchor": "top"
        },
        "width": 1000,
        "xaxis": {
         "anchor": "y",
         "domain": [
          0,
          0.175
         ],
         "showgrid": true
        },
        "xaxis2": {
         "anchor": "y2",
         "domain": [
          0.275,
          0.45
         ],
         "showgrid": true
        },
        "xaxis3": {
         "anchor": "y3",
         "domain": [
          0.55,
          0.7250000000000001
         ],
         "showgrid": true
        },
        "xaxis4": {
         "anchor": "y4",
         "domain": [
          0.825,
          1
         ],
         "showgrid": true
        },
        "xaxis5": {
         "anchor": "y5",
         "domain": [
          0,
          0.175
         ],
         "showgrid": true
        },
        "xaxis6": {
         "anchor": "y6",
         "domain": [
          0.275,
          0.45
         ],
         "showgrid": true
        },
        "xaxis7": {
         "anchor": "y7",
         "domain": [
          0.55,
          0.7250000000000001
         ],
         "showgrid": true
        },
        "xaxis8": {
         "anchor": "y8",
         "domain": [
          0.825,
          1
         ],
         "showgrid": true
        },
        "yaxis": {
         "anchor": "x",
         "domain": [
          0.6000000000000001,
          1
         ],
         "showgrid": true
        },
        "yaxis2": {
         "anchor": "x2",
         "domain": [
          0.6000000000000001,
          1
         ],
         "showgrid": true
        },
        "yaxis3": {
         "anchor": "x3",
         "domain": [
          0.6000000000000001,
          1
         ],
         "showgrid": true
        },
        "yaxis4": {
         "anchor": "x4",
         "domain": [
          0.6000000000000001,
          1
         ],
         "showgrid": true
        },
        "yaxis5": {
         "anchor": "x5",
         "domain": [
          0,
          0.4
         ],
         "showgrid": true
        },
        "yaxis6": {
         "anchor": "x6",
         "domain": [
          0,
          0.4
         ],
         "showgrid": true
        },
        "yaxis7": {
         "anchor": "x7",
         "domain": [
          0,
          0.4
         ],
         "showgrid": true
        },
        "yaxis8": {
         "anchor": "x8",
         "domain": [
          0,
          0.4
         ],
         "showgrid": true
        }
       }
      }
     },
     "metadata": {},
     "output_type": "display_data"
    }
   ],
   "source": [
    "topic_model.visualize_barchart(top_n_topics=5)"
   ]
  },
  {
   "cell_type": "code",
   "execution_count": 12,
   "metadata": {},
   "outputs": [
    {
     "data": {
      "application/vnd.plotly.v1+json": {
       "config": {
        "plotlyServerURL": "https://plot.ly"
       },
       "data": [
        {
         "coloraxis": "coloraxis",
         "hovertemplate": "x: %{x}<br>y: %{y}<br>Similarity Score: %{z}<extra></extra>",
         "name": "0",
         "type": "heatmap",
         "x": [
          "0_mano_bocca_rispose",
          "1_spirito_tempo_sentiva",
          "2_vita_anima_spirito",
          "4_anima_vita_dio",
          "3_addio_taci_tua",
          "6_interruppe_ah_rispose",
          "5_occhi_testa_bocca",
          "7_cielo_acqua_verde",
          "8_terreno_guardia_barone",
          "9_versi_libro_secolo",
          "10_ottobre_giorno_partire",
          "11_occhi_tratto_ambedue",
          "12_città_obelisco_cipressi",
          "13_madre_vieni_parlava",
          "14_vendite_vaso_stanza",
          "15_musica_pianoforte_sonata",
          "16_domani_nove_mezzogiorno",
          "17_carrozza_scale_gradino",
          "18_cavalli_cavallo_corsa",
          "19_acido_20_ornato",
          "20_parole_voce_voci"
         ],
         "xaxis": "x",
         "y": [
          "0_mano_bocca_rispose",
          "1_spirito_tempo_sentiva",
          "2_vita_anima_spirito",
          "4_anima_vita_dio",
          "3_addio_taci_tua",
          "6_interruppe_ah_rispose",
          "5_occhi_testa_bocca",
          "7_cielo_acqua_verde",
          "8_terreno_guardia_barone",
          "9_versi_libro_secolo",
          "10_ottobre_giorno_partire",
          "11_occhi_tratto_ambedue",
          "12_città_obelisco_cipressi",
          "13_madre_vieni_parlava",
          "14_vendite_vaso_stanza",
          "15_musica_pianoforte_sonata",
          "16_domani_nove_mezzogiorno",
          "17_carrozza_scale_gradino",
          "18_cavalli_cavallo_corsa",
          "19_acido_20_ornato",
          "20_parole_voce_voci"
         ],
         "yaxis": "y",
         "z": [
          [
           1.0000000000000002,
           0.925450073617441,
           0.9155396391490391,
           0.9121860579278411,
           0.9379085563805666,
           0.9315817485246805,
           0.9099426983822227,
           0.8197872016299412,
           0.8317476107396504,
           0.8882732765360252,
           0.8651727067188119,
           0.9326740533580437,
           0.8808292300385225,
           0.9142404767386114,
           0.8836677698421518,
           0.8487766912259175,
           0.8371574228934113,
           0.8720278301826003,
           0.7595007000809874,
           0.9024154123292205,
           0.9196864981445144
          ],
          [
           0.925450073617441,
           1,
           0.9201032918390845,
           0.9382589533566886,
           0.8800357506647118,
           0.88168853663849,
           0.8375146694504427,
           0.7927040434727002,
           0.7811209757174222,
           0.842749107469517,
           0.8267093093805576,
           0.8840463641045356,
           0.8375672473342128,
           0.8660617189891683,
           0.8309818402054824,
           0.8051151116531305,
           0.782558413807281,
           0.8070389615973288,
           0.6889248423007943,
           0.8559981988977338,
           0.8721939348358675
          ],
          [
           0.9155396391490391,
           0.9201032918390845,
           0.9999999999999999,
           0.9472795132441253,
           0.9059918765519577,
           0.9215658606052326,
           0.8167414142334989,
           0.8399491633822609,
           0.8651137862770156,
           0.9057281833314696,
           0.8831061207999078,
           0.884832902680946,
           0.8882869597275694,
           0.9069302166717186,
           0.88160140533325,
           0.8417200662031978,
           0.8296286838734896,
           0.8763000051052919,
           0.7572520653586752,
           0.9140256857483343,
           0.9184338978983663
          ],
          [
           0.9121860579278411,
           0.9382589533566886,
           0.9472795132441253,
           0.9999999999999998,
           0.8987474674614859,
           0.9112762810927254,
           0.814792860060895,
           0.8127421695740354,
           0.8506570806818857,
           0.8791424570961445,
           0.9081582912710162,
           0.8806813612754162,
           0.8660813800796351,
           0.8844589291430118,
           0.8557709345531838,
           0.8197215098191015,
           0.8480946187400186,
           0.8490476671696122,
           0.7362165008859007,
           0.8923282293144157,
           0.9047169520019087
          ],
          [
           0.9379085563805666,
           0.8800357506647118,
           0.9059918765519577,
           0.8987474674614859,
           0.9999999999999998,
           0.9386716354013684,
           0.8100285521822036,
           0.8190603518149657,
           0.8275476007397726,
           0.8707786639974002,
           0.8903020419865991,
           0.8993343737403814,
           0.856683111161196,
           0.9200102462659906,
           0.849203819914145,
           0.8363862572411431,
           0.8729640903333588,
           0.8502500857430504,
           0.7548212415649607,
           0.8766747343066682,
           0.914264051643205
          ],
          [
           0.9315817485246805,
           0.88168853663849,
           0.9215658606052326,
           0.9112762810927254,
           0.9386716354013684,
           1.0000000000000002,
           0.828873165421077,
           0.8288084243109018,
           0.8629422122765137,
           0.8965164139589991,
           0.9053706122826963,
           0.9180005221586226,
           0.8949570694320851,
           0.9331560751022501,
           0.8783350882019323,
           0.8626584016677495,
           0.8671152486155321,
           0.8862201057660543,
           0.7788504430342431,
           0.9117463502088426,
           0.9278631345007003
          ],
          [
           0.9099426983822227,
           0.8375146694504427,
           0.8167414142334989,
           0.814792860060895,
           0.8100285521822036,
           0.828873165421077,
           1.0000000000000002,
           0.8050997932871734,
           0.7716783594495601,
           0.7907228573873358,
           0.7652462414420976,
           0.8798665858542521,
           0.8359018241898392,
           0.8111230466000198,
           0.8353121554658239,
           0.7443928251269119,
           0.7378060247682828,
           0.8289243443777862,
           0.7072999465629585,
           0.8376606332357573,
           0.8046975045271938
          ],
          [
           0.8197872016299412,
           0.7927040434727002,
           0.8399491633822609,
           0.8127421695740354,
           0.8190603518149657,
           0.8288084243109018,
           0.8050997932871734,
           1.0000000000000002,
           0.7851864497232887,
           0.7890650413990403,
           0.7985572253419211,
           0.8282658932350754,
           0.8622819844833326,
           0.7899882693259231,
           0.8169625898593799,
           0.7638300346747292,
           0.7720311015040204,
           0.8319641814238224,
           0.6615289256596222,
           0.8308532452692835,
           0.8111428891861605
          ],
          [
           0.8317476107396504,
           0.7811209757174222,
           0.8651137862770156,
           0.8506570806818857,
           0.8275476007397726,
           0.8629422122765137,
           0.7716783594495601,
           0.7851864497232887,
           1,
           0.8492663833587105,
           0.8214043345526274,
           0.8378018527771696,
           0.8698889462465874,
           0.8052346307153304,
           0.8624883736854693,
           0.7666342782317659,
           0.788694350539254,
           0.8987833840039715,
           0.7799931326221655,
           0.8485625689472226,
           0.8361594528110831
          ],
          [
           0.8882732765360252,
           0.842749107469517,
           0.9057281833314696,
           0.8791424570961445,
           0.8707786639974002,
           0.8965164139589991,
           0.7907228573873358,
           0.7890650413990403,
           0.8492663833587105,
           0.9999999999999999,
           0.8482579010893787,
           0.850574702468905,
           0.867494965677827,
           0.8670076058176066,
           0.8989499567289811,
           0.8466707929116251,
           0.8036871055251246,
           0.8616865880918801,
           0.7462210003051837,
           0.8892981108328174,
           0.8961690437073274
          ],
          [
           0.8651727067188119,
           0.8267093093805576,
           0.8831061207999078,
           0.9081582912710162,
           0.8903020419865991,
           0.9053706122826963,
           0.7652462414420976,
           0.7985572253419211,
           0.8214043345526274,
           0.8482579010893787,
           1,
           0.8446313286022104,
           0.8437020142156216,
           0.8783520897262251,
           0.8393665056512747,
           0.7941927149880128,
           0.9246359497173191,
           0.8279504418933746,
           0.7370712768903723,
           0.8546018596366098,
           0.8708264776675185
          ],
          [
           0.9326740533580437,
           0.8840463641045356,
           0.884832902680946,
           0.8806813612754162,
           0.8993343737403814,
           0.9180005221586226,
           0.8798665858542521,
           0.8282658932350754,
           0.8378018527771696,
           0.850574702468905,
           0.8446313286022104,
           1.0000000000000004,
           0.9100650244316028,
           0.8743115690234113,
           0.8856380372379361,
           0.8002318542486692,
           0.8058784484813032,
           0.8618356354303423,
           0.7280261295843004,
           0.9017010313966062,
           0.8712687700080538
          ],
          [
           0.8808292300385225,
           0.8375672473342128,
           0.8882869597275694,
           0.8660813800796351,
           0.856683111161196,
           0.8949570694320851,
           0.8359018241898392,
           0.8622819844833326,
           0.8698889462465874,
           0.867494965677827,
           0.8437020142156216,
           0.9100650244316028,
           0.9999999999999999,
           0.8288132437788737,
           0.9168984391042112,
           0.8390746612399396,
           0.7975838054009345,
           0.9060050722434337,
           0.7366337677443141,
           0.9109808905618108,
           0.8584263276199592
          ],
          [
           0.9142404767386114,
           0.8660617189891683,
           0.9069302166717186,
           0.8844589291430118,
           0.9200102462659906,
           0.9331560751022501,
           0.8111230466000198,
           0.7899882693259231,
           0.8052346307153304,
           0.8670076058176066,
           0.8783520897262251,
           0.8743115690234113,
           0.8288132437788737,
           0.9999999999999997,
           0.8425418671924112,
           0.8135885282461025,
           0.8570416052827116,
           0.8472783992495572,
           0.7592946087421091,
           0.8631542586403159,
           0.8966177703188214
          ],
          [
           0.8836677698421518,
           0.8309818402054824,
           0.88160140533325,
           0.8557709345531838,
           0.849203819914145,
           0.8783350882019323,
           0.8353121554658239,
           0.8169625898593799,
           0.8624883736854693,
           0.8989499567289811,
           0.8393665056512747,
           0.8856380372379361,
           0.9168984391042112,
           0.8425418671924112,
           1.0000000000000007,
           0.81123579219074,
           0.7937231644952016,
           0.9095244396799305,
           0.7439447658903314,
           0.9048945701018213,
           0.8442122825382605
          ],
          [
           0.8487766912259175,
           0.8051151116531305,
           0.8417200662031978,
           0.8197215098191015,
           0.8363862572411431,
           0.8626584016677495,
           0.7443928251269119,
           0.7638300346747292,
           0.7666342782317659,
           0.8466707929116251,
           0.7941927149880128,
           0.8002318542486692,
           0.8390746612399396,
           0.8135885282461025,
           0.81123579219074,
           1,
           0.7578668226401148,
           0.8541842467190406,
           0.6792930951793908,
           0.8245922889562483,
           0.8682352087596997
          ],
          [
           0.8371574228934113,
           0.782558413807281,
           0.8296286838734896,
           0.8480946187400186,
           0.8729640903333588,
           0.8671152486155321,
           0.7378060247682828,
           0.7720311015040204,
           0.788694350539254,
           0.8036871055251246,
           0.9246359497173191,
           0.8058784484813032,
           0.7975838054009345,
           0.8570416052827116,
           0.7937231644952016,
           0.7578668226401148,
           1.0000000000000009,
           0.7992861878026535,
           0.702824783968801,
           0.81102616128164,
           0.8398064720333082
          ],
          [
           0.8720278301826003,
           0.8070389615973288,
           0.8763000051052919,
           0.8490476671696122,
           0.8502500857430504,
           0.8862201057660543,
           0.8289243443777862,
           0.8319641814238224,
           0.8987833840039715,
           0.8616865880918801,
           0.8279504418933746,
           0.8618356354303423,
           0.9060050722434337,
           0.8472783992495572,
           0.9095244396799305,
           0.8541842467190406,
           0.7992861878026535,
           1,
           0.7629692514387645,
           0.8691726450855384,
           0.8457185749156918
          ],
          [
           0.7595007000809874,
           0.6889248423007943,
           0.7572520653586752,
           0.7362165008859007,
           0.7548212415649607,
           0.7788504430342431,
           0.7072999465629585,
           0.6615289256596222,
           0.7799931326221655,
           0.7462210003051837,
           0.7370712768903723,
           0.7280261295843004,
           0.7366337677443141,
           0.7592946087421091,
           0.7439447658903314,
           0.6792930951793908,
           0.702824783968801,
           0.7629692514387645,
           1,
           0.7541211912764039,
           0.7399656159410043
          ],
          [
           0.9024154123292205,
           0.8559981988977338,
           0.9140256857483343,
           0.8923282293144157,
           0.8766747343066682,
           0.9117463502088426,
           0.8376606332357573,
           0.8308532452692835,
           0.8485625689472226,
           0.8892981108328174,
           0.8546018596366098,
           0.9017010313966062,
           0.9109808905618108,
           0.8631542586403159,
           0.9048945701018213,
           0.8245922889562483,
           0.81102616128164,
           0.8691726450855384,
           0.7541211912764039,
           1.0000000000000002,
           0.881250755847129
          ],
          [
           0.9196864981445144,
           0.8721939348358675,
           0.9184338978983663,
           0.9047169520019087,
           0.914264051643205,
           0.9278631345007003,
           0.8046975045271938,
           0.8111428891861605,
           0.8361594528110831,
           0.8961690437073274,
           0.8708264776675185,
           0.8712687700080538,
           0.8584263276199592,
           0.8966177703188214,
           0.8442122825382605,
           0.8682352087596997,
           0.8398064720333082,
           0.8457185749156918,
           0.7399656159410043,
           0.881250755847129,
           1.0000000000000004
          ]
         ]
        }
       ],
       "layout": {
        "coloraxis": {
         "colorbar": {
          "title": {
           "text": "Similarity Score"
          }
         },
         "colorscale": [
          [
           0,
           "rgb(247,252,240)"
          ],
          [
           0.125,
           "rgb(224,243,219)"
          ],
          [
           0.25,
           "rgb(204,235,197)"
          ],
          [
           0.375,
           "rgb(168,221,181)"
          ],
          [
           0.5,
           "rgb(123,204,196)"
          ],
          [
           0.625,
           "rgb(78,179,211)"
          ],
          [
           0.75,
           "rgb(43,140,190)"
          ],
          [
           0.875,
           "rgb(8,104,172)"
          ],
          [
           1,
           "rgb(8,64,129)"
          ]
         ]
        },
        "height": 1000,
        "hoverlabel": {
         "bgcolor": "white",
         "font": {
          "family": "Rockwell",
          "size": 16
         }
        },
        "legend": {
         "title": {
          "text": "Trend"
         }
        },
        "margin": {
         "t": 60
        },
        "showlegend": true,
        "template": {
         "data": {
          "bar": [
           {
            "error_x": {
             "color": "#2a3f5f"
            },
            "error_y": {
             "color": "#2a3f5f"
            },
            "marker": {
             "line": {
              "color": "#E5ECF6",
              "width": 0.5
             },
             "pattern": {
              "fillmode": "overlay",
              "size": 10,
              "solidity": 0.2
             }
            },
            "type": "bar"
           }
          ],
          "barpolar": [
           {
            "marker": {
             "line": {
              "color": "#E5ECF6",
              "width": 0.5
             },
             "pattern": {
              "fillmode": "overlay",
              "size": 10,
              "solidity": 0.2
             }
            },
            "type": "barpolar"
           }
          ],
          "carpet": [
           {
            "aaxis": {
             "endlinecolor": "#2a3f5f",
             "gridcolor": "white",
             "linecolor": "white",
             "minorgridcolor": "white",
             "startlinecolor": "#2a3f5f"
            },
            "baxis": {
             "endlinecolor": "#2a3f5f",
             "gridcolor": "white",
             "linecolor": "white",
             "minorgridcolor": "white",
             "startlinecolor": "#2a3f5f"
            },
            "type": "carpet"
           }
          ],
          "choropleth": [
           {
            "colorbar": {
             "outlinewidth": 0,
             "ticks": ""
            },
            "type": "choropleth"
           }
          ],
          "contour": [
           {
            "colorbar": {
             "outlinewidth": 0,
             "ticks": ""
            },
            "colorscale": [
             [
              0,
              "#0d0887"
             ],
             [
              0.1111111111111111,
              "#46039f"
             ],
             [
              0.2222222222222222,
              "#7201a8"
             ],
             [
              0.3333333333333333,
              "#9c179e"
             ],
             [
              0.4444444444444444,
              "#bd3786"
             ],
             [
              0.5555555555555556,
              "#d8576b"
             ],
             [
              0.6666666666666666,
              "#ed7953"
             ],
             [
              0.7777777777777778,
              "#fb9f3a"
             ],
             [
              0.8888888888888888,
              "#fdca26"
             ],
             [
              1,
              "#f0f921"
             ]
            ],
            "type": "contour"
           }
          ],
          "contourcarpet": [
           {
            "colorbar": {
             "outlinewidth": 0,
             "ticks": ""
            },
            "type": "contourcarpet"
           }
          ],
          "heatmap": [
           {
            "colorbar": {
             "outlinewidth": 0,
             "ticks": ""
            },
            "colorscale": [
             [
              0,
              "#0d0887"
             ],
             [
              0.1111111111111111,
              "#46039f"
             ],
             [
              0.2222222222222222,
              "#7201a8"
             ],
             [
              0.3333333333333333,
              "#9c179e"
             ],
             [
              0.4444444444444444,
              "#bd3786"
             ],
             [
              0.5555555555555556,
              "#d8576b"
             ],
             [
              0.6666666666666666,
              "#ed7953"
             ],
             [
              0.7777777777777778,
              "#fb9f3a"
             ],
             [
              0.8888888888888888,
              "#fdca26"
             ],
             [
              1,
              "#f0f921"
             ]
            ],
            "type": "heatmap"
           }
          ],
          "heatmapgl": [
           {
            "colorbar": {
             "outlinewidth": 0,
             "ticks": ""
            },
            "colorscale": [
             [
              0,
              "#0d0887"
             ],
             [
              0.1111111111111111,
              "#46039f"
             ],
             [
              0.2222222222222222,
              "#7201a8"
             ],
             [
              0.3333333333333333,
              "#9c179e"
             ],
             [
              0.4444444444444444,
              "#bd3786"
             ],
             [
              0.5555555555555556,
              "#d8576b"
             ],
             [
              0.6666666666666666,
              "#ed7953"
             ],
             [
              0.7777777777777778,
              "#fb9f3a"
             ],
             [
              0.8888888888888888,
              "#fdca26"
             ],
             [
              1,
              "#f0f921"
             ]
            ],
            "type": "heatmapgl"
           }
          ],
          "histogram": [
           {
            "marker": {
             "pattern": {
              "fillmode": "overlay",
              "size": 10,
              "solidity": 0.2
             }
            },
            "type": "histogram"
           }
          ],
          "histogram2d": [
           {
            "colorbar": {
             "outlinewidth": 0,
             "ticks": ""
            },
            "colorscale": [
             [
              0,
              "#0d0887"
             ],
             [
              0.1111111111111111,
              "#46039f"
             ],
             [
              0.2222222222222222,
              "#7201a8"
             ],
             [
              0.3333333333333333,
              "#9c179e"
             ],
             [
              0.4444444444444444,
              "#bd3786"
             ],
             [
              0.5555555555555556,
              "#d8576b"
             ],
             [
              0.6666666666666666,
              "#ed7953"
             ],
             [
              0.7777777777777778,
              "#fb9f3a"
             ],
             [
              0.8888888888888888,
              "#fdca26"
             ],
             [
              1,
              "#f0f921"
             ]
            ],
            "type": "histogram2d"
           }
          ],
          "histogram2dcontour": [
           {
            "colorbar": {
             "outlinewidth": 0,
             "ticks": ""
            },
            "colorscale": [
             [
              0,
              "#0d0887"
             ],
             [
              0.1111111111111111,
              "#46039f"
             ],
             [
              0.2222222222222222,
              "#7201a8"
             ],
             [
              0.3333333333333333,
              "#9c179e"
             ],
             [
              0.4444444444444444,
              "#bd3786"
             ],
             [
              0.5555555555555556,
              "#d8576b"
             ],
             [
              0.6666666666666666,
              "#ed7953"
             ],
             [
              0.7777777777777778,
              "#fb9f3a"
             ],
             [
              0.8888888888888888,
              "#fdca26"
             ],
             [
              1,
              "#f0f921"
             ]
            ],
            "type": "histogram2dcontour"
           }
          ],
          "mesh3d": [
           {
            "colorbar": {
             "outlinewidth": 0,
             "ticks": ""
            },
            "type": "mesh3d"
           }
          ],
          "parcoords": [
           {
            "line": {
             "colorbar": {
              "outlinewidth": 0,
              "ticks": ""
             }
            },
            "type": "parcoords"
           }
          ],
          "pie": [
           {
            "automargin": true,
            "type": "pie"
           }
          ],
          "scatter": [
           {
            "marker": {
             "colorbar": {
              "outlinewidth": 0,
              "ticks": ""
             }
            },
            "type": "scatter"
           }
          ],
          "scatter3d": [
           {
            "line": {
             "colorbar": {
              "outlinewidth": 0,
              "ticks": ""
             }
            },
            "marker": {
             "colorbar": {
              "outlinewidth": 0,
              "ticks": ""
             }
            },
            "type": "scatter3d"
           }
          ],
          "scattercarpet": [
           {
            "marker": {
             "colorbar": {
              "outlinewidth": 0,
              "ticks": ""
             }
            },
            "type": "scattercarpet"
           }
          ],
          "scattergeo": [
           {
            "marker": {
             "colorbar": {
              "outlinewidth": 0,
              "ticks": ""
             }
            },
            "type": "scattergeo"
           }
          ],
          "scattergl": [
           {
            "marker": {
             "colorbar": {
              "outlinewidth": 0,
              "ticks": ""
             }
            },
            "type": "scattergl"
           }
          ],
          "scattermapbox": [
           {
            "marker": {
             "colorbar": {
              "outlinewidth": 0,
              "ticks": ""
             }
            },
            "type": "scattermapbox"
           }
          ],
          "scatterpolar": [
           {
            "marker": {
             "colorbar": {
              "outlinewidth": 0,
              "ticks": ""
             }
            },
            "type": "scatterpolar"
           }
          ],
          "scatterpolargl": [
           {
            "marker": {
             "colorbar": {
              "outlinewidth": 0,
              "ticks": ""
             }
            },
            "type": "scatterpolargl"
           }
          ],
          "scatterternary": [
           {
            "marker": {
             "colorbar": {
              "outlinewidth": 0,
              "ticks": ""
             }
            },
            "type": "scatterternary"
           }
          ],
          "surface": [
           {
            "colorbar": {
             "outlinewidth": 0,
             "ticks": ""
            },
            "colorscale": [
             [
              0,
              "#0d0887"
             ],
             [
              0.1111111111111111,
              "#46039f"
             ],
             [
              0.2222222222222222,
              "#7201a8"
             ],
             [
              0.3333333333333333,
              "#9c179e"
             ],
             [
              0.4444444444444444,
              "#bd3786"
             ],
             [
              0.5555555555555556,
              "#d8576b"
             ],
             [
              0.6666666666666666,
              "#ed7953"
             ],
             [
              0.7777777777777778,
              "#fb9f3a"
             ],
             [
              0.8888888888888888,
              "#fdca26"
             ],
             [
              1,
              "#f0f921"
             ]
            ],
            "type": "surface"
           }
          ],
          "table": [
           {
            "cells": {
             "fill": {
              "color": "#EBF0F8"
             },
             "line": {
              "color": "white"
             }
            },
            "header": {
             "fill": {
              "color": "#C8D4E3"
             },
             "line": {
              "color": "white"
             }
            },
            "type": "table"
           }
          ]
         },
         "layout": {
          "annotationdefaults": {
           "arrowcolor": "#2a3f5f",
           "arrowhead": 0,
           "arrowwidth": 1
          },
          "autotypenumbers": "strict",
          "coloraxis": {
           "colorbar": {
            "outlinewidth": 0,
            "ticks": ""
           }
          },
          "colorscale": {
           "diverging": [
            [
             0,
             "#8e0152"
            ],
            [
             0.1,
             "#c51b7d"
            ],
            [
             0.2,
             "#de77ae"
            ],
            [
             0.3,
             "#f1b6da"
            ],
            [
             0.4,
             "#fde0ef"
            ],
            [
             0.5,
             "#f7f7f7"
            ],
            [
             0.6,
             "#e6f5d0"
            ],
            [
             0.7,
             "#b8e186"
            ],
            [
             0.8,
             "#7fbc41"
            ],
            [
             0.9,
             "#4d9221"
            ],
            [
             1,
             "#276419"
            ]
           ],
           "sequential": [
            [
             0,
             "#0d0887"
            ],
            [
             0.1111111111111111,
             "#46039f"
            ],
            [
             0.2222222222222222,
             "#7201a8"
            ],
            [
             0.3333333333333333,
             "#9c179e"
            ],
            [
             0.4444444444444444,
             "#bd3786"
            ],
            [
             0.5555555555555556,
             "#d8576b"
            ],
            [
             0.6666666666666666,
             "#ed7953"
            ],
            [
             0.7777777777777778,
             "#fb9f3a"
            ],
            [
             0.8888888888888888,
             "#fdca26"
            ],
            [
             1,
             "#f0f921"
            ]
           ],
           "sequentialminus": [
            [
             0,
             "#0d0887"
            ],
            [
             0.1111111111111111,
             "#46039f"
            ],
            [
             0.2222222222222222,
             "#7201a8"
            ],
            [
             0.3333333333333333,
             "#9c179e"
            ],
            [
             0.4444444444444444,
             "#bd3786"
            ],
            [
             0.5555555555555556,
             "#d8576b"
            ],
            [
             0.6666666666666666,
             "#ed7953"
            ],
            [
             0.7777777777777778,
             "#fb9f3a"
            ],
            [
             0.8888888888888888,
             "#fdca26"
            ],
            [
             1,
             "#f0f921"
            ]
           ]
          },
          "colorway": [
           "#636efa",
           "#EF553B",
           "#00cc96",
           "#ab63fa",
           "#FFA15A",
           "#19d3f3",
           "#FF6692",
           "#B6E880",
           "#FF97FF",
           "#FECB52"
          ],
          "font": {
           "color": "#2a3f5f"
          },
          "geo": {
           "bgcolor": "white",
           "lakecolor": "white",
           "landcolor": "#E5ECF6",
           "showlakes": true,
           "showland": true,
           "subunitcolor": "white"
          },
          "hoverlabel": {
           "align": "left"
          },
          "hovermode": "closest",
          "mapbox": {
           "style": "light"
          },
          "paper_bgcolor": "white",
          "plot_bgcolor": "#E5ECF6",
          "polar": {
           "angularaxis": {
            "gridcolor": "white",
            "linecolor": "white",
            "ticks": ""
           },
           "bgcolor": "#E5ECF6",
           "radialaxis": {
            "gridcolor": "white",
            "linecolor": "white",
            "ticks": ""
           }
          },
          "scene": {
           "xaxis": {
            "backgroundcolor": "#E5ECF6",
            "gridcolor": "white",
            "gridwidth": 2,
            "linecolor": "white",
            "showbackground": true,
            "ticks": "",
            "zerolinecolor": "white"
           },
           "yaxis": {
            "backgroundcolor": "#E5ECF6",
            "gridcolor": "white",
            "gridwidth": 2,
            "linecolor": "white",
            "showbackground": true,
            "ticks": "",
            "zerolinecolor": "white"
           },
           "zaxis": {
            "backgroundcolor": "#E5ECF6",
            "gridcolor": "white",
            "gridwidth": 2,
            "linecolor": "white",
            "showbackground": true,
            "ticks": "",
            "zerolinecolor": "white"
           }
          },
          "shapedefaults": {
           "line": {
            "color": "#2a3f5f"
           }
          },
          "ternary": {
           "aaxis": {
            "gridcolor": "white",
            "linecolor": "white",
            "ticks": ""
           },
           "baxis": {
            "gridcolor": "white",
            "linecolor": "white",
            "ticks": ""
           },
           "bgcolor": "#E5ECF6",
           "caxis": {
            "gridcolor": "white",
            "linecolor": "white",
            "ticks": ""
           }
          },
          "title": {
           "x": 0.05
          },
          "xaxis": {
           "automargin": true,
           "gridcolor": "white",
           "linecolor": "white",
           "ticks": "",
           "title": {
            "standoff": 15
           },
           "zerolinecolor": "white",
           "zerolinewidth": 2
          },
          "yaxis": {
           "automargin": true,
           "gridcolor": "white",
           "linecolor": "white",
           "ticks": "",
           "title": {
            "standoff": 15
           },
           "zerolinecolor": "white",
           "zerolinewidth": 2
          }
         }
        },
        "title": {
         "font": {
          "color": "Black",
          "size": 22
         },
         "text": "<b>Similarity Matrix",
         "x": 0.55,
         "xanchor": "center",
         "y": 0.95,
         "yanchor": "top"
        },
        "width": 1000,
        "xaxis": {
         "anchor": "y",
         "constrain": "domain",
         "domain": [
          0,
          1
         ],
         "scaleanchor": "y"
        },
        "yaxis": {
         "anchor": "x",
         "autorange": "reversed",
         "constrain": "domain",
         "domain": [
          0,
          1
         ]
        }
       }
      }
     },
     "metadata": {},
     "output_type": "display_data"
    }
   ],
   "source": [
    "topic_model.visualize_heatmap(n_clusters=20, width=1000, height=1000)"
   ]
  },
  {
   "cell_type": "code",
   "execution_count": 13,
   "metadata": {},
   "outputs": [
    {
     "data": {
      "application/vnd.plotly.v1+json": {
       "config": {
        "plotlyServerURL": "https://plot.ly"
       },
       "data": [
        {
         "hovertext": "<b>Topic -1</b>:voce_amore_occhi_mano_pareva_anima",
         "line": {
          "color": "black",
          "width": 1.5
         },
         "mode": "lines+lines",
         "name": "",
         "opacity": 0.1,
         "type": "scatter",
         "x": [
          1,
          2,
          3,
          4,
          5,
          6,
          7,
          8,
          9,
          10
         ],
         "y": [
          0.010827538270310974,
          0.010334538351707749,
          0.009842310415005604,
          0.008235886354681034,
          0.008179159896561542,
          0.008156718119771287,
          0.007686575896012897,
          0.007618546212270168,
          0.007026572553198475,
          0.006955058881823914
         ]
        },
        {
         "hovertext": "<b>Topic 0</b>:mano_bocca_rispose_occhi_parole_gio",
         "line": {
          "color": "black",
          "width": 1.5
         },
         "mode": "lines+lines",
         "name": "",
         "opacity": 0.1,
         "type": "scatter",
         "x": [
          1,
          2,
          3,
          4,
          5,
          6,
          7,
          8,
          9,
          10
         ],
         "y": [
          0.03189343998726231,
          0.029378720283934786,
          0.01921561704300029,
          0.01889834603181997,
          0.018424192885202865,
          0.01841268476782342,
          0.01776048891324497,
          0.01774820498508853,
          0.017637969496085253,
          0.017373041990202766
         ]
        },
        {
         "hovertext": "<b>Topic 1</b>:spirito_tempo_sentiva_cuore_ambedue",
         "line": {
          "color": "black",
          "width": 1.5
         },
         "mode": "lines+lines",
         "name": "",
         "opacity": 0.1,
         "type": "scatter",
         "x": [
          1,
          2,
          3,
          4,
          5,
          6,
          7,
          8,
          9,
          10
         ],
         "y": [
          0.014530188138968362,
          0.01418362493847639,
          0.013727269020757958,
          0.013430990333100796,
          0.012527657222827709,
          0.012492052732116265,
          0.012437839285272029,
          0.011783500270326746,
          0.011323971257563091,
          0.011006582164397217
         ]
        },
        {
         "hovertext": "<b>Topic 2</b>:vita_anima_spirito_forza_padre_esse",
         "line": {
          "color": "black",
          "width": 1.5
         },
         "mode": "lines+lines",
         "name": "",
         "opacity": 0.1,
         "type": "scatter",
         "x": [
          1,
          2,
          3,
          4,
          5,
          6,
          7,
          8,
          9,
          10
         ],
         "y": [
          0.026296885877800588,
          0.019538129433369047,
          0.018247798870822313,
          0.01620740138774895,
          0.015114134768229693,
          0.01507426863241843,
          0.014945517674429672,
          0.012455864244527432,
          0.011506328449206507,
          0.011082278476437113
         ]
        },
        {
         "hovertext": "<b>Topic 3</b>:addio_taci_tua_hai_chiese_voce_risp",
         "line": {
          "color": "black",
          "width": 1.5
         },
         "mode": "lines+lines",
         "name": "",
         "opacity": 0.1,
         "type": "scatter",
         "x": [
          1,
          2,
          3,
          4,
          5,
          6,
          7,
          8,
          9,
          10
         ],
         "y": [
          0.05540132396611032,
          0.03182104305544797,
          0.029147142942584178,
          0.02848801266892888,
          0.028413808008341642,
          0.025587573869591936,
          0.024306711232382164,
          0.024206080946854246,
          0.024114066264934002,
          0.02386578229158598
         ]
        },
        {
         "hovertext": "<b>Topic 4</b>:anima_vita_dio_dolore_cuore_posso_s",
         "line": {
          "color": "black",
          "width": 1.5
         },
         "mode": "lines+lines",
         "name": "",
         "opacity": 0.1,
         "type": "scatter",
         "x": [
          1,
          2,
          3,
          4,
          5,
          6,
          7,
          8,
          9,
          10
         ],
         "y": [
          0.03828336421878492,
          0.03456442320296191,
          0.029568589876216807,
          0.027316063221189107,
          0.02576315734271835,
          0.024258579747012152,
          0.022510691480782826,
          0.022060848689858824,
          0.019759146781094337,
          0.018688330224319347
         ]
        },
        {
         "hovertext": "<b>Topic 5</b>:occhi_testa_bocca_capelli_color_fro",
         "line": {
          "color": "black",
          "width": 1.5
         },
         "mode": "lines+lines",
         "name": "",
         "opacity": 0.1,
         "type": "scatter",
         "x": [
          1,
          2,
          3,
          4,
          5,
          6,
          7,
          8,
          9,
          10
         ],
         "y": [
          0.02143692982713907,
          0.02012440275697506,
          0.019439650735140927,
          0.01898544439777446,
          0.015369858858574932,
          0.013790426977140988,
          0.012955039985226948,
          0.012632117136622099,
          0.011586474219172293,
          0.011137653767358723
         ]
        },
        {
         "hovertext": "<b>Topic 6</b>:interruppe_ah_rispose_marchesa_prin",
         "line": {
          "color": "black",
          "width": 1.5
         },
         "mode": "lines+lines",
         "name": "",
         "opacity": 0.1,
         "type": "scatter",
         "x": [
          1,
          2,
          3,
          4,
          5,
          6,
          7,
          8,
          9,
          10
         ],
         "y": [
          0.023819151301722585,
          0.023270982305627134,
          0.02200121686952593,
          0.018932685934883207,
          0.018680749432963686,
          0.017538050626870853,
          0.01736903471144954,
          0.016903307564983476,
          0.01636060778055033,
          0.01607422190172133
         ]
        },
        {
         "hovertext": "<b>Topic 7</b>:cielo_acqua_verde_alberi_vento_nuvo",
         "line": {
          "color": "black",
          "width": 1.5
         },
         "mode": "lines+lines",
         "name": "",
         "opacity": 0.1,
         "type": "scatter",
         "x": [
          1,
          2,
          3,
          4,
          5,
          6,
          7,
          8,
          9,
          10
         ],
         "y": [
          0.03334636219729255,
          0.026947765952615256,
          0.023982010739792666,
          0.022122387595381175,
          0.020612189614307472,
          0.019441035174049288,
          0.01941481178793148,
          0.018897591382962004,
          0.017622133915503803,
          0.016962816684453846
         ]
        },
        {
         "hovertext": "<b>Topic 8</b>:terreno_guardia_barone_botta_metri_",
         "line": {
          "color": "black",
          "width": 1.5
         },
         "mode": "lines+lines",
         "name": "",
         "opacity": 0.1,
         "type": "scatter",
         "x": [
          1,
          2,
          3,
          4,
          5,
          6,
          7,
          8,
          9,
          10
         ],
         "y": [
          0.02816730609042253,
          0.02816730609042253,
          0.026404569134992822,
          0.026383905011864797,
          0.026383905011864797,
          0.024031185177243095,
          0.023470366717644242,
          0.022533844872338026,
          0.022134124539609112,
          0.022134124539609112
         ]
        },
        {
         "hovertext": "<b>Topic 9</b>:versi_libro_secolo_libri_corte_terz",
         "line": {
          "color": "black",
          "width": 1.5
         },
         "mode": "lines+lines",
         "name": "",
         "opacity": 0.1,
         "type": "scatter",
         "x": [
          1,
          2,
          3,
          4,
          5,
          6,
          7,
          8,
          9,
          10
         ],
         "y": [
          0.02890935796273257,
          0.024848817109653674,
          0.023691725790205263,
          0.023061374986914074,
          0.02247112390541201,
          0.020208495444923077,
          0.01759818709787151,
          0.01759818709787151,
          0.017453907517364753,
          0.016953417423800684
         ]
        },
        {
         "hovertext": "<b>Topic 10</b>:ottobre_giorno_partire_settembre_s",
         "line": {
          "color": "black",
          "width": 1.5
         },
         "mode": "lines+lines",
         "name": "",
         "opacity": 0.1,
         "type": "scatter",
         "x": [
          1,
          2,
          3,
          4,
          5,
          6,
          7,
          8,
          9,
          10
         ],
         "y": [
          0.13169847836443863,
          0.10176811521340569,
          0.09002264652038165,
          0.06898990970015156,
          0.06691510768231346,
          0.0651588420948677,
          0.060015097680254426,
          0.060015097680254426,
          0.04983969400544056,
          0.049429466089176984
         ]
        },
        {
         "hovertext": "<b>Topic 11</b>:occhi_tratto_ambedue_ricordava_era",
         "line": {
          "color": "black",
          "width": 1.5
         },
         "mode": "lines+lines",
         "name": "",
         "opacity": 0.1,
         "type": "scatter",
         "x": [
          1,
          2,
          3,
          4,
          5,
          6,
          7,
          8,
          9,
          10
         ],
         "y": [
          0.020772562167207076,
          0.01892660500841605,
          0.018597838240194182,
          0.01815636354306883,
          0.01815636354306883,
          0.018035221517246625,
          0.0174919152793306,
          0.01742648847186499,
          0.01570633246088409,
          0.015402885086745017
         ]
        },
        {
         "hovertext": "<b>Topic 12</b>:città_obelisco_cipressi_luce_giù_a",
         "line": {
          "color": "black",
          "width": 1.5
         },
         "mode": "lines+lines",
         "name": "",
         "opacity": 0.1,
         "type": "scatter",
         "x": [
          1,
          2,
          3,
          4,
          5,
          6,
          7,
          8,
          9,
          10
         ],
         "y": [
          0.029292809792253332,
          0.02818710736008188,
          0.02360634524329459,
          0.023454272186874563,
          0.021949747239533583,
          0.021219387732906502,
          0.020445958001844823,
          0.020119899774794375,
          0.02004006567065351,
          0.01949467571506088
         ]
        },
        {
         "hovertext": "<b>Topic 13</b>:madre_vieni_parlava_voleva_mamma_a",
         "line": {
          "color": "black",
          "width": 1.5
         },
         "mode": "lines+lines",
         "name": "",
         "opacity": 0.1,
         "type": "scatter",
         "x": [
          1,
          2,
          3,
          4,
          5,
          6,
          7,
          8,
          9,
          10
         ],
         "y": [
          0.04955976252151607,
          0.04661961816473018,
          0.03364304821704389,
          0.02788589012398121,
          0.02698533887903812,
          0.025568247395660965,
          0.02517435318506665,
          0.022943142456762083,
          0.022943142456762083,
          0.022943142456762083
         ]
        },
        {
         "hovertext": "<b>Topic 14</b>:vendite_vaso_stanza_secolo_caminet",
         "line": {
          "color": "black",
          "width": 1.5
         },
         "mode": "lines+lines",
         "name": "",
         "opacity": 0.1,
         "type": "scatter",
         "x": [
          1,
          2,
          3,
          4,
          5,
          6,
          7,
          8,
          9,
          10
         ],
         "y": [
          0.025160629670348298,
          0.02055499839411854,
          0.019587306487401028,
          0.01850589349014268,
          0.0179531133040899,
          0.017451262046250627,
          0.0174308720131914,
          0.017334824565120543,
          0.01662341194929479,
          0.01662341194929479
         ]
        },
        {
         "hovertext": "<b>Topic 15</b>:musica_pianoforte_sonata_esprimeva",
         "line": {
          "color": "black",
          "width": 1.5
         },
         "mode": "lines+lines",
         "name": "",
         "opacity": 0.1,
         "type": "scatter",
         "x": [
          1,
          2,
          3,
          4,
          5,
          6,
          7,
          8,
          9,
          10
         ],
         "y": [
          0.07395890315783371,
          0.04906272927643166,
          0.03536847818424892,
          0.024367687633103687,
          0.024367687633103687,
          0.02246990996282345,
          0.02246990996282345,
          0.021793071670728636,
          0.02096631441083451,
          0.02081109411844333
         ]
        },
        {
         "hovertext": "<b>Topic 16</b>:domani_nove_mezzogiorno_signor_avv",
         "line": {
          "color": "black",
          "width": 1.5
         },
         "mode": "lines+lines",
         "name": "",
         "opacity": 0.1,
         "type": "scatter",
         "x": [
          1,
          2,
          3,
          4,
          5,
          6,
          7,
          8,
          9,
          10
         ],
         "y": [
          0.10540618654646859,
          0.06732619862466803,
          0.062100496324473196,
          0.0544127158172991,
          0.05168603839701793,
          0.05168603839701793,
          0.05168603839701793,
          0.048674984466620996,
          0.04488413241644535,
          0.042389581288482706
         ]
        },
        {
         "hovertext": "<b>Topic 17</b>:carrozza_scale_gradino_giardino_en",
         "line": {
          "color": "black",
          "width": 1.5
         },
         "mode": "lines+lines",
         "name": "",
         "opacity": 0.1,
         "type": "scatter",
         "x": [
          1,
          2,
          3,
          4,
          5,
          6,
          7,
          8,
          9,
          10
         ],
         "y": [
          0.1271043427847959,
          0.08090346107624999,
          0.07348666248745288,
          0.06794597903230913,
          0.06545943552986606,
          0.05807164747468252,
          0.05095948427423185,
          0.048018171506260435,
          0.047778502848102485,
          0.04534268689081135
         ]
        },
        {
         "hovertext": "<b>Topic 18</b>:cavalli_cavallo_corsa_rasente_scal",
         "line": {
          "color": "black",
          "width": 1.5
         },
         "mode": "lines+lines",
         "name": "",
         "opacity": 0.1,
         "type": "scatter",
         "x": [
          1,
          2,
          3,
          4,
          5,
          6,
          7,
          8,
          9,
          10
         ],
         "y": [
          0.11791529834875873,
          0.07269849059387405,
          0.04893727370629272,
          0.04709173127776751,
          0.03727491777157593,
          0.03727491777157593,
          0.03727491777157593,
          0.035103407028206565,
          0.03356343948560281,
          0.0323695217695008
         ]
        },
        {
         "hovertext": "<b>Topic 19</b>:acido_20_ornato_anima_istinto_arte",
         "line": {
          "color": "black",
          "width": 1.5
         },
         "mode": "lines+lines",
         "name": "",
         "opacity": 0.1,
         "type": "scatter",
         "x": [
          1,
          2,
          3,
          4,
          5,
          6,
          7,
          8,
          9,
          10
         ],
         "y": [
          0.02782036206251077,
          0.02683073693338622,
          0.024226837571403113,
          0.02380596445527534,
          0.023339204653432276,
          0.023339204653432276,
          0.022600974859482058,
          0.022411755416111658,
          0.021417144009156737,
          0.021165217487990027
         ]
        },
        {
         "hovertext": "<b>Topic 20</b>:parole_voce_voci_amate_imprecavano",
         "line": {
          "color": "black",
          "width": 1.5
         },
         "mode": "lines+lines",
         "name": "",
         "opacity": 0.1,
         "type": "scatter",
         "x": [
          1,
          2,
          3,
          4,
          5,
          6,
          7,
          8,
          9,
          10
         ],
         "y": [
          0.07436238544562371,
          0.062204638705267254,
          0.057937424529729914,
          0.041782000595898254,
          0.04018365412947347,
          0.04018365412947347,
          0.03996630123776316,
          0.03918574709756506,
          0.03918574709756506,
          0.03784269023560997
         ]
        }
       ],
       "layout": {
        "height": 500,
        "hoverlabel": {
         "bgcolor": "white",
         "font": {
          "family": "Rockwell",
          "size": 16
         }
        },
        "showlegend": false,
        "template": {
         "data": {
          "bar": [
           {
            "error_x": {
             "color": "#2a3f5f"
            },
            "error_y": {
             "color": "#2a3f5f"
            },
            "marker": {
             "line": {
              "color": "white",
              "width": 0.5
             },
             "pattern": {
              "fillmode": "overlay",
              "size": 10,
              "solidity": 0.2
             }
            },
            "type": "bar"
           }
          ],
          "barpolar": [
           {
            "marker": {
             "line": {
              "color": "white",
              "width": 0.5
             },
             "pattern": {
              "fillmode": "overlay",
              "size": 10,
              "solidity": 0.2
             }
            },
            "type": "barpolar"
           }
          ],
          "carpet": [
           {
            "aaxis": {
             "endlinecolor": "#2a3f5f",
             "gridcolor": "#C8D4E3",
             "linecolor": "#C8D4E3",
             "minorgridcolor": "#C8D4E3",
             "startlinecolor": "#2a3f5f"
            },
            "baxis": {
             "endlinecolor": "#2a3f5f",
             "gridcolor": "#C8D4E3",
             "linecolor": "#C8D4E3",
             "minorgridcolor": "#C8D4E3",
             "startlinecolor": "#2a3f5f"
            },
            "type": "carpet"
           }
          ],
          "choropleth": [
           {
            "colorbar": {
             "outlinewidth": 0,
             "ticks": ""
            },
            "type": "choropleth"
           }
          ],
          "contour": [
           {
            "colorbar": {
             "outlinewidth": 0,
             "ticks": ""
            },
            "colorscale": [
             [
              0,
              "#0d0887"
             ],
             [
              0.1111111111111111,
              "#46039f"
             ],
             [
              0.2222222222222222,
              "#7201a8"
             ],
             [
              0.3333333333333333,
              "#9c179e"
             ],
             [
              0.4444444444444444,
              "#bd3786"
             ],
             [
              0.5555555555555556,
              "#d8576b"
             ],
             [
              0.6666666666666666,
              "#ed7953"
             ],
             [
              0.7777777777777778,
              "#fb9f3a"
             ],
             [
              0.8888888888888888,
              "#fdca26"
             ],
             [
              1,
              "#f0f921"
             ]
            ],
            "type": "contour"
           }
          ],
          "contourcarpet": [
           {
            "colorbar": {
             "outlinewidth": 0,
             "ticks": ""
            },
            "type": "contourcarpet"
           }
          ],
          "heatmap": [
           {
            "colorbar": {
             "outlinewidth": 0,
             "ticks": ""
            },
            "colorscale": [
             [
              0,
              "#0d0887"
             ],
             [
              0.1111111111111111,
              "#46039f"
             ],
             [
              0.2222222222222222,
              "#7201a8"
             ],
             [
              0.3333333333333333,
              "#9c179e"
             ],
             [
              0.4444444444444444,
              "#bd3786"
             ],
             [
              0.5555555555555556,
              "#d8576b"
             ],
             [
              0.6666666666666666,
              "#ed7953"
             ],
             [
              0.7777777777777778,
              "#fb9f3a"
             ],
             [
              0.8888888888888888,
              "#fdca26"
             ],
             [
              1,
              "#f0f921"
             ]
            ],
            "type": "heatmap"
           }
          ],
          "heatmapgl": [
           {
            "colorbar": {
             "outlinewidth": 0,
             "ticks": ""
            },
            "colorscale": [
             [
              0,
              "#0d0887"
             ],
             [
              0.1111111111111111,
              "#46039f"
             ],
             [
              0.2222222222222222,
              "#7201a8"
             ],
             [
              0.3333333333333333,
              "#9c179e"
             ],
             [
              0.4444444444444444,
              "#bd3786"
             ],
             [
              0.5555555555555556,
              "#d8576b"
             ],
             [
              0.6666666666666666,
              "#ed7953"
             ],
             [
              0.7777777777777778,
              "#fb9f3a"
             ],
             [
              0.8888888888888888,
              "#fdca26"
             ],
             [
              1,
              "#f0f921"
             ]
            ],
            "type": "heatmapgl"
           }
          ],
          "histogram": [
           {
            "marker": {
             "pattern": {
              "fillmode": "overlay",
              "size": 10,
              "solidity": 0.2
             }
            },
            "type": "histogram"
           }
          ],
          "histogram2d": [
           {
            "colorbar": {
             "outlinewidth": 0,
             "ticks": ""
            },
            "colorscale": [
             [
              0,
              "#0d0887"
             ],
             [
              0.1111111111111111,
              "#46039f"
             ],
             [
              0.2222222222222222,
              "#7201a8"
             ],
             [
              0.3333333333333333,
              "#9c179e"
             ],
             [
              0.4444444444444444,
              "#bd3786"
             ],
             [
              0.5555555555555556,
              "#d8576b"
             ],
             [
              0.6666666666666666,
              "#ed7953"
             ],
             [
              0.7777777777777778,
              "#fb9f3a"
             ],
             [
              0.8888888888888888,
              "#fdca26"
             ],
             [
              1,
              "#f0f921"
             ]
            ],
            "type": "histogram2d"
           }
          ],
          "histogram2dcontour": [
           {
            "colorbar": {
             "outlinewidth": 0,
             "ticks": ""
            },
            "colorscale": [
             [
              0,
              "#0d0887"
             ],
             [
              0.1111111111111111,
              "#46039f"
             ],
             [
              0.2222222222222222,
              "#7201a8"
             ],
             [
              0.3333333333333333,
              "#9c179e"
             ],
             [
              0.4444444444444444,
              "#bd3786"
             ],
             [
              0.5555555555555556,
              "#d8576b"
             ],
             [
              0.6666666666666666,
              "#ed7953"
             ],
             [
              0.7777777777777778,
              "#fb9f3a"
             ],
             [
              0.8888888888888888,
              "#fdca26"
             ],
             [
              1,
              "#f0f921"
             ]
            ],
            "type": "histogram2dcontour"
           }
          ],
          "mesh3d": [
           {
            "colorbar": {
             "outlinewidth": 0,
             "ticks": ""
            },
            "type": "mesh3d"
           }
          ],
          "parcoords": [
           {
            "line": {
             "colorbar": {
              "outlinewidth": 0,
              "ticks": ""
             }
            },
            "type": "parcoords"
           }
          ],
          "pie": [
           {
            "automargin": true,
            "type": "pie"
           }
          ],
          "scatter": [
           {
            "marker": {
             "colorbar": {
              "outlinewidth": 0,
              "ticks": ""
             }
            },
            "type": "scatter"
           }
          ],
          "scatter3d": [
           {
            "line": {
             "colorbar": {
              "outlinewidth": 0,
              "ticks": ""
             }
            },
            "marker": {
             "colorbar": {
              "outlinewidth": 0,
              "ticks": ""
             }
            },
            "type": "scatter3d"
           }
          ],
          "scattercarpet": [
           {
            "marker": {
             "colorbar": {
              "outlinewidth": 0,
              "ticks": ""
             }
            },
            "type": "scattercarpet"
           }
          ],
          "scattergeo": [
           {
            "marker": {
             "colorbar": {
              "outlinewidth": 0,
              "ticks": ""
             }
            },
            "type": "scattergeo"
           }
          ],
          "scattergl": [
           {
            "marker": {
             "colorbar": {
              "outlinewidth": 0,
              "ticks": ""
             }
            },
            "type": "scattergl"
           }
          ],
          "scattermapbox": [
           {
            "marker": {
             "colorbar": {
              "outlinewidth": 0,
              "ticks": ""
             }
            },
            "type": "scattermapbox"
           }
          ],
          "scatterpolar": [
           {
            "marker": {
             "colorbar": {
              "outlinewidth": 0,
              "ticks": ""
             }
            },
            "type": "scatterpolar"
           }
          ],
          "scatterpolargl": [
           {
            "marker": {
             "colorbar": {
              "outlinewidth": 0,
              "ticks": ""
             }
            },
            "type": "scatterpolargl"
           }
          ],
          "scatterternary": [
           {
            "marker": {
             "colorbar": {
              "outlinewidth": 0,
              "ticks": ""
             }
            },
            "type": "scatterternary"
           }
          ],
          "surface": [
           {
            "colorbar": {
             "outlinewidth": 0,
             "ticks": ""
            },
            "colorscale": [
             [
              0,
              "#0d0887"
             ],
             [
              0.1111111111111111,
              "#46039f"
             ],
             [
              0.2222222222222222,
              "#7201a8"
             ],
             [
              0.3333333333333333,
              "#9c179e"
             ],
             [
              0.4444444444444444,
              "#bd3786"
             ],
             [
              0.5555555555555556,
              "#d8576b"
             ],
             [
              0.6666666666666666,
              "#ed7953"
             ],
             [
              0.7777777777777778,
              "#fb9f3a"
             ],
             [
              0.8888888888888888,
              "#fdca26"
             ],
             [
              1,
              "#f0f921"
             ]
            ],
            "type": "surface"
           }
          ],
          "table": [
           {
            "cells": {
             "fill": {
              "color": "#EBF0F8"
             },
             "line": {
              "color": "white"
             }
            },
            "header": {
             "fill": {
              "color": "#C8D4E3"
             },
             "line": {
              "color": "white"
             }
            },
            "type": "table"
           }
          ]
         },
         "layout": {
          "annotationdefaults": {
           "arrowcolor": "#2a3f5f",
           "arrowhead": 0,
           "arrowwidth": 1
          },
          "autotypenumbers": "strict",
          "coloraxis": {
           "colorbar": {
            "outlinewidth": 0,
            "ticks": ""
           }
          },
          "colorscale": {
           "diverging": [
            [
             0,
             "#8e0152"
            ],
            [
             0.1,
             "#c51b7d"
            ],
            [
             0.2,
             "#de77ae"
            ],
            [
             0.3,
             "#f1b6da"
            ],
            [
             0.4,
             "#fde0ef"
            ],
            [
             0.5,
             "#f7f7f7"
            ],
            [
             0.6,
             "#e6f5d0"
            ],
            [
             0.7,
             "#b8e186"
            ],
            [
             0.8,
             "#7fbc41"
            ],
            [
             0.9,
             "#4d9221"
            ],
            [
             1,
             "#276419"
            ]
           ],
           "sequential": [
            [
             0,
             "#0d0887"
            ],
            [
             0.1111111111111111,
             "#46039f"
            ],
            [
             0.2222222222222222,
             "#7201a8"
            ],
            [
             0.3333333333333333,
             "#9c179e"
            ],
            [
             0.4444444444444444,
             "#bd3786"
            ],
            [
             0.5555555555555556,
             "#d8576b"
            ],
            [
             0.6666666666666666,
             "#ed7953"
            ],
            [
             0.7777777777777778,
             "#fb9f3a"
            ],
            [
             0.8888888888888888,
             "#fdca26"
            ],
            [
             1,
             "#f0f921"
            ]
           ],
           "sequentialminus": [
            [
             0,
             "#0d0887"
            ],
            [
             0.1111111111111111,
             "#46039f"
            ],
            [
             0.2222222222222222,
             "#7201a8"
            ],
            [
             0.3333333333333333,
             "#9c179e"
            ],
            [
             0.4444444444444444,
             "#bd3786"
            ],
            [
             0.5555555555555556,
             "#d8576b"
            ],
            [
             0.6666666666666666,
             "#ed7953"
            ],
            [
             0.7777777777777778,
             "#fb9f3a"
            ],
            [
             0.8888888888888888,
             "#fdca26"
            ],
            [
             1,
             "#f0f921"
            ]
           ]
          },
          "colorway": [
           "#636efa",
           "#EF553B",
           "#00cc96",
           "#ab63fa",
           "#FFA15A",
           "#19d3f3",
           "#FF6692",
           "#B6E880",
           "#FF97FF",
           "#FECB52"
          ],
          "font": {
           "color": "#2a3f5f"
          },
          "geo": {
           "bgcolor": "white",
           "lakecolor": "white",
           "landcolor": "white",
           "showlakes": true,
           "showland": true,
           "subunitcolor": "#C8D4E3"
          },
          "hoverlabel": {
           "align": "left"
          },
          "hovermode": "closest",
          "mapbox": {
           "style": "light"
          },
          "paper_bgcolor": "white",
          "plot_bgcolor": "white",
          "polar": {
           "angularaxis": {
            "gridcolor": "#EBF0F8",
            "linecolor": "#EBF0F8",
            "ticks": ""
           },
           "bgcolor": "white",
           "radialaxis": {
            "gridcolor": "#EBF0F8",
            "linecolor": "#EBF0F8",
            "ticks": ""
           }
          },
          "scene": {
           "xaxis": {
            "backgroundcolor": "white",
            "gridcolor": "#DFE8F3",
            "gridwidth": 2,
            "linecolor": "#EBF0F8",
            "showbackground": true,
            "ticks": "",
            "zerolinecolor": "#EBF0F8"
           },
           "yaxis": {
            "backgroundcolor": "white",
            "gridcolor": "#DFE8F3",
            "gridwidth": 2,
            "linecolor": "#EBF0F8",
            "showbackground": true,
            "ticks": "",
            "zerolinecolor": "#EBF0F8"
           },
           "zaxis": {
            "backgroundcolor": "white",
            "gridcolor": "#DFE8F3",
            "gridwidth": 2,
            "linecolor": "#EBF0F8",
            "showbackground": true,
            "ticks": "",
            "zerolinecolor": "#EBF0F8"
           }
          },
          "shapedefaults": {
           "line": {
            "color": "#2a3f5f"
           }
          },
          "ternary": {
           "aaxis": {
            "gridcolor": "#DFE8F3",
            "linecolor": "#A2B1C6",
            "ticks": ""
           },
           "baxis": {
            "gridcolor": "#DFE8F3",
            "linecolor": "#A2B1C6",
            "ticks": ""
           },
           "bgcolor": "white",
           "caxis": {
            "gridcolor": "#DFE8F3",
            "linecolor": "#A2B1C6",
            "ticks": ""
           }
          },
          "title": {
           "x": 0.05
          },
          "xaxis": {
           "automargin": true,
           "gridcolor": "#EBF0F8",
           "linecolor": "#EBF0F8",
           "ticks": "",
           "title": {
            "standoff": 15
           },
           "zerolinecolor": "#EBF0F8",
           "zerolinewidth": 2
          },
          "yaxis": {
           "automargin": true,
           "gridcolor": "#EBF0F8",
           "linecolor": "#EBF0F8",
           "ticks": "",
           "title": {
            "standoff": 15
           },
           "zerolinecolor": "#EBF0F8",
           "zerolinewidth": 2
          }
         }
        },
        "title": {
         "font": {
          "color": "Black",
          "size": 22
         },
         "text": "<b>Term score decline per Topic</b>",
         "x": 0.5,
         "xanchor": "center",
         "y": 0.9,
         "yanchor": "top"
        },
        "width": 800,
        "xaxis": {
         "dtick": 2,
         "range": [
          0,
          10
         ],
         "tick0": 1,
         "title": {
          "text": "Term Rank"
         }
        },
        "yaxis": {
         "title": {
          "text": "c-TF-IDF score"
         }
        }
       }
      }
     },
     "metadata": {},
     "output_type": "display_data"
    }
   ],
   "source": [
    "topic_model.visualize_term_rank()"
   ]
  },
  {
   "cell_type": "code",
   "execution_count": 14,
   "metadata": {},
   "outputs": [
    {
     "data": {
      "text/plain": [
       "[1, 0, -1, 3, 4]"
      ]
     },
     "execution_count": 14,
     "metadata": {},
     "output_type": "execute_result"
    }
   ],
   "source": [
    "similar_topics, similarity = topic_model.find_topics(\"amore\", top_n=5); similar_topics"
   ]
  },
  {
   "cell_type": "code",
   "execution_count": 15,
   "metadata": {},
   "outputs": [
    {
     "data": {
      "text/plain": [
       "False"
      ]
     },
     "execution_count": 15,
     "metadata": {},
     "output_type": "execute_result"
    }
   ],
   "source": [
    "topic_model.get_topic(21)"
   ]
  },
  {
   "cell_type": "code",
   "execution_count": 16,
   "metadata": {},
   "outputs": [
    {
     "data": {
      "text/plain": [
       "[('voce', 0.010827538270310974),\n",
       " ('amore', 0.010334538351707749),\n",
       " ('occhi', 0.009842310415005604),\n",
       " ('mano', 0.008235886354681034),\n",
       " ('pareva', 0.008179159896561542),\n",
       " ('anima', 0.008156718119771287),\n",
       " ('tratto', 0.007686575896012897),\n",
       " ('parole', 0.007618546212270168),\n",
       " ('essere', 0.007026572553198475),\n",
       " ('ombra', 0.006955058881823914)]"
      ]
     },
     "execution_count": 16,
     "metadata": {},
     "output_type": "execute_result"
    }
   ],
   "source": [
    "topic_model.get_topic(-1)"
   ]
  },
  {
   "cell_type": "code",
   "execution_count": 18,
   "metadata": {},
   "outputs": [
    {
     "data": {
      "text/plain": [
       "[('occhi', 0.02143692982713907),\n",
       " ('testa', 0.02012440275697506),\n",
       " ('bocca', 0.019439650735140927),\n",
       " ('capelli', 0.01898544439777446),\n",
       " ('color', 0.015369858858574932),\n",
       " ('fronte', 0.013790426977140988),\n",
       " ('piccolo', 0.012955039985226948),\n",
       " ('pareva', 0.012632117136622099),\n",
       " ('sottile', 0.011586474219172293),\n",
       " ('collo', 0.011137653767358723)]"
      ]
     },
     "execution_count": 18,
     "metadata": {},
     "output_type": "execute_result"
    }
   ],
   "source": [
    "topic_model.get_topic(5)"
   ]
  },
  {
   "cell_type": "code",
   "execution_count": 20,
   "metadata": {},
   "outputs": [
    {
     "data": {
      "text/plain": [
       "[3, 6, 0, 13, 2]"
      ]
     },
     "execution_count": 20,
     "metadata": {},
     "output_type": "execute_result"
    }
   ],
   "source": [
    "similar_topics, similarity = topic_model.find_topics(\"piacere\", top_n=5); similar_topics"
   ]
  },
  {
   "cell_type": "code",
   "execution_count": 21,
   "metadata": {},
   "outputs": [
    {
     "data": {
      "text/plain": [
       "[('addio', 0.05540132396611032),\n",
       " ('taci', 0.03182104305544797),\n",
       " ('tua', 0.029147142942584178),\n",
       " ('hai', 0.02848801266892888),\n",
       " ('chiese', 0.028413808008341642),\n",
       " ('voce', 0.025587573869591936),\n",
       " ('rispose', 0.024306711232382164),\n",
       " ('mano', 0.024206080946854246),\n",
       " ('amica', 0.024114066264934002),\n",
       " ('vada', 0.02386578229158598)]"
      ]
     },
     "execution_count": 21,
     "metadata": {},
     "output_type": "execute_result"
    }
   ],
   "source": [
    "topic_model.get_topic(3)"
   ]
  },
  {
   "cell_type": "code",
   "execution_count": 22,
   "metadata": {},
   "outputs": [
    {
     "data": {
      "text/plain": [
       "[('interruppe', 0.023819151301722585),\n",
       " ('ah', 0.023270982305627134),\n",
       " ('rispose', 0.02200121686952593),\n",
       " ('marchesa', 0.018932685934883207),\n",
       " ('principessa', 0.018680749432963686),\n",
       " ('amici', 0.017538050626870853),\n",
       " ('esclamò', 0.01736903471144954),\n",
       " ('cinque', 0.016903307564983476),\n",
       " ('domandò', 0.01636060778055033),\n",
       " ('chiese', 0.01607422190172133)]"
      ]
     },
     "execution_count": 22,
     "metadata": {},
     "output_type": "execute_result"
    }
   ],
   "source": [
    "topic_model.get_topic(6)"
   ]
  }
 ],
 "metadata": {
  "interpreter": {
   "hash": "46be0b876ca0f51bcb6c32aa779b658b92c1d733b9fd684b42983bb361d90619"
  },
  "kernelspec": {
   "display_name": "Python 3.9.12 ('base')",
   "language": "python",
   "name": "python3"
  },
  "language_info": {
   "codemirror_mode": {
    "name": "ipython",
    "version": 3
   },
   "file_extension": ".py",
   "mimetype": "text/x-python",
   "name": "python",
   "nbconvert_exporter": "python",
   "pygments_lexer": "ipython3",
   "version": "3.9.12"
  },
  "orig_nbformat": 4
 },
 "nbformat": 4,
 "nbformat_minor": 2
}
