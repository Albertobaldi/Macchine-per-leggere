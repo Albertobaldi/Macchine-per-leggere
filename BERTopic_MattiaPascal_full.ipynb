{
 "cells": [
  {
   "cell_type": "code",
   "execution_count": 4,
   "metadata": {},
   "outputs": [],
   "source": [
    "from bertopic import BERTopic"
   ]
  },
  {
   "cell_type": "code",
   "execution_count": 5,
   "metadata": {},
   "outputs": [],
   "source": [
    "pascal = open('/Users/albertobaldi/Desktop/Ricerca/READINGMACHINES/ILFUMATTIAPASCAL/TXT/COMPLETO/IlFuMattiaPascal_completo.txt', encoding=\"utf-8\").read().split('\\n')"
   ]
  },
  {
   "cell_type": "code",
   "execution_count": 23,
   "metadata": {},
   "outputs": [],
   "source": [
    "from sklearn.feature_extraction.text import CountVectorizer\n",
    "\n",
    "vectorizer_model = CountVectorizer(stop_words=[\"Comune\", \"Boccamazza\", \"Piazza San Pietro\", \"Via Borgo Nuovo\", \"Tordinona\", \"Napoli\", \"Papiano\", \"Meravigliavo\", \"Firenze\", \"Galleria Degli Uffizi\", \"Ponte Vecchio\", \"Molino Della Stìa\", \"Paleari\", \"Roma\", \"Regno Delle Due Sicilie\", \"Auletta\", \"Gianicolo\", \"Dei Prefetti\", \"Dôva\", \"Torino\", \"America\", \"Pavia\", \"Piacenza\", \"Montecarlo\", \"Nizza\", \"Spagnuolo\", \"Giglio\", \"Ambasciata Di Spagna\", \"Santa Sede\", \"Madrid\", \"Pantogada\", \"Giove\", \"Basilea\", \"Pontefici\", \"Stia\", \"Flaminia\", \"Regno Due Italia\", \"Adriana\", \"Reggia Chiaja\", \"Ispagna\", \"Colosseo\", \"Plaza De Toros\", \"Caffè Aragno\", \"Margherita\", \"Alenga\", \"Lungotevere\", \"Piazza Libertà\", \"Lungotevere Mellini\", \"Pisa\", \"Germania\", \"Reno\", \"Milano\", \"Miragno\", \"Oneglia\", \"Hôtel Nettuno\", \"Albergo Londra\", \"Meis\", \"Pomino\", \"Malagna\", \"Palazzo\", \"Brìsigo\", \"Dell’unione\", \"Stati Uniti\", \"New York\", \"Calvairate\", \"Tedeschi\", \"Missori\", \"Musocco\", \"Babilonia\", \"Pellegrinotto\", \"Mantova\", \"Terra\", \"Corsica\", \"Marsiglia\", \"Sicilia\", \"Liverpool\", \"Rocchino\", \"Pinzone\", \"La Burchiellesca\", \"Stigliani\", \"Riviere\", \"Oliva\", \"Venezia\", \"Lipsia\", \"Maria Liberale\", \"Avenue Gare\", \"Valençay\", \"Francia\", \"Potsdam\", \"Stato\", \"Zarina Russia\", \"Peterhof\", \"Ll\", \"Mm\", \"Lama\", \"Accorsa\", \"Alenga Il Foglietto?\", \"Lodoletta\", \"Crederà\", \"Palmentino\", \"Strozzani\", \"Parbetta\", \"Martoni\", \"Bartusi\", \"Genova\", \"Caffaro\", \"Grottanelli\", \"Locanda Biblioteca Paneade\", \"Beroníke\", \"Mattia-Romilda\", \"Buenos-Aires\", \"Argentina\", \"Massena\", \"Padova\", \"Ravenna\", \"Perugia\", \"Venezia!\", \"Firenze!\", \"Lungo Po\", \"Colonia\", \"Mannheim\", \"Worms\", \"Magonza\", \"Bingen\", \"Coblenza… Norvegia\", \"Fermo\", \"Vienna\", \"Austria\", \"Ripetta\", \"Monte Mario\", \"Prati\", \"Castel Sant’angelo\", \"Ponte Umberto\", \"Pietro In Montorio\", \"Plan Astral\", \"Aventino\", \"Nomentano\", \"comune\", \"boccamazza\", \"piazza san pietro\", \"via borgo nuovo\", \"tordinona\", \"napoli\", \"papiano\", \"meravigliavo\", \"firenze\", \"galleria degli uffizi\", \"ponte vecchio\", \"molino della stìa\", \"paleari\", \"roma\", \"regno delle due sicilie\", \"auletta\", \"gianicolo\", \"dei prefetti\", \"dôva\", \"ad\", \"torino\", \"america\", \"pavia\", \"piacenza\", \"montecarlo\", \"nizza\", \"spagnuolo\", \"giglio\", \"ambasciata di spagna\", \"santa sede\", \"madrid\", \"pantogada\", \"giove\", \"basilea\", \"pontefici\", \"stia\", \"flaminia\", \"regno due italia\", \"adriana\", \"reggia chiaja\", \"ispagna\", \"colosseo\", \"plaza de toros\", \"caffè aragno\", \"margherita\", \"alenga\", \"lungotevere\", \"piazza libertà\", \"lungotevere mellini\", \"pisa\", \"germania\", \"reno\", \"milano\", \"miragno\", \"oneglia\", \"hôtel nettuno\", \"albergo londra\", \"meis\", \"pomino\", \"malagna\", \"palazzo\", \"brìsigo\", \"dell’unione\", \"stati uniti\", \"new york\", \"calvairate\", \"tedeschi\", \"missori\", \"musocco\", \"babilonia\", \"pellegrinotto\", \"mantova\", \"terra\", \"corsica\", \"marsiglia\", \"sicilia\", \"liverpool\", \"rocchino\", \"pinzone\", \"la burchiellesca\", \"stigliani\", \"riviere\", \"oliva\", \"venezia\", \"lipsia\", \"maria liberale\", \"avenue gare\", \"valençay\", \"francia\", \"potsdam\", \"stato\", \"zarina russia\", \"peterhof\", \"ll\", \"mm\", \"lama\", \"accorsa\", \"alenga il foglietto?\", \"lodoletta\", \"crederà\", \"palmentino\", \"strozzani\", \"parbetta\", \"martoni\", \"bartusi\", \"genova\", \"caffaro\", \"grottanelli\", \"locanda biblioteca paneade\", \"beroníke\", \"mattia-romilda\", \"buenos-aires\", \"argentina\", \"massena\", \"padova\", \"ravenna\", \"perugia\", \"venezia!\", \"firenze!\", \"lungo po\", \"colonia\", \"mannheim\", \"worms\", \"magonza\", \"bingen\", \"coblenza… norvegia\", \"fermo\", \"vienna\", \"austria\", \"ripetta\", \"monte mario\", \"prati\", \"castel sant’angelo\", \"ponte umberto\", \"pietro in montorio\", \"plan astral\", \"aventino\", \"nomentano\", \"Mattia Pascal\", \"Monsignor Boccamazza\", \"Monsignore\", \"Santa Maria Liberale\", \"Meis\", \"Adriana\", \"Terenzio Papiano\", \"Caporale\", \"Adriano\", \"Perugino\", \"Raffaello\", \"Adriano Anselmo Paleari\", \"Anselmo\", \"Teresa Ravaschieri\", \"Gaetano Filangieri\", \"Giglio\", \"Borboni\", \"Borbonico\", \"Garibaldi\", \"Oreste\", \"Sophocle\", \"Egisto\", \"Scipione\", \"Silvia Rea Silvia\", \"Rita\", \"Scipione Cappelluccio\", \"Signor Francesco\", \"Paolo\", \"Antôni\", \"Francesco\", \"Antonio\", \"Don Antonio Pantogada\", \"Pepita\", \"Spagnuolo\", \"Ambrosini\", \"Niccolò Tommaseo\", \"Max\", \"Max Oliz\", \"Terenzio\", \"Manuel Bernaldez\", \"Minerva\", \"Tantalo\", \"Pontefice\", \"Ignazio Pietro Ulloa\", \"Re\", \"Regina\", \"Sovrano\", \"San Gennaro\", \"Ferdinando\", \"Ii\", \"Pascal!\", \"Miragno\", \"Roberto\", \"Tito Lenzi\", \"Cicerone\", \"M.B.\", \"Berto\", \"Roberto!\", \"Romilda Con Pomino\", \"Gerolamo I\", \"Malagna\", \"Lodoletta\", \"Eligio Pellegrinotto\", \"Don Eligio\", \"Batta Scolastica\", \"Alberto Heintz\", \"Tedeschi\", \"Luigi Longoni\", \"Majoli\", \"Ambrogio Casati\", \"Luigi\", \"Anton Muzio Porro\", \"Faustino Materucci\", \"Benedettino Di Polirone\", \"Copernico\", \"Giosuè\", \"Quintiliano\", \"Teresina\", \"Lucrezia\", \"Mattia\", \"Gerolamo,Giovanni\", \"Del Cinque\", \"Pinzone\", \"Giulio Cesare Croce\", \"Caton\", \"Uticense\", \"Stigliani\", \"Boccaccio\", \"Bandello\", \"Guendalina\", \"Salvoni\", \"Marianna Dondi\", \"Romilda\", \"Oliva\", \"Margherita\", \"Romitelli\", \"Giovanni Abramo… Birnbaum\", \"Abramo\", \"Mitzler\", \"Birnbaum Newton\", \"Giovan Vittorio Soderini\", \"Filippo\", \"Recchioni\", \"Filippo Brìsigo\", \"Cichin Lunaro\", \"Della Piana\", \"Bossi\", \"De Castellane\", \"Barone De Richtofen\", \"Zar\", \"Lama\", \"Jeri\", \"Miro Colzi\", \"Alenga\", \"Grottanelli\", \"Martoni\", \"Carlo Martoni\", \"Giustino Martire\", \"Tertulliano\", \"Cristo\", \"Cirillo D’alessandria!\", \"D’alessandria\", \"Veronica\", \"Camillo\", \"Napoleone\", \"Lucina\", \"Cavalier Lenzi!\", \"Cicerone\", \"Beato\", \"Cascai\", \"Ministero\", \"Rocco\", \"Vin Santo\", \"Kâmaloka\", \"Leadbeater\", \"Giacomo Leopardi\", \"Campidoglio\", \"mattia pascal\", \"monsignor boccamazza\", \"monsignore\", \"santa maria liberale\", \"meis\", \"adriana\", \"terenzio papiano\", \"caporale\", \"adriano\", \"perugino\", \"raffaello\", \"adriano anselmo paleari\", \"anselmo\", \"teresa ravaschieri\", \"gaetano filangieri\", \"giglio\", \"borboni\", \"borbonico\", \"garibaldi\", \"oreste\", \"sophocle\", \"egisto\", \"scipione\", \"silvia rea silvia\", \"rita\", \"scipione cappelluccio\", \"signor francesco\", \"paolo\", \"antôni\", \"francesco\", \"antonio\", \"don antonio pantogada\", \"pepita\", \"spagnuolo\", \"ambrosini\", \"niccolò tommaseo\", \"max\", \"max oliz\", \"terenzio\", \"manuel bernaldez\", \"minerva\", \"tantalo\", \"pontefice\", \"ignazio pietro ulloa\", \"re\", \"regina\", \"sovrano\", \"san gennaro\", \"ferdinando\", \"ii\", \"pascal!\", \"miragno\", \"roberto\", \"tito lenzi\", \"cicerone\", \"m.b.\", \"berto\", \"roberto!\", \"romilda con pomino\", \"gerolamo i\", \"malagna\", \"lodoletta\", \"eligio pellegrinotto\", \"don eligio\", \"batta scolastica\", \"alberto heintz\", \"tedeschi\", \"luigi longoni\", \"majoli\", \"ambrogio casati\", \"luigi\", \"anton muzio porro\", \"faustino materucci\", \"benedettino di polirone\", \"copernico\", \"giosuè\", \"quintiliano\", \"teresina\", \"lucrezia\", \"mattia\", \"gerolamo,giovanni\", \"del cinque\", \"pinzone\", \"giulio cesare croce\", \"caton\", \"uticense\", \"stigliani\", \"boccaccio\", \"bandello\", \"guendalina\", \"salvoni\", \"marianna dondi\", \"romilda\", \"oliva\", \"margherita\", \"romitelli\", \"giovanni abramo… birnbaum\", \"abramo\", \"mitzler\", \"birnbaum newton\", \"giovan vittorio soderini\", \"filippo\", \"recchioni\", \"filippo brìsigo\", \"cichin lunaro\", \"della piana\", \"bossi\", \"de castellane\", \"barone de richtofen\", \"zar\", \"lama\", \"jeri\", \"miro colzi\", \"alenga\", \"grottanelli\", \"martoni\", \"carlo martoni\", \"giustino martire\", \"tertulliano\", \"cristo\", \"cirillo d’alessandria!\", \"d’alessandria\", \"veronica\", \"camillo\", \"napoleone\", \"lucina\", \"cavalier lenzi!\", \"cicerone\", \"beato\", \"cascai\", \"ministero\", \"rocco\", \"vin santo\", \"kâmaloka\", \"leadbeater\", \"giacomo leopardi\", \"campidoglio\", \"al\", \"allo\", \"ai\", \"agli\", \"all\", \"agl\", \"alla\", \"alle\", \"con\", \"col\", \"coi\", \"da\", \"dal\", \"dallo\", \"dai\", \"dagli\", \"dall\", \"dagl\", \"dalla\", \"dalle\", \"di\", \"del\", \"dello\", \"dei\", \"degli\", \"dell\", \"degl\", \"della\", \"delle\", \"in\", \"nel\", \"nello\", \"nei\", \"negli\", \"nell\", \"negl\", \"nella\", \"nelle\", \"su\", \"sul\", \"sullo\", \"sui\", \"sugli\", \"sull\", \"sugl\", \"sulla\", \"sulle\", \"per\", \"tra\", \"contro\", \"io\", \"tu\", \"lui\", \"lei\", \"noi\", \"voi\", \"loro\", \"mio\", \"mia\", \"miei\", \"mie\", \"tuo\", \"tua\", \"tuoi\", \"tue\", \"suo\", \"sua\", \"suoi\", \"sue\", \"nostro\", \"nostra\", \"nostri\", \"nostre\", \"vostro\", \"vostra\", \"vostri\", \"vostre\", \"mi\", \"ti\", \"ci\", \"vi\", \"lo\", \"la\", \"li\", \"le\", \"gli\", \"ne\", \"il\", \"un\", \"uno\", \"una\", \"ma\", \"ed\", \"se\", \"perché\", \"anche\", \"come\", \"dov\", \"dove\", \"che\", \"chi\", \"cui\", \"non\", \"più\", \"quale\", \"quanto\", \"quanti\", \"quanta\", \"quante\", \"quello\", \"quelli\", \"quella\", \"quelle\", \"questo\", \"questi\", \"questa\", \"queste\", \"si\", \"tutto\", \"tutti\", \"a\", \"c\", \"e\", \"i\", \"l\", \"o\", \"ho\", \"hai\", \"ha\", \"abbiamo\", \"avete\", \"hanno\", \"abbia\", \"abbiate\", \"abbiano\", \"avrò\", \"avrai\", \"avrà\", \"avremo\", \"avrete\", \"avranno\", \"avrei\", \"avresti\", \"avrebbe\", \"avremmo\", \"avreste\", \"avrebbero\", \"avevo\", \"avevi\", \"aveva\", \"avevamo\", \"avevate\", \"avevano\", \"ebbi\", \"avesti\", \"ebbe\", \"avemmo\", \"aveste\", \"ebbero\", \"avessi\", \"avesse\", \"avessimo\", \"avessero\", \"avendo\", \"avuto\", \"avuta\", \"avuti\", \"avute\", \"sono\", \"sei\", \"è\", \"siamo\", \"siete\", \"sia\", \"siate\", \"siano\", \"sarò\", \"sarai\", \"sarà\", \"saremo\", \"sarete\", \"saranno\", \"sarei\", \"saresti\", \"sarebbe\", \"saremmo\", \"sareste\", \"sarebbero\", \"ero\", \"eri\", \"era\", \"eravamo\", \"eravate\", \"erano\", \"fui\", \"fosti\", \"fu\", \"fummo\", \"foste\", \"furono\", \"fossi\", \"fosse\", \"fossimo\", \"fossero\", \"essendo\", \"faccio\", \"fai\", \"facciamo\", \"fanno\", \"faccia\", \"facciate\", \"facciano\", \"farò\", \"farai\", \"farà\", \"faremo\", \"farete\", \"faranno\", \"farei\", \"faresti\", \"farebbe\", \"faremmo\", \"fareste\", \"farebbero\", \"facevo\", \"facevi\", \"faceva\", \"facevamo\", \"facevate\", \"facevano\", \"feci\", \"facesti\", \"fece\", \"facemmo\", \"faceste\", \"fecero\", \"facessi\", \"facesse\", \"facessimo\", \"facessero\", \"facendo\", \"sto\", \"stai\", \"sta\", \"stiamo\", \"stanno\", \"stia\", \"stiate\", \"stiano\", \"starò\", \"starai\", \"starà\", \"staremo\", \"starete\", \"staranno\", \"starei\", \"staresti\", \"starebbe\", \"staremmo\", \"stareste\", \"starebbero\", \"stavo\", \"stavi\", \"stava\", \"stavamo\", \"stavate\", \"stavano\", \"stetti\", \"stesti\", \"stette\", \"stemmo\", \"steste\", \"stettero\", \"stessi\", \"stesse\", \"stessimo\", \"stessero\", \"stando\", \"abbastanza\", \"accidenti\", \"adesso\", \"affinché\", \"ahime\", \"ahimè\", \"alcuna\", \"alcuni\", \"alcuno\", \"allora\", \"altre\", \"altri\", \"altrimenti\", \"altro\", \"altrove\", \"altrui\", \"ancora\", \"anni\", \"anno\", \"ansa\", \"anticipo\", \"assai\", \"attesa\", \"attraverso\", \"avanti\", \"avente\", \"aver\", \"avere\", \"averlo\", \"basta\", \"ben\", \"bene\", \"benissimo\", \"brava\", \"bravo\", \"buono\", \"caso\", \"cento\", \"certa\", \"certe\", \"certi\", \"certo\", \"chicchessia\", \"chiunque\", \"ciascuna\", \"ciascuno\", \"cima\", \"cinque\", \"cio\", \"cioe\", \"cioè\", \"circa\", \"citta\", \"città\", \"ciò\", \"co\", \"codesta\", \"codesti\", \"codesto\", \"cogli\", \"colei\", \"coll\", \"coloro\", \"colui\", \"cominci\", \"comprare\", \"comunque\", \"concernente\", \"conclusione\", \"consecutivi\", \"consecutivo\", \"consiglio\", \"cortesia\", \"cos\", \"cosa\", \"cosi\", \"così\", \"d\", \"dappertutto\", \"davanti\", \"dentro\", \"detto\", \"deve\", \"devo\", \"dice\", \"dietro\", \"dire\", \"dirimpetto\", \"diventa\", \"diventare\", \"diventato\", \"dopo\", \"doppio\", \"dovra\", \"dovrà\", \"dovunque\", \"due\", \"dunque\", \"durante\", \"ecc\", \"ecco\", \"effettivamente\", \"egli\", \"ella\", \"entrambi\", \"eppure\", \"esempio\", \"esse\", \"esser\", \"essere\", \"essi\", \"ex\", \"fa\", \"fare\", \"fatto\", \"favore\", \"fin\", \"finalmente\", \"finche\", \"fine\", \"fino\", \"forse\", \"forza\", \"fra\", \"frattempo\", \"fuori\", \"futuro\", \"generale\", \"gente\", \"gia\", \"giacche\", \"giorni\", \"giorno\", \"giu\", \"già\", \"gliela\", \"gliele\", \"glieli\", \"glielo\", \"gliene\", \"grande\", \"grazie\", \"gruppo\", \"haha\", \"ie\", \"ieri\", \"improvviso\", \"inc\", \"indietro\", \"infatti\", \"inoltre\", \"insieme\", \"intanto\", \"intorno\", \"invece\", \"lasciato\", \"lato\", \"lontano\", \"lungo\", \"luogo\", \"là\", \"macche\", \"magari\", \"maggior\", \"mai\", \"male\", \"malgrado\", \"malissimo\", \"me\", \"medesimo\", \"mediante\", \"meglio\", \"meno\", \"mentre\", \"mesi\", \"mezzo\", \"mila\", \"miliardi\", \"milioni\", \"minimi\", \"modo\", \"molta\", \"molti\", \"moltissimo\", \"molto\", \"momento\", \"mondo\", \"nemmeno\", \"neppure\", \"nessun\", \"nessuna\", \"nessuno\", \"niente\", \"no\", \"nome\", \"nondimeno\", \"nonostante\", \"nonsia\", \"novanta\", \"nove\", \"nulla\", \"nuovi\", \"nuovo\", \"od\", \"oggi\", \"ogni\", \"ognuna\", \"ognuno\", \"oltre\", \"oppure\", \"ora\", \"ore\", \"osi\", \"ossia\", \"ottanta\", \"otto\", \"paese\", \"parecchi\", \"parecchie\", \"parecchio\", \"parte\", \"partendo\", \"peccato\", \"peggio\", \"perche\", \"perchè\", \"percio\", \"perciò\", \"perfino\", \"pero\", \"persino\", \"persone\", \"però\", \"piedi\", \"pieno\", \"piglia\", \"piu\", \"piuttosto\", \"po\", \"pochissimo\", \"poco\", \"poi\", \"poiche\", \"possa\", \"possedere\", \"posteriore\", \"posto\", \"potrebbe\", \"preferibilmente\", \"presa\", \"press\", \"prima\", \"primo\", \"principalmente\", \"probabilmente\", \"promesso\", \"proprio\", \"puo\", \"pure\", \"purtroppo\", \"può\", \"qua\", \"qualche\", \"qualcosa\", \"qualcuna\", \"qualcuno\", \"quali\", \"qualunque\", \"quando\", \"quantunque\", \"quarto\", \"quasi\", \"quattro\", \"quel\", \"quest\", \"qui\", \"quindi\", \"quinto\", \"realmente\", \"recente\", \"recentemente\", \"registrazione\", \"relativo\", \"riecco\", \"rispetto\", \"salvo\", \"sara\", \"scola\", \"scopo\", \"scorso\", \"secondo\", \"seguente\", \"seguito\", \"sembra\", \"sembrare\", \"sembrato\", \"sembrava\", \"sembri\", \"sempre\", \"senza\", \"sette\", \"sig\", \"solito\", \"solo\", \"soltanto\", \"sopra\", \"soprattutto\", \"sotto\", \"spesso\", \"stata\", \"state\", \"stati\", \"stato\", \"stessa\", \"stesso\", \"subito\", \"successivamente\", \"successivo\", \"tale\", \"tali\", \"talvolta\", \"tanto\", \"te\", \"tempo\", \"terzo\", \"th\", \"titolo\", \"tranne\", \"tre\", \"trenta\", \"triplo\", \"troppo\", \"trovato\", \"tutta\", \"tuttavia\", \"tutte\", \"uguali\", \"ulteriore\", \"ultimo\", \"uomo\", \"va\", \"vai\", \"vale\", \"vari\", \"varia\", \"varie\", \"vario\", \"verso\", \"vicino\", \"visto\", \"vita\", \"volta\", \"volte\", \"è\", \"Ad\", \"Al\", \"Allo\", \"Ai\", \"Agli\", \"All\", \"Agl\", \"Alla\", \"Alle\", \"Con\", \"Col\", \"Coi\", \"Da\", \"Dal\", \"Dallo\", \"Dai\", \"Dagli\", \"Dall\", \"Dagl\", \"Dalla\", \"Dalle\", \"Di\", \"Del\", \"Dello\", \"Dei\", \"Degli\", \"Dell\", \"Degl\", \"Della\", \"Delle\", \"In\", \"Nel\", \"Nello\", \"Nei\", \"Negli\", \"Nell\", \"Negl\", \"Nella\", \"Nelle\", \"Su\", \"Sul\", \"Sullo\", \"Sui\", \"Sugli\", \"Sull\", \"Sugl\", \"Sulla\", \"Sulle\", \"Per\", \"Tra\", \"Contro\", \"Io\", \"Tu\", \"Lui\", \"Lei\", \"Noi\", \"Voi\", \"Loro\", \"Mio\", \"Mia\", \"Miei\", \"Mie\", \"Tuo\", \"Tua\", \"Tuoi\", \"Tue\", \"Suo\", \"Sua\", \"Suoi\", \"Sue\", \"Nostro\", \"Nostra\", \"Nostri\", \"Nostre\", \"Vostro\", \"Vostra\", \"Vostri\", \"Vostre\", \"Mi\", \"Ti\", \"Ci\", \"Vi\", \"Lo\", \"La\", \"Li\", \"Le\", \"Gli\", \"Ne\", \"Il\", \"Un\", \"Uno\", \"Una\", \"Ma\", \"Ed\", \"Se\", \"Perché\", \"Anche\", \"Come\", \"Dov\", \"Dove\", \"Che\", \"Chi\", \"Cui\", \"Non\", \"Più\", \"Quale\", \"Quanto\", \"Quanti\", \"Quanta\", \"Quante\", \"Quello\", \"Quelli\", \"Quella\", \"Quelle\", \"Questo\", \"Questi\", \"Questa\", \"Queste\", \"Si\", \"Tutto\", \"Tutti\", \"A\", \"C\", \"E\", \"I\", \"L\", \"O\", \"Ho\", \"Hai\", \"Ha\", \"Abbiamo\", \"Avete\", \"Hanno\", \"Abbia\", \"Abbiate\", \"Abbiano\", \"Avrò\", \"Avrai\", \"Avrà\", \"Avremo\", \"Avrete\", \"Avranno\", \"Avrei\", \"Avresti\", \"Avrebbe\", \"Avremmo\", \"Avreste\", \"Avrebbero\", \"Avevo\", \"Avevi\", \"Aveva\", \"Avevamo\", \"Avevate\", \"Avevano\", \"Ebbi\", \"Avesti\", \"Ebbe\", \"Avemmo\", \"Aveste\", \"Ebbero\", \"Avessi\", \"Avesse\", \"Avessimo\", \"Avessero\", \"Avendo\", \"Avuto\", \"Avuta\", \"Avuti\", \"Avute\", \"Sono\", \"Sei\", \"È\", \"Siamo\", \"Siete\", \"Sia\", \"Siate\", \"Siano\", \"Sarò\", \"Sarai\", \"Sarà\", \"Saremo\", \"Sarete\", \"Saranno\", \"Sarei\", \"Saresti\", \"Sarebbe\", \"Saremmo\", \"Sareste\", \"Sarebbero\", \"Ero\", \"Eri\", \"Era\", \"Eravamo\", \"Eravate\", \"Erano\", \"Fui\", \"Fosti\", \"Fu\", \"Fummo\", \"Foste\", \"Furono\", \"Fossi\", \"Fosse\", \"Fossimo\", \"Fossero\", \"Essendo\", \"Faccio\", \"Fai\", \"Facciamo\", \"Fanno\", \"Faccia\", \"Facciate\", \"Facciano\", \"Farò\", \"Farai\", \"Farà\", \"Faremo\", \"Farete\", \"Faranno\", \"Farei\", \"Faresti\", \"Farebbe\", \"Faremmo\", \"Fareste\", \"Farebbero\", \"Facevo\", \"Facevi\", \"Faceva\", \"Facevamo\", \"Facevate\", \"Facevano\", \"Feci\", \"Facesti\", \"Fece\", \"Facemmo\", \"Faceste\", \"Fecero\", \"Facessi\", \"Facesse\", \"Facessimo\", \"Facessero\", \"Facendo\", \"Sto\", \"Stai\", \"Sta\", \"Stiamo\", \"Stanno\", \"Stia\", \"Stiate\", \"Stiano\", \"Starò\", \"Starai\", \"Starà\", \"Staremo\", \"Starete\", \"Staranno\", \"Starei\", \"Staresti\", \"Starebbe\", \"Staremmo\", \"Stareste\", \"Starebbero\", \"Stavo\", \"Stavi\", \"Stava\", \"Stavamo\", \"Stavate\", \"Stavano\", \"Stetti\", \"Stesti\", \"Stette\", \"Stemmo\", \"Steste\", \"Stettero\", \"Stessi\", \"Stesse\", \"Stessimo\", \"Stessero\", \"Stando\", \"Abbastanza\", \"Accidenti\", \"Adesso\", \"Affinché\", \"Ahime\", \"Ahimè\", \"Alcuna\", \"Alcuni\", \"Alcuno\", \"Allora\", \"Altre\", \"Altri\", \"Altrimenti\", \"Altro\", \"Altrove\", \"Altrui\", \"Ancora\", \"Anni\", \"Anno\", \"Ansa\", \"Anticipo\", \"Assai\", \"Attesa\", \"Attraverso\", \"Avanti\", \"Avente\", \"Aver\", \"Avere\", \"Averlo\", \"Basta\", \"Ben\", \"Bene\", \"Benissimo\", \"Brava\", \"Bravo\", \"Buono\", \"Caso\", \"Cento\", \"Certa\", \"Certe\", \"Certi\", \"Certo\", \"Chicchessia\", \"Chiunque\", \"Ciascuna\", \"Ciascuno\", \"Cima\", \"Cinque\", \"Cio\", \"Cioe\", \"Cioè\", \"Circa\", \"Citta\", \"Città\", \"Ciò\", \"Co\", \"Codesta\", \"Codesti\", \"Codesto\", \"Cogli\", \"Colei\", \"Coll\", \"Coloro\", \"Colui\", \"Cominci\", \"Comprare\", \"Comunque\", \"Concernente\", \"Conclusione\", \"Consecutivi\", \"Consecutivo\", \"Consiglio\", \"Cortesia\", \"Cos\", \"Cosa\", \"Cosi\", \"Così\", \"D\", \"Dappertutto\", \"Davanti\", \"Dentro\", \"Detto\", \"Deve\", \"Devo\", \"Dice\", \"Dietro\", \"Dire\", \"Dirimpetto\", \"Diventa\", \"Diventare\", \"Diventato\", \"Dopo\", \"Doppio\", \"Dovra\", \"Dovrà\", \"Dovunque\", \"Due\", \"Dunque\", \"Durante\", \"Ecc\", \"Ecco\", \"Effettivamente\", \"Egli\", \"Ella\", \"Entrambi\", \"Eppure\", \"Esempio\", \"Esse\", \"Esser\", \"Essere\", \"Essi\", \"Ex\", \"Fa\", \"Fare\", \"Fatto\", \"Favore\", \"Fin\", \"Finalmente\", \"Finche\", \"Fine\", \"Fino\", \"Forse\", \"Forza\", \"Fra\", \"Frattempo\", \"Fuori\", \"Futuro\", \"Generale\", \"Gente\", \"Gia\", \"Giacche\", \"Giorni\", \"Giorno\", \"Giu\", \"Già\", \"Gliela\", \"Gliele\", \"Glieli\", \"Glielo\", \"Gliene\", \"Grande\", \"Grazie\", \"Gruppo\", \"Haha\", \"Ie\", \"Ieri\", \"Improvviso\", \"Inc\", \"Indietro\", \"Infatti\", \"Inoltre\", \"Insieme\", \"Intanto\", \"Intorno\", \"Invece\", \"Lasciato\", \"Lato\", \"Lontano\", \"Lungo\", \"Luogo\", \"Là\", \"Macche\", \"Magari\", \"Maggior\", \"Mai\", \"Male\", \"Malgrado\", \"Malissimo\", \"Me\", \"Medesimo\", \"Mediante\", \"Meglio\", \"Meno\", \"Mentre\", \"Mesi\", \"Mezzo\", \"Mila\", \"Miliardi\", \"Milioni\", \"Minimi\", \"Modo\", \"Molta\", \"Molti\", \"Moltissimo\", \"Molto\", \"Momento\", \"Mondo\", \"Nemmeno\", \"Neppure\", \"Nessun\", \"Nessuna\", \"Nessuno\", \"Niente\", \"No\", \"Nome\", \"Nondimeno\", \"Nonostante\", \"Nonsia\", \"Novanta\", \"Nove\", \"Nulla\", \"Nuovi\", \"Nuovo\", \"Od\", \"Oggi\", \"Ogni\", \"Ognuna\", \"Ognuno\", \"Oltre\", \"Oppure\", \"Ora\", \"Ore\", \"Osi\", \"Ossia\", \"Ottanta\", \"Otto\", \"Paese\", \"Parecchi\", \"Parecchie\", \"Parecchio\", \"Parte\", \"Partendo\", \"Peccato\", \"Peggio\", \"Perche\", \"Perchè\", \"Percio\", \"Perciò\", \"Perfino\", \"Pero\", \"Persino\", \"Persone\", \"Però\", \"Piedi\", \"Pieno\", \"Piglia\", \"Piu\", \"Piuttosto\", \"Po\", \"Pochissimo\", \"Poco\", \"Poi\", \"Poiche\", \"Possa\", \"Possedere\", \"Posteriore\", \"Posto\", \"Potrebbe\", \"Preferibilmente\", \"Presa\", \"Press\", \"Prima\", \"Primo\", \"Principalmente\", \"Probabilmente\", \"Promesso\", \"Proprio\", \"Puo\", \"Pure\", \"Purtroppo\", \"Può\", \"Qua\", \"Qualche\", \"Qualcosa\", \"Qualcuna\", \"Qualcuno\", \"Quali\", \"Qualunque\", \"Quando\", \"Quantunque\", \"Quarto\", \"Quasi\", \"Quattro\", \"Quel\", \"Quest\", \"Qui\", \"Quindi\", \"Quinto\", \"Realmente\", \"Recente\", \"Recentemente\", \"Registrazione\", \"Relativo\", \"Riecco\", \"Rispetto\", \"Salvo\", \"Sara\", \"Scola\", \"Scopo\", \"Scorso\", \"Secondo\", \"Seguente\", \"Seguito\", \"Sembra\", \"Sembrare\", \"Sembrato\", \"Sembrava\", \"Sembri\", \"Sempre\", \"Senza\", \"Sette\", \"Sig\", \"Solito\", \"Solo\", \"Soltanto\", \"Sopra\", \"Soprattutto\", \"Sotto\", \"Spesso\", \"Stata\", \"State\", \"Stati\", \"Stato\", \"Stessa\", \"Stesso\", \"Subito\", \"Successivamente\", \"Successivo\", \"Tale\", \"Tali\", \"Talvolta\", \"Tanto\", \"Te\", \"Tempo\", \"Terzo\", \"Th\", \"Titolo\", \"Tranne\", \"Tre\", \"Trenta\", \"Triplo\", \"Troppo\", \"Trovato\", \"Tutta\", \"Tuttavia\", \"Tutte\", \"Uguali\", \"Ulteriore\", \"Ultimo\", \"Uomo\", \"Va\", \"Vai\", \"Vale\", \"Vari\", \"Varia\", \"Varie\", \"Vario\", \"Verso\", \"Vicino\", \"Visto\", \"Vita\", \"Volta\", \"Volte\"] )"
   ]
  },
  {
   "cell_type": "code",
   "execution_count": 24,
   "metadata": {},
   "outputs": [],
   "source": [
    "topic_model = BERTopic(language=\"multilingual\", calculate_probabilities=True, verbose=True, vectorizer_model=vectorizer_model)"
   ]
  },
  {
   "cell_type": "code",
   "execution_count": 25,
   "metadata": {},
   "outputs": [
    {
     "data": {
      "application/vnd.jupyter.widget-view+json": {
       "model_id": "419d96c4ae9245a6aa4b856719ca8207",
       "version_major": 2,
       "version_minor": 0
      },
      "text/plain": [
       "Batches:   0%|          | 0/64 [00:00<?, ?it/s]"
      ]
     },
     "metadata": {},
     "output_type": "display_data"
    },
    {
     "name": "stderr",
     "output_type": "stream",
     "text": [
      "2022-07-08 17:46:41,581 - BERTopic - Transformed documents to Embeddings\n",
      "2022-07-08 17:46:46,554 - BERTopic - Reduced dimensionality\n",
      "2022-07-08 17:46:46,741 - BERTopic - Clustered reduced embeddings\n"
     ]
    }
   ],
   "source": [
    "topics, probs = topic_model.fit_transform(pascal)"
   ]
  },
  {
   "cell_type": "code",
   "execution_count": 27,
   "metadata": {},
   "outputs": [
    {
     "data": {
      "text/html": [
       "<div>\n",
       "<style scoped>\n",
       "    .dataframe tbody tr th:only-of-type {\n",
       "        vertical-align: middle;\n",
       "    }\n",
       "\n",
       "    .dataframe tbody tr th {\n",
       "        vertical-align: top;\n",
       "    }\n",
       "\n",
       "    .dataframe thead th {\n",
       "        text-align: right;\n",
       "    }\n",
       "</style>\n",
       "<table border=\"1\" class=\"dataframe\">\n",
       "  <thead>\n",
       "    <tr style=\"text-align: right;\">\n",
       "      <th></th>\n",
       "      <th>Topic</th>\n",
       "      <th>Count</th>\n",
       "      <th>Name</th>\n",
       "    </tr>\n",
       "  </thead>\n",
       "  <tbody>\n",
       "    <tr>\n",
       "      <th>0</th>\n",
       "      <td>-1</td>\n",
       "      <td>804</td>\n",
       "      <td>-1_lì_ch_casa_via</td>\n",
       "    </tr>\n",
       "    <tr>\n",
       "      <th>1</th>\n",
       "      <td>0</td>\n",
       "      <td>182</td>\n",
       "      <td>0_madre_moglie_occhi_mamma</td>\n",
       "    </tr>\n",
       "    <tr>\n",
       "      <th>2</th>\n",
       "      <td>1</td>\n",
       "      <td>114</td>\n",
       "      <td>1_signorina_furto_poteva_ch</td>\n",
       "    </tr>\n",
       "    <tr>\n",
       "      <th>3</th>\n",
       "      <td>2</td>\n",
       "      <td>90</td>\n",
       "      <td>2_signor_natura_anima_esso</td>\n",
       "    </tr>\n",
       "    <tr>\n",
       "      <th>4</th>\n",
       "      <td>3</td>\n",
       "      <td>62</td>\n",
       "      <td>3_potevo_libertà_potuto_dovevo</td>\n",
       "    </tr>\n",
       "    <tr>\n",
       "      <th>5</th>\n",
       "      <td>4</td>\n",
       "      <td>59</td>\n",
       "      <td>4_libri_biblioteca_leggere_libro</td>\n",
       "    </tr>\n",
       "    <tr>\n",
       "      <th>6</th>\n",
       "      <td>5</td>\n",
       "      <td>54</td>\n",
       "      <td>5_udite_sì_anca_rifà</td>\n",
       "    </tr>\n",
       "    <tr>\n",
       "      <th>8</th>\n",
       "      <td>6</td>\n",
       "      <td>47</td>\n",
       "      <td>6_morto_padre_cadavere_vivo</td>\n",
       "    </tr>\n",
       "    <tr>\n",
       "      <th>7</th>\n",
       "      <td>7</td>\n",
       "      <td>47</td>\n",
       "      <td>7_moglie_matrimonio_lascio_sù</td>\n",
       "    </tr>\n",
       "    <tr>\n",
       "      <th>9</th>\n",
       "      <td>8</td>\n",
       "      <td>43</td>\n",
       "      <td>8_par_com_avvenuto_piccina</td>\n",
       "    </tr>\n",
       "    <tr>\n",
       "      <th>10</th>\n",
       "      <td>9</td>\n",
       "      <td>40</td>\n",
       "      <td>9_disse_colpa_esclamò_municipio</td>\n",
       "    </tr>\n",
       "    <tr>\n",
       "      <th>11</th>\n",
       "      <td>10</td>\n",
       "      <td>36</td>\n",
       "      <td>10_comprende_dissi_fado_pronto</td>\n",
       "    </tr>\n",
       "    <tr>\n",
       "      <th>12</th>\n",
       "      <td>11</td>\n",
       "      <td>34</td>\n",
       "      <td>11_voce_sguardo_lasciai_tavoliere</td>\n",
       "    </tr>\n",
       "    <tr>\n",
       "      <th>13</th>\n",
       "      <td>12</td>\n",
       "      <td>34</td>\n",
       "      <td>12_italia_marchese_venuto_lasciar</td>\n",
       "    </tr>\n",
       "    <tr>\n",
       "      <th>14</th>\n",
       "      <td>13</td>\n",
       "      <td>33</td>\n",
       "      <td>13_pascal_vivo_morto_addosso</td>\n",
       "    </tr>\n",
       "    <tr>\n",
       "      <th>15</th>\n",
       "      <td>14</td>\n",
       "      <td>33</td>\n",
       "      <td>14_treno_stazione_viaggio_ponte</td>\n",
       "    </tr>\n",
       "    <tr>\n",
       "      <th>16</th>\n",
       "      <td>15</td>\n",
       "      <td>26</td>\n",
       "      <td>15_signor_esclamò_solleva_colpi</td>\n",
       "    </tr>\n",
       "    <tr>\n",
       "      <th>17</th>\n",
       "      <td>16</td>\n",
       "      <td>24</td>\n",
       "      <td>16_torto_esclamò_signorina_spiegò</td>\n",
       "    </tr>\n",
       "    <tr>\n",
       "      <th>18</th>\n",
       "      <td>17</td>\n",
       "      <td>22</td>\n",
       "      <td>17_possibile_zucchero_stride_meravigliarsi</td>\n",
       "    </tr>\n",
       "    <tr>\n",
       "      <th>19</th>\n",
       "      <td>18</td>\n",
       "      <td>20</td>\n",
       "      <td>18_supplizio_tratto_bernaldez_silvia</td>\n",
       "    </tr>\n",
       "    <tr>\n",
       "      <th>20</th>\n",
       "      <td>19</td>\n",
       "      <td>19</td>\n",
       "      <td>19_medico_sentii_gola_scansavo</td>\n",
       "    </tr>\n",
       "    <tr>\n",
       "      <th>21</th>\n",
       "      <td>20</td>\n",
       "      <td>19</td>\n",
       "      <td>20_candida_signora_vestia_bernaldez</td>\n",
       "    </tr>\n",
       "    <tr>\n",
       "      <th>22</th>\n",
       "      <td>21</td>\n",
       "      <td>18</td>\n",
       "      <td>21_biglietti_portafogli_libero_cercavo</td>\n",
       "    </tr>\n",
       "    <tr>\n",
       "      <th>23</th>\n",
       "      <td>22</td>\n",
       "      <td>18</td>\n",
       "      <td>22_amico_sapesse_pensi_capito</td>\n",
       "    </tr>\n",
       "    <tr>\n",
       "      <th>24</th>\n",
       "      <td>23</td>\n",
       "      <td>18</td>\n",
       "      <td>23_occhio_occhiali_capelli_finanziera</td>\n",
       "    </tr>\n",
       "    <tr>\n",
       "      <th>25</th>\n",
       "      <td>24</td>\n",
       "      <td>18</td>\n",
       "      <td>24_trasecolai_riassumendo_ventidue_eco</td>\n",
       "    </tr>\n",
       "    <tr>\n",
       "      <th>26</th>\n",
       "      <td>25</td>\n",
       "      <td>17</td>\n",
       "      <td>25_lapide_concittadini_précision_roulettes</td>\n",
       "    </tr>\n",
       "    <tr>\n",
       "      <th>27</th>\n",
       "      <td>26</td>\n",
       "      <td>16</td>\n",
       "      <td>26_magro_scivolava_quarant_nen</td>\n",
       "    </tr>\n",
       "    <tr>\n",
       "      <th>28</th>\n",
       "      <td>27</td>\n",
       "      <td>16</td>\n",
       "      <td>27_gridai_segno_tosta_operazioni</td>\n",
       "    </tr>\n",
       "    <tr>\n",
       "      <th>29</th>\n",
       "      <td>28</td>\n",
       "      <td>16</td>\n",
       "      <td>28_gracie_dio_luce_dano</td>\n",
       "    </tr>\n",
       "    <tr>\n",
       "      <th>30</th>\n",
       "      <td>29</td>\n",
       "      <td>13</td>\n",
       "      <td>29_scudi_anello_venticinque_innanzi</td>\n",
       "    </tr>\n",
       "    <tr>\n",
       "      <th>31</th>\n",
       "      <td>30</td>\n",
       "      <td>13</td>\n",
       "      <td>30_dottor_servo_consideri_clericale</td>\n",
       "    </tr>\n",
       "    <tr>\n",
       "      <th>32</th>\n",
       "      <td>31</td>\n",
       "      <td>13</td>\n",
       "      <td>31_signor_dorme_scusi_parlavamo</td>\n",
       "    </tr>\n",
       "    <tr>\n",
       "      <th>33</th>\n",
       "      <td>32</td>\n",
       "      <td>11</td>\n",
       "      <td>32_ani_annunzia_trant_vingtcinq</td>\n",
       "    </tr>\n",
       "    <tr>\n",
       "      <th>34</th>\n",
       "      <td>33</td>\n",
       "      <td>10</td>\n",
       "      <td>33_mano_occhi_mani_volto</td>\n",
       "    </tr>\n",
       "  </tbody>\n",
       "</table>\n",
       "</div>"
      ],
      "text/plain": [
       "    Topic  Count                                        Name\n",
       "0      -1    804                           -1_lì_ch_casa_via\n",
       "1       0    182                  0_madre_moglie_occhi_mamma\n",
       "2       1    114                 1_signorina_furto_poteva_ch\n",
       "3       2     90                  2_signor_natura_anima_esso\n",
       "4       3     62              3_potevo_libertà_potuto_dovevo\n",
       "5       4     59            4_libri_biblioteca_leggere_libro\n",
       "6       5     54                        5_udite_sì_anca_rifà\n",
       "8       6     47                 6_morto_padre_cadavere_vivo\n",
       "7       7     47               7_moglie_matrimonio_lascio_sù\n",
       "9       8     43                  8_par_com_avvenuto_piccina\n",
       "10      9     40             9_disse_colpa_esclamò_municipio\n",
       "11     10     36              10_comprende_dissi_fado_pronto\n",
       "12     11     34           11_voce_sguardo_lasciai_tavoliere\n",
       "13     12     34           12_italia_marchese_venuto_lasciar\n",
       "14     13     33                13_pascal_vivo_morto_addosso\n",
       "15     14     33             14_treno_stazione_viaggio_ponte\n",
       "16     15     26             15_signor_esclamò_solleva_colpi\n",
       "17     16     24           16_torto_esclamò_signorina_spiegò\n",
       "18     17     22  17_possibile_zucchero_stride_meravigliarsi\n",
       "19     18     20        18_supplizio_tratto_bernaldez_silvia\n",
       "20     19     19              19_medico_sentii_gola_scansavo\n",
       "21     20     19         20_candida_signora_vestia_bernaldez\n",
       "22     21     18      21_biglietti_portafogli_libero_cercavo\n",
       "23     22     18               22_amico_sapesse_pensi_capito\n",
       "24     23     18       23_occhio_occhiali_capelli_finanziera\n",
       "25     24     18      24_trasecolai_riassumendo_ventidue_eco\n",
       "26     25     17  25_lapide_concittadini_précision_roulettes\n",
       "27     26     16              26_magro_scivolava_quarant_nen\n",
       "28     27     16            27_gridai_segno_tosta_operazioni\n",
       "29     28     16                     28_gracie_dio_luce_dano\n",
       "30     29     13         29_scudi_anello_venticinque_innanzi\n",
       "31     30     13         30_dottor_servo_consideri_clericale\n",
       "32     31     13             31_signor_dorme_scusi_parlavamo\n",
       "33     32     11             32_ani_annunzia_trant_vingtcinq\n",
       "34     33     10                    33_mano_occhi_mani_volto"
      ]
     },
     "execution_count": 27,
     "metadata": {},
     "output_type": "execute_result"
    }
   ],
   "source": [
    "freq = topic_model.get_topic_info(); freq.head(50)"
   ]
  },
  {
   "cell_type": "code",
   "execution_count": 28,
   "metadata": {},
   "outputs": [
    {
     "data": {
      "text/plain": [
       "[('madre', 0.03406802555029975),\n",
       " ('moglie', 0.02256910461690967),\n",
       " ('occhi', 0.020538815037341368),\n",
       " ('mamma', 0.02046925711304122),\n",
       " ('casa', 0.017606146700618178),\n",
       " ('vedova', 0.016457297142603005),\n",
       " ('pescatore', 0.013557504741113889),\n",
       " ('zia', 0.012724983531360302),\n",
       " ('padre', 0.01220137073809504),\n",
       " ('povera', 0.01134603582519652)]"
      ]
     },
     "execution_count": 28,
     "metadata": {},
     "output_type": "execute_result"
    }
   ],
   "source": [
    "topic_model.get_topic(0)  # Select the most frequent topic"
   ]
  },
  {
   "cell_type": "code",
   "execution_count": 11,
   "metadata": {},
   "outputs": [
    {
     "data": {
      "application/vnd.plotly.v1+json": {
       "config": {
        "plotlyServerURL": "https://plotly.com"
       },
       "data": [
        {
         "customdata": [
          [
           1,
           "signor | natura | anima | materia | esso",
           88
          ],
          [
           2,
           "libri | biblioteca | leggere | libro | giornali",
           59
          ],
          [
           3,
           "occhi | mammina | dito | ingannato | giocare",
           50
          ],
          [
           4,
           "libertà | potevo | potuto | vivere | via",
           48
          ],
          [
           5,
           "moglie | matrimonio | lascio | sù | marito",
           46
          ],
          [
           6,
           "par | com | avvenuto | piccina | possibile",
           43
          ],
          [
           7,
           "gridai | esclamai | riso | risi | ridere",
           41
          ],
          [
           8,
           "disse | colpa | municipio | esclamò | gemette",
           40
          ],
          [
           9,
           "italia | marchese | venuto | francese | signor",
           39
          ],
          [
           10,
           "morto | vivo | morte | cadavere | umano",
           38
          ],
          [
           11,
           "moglie | madre | figliuoli | batta | dote",
           38
          ],
          [
           12,
           "pascal | vivo | morto | addosso | tante",
           34
          ],
          [
           13,
           "madre | mamma | zia | scolastica | vedova",
           31
          ],
          [
           14,
           "occhio | occhiali | capelli | corti | barbiere",
           30
          ],
          [
           15,
           "bruttissimo | torto | suocero | esclamò | ragione",
           29
          ],
          [
           16,
           "signor | esclamò | solleva | colpi | dormo",
           26
          ],
          [
           17,
           "mano | guardò | man | guardar | quegli",
           25
          ],
          [
           18,
           "dissi | pronto | digo | devi | rispose",
           24
          ],
          [
           19,
           "sì | pulitamente | accertarsi | avantaciarse | voilà",
           24
          ],
          [
           20,
           "udite | rifà | alza | anca | andiamo",
           23
          ],
          [
           21,
           "riassumendo | trasecolai | eco | intesi | ",
           21
          ],
          [
           22,
           "possibile | stride | meravigliarsi | consuma | immagino",
           18
          ],
          [
           23,
           "candida | signora | vestia | bernaldez | está",
           18
          ],
          [
           24,
           "lapide | concittadini | attestato | roulettes | cvor",
           18
          ],
          [
           25,
           "sentii | gola | girò | forte | punto",
           17
          ],
          [
           26,
           "biglietti | portafogli | libero | cercavo | contare",
           16
          ],
          [
           27,
           "treno | stazione | papaveri | giornale | parola",
           15
          ],
          [
           28,
           "viaggio | ponte | berrettino | inverno | cappellaccio",
           14
          ],
          [
           29,
           "mano | mani | spalle | occhi | passò",
           13
          ],
          [
           30,
           "signor | dorme | debba | donne | linguaggio",
           13
          ],
          [
           31,
           "dottor | servo | consideri | clericale | pane",
           12
          ],
          [
           32,
           "ani | passà | trant | careccia | contra",
           12
          ],
          [
           33,
           "gracie | luce | bugia | cachetes | pardon",
           12
          ],
          [
           34,
           "abbajava | zampine | supplizio | cagnetta | bernaldez",
           11
          ],
          [
           35,
           "fratello | ritrovato | denunziato | patir | affermazione",
           10
          ]
         ],
         "hovertemplate": "<b>Topic %{customdata[0]}</b><br>Words: %{customdata[1]}<br>Size: %{customdata[2]}",
         "legendgroup": "",
         "marker": {
          "color": "#B0BEC5",
          "line": {
           "color": "DarkSlateGrey",
           "width": 2
          },
          "size": [
           88,
           59,
           50,
           48,
           46,
           43,
           41,
           40,
           39,
           38,
           38,
           34,
           31,
           30,
           29,
           26,
           25,
           24,
           24,
           23,
           21,
           18,
           18,
           18,
           17,
           16,
           15,
           14,
           13,
           13,
           12,
           12,
           12,
           11,
           10
          ],
          "sizemode": "area",
          "sizeref": 0.055,
          "symbol": "circle"
         },
         "mode": "markers",
         "name": "",
         "orientation": "v",
         "showlegend": false,
         "type": "scatter",
         "x": [
          -4.1650414,
          -3.8718033,
          -0.09370822,
          -3.8967884,
          7.539977,
          9.978854,
          16.591063,
          -2.8079522,
          5.138745,
          7.7121735,
          -4.7274637,
          -3.4231021,
          -0.2714523,
          -2.8190975,
          4.959714,
          16.903526,
          -3.1365397,
          7.740475,
          9.907002,
          7.483567,
          4.713386,
          10.0337105,
          16.426796,
          -3.252688,
          -2.6474352,
          -4.0475636,
          5.2741666,
          -3.2486787,
          -2.6827874,
          16.97552,
          7.8847523,
          -2.4439201,
          10.195812,
          -0.38063678,
          4.7674494
         ],
         "xaxis": "x",
         "y": [
          5.6472893,
          5.284858,
          17.36729,
          4.9066277,
          -1.0528026,
          3.9039426,
          7.9286585,
          9.189428,
          -9.116045,
          -0.87509185,
          5.193263,
          4.6318836,
          17.544495,
          9.79638,
          -8.943012,
          7.5664644,
          9.738596,
          -1.370546,
          3.8337986,
          -0.63639575,
          -8.702367,
          3.9611096,
          8.091459,
          4.4906096,
          9.058202,
          5.0765705,
          -9.257868,
          9.836473,
          10.227465,
          7.4829593,
          -1.544255,
          10.460763,
          4.1208787,
          17.639353,
          -8.755727
         ],
         "yaxis": "y"
        }
       ],
       "layout": {
        "annotations": [
         {
          "showarrow": false,
          "text": "D1",
          "x": -5.4365832805633545,
          "y": 4.819353866577149,
          "yshift": 10
         },
         {
          "showarrow": false,
          "text": "D2",
          "x": 7.042631888389588,
          "xshift": 10,
          "y": 20.285255718231202
         }
        ],
        "height": 650,
        "hoverlabel": {
         "bgcolor": "white",
         "font": {
          "family": "Rockwell",
          "size": 16
         }
        },
        "legend": {
         "itemsizing": "constant",
         "tracegroupgap": 0
        },
        "margin": {
         "t": 60
        },
        "shapes": [
         {
          "line": {
           "color": "#CFD8DC",
           "width": 2
          },
          "type": "line",
          "x0": 7.042631888389588,
          "x1": 7.042631888389588,
          "y0": -10.646547985076904,
          "y1": 20.285255718231202
         },
         {
          "line": {
           "color": "#9E9E9E",
           "width": 2
          },
          "type": "line",
          "x0": -5.4365832805633545,
          "x1": 19.52184705734253,
          "y0": 4.819353866577149,
          "y1": 4.819353866577149
         }
        ],
        "sliders": [
         {
          "active": 0,
          "pad": {
           "t": 50
          },
          "steps": [
           {
            "args": [
             {
              "marker.color": [
               [
                "red",
                "#B0BEC5",
                "#B0BEC5",
                "#B0BEC5",
                "#B0BEC5",
                "#B0BEC5",
                "#B0BEC5",
                "#B0BEC5",
                "#B0BEC5",
                "#B0BEC5",
                "#B0BEC5",
                "#B0BEC5",
                "#B0BEC5",
                "#B0BEC5",
                "#B0BEC5",
                "#B0BEC5",
                "#B0BEC5",
                "#B0BEC5",
                "#B0BEC5",
                "#B0BEC5",
                "#B0BEC5",
                "#B0BEC5",
                "#B0BEC5",
                "#B0BEC5",
                "#B0BEC5",
                "#B0BEC5",
                "#B0BEC5",
                "#B0BEC5",
                "#B0BEC5",
                "#B0BEC5",
                "#B0BEC5",
                "#B0BEC5",
                "#B0BEC5",
                "#B0BEC5",
                "#B0BEC5"
               ]
              ]
             }
            ],
            "label": "Topic 1",
            "method": "update"
           },
           {
            "args": [
             {
              "marker.color": [
               [
                "#B0BEC5",
                "red",
                "#B0BEC5",
                "#B0BEC5",
                "#B0BEC5",
                "#B0BEC5",
                "#B0BEC5",
                "#B0BEC5",
                "#B0BEC5",
                "#B0BEC5",
                "#B0BEC5",
                "#B0BEC5",
                "#B0BEC5",
                "#B0BEC5",
                "#B0BEC5",
                "#B0BEC5",
                "#B0BEC5",
                "#B0BEC5",
                "#B0BEC5",
                "#B0BEC5",
                "#B0BEC5",
                "#B0BEC5",
                "#B0BEC5",
                "#B0BEC5",
                "#B0BEC5",
                "#B0BEC5",
                "#B0BEC5",
                "#B0BEC5",
                "#B0BEC5",
                "#B0BEC5",
                "#B0BEC5",
                "#B0BEC5",
                "#B0BEC5",
                "#B0BEC5",
                "#B0BEC5"
               ]
              ]
             }
            ],
            "label": "Topic 2",
            "method": "update"
           },
           {
            "args": [
             {
              "marker.color": [
               [
                "#B0BEC5",
                "#B0BEC5",
                "red",
                "#B0BEC5",
                "#B0BEC5",
                "#B0BEC5",
                "#B0BEC5",
                "#B0BEC5",
                "#B0BEC5",
                "#B0BEC5",
                "#B0BEC5",
                "#B0BEC5",
                "#B0BEC5",
                "#B0BEC5",
                "#B0BEC5",
                "#B0BEC5",
                "#B0BEC5",
                "#B0BEC5",
                "#B0BEC5",
                "#B0BEC5",
                "#B0BEC5",
                "#B0BEC5",
                "#B0BEC5",
                "#B0BEC5",
                "#B0BEC5",
                "#B0BEC5",
                "#B0BEC5",
                "#B0BEC5",
                "#B0BEC5",
                "#B0BEC5",
                "#B0BEC5",
                "#B0BEC5",
                "#B0BEC5",
                "#B0BEC5",
                "#B0BEC5"
               ]
              ]
             }
            ],
            "label": "Topic 3",
            "method": "update"
           },
           {
            "args": [
             {
              "marker.color": [
               [
                "#B0BEC5",
                "#B0BEC5",
                "#B0BEC5",
                "red",
                "#B0BEC5",
                "#B0BEC5",
                "#B0BEC5",
                "#B0BEC5",
                "#B0BEC5",
                "#B0BEC5",
                "#B0BEC5",
                "#B0BEC5",
                "#B0BEC5",
                "#B0BEC5",
                "#B0BEC5",
                "#B0BEC5",
                "#B0BEC5",
                "#B0BEC5",
                "#B0BEC5",
                "#B0BEC5",
                "#B0BEC5",
                "#B0BEC5",
                "#B0BEC5",
                "#B0BEC5",
                "#B0BEC5",
                "#B0BEC5",
                "#B0BEC5",
                "#B0BEC5",
                "#B0BEC5",
                "#B0BEC5",
                "#B0BEC5",
                "#B0BEC5",
                "#B0BEC5",
                "#B0BEC5",
                "#B0BEC5"
               ]
              ]
             }
            ],
            "label": "Topic 4",
            "method": "update"
           },
           {
            "args": [
             {
              "marker.color": [
               [
                "#B0BEC5",
                "#B0BEC5",
                "#B0BEC5",
                "#B0BEC5",
                "red",
                "#B0BEC5",
                "#B0BEC5",
                "#B0BEC5",
                "#B0BEC5",
                "#B0BEC5",
                "#B0BEC5",
                "#B0BEC5",
                "#B0BEC5",
                "#B0BEC5",
                "#B0BEC5",
                "#B0BEC5",
                "#B0BEC5",
                "#B0BEC5",
                "#B0BEC5",
                "#B0BEC5",
                "#B0BEC5",
                "#B0BEC5",
                "#B0BEC5",
                "#B0BEC5",
                "#B0BEC5",
                "#B0BEC5",
                "#B0BEC5",
                "#B0BEC5",
                "#B0BEC5",
                "#B0BEC5",
                "#B0BEC5",
                "#B0BEC5",
                "#B0BEC5",
                "#B0BEC5",
                "#B0BEC5"
               ]
              ]
             }
            ],
            "label": "Topic 5",
            "method": "update"
           },
           {
            "args": [
             {
              "marker.color": [
               [
                "#B0BEC5",
                "#B0BEC5",
                "#B0BEC5",
                "#B0BEC5",
                "#B0BEC5",
                "red",
                "#B0BEC5",
                "#B0BEC5",
                "#B0BEC5",
                "#B0BEC5",
                "#B0BEC5",
                "#B0BEC5",
                "#B0BEC5",
                "#B0BEC5",
                "#B0BEC5",
                "#B0BEC5",
                "#B0BEC5",
                "#B0BEC5",
                "#B0BEC5",
                "#B0BEC5",
                "#B0BEC5",
                "#B0BEC5",
                "#B0BEC5",
                "#B0BEC5",
                "#B0BEC5",
                "#B0BEC5",
                "#B0BEC5",
                "#B0BEC5",
                "#B0BEC5",
                "#B0BEC5",
                "#B0BEC5",
                "#B0BEC5",
                "#B0BEC5",
                "#B0BEC5",
                "#B0BEC5"
               ]
              ]
             }
            ],
            "label": "Topic 6",
            "method": "update"
           },
           {
            "args": [
             {
              "marker.color": [
               [
                "#B0BEC5",
                "#B0BEC5",
                "#B0BEC5",
                "#B0BEC5",
                "#B0BEC5",
                "#B0BEC5",
                "red",
                "#B0BEC5",
                "#B0BEC5",
                "#B0BEC5",
                "#B0BEC5",
                "#B0BEC5",
                "#B0BEC5",
                "#B0BEC5",
                "#B0BEC5",
                "#B0BEC5",
                "#B0BEC5",
                "#B0BEC5",
                "#B0BEC5",
                "#B0BEC5",
                "#B0BEC5",
                "#B0BEC5",
                "#B0BEC5",
                "#B0BEC5",
                "#B0BEC5",
                "#B0BEC5",
                "#B0BEC5",
                "#B0BEC5",
                "#B0BEC5",
                "#B0BEC5",
                "#B0BEC5",
                "#B0BEC5",
                "#B0BEC5",
                "#B0BEC5",
                "#B0BEC5"
               ]
              ]
             }
            ],
            "label": "Topic 7",
            "method": "update"
           },
           {
            "args": [
             {
              "marker.color": [
               [
                "#B0BEC5",
                "#B0BEC5",
                "#B0BEC5",
                "#B0BEC5",
                "#B0BEC5",
                "#B0BEC5",
                "#B0BEC5",
                "red",
                "#B0BEC5",
                "#B0BEC5",
                "#B0BEC5",
                "#B0BEC5",
                "#B0BEC5",
                "#B0BEC5",
                "#B0BEC5",
                "#B0BEC5",
                "#B0BEC5",
                "#B0BEC5",
                "#B0BEC5",
                "#B0BEC5",
                "#B0BEC5",
                "#B0BEC5",
                "#B0BEC5",
                "#B0BEC5",
                "#B0BEC5",
                "#B0BEC5",
                "#B0BEC5",
                "#B0BEC5",
                "#B0BEC5",
                "#B0BEC5",
                "#B0BEC5",
                "#B0BEC5",
                "#B0BEC5",
                "#B0BEC5",
                "#B0BEC5"
               ]
              ]
             }
            ],
            "label": "Topic 8",
            "method": "update"
           },
           {
            "args": [
             {
              "marker.color": [
               [
                "#B0BEC5",
                "#B0BEC5",
                "#B0BEC5",
                "#B0BEC5",
                "#B0BEC5",
                "#B0BEC5",
                "#B0BEC5",
                "#B0BEC5",
                "red",
                "#B0BEC5",
                "#B0BEC5",
                "#B0BEC5",
                "#B0BEC5",
                "#B0BEC5",
                "#B0BEC5",
                "#B0BEC5",
                "#B0BEC5",
                "#B0BEC5",
                "#B0BEC5",
                "#B0BEC5",
                "#B0BEC5",
                "#B0BEC5",
                "#B0BEC5",
                "#B0BEC5",
                "#B0BEC5",
                "#B0BEC5",
                "#B0BEC5",
                "#B0BEC5",
                "#B0BEC5",
                "#B0BEC5",
                "#B0BEC5",
                "#B0BEC5",
                "#B0BEC5",
                "#B0BEC5",
                "#B0BEC5"
               ]
              ]
             }
            ],
            "label": "Topic 9",
            "method": "update"
           },
           {
            "args": [
             {
              "marker.color": [
               [
                "#B0BEC5",
                "#B0BEC5",
                "#B0BEC5",
                "#B0BEC5",
                "#B0BEC5",
                "#B0BEC5",
                "#B0BEC5",
                "#B0BEC5",
                "#B0BEC5",
                "red",
                "#B0BEC5",
                "#B0BEC5",
                "#B0BEC5",
                "#B0BEC5",
                "#B0BEC5",
                "#B0BEC5",
                "#B0BEC5",
                "#B0BEC5",
                "#B0BEC5",
                "#B0BEC5",
                "#B0BEC5",
                "#B0BEC5",
                "#B0BEC5",
                "#B0BEC5",
                "#B0BEC5",
                "#B0BEC5",
                "#B0BEC5",
                "#B0BEC5",
                "#B0BEC5",
                "#B0BEC5",
                "#B0BEC5",
                "#B0BEC5",
                "#B0BEC5",
                "#B0BEC5",
                "#B0BEC5"
               ]
              ]
             }
            ],
            "label": "Topic 10",
            "method": "update"
           },
           {
            "args": [
             {
              "marker.color": [
               [
                "#B0BEC5",
                "#B0BEC5",
                "#B0BEC5",
                "#B0BEC5",
                "#B0BEC5",
                "#B0BEC5",
                "#B0BEC5",
                "#B0BEC5",
                "#B0BEC5",
                "#B0BEC5",
                "red",
                "#B0BEC5",
                "#B0BEC5",
                "#B0BEC5",
                "#B0BEC5",
                "#B0BEC5",
                "#B0BEC5",
                "#B0BEC5",
                "#B0BEC5",
                "#B0BEC5",
                "#B0BEC5",
                "#B0BEC5",
                "#B0BEC5",
                "#B0BEC5",
                "#B0BEC5",
                "#B0BEC5",
                "#B0BEC5",
                "#B0BEC5",
                "#B0BEC5",
                "#B0BEC5",
                "#B0BEC5",
                "#B0BEC5",
                "#B0BEC5",
                "#B0BEC5",
                "#B0BEC5"
               ]
              ]
             }
            ],
            "label": "Topic 11",
            "method": "update"
           },
           {
            "args": [
             {
              "marker.color": [
               [
                "#B0BEC5",
                "#B0BEC5",
                "#B0BEC5",
                "#B0BEC5",
                "#B0BEC5",
                "#B0BEC5",
                "#B0BEC5",
                "#B0BEC5",
                "#B0BEC5",
                "#B0BEC5",
                "#B0BEC5",
                "red",
                "#B0BEC5",
                "#B0BEC5",
                "#B0BEC5",
                "#B0BEC5",
                "#B0BEC5",
                "#B0BEC5",
                "#B0BEC5",
                "#B0BEC5",
                "#B0BEC5",
                "#B0BEC5",
                "#B0BEC5",
                "#B0BEC5",
                "#B0BEC5",
                "#B0BEC5",
                "#B0BEC5",
                "#B0BEC5",
                "#B0BEC5",
                "#B0BEC5",
                "#B0BEC5",
                "#B0BEC5",
                "#B0BEC5",
                "#B0BEC5",
                "#B0BEC5"
               ]
              ]
             }
            ],
            "label": "Topic 12",
            "method": "update"
           },
           {
            "args": [
             {
              "marker.color": [
               [
                "#B0BEC5",
                "#B0BEC5",
                "#B0BEC5",
                "#B0BEC5",
                "#B0BEC5",
                "#B0BEC5",
                "#B0BEC5",
                "#B0BEC5",
                "#B0BEC5",
                "#B0BEC5",
                "#B0BEC5",
                "#B0BEC5",
                "red",
                "#B0BEC5",
                "#B0BEC5",
                "#B0BEC5",
                "#B0BEC5",
                "#B0BEC5",
                "#B0BEC5",
                "#B0BEC5",
                "#B0BEC5",
                "#B0BEC5",
                "#B0BEC5",
                "#B0BEC5",
                "#B0BEC5",
                "#B0BEC5",
                "#B0BEC5",
                "#B0BEC5",
                "#B0BEC5",
                "#B0BEC5",
                "#B0BEC5",
                "#B0BEC5",
                "#B0BEC5",
                "#B0BEC5",
                "#B0BEC5"
               ]
              ]
             }
            ],
            "label": "Topic 13",
            "method": "update"
           },
           {
            "args": [
             {
              "marker.color": [
               [
                "#B0BEC5",
                "#B0BEC5",
                "#B0BEC5",
                "#B0BEC5",
                "#B0BEC5",
                "#B0BEC5",
                "#B0BEC5",
                "#B0BEC5",
                "#B0BEC5",
                "#B0BEC5",
                "#B0BEC5",
                "#B0BEC5",
                "#B0BEC5",
                "red",
                "#B0BEC5",
                "#B0BEC5",
                "#B0BEC5",
                "#B0BEC5",
                "#B0BEC5",
                "#B0BEC5",
                "#B0BEC5",
                "#B0BEC5",
                "#B0BEC5",
                "#B0BEC5",
                "#B0BEC5",
                "#B0BEC5",
                "#B0BEC5",
                "#B0BEC5",
                "#B0BEC5",
                "#B0BEC5",
                "#B0BEC5",
                "#B0BEC5",
                "#B0BEC5",
                "#B0BEC5",
                "#B0BEC5"
               ]
              ]
             }
            ],
            "label": "Topic 14",
            "method": "update"
           },
           {
            "args": [
             {
              "marker.color": [
               [
                "#B0BEC5",
                "#B0BEC5",
                "#B0BEC5",
                "#B0BEC5",
                "#B0BEC5",
                "#B0BEC5",
                "#B0BEC5",
                "#B0BEC5",
                "#B0BEC5",
                "#B0BEC5",
                "#B0BEC5",
                "#B0BEC5",
                "#B0BEC5",
                "#B0BEC5",
                "red",
                "#B0BEC5",
                "#B0BEC5",
                "#B0BEC5",
                "#B0BEC5",
                "#B0BEC5",
                "#B0BEC5",
                "#B0BEC5",
                "#B0BEC5",
                "#B0BEC5",
                "#B0BEC5",
                "#B0BEC5",
                "#B0BEC5",
                "#B0BEC5",
                "#B0BEC5",
                "#B0BEC5",
                "#B0BEC5",
                "#B0BEC5",
                "#B0BEC5",
                "#B0BEC5",
                "#B0BEC5"
               ]
              ]
             }
            ],
            "label": "Topic 15",
            "method": "update"
           },
           {
            "args": [
             {
              "marker.color": [
               [
                "#B0BEC5",
                "#B0BEC5",
                "#B0BEC5",
                "#B0BEC5",
                "#B0BEC5",
                "#B0BEC5",
                "#B0BEC5",
                "#B0BEC5",
                "#B0BEC5",
                "#B0BEC5",
                "#B0BEC5",
                "#B0BEC5",
                "#B0BEC5",
                "#B0BEC5",
                "#B0BEC5",
                "red",
                "#B0BEC5",
                "#B0BEC5",
                "#B0BEC5",
                "#B0BEC5",
                "#B0BEC5",
                "#B0BEC5",
                "#B0BEC5",
                "#B0BEC5",
                "#B0BEC5",
                "#B0BEC5",
                "#B0BEC5",
                "#B0BEC5",
                "#B0BEC5",
                "#B0BEC5",
                "#B0BEC5",
                "#B0BEC5",
                "#B0BEC5",
                "#B0BEC5",
                "#B0BEC5"
               ]
              ]
             }
            ],
            "label": "Topic 16",
            "method": "update"
           },
           {
            "args": [
             {
              "marker.color": [
               [
                "#B0BEC5",
                "#B0BEC5",
                "#B0BEC5",
                "#B0BEC5",
                "#B0BEC5",
                "#B0BEC5",
                "#B0BEC5",
                "#B0BEC5",
                "#B0BEC5",
                "#B0BEC5",
                "#B0BEC5",
                "#B0BEC5",
                "#B0BEC5",
                "#B0BEC5",
                "#B0BEC5",
                "#B0BEC5",
                "red",
                "#B0BEC5",
                "#B0BEC5",
                "#B0BEC5",
                "#B0BEC5",
                "#B0BEC5",
                "#B0BEC5",
                "#B0BEC5",
                "#B0BEC5",
                "#B0BEC5",
                "#B0BEC5",
                "#B0BEC5",
                "#B0BEC5",
                "#B0BEC5",
                "#B0BEC5",
                "#B0BEC5",
                "#B0BEC5",
                "#B0BEC5",
                "#B0BEC5"
               ]
              ]
             }
            ],
            "label": "Topic 17",
            "method": "update"
           },
           {
            "args": [
             {
              "marker.color": [
               [
                "#B0BEC5",
                "#B0BEC5",
                "#B0BEC5",
                "#B0BEC5",
                "#B0BEC5",
                "#B0BEC5",
                "#B0BEC5",
                "#B0BEC5",
                "#B0BEC5",
                "#B0BEC5",
                "#B0BEC5",
                "#B0BEC5",
                "#B0BEC5",
                "#B0BEC5",
                "#B0BEC5",
                "#B0BEC5",
                "#B0BEC5",
                "red",
                "#B0BEC5",
                "#B0BEC5",
                "#B0BEC5",
                "#B0BEC5",
                "#B0BEC5",
                "#B0BEC5",
                "#B0BEC5",
                "#B0BEC5",
                "#B0BEC5",
                "#B0BEC5",
                "#B0BEC5",
                "#B0BEC5",
                "#B0BEC5",
                "#B0BEC5",
                "#B0BEC5",
                "#B0BEC5",
                "#B0BEC5"
               ]
              ]
             }
            ],
            "label": "Topic 18",
            "method": "update"
           },
           {
            "args": [
             {
              "marker.color": [
               [
                "#B0BEC5",
                "#B0BEC5",
                "#B0BEC5",
                "#B0BEC5",
                "#B0BEC5",
                "#B0BEC5",
                "#B0BEC5",
                "#B0BEC5",
                "#B0BEC5",
                "#B0BEC5",
                "#B0BEC5",
                "#B0BEC5",
                "#B0BEC5",
                "#B0BEC5",
                "#B0BEC5",
                "#B0BEC5",
                "#B0BEC5",
                "#B0BEC5",
                "red",
                "#B0BEC5",
                "#B0BEC5",
                "#B0BEC5",
                "#B0BEC5",
                "#B0BEC5",
                "#B0BEC5",
                "#B0BEC5",
                "#B0BEC5",
                "#B0BEC5",
                "#B0BEC5",
                "#B0BEC5",
                "#B0BEC5",
                "#B0BEC5",
                "#B0BEC5",
                "#B0BEC5",
                "#B0BEC5"
               ]
              ]
             }
            ],
            "label": "Topic 19",
            "method": "update"
           },
           {
            "args": [
             {
              "marker.color": [
               [
                "#B0BEC5",
                "#B0BEC5",
                "#B0BEC5",
                "#B0BEC5",
                "#B0BEC5",
                "#B0BEC5",
                "#B0BEC5",
                "#B0BEC5",
                "#B0BEC5",
                "#B0BEC5",
                "#B0BEC5",
                "#B0BEC5",
                "#B0BEC5",
                "#B0BEC5",
                "#B0BEC5",
                "#B0BEC5",
                "#B0BEC5",
                "#B0BEC5",
                "#B0BEC5",
                "red",
                "#B0BEC5",
                "#B0BEC5",
                "#B0BEC5",
                "#B0BEC5",
                "#B0BEC5",
                "#B0BEC5",
                "#B0BEC5",
                "#B0BEC5",
                "#B0BEC5",
                "#B0BEC5",
                "#B0BEC5",
                "#B0BEC5",
                "#B0BEC5",
                "#B0BEC5",
                "#B0BEC5"
               ]
              ]
             }
            ],
            "label": "Topic 20",
            "method": "update"
           },
           {
            "args": [
             {
              "marker.color": [
               [
                "#B0BEC5",
                "#B0BEC5",
                "#B0BEC5",
                "#B0BEC5",
                "#B0BEC5",
                "#B0BEC5",
                "#B0BEC5",
                "#B0BEC5",
                "#B0BEC5",
                "#B0BEC5",
                "#B0BEC5",
                "#B0BEC5",
                "#B0BEC5",
                "#B0BEC5",
                "#B0BEC5",
                "#B0BEC5",
                "#B0BEC5",
                "#B0BEC5",
                "#B0BEC5",
                "#B0BEC5",
                "red",
                "#B0BEC5",
                "#B0BEC5",
                "#B0BEC5",
                "#B0BEC5",
                "#B0BEC5",
                "#B0BEC5",
                "#B0BEC5",
                "#B0BEC5",
                "#B0BEC5",
                "#B0BEC5",
                "#B0BEC5",
                "#B0BEC5",
                "#B0BEC5",
                "#B0BEC5"
               ]
              ]
             }
            ],
            "label": "Topic 21",
            "method": "update"
           },
           {
            "args": [
             {
              "marker.color": [
               [
                "#B0BEC5",
                "#B0BEC5",
                "#B0BEC5",
                "#B0BEC5",
                "#B0BEC5",
                "#B0BEC5",
                "#B0BEC5",
                "#B0BEC5",
                "#B0BEC5",
                "#B0BEC5",
                "#B0BEC5",
                "#B0BEC5",
                "#B0BEC5",
                "#B0BEC5",
                "#B0BEC5",
                "#B0BEC5",
                "#B0BEC5",
                "#B0BEC5",
                "#B0BEC5",
                "#B0BEC5",
                "#B0BEC5",
                "red",
                "#B0BEC5",
                "#B0BEC5",
                "#B0BEC5",
                "#B0BEC5",
                "#B0BEC5",
                "#B0BEC5",
                "#B0BEC5",
                "#B0BEC5",
                "#B0BEC5",
                "#B0BEC5",
                "#B0BEC5",
                "#B0BEC5",
                "#B0BEC5"
               ]
              ]
             }
            ],
            "label": "Topic 22",
            "method": "update"
           },
           {
            "args": [
             {
              "marker.color": [
               [
                "#B0BEC5",
                "#B0BEC5",
                "#B0BEC5",
                "#B0BEC5",
                "#B0BEC5",
                "#B0BEC5",
                "#B0BEC5",
                "#B0BEC5",
                "#B0BEC5",
                "#B0BEC5",
                "#B0BEC5",
                "#B0BEC5",
                "#B0BEC5",
                "#B0BEC5",
                "#B0BEC5",
                "#B0BEC5",
                "#B0BEC5",
                "#B0BEC5",
                "#B0BEC5",
                "#B0BEC5",
                "#B0BEC5",
                "#B0BEC5",
                "red",
                "#B0BEC5",
                "#B0BEC5",
                "#B0BEC5",
                "#B0BEC5",
                "#B0BEC5",
                "#B0BEC5",
                "#B0BEC5",
                "#B0BEC5",
                "#B0BEC5",
                "#B0BEC5",
                "#B0BEC5",
                "#B0BEC5"
               ]
              ]
             }
            ],
            "label": "Topic 23",
            "method": "update"
           },
           {
            "args": [
             {
              "marker.color": [
               [
                "#B0BEC5",
                "#B0BEC5",
                "#B0BEC5",
                "#B0BEC5",
                "#B0BEC5",
                "#B0BEC5",
                "#B0BEC5",
                "#B0BEC5",
                "#B0BEC5",
                "#B0BEC5",
                "#B0BEC5",
                "#B0BEC5",
                "#B0BEC5",
                "#B0BEC5",
                "#B0BEC5",
                "#B0BEC5",
                "#B0BEC5",
                "#B0BEC5",
                "#B0BEC5",
                "#B0BEC5",
                "#B0BEC5",
                "#B0BEC5",
                "#B0BEC5",
                "red",
                "#B0BEC5",
                "#B0BEC5",
                "#B0BEC5",
                "#B0BEC5",
                "#B0BEC5",
                "#B0BEC5",
                "#B0BEC5",
                "#B0BEC5",
                "#B0BEC5",
                "#B0BEC5",
                "#B0BEC5"
               ]
              ]
             }
            ],
            "label": "Topic 24",
            "method": "update"
           },
           {
            "args": [
             {
              "marker.color": [
               [
                "#B0BEC5",
                "#B0BEC5",
                "#B0BEC5",
                "#B0BEC5",
                "#B0BEC5",
                "#B0BEC5",
                "#B0BEC5",
                "#B0BEC5",
                "#B0BEC5",
                "#B0BEC5",
                "#B0BEC5",
                "#B0BEC5",
                "#B0BEC5",
                "#B0BEC5",
                "#B0BEC5",
                "#B0BEC5",
                "#B0BEC5",
                "#B0BEC5",
                "#B0BEC5",
                "#B0BEC5",
                "#B0BEC5",
                "#B0BEC5",
                "#B0BEC5",
                "#B0BEC5",
                "red",
                "#B0BEC5",
                "#B0BEC5",
                "#B0BEC5",
                "#B0BEC5",
                "#B0BEC5",
                "#B0BEC5",
                "#B0BEC5",
                "#B0BEC5",
                "#B0BEC5",
                "#B0BEC5"
               ]
              ]
             }
            ],
            "label": "Topic 25",
            "method": "update"
           },
           {
            "args": [
             {
              "marker.color": [
               [
                "#B0BEC5",
                "#B0BEC5",
                "#B0BEC5",
                "#B0BEC5",
                "#B0BEC5",
                "#B0BEC5",
                "#B0BEC5",
                "#B0BEC5",
                "#B0BEC5",
                "#B0BEC5",
                "#B0BEC5",
                "#B0BEC5",
                "#B0BEC5",
                "#B0BEC5",
                "#B0BEC5",
                "#B0BEC5",
                "#B0BEC5",
                "#B0BEC5",
                "#B0BEC5",
                "#B0BEC5",
                "#B0BEC5",
                "#B0BEC5",
                "#B0BEC5",
                "#B0BEC5",
                "#B0BEC5",
                "red",
                "#B0BEC5",
                "#B0BEC5",
                "#B0BEC5",
                "#B0BEC5",
                "#B0BEC5",
                "#B0BEC5",
                "#B0BEC5",
                "#B0BEC5",
                "#B0BEC5"
               ]
              ]
             }
            ],
            "label": "Topic 26",
            "method": "update"
           },
           {
            "args": [
             {
              "marker.color": [
               [
                "#B0BEC5",
                "#B0BEC5",
                "#B0BEC5",
                "#B0BEC5",
                "#B0BEC5",
                "#B0BEC5",
                "#B0BEC5",
                "#B0BEC5",
                "#B0BEC5",
                "#B0BEC5",
                "#B0BEC5",
                "#B0BEC5",
                "#B0BEC5",
                "#B0BEC5",
                "#B0BEC5",
                "#B0BEC5",
                "#B0BEC5",
                "#B0BEC5",
                "#B0BEC5",
                "#B0BEC5",
                "#B0BEC5",
                "#B0BEC5",
                "#B0BEC5",
                "#B0BEC5",
                "#B0BEC5",
                "#B0BEC5",
                "red",
                "#B0BEC5",
                "#B0BEC5",
                "#B0BEC5",
                "#B0BEC5",
                "#B0BEC5",
                "#B0BEC5",
                "#B0BEC5",
                "#B0BEC5"
               ]
              ]
             }
            ],
            "label": "Topic 27",
            "method": "update"
           },
           {
            "args": [
             {
              "marker.color": [
               [
                "#B0BEC5",
                "#B0BEC5",
                "#B0BEC5",
                "#B0BEC5",
                "#B0BEC5",
                "#B0BEC5",
                "#B0BEC5",
                "#B0BEC5",
                "#B0BEC5",
                "#B0BEC5",
                "#B0BEC5",
                "#B0BEC5",
                "#B0BEC5",
                "#B0BEC5",
                "#B0BEC5",
                "#B0BEC5",
                "#B0BEC5",
                "#B0BEC5",
                "#B0BEC5",
                "#B0BEC5",
                "#B0BEC5",
                "#B0BEC5",
                "#B0BEC5",
                "#B0BEC5",
                "#B0BEC5",
                "#B0BEC5",
                "#B0BEC5",
                "red",
                "#B0BEC5",
                "#B0BEC5",
                "#B0BEC5",
                "#B0BEC5",
                "#B0BEC5",
                "#B0BEC5",
                "#B0BEC5"
               ]
              ]
             }
            ],
            "label": "Topic 28",
            "method": "update"
           },
           {
            "args": [
             {
              "marker.color": [
               [
                "#B0BEC5",
                "#B0BEC5",
                "#B0BEC5",
                "#B0BEC5",
                "#B0BEC5",
                "#B0BEC5",
                "#B0BEC5",
                "#B0BEC5",
                "#B0BEC5",
                "#B0BEC5",
                "#B0BEC5",
                "#B0BEC5",
                "#B0BEC5",
                "#B0BEC5",
                "#B0BEC5",
                "#B0BEC5",
                "#B0BEC5",
                "#B0BEC5",
                "#B0BEC5",
                "#B0BEC5",
                "#B0BEC5",
                "#B0BEC5",
                "#B0BEC5",
                "#B0BEC5",
                "#B0BEC5",
                "#B0BEC5",
                "#B0BEC5",
                "#B0BEC5",
                "red",
                "#B0BEC5",
                "#B0BEC5",
                "#B0BEC5",
                "#B0BEC5",
                "#B0BEC5",
                "#B0BEC5"
               ]
              ]
             }
            ],
            "label": "Topic 29",
            "method": "update"
           },
           {
            "args": [
             {
              "marker.color": [
               [
                "#B0BEC5",
                "#B0BEC5",
                "#B0BEC5",
                "#B0BEC5",
                "#B0BEC5",
                "#B0BEC5",
                "#B0BEC5",
                "#B0BEC5",
                "#B0BEC5",
                "#B0BEC5",
                "#B0BEC5",
                "#B0BEC5",
                "#B0BEC5",
                "#B0BEC5",
                "#B0BEC5",
                "#B0BEC5",
                "#B0BEC5",
                "#B0BEC5",
                "#B0BEC5",
                "#B0BEC5",
                "#B0BEC5",
                "#B0BEC5",
                "#B0BEC5",
                "#B0BEC5",
                "#B0BEC5",
                "#B0BEC5",
                "#B0BEC5",
                "#B0BEC5",
                "#B0BEC5",
                "red",
                "#B0BEC5",
                "#B0BEC5",
                "#B0BEC5",
                "#B0BEC5",
                "#B0BEC5"
               ]
              ]
             }
            ],
            "label": "Topic 30",
            "method": "update"
           },
           {
            "args": [
             {
              "marker.color": [
               [
                "#B0BEC5",
                "#B0BEC5",
                "#B0BEC5",
                "#B0BEC5",
                "#B0BEC5",
                "#B0BEC5",
                "#B0BEC5",
                "#B0BEC5",
                "#B0BEC5",
                "#B0BEC5",
                "#B0BEC5",
                "#B0BEC5",
                "#B0BEC5",
                "#B0BEC5",
                "#B0BEC5",
                "#B0BEC5",
                "#B0BEC5",
                "#B0BEC5",
                "#B0BEC5",
                "#B0BEC5",
                "#B0BEC5",
                "#B0BEC5",
                "#B0BEC5",
                "#B0BEC5",
                "#B0BEC5",
                "#B0BEC5",
                "#B0BEC5",
                "#B0BEC5",
                "#B0BEC5",
                "#B0BEC5",
                "red",
                "#B0BEC5",
                "#B0BEC5",
                "#B0BEC5",
                "#B0BEC5"
               ]
              ]
             }
            ],
            "label": "Topic 31",
            "method": "update"
           },
           {
            "args": [
             {
              "marker.color": [
               [
                "#B0BEC5",
                "#B0BEC5",
                "#B0BEC5",
                "#B0BEC5",
                "#B0BEC5",
                "#B0BEC5",
                "#B0BEC5",
                "#B0BEC5",
                "#B0BEC5",
                "#B0BEC5",
                "#B0BEC5",
                "#B0BEC5",
                "#B0BEC5",
                "#B0BEC5",
                "#B0BEC5",
                "#B0BEC5",
                "#B0BEC5",
                "#B0BEC5",
                "#B0BEC5",
                "#B0BEC5",
                "#B0BEC5",
                "#B0BEC5",
                "#B0BEC5",
                "#B0BEC5",
                "#B0BEC5",
                "#B0BEC5",
                "#B0BEC5",
                "#B0BEC5",
                "#B0BEC5",
                "#B0BEC5",
                "#B0BEC5",
                "red",
                "#B0BEC5",
                "#B0BEC5",
                "#B0BEC5"
               ]
              ]
             }
            ],
            "label": "Topic 32",
            "method": "update"
           },
           {
            "args": [
             {
              "marker.color": [
               [
                "#B0BEC5",
                "#B0BEC5",
                "#B0BEC5",
                "#B0BEC5",
                "#B0BEC5",
                "#B0BEC5",
                "#B0BEC5",
                "#B0BEC5",
                "#B0BEC5",
                "#B0BEC5",
                "#B0BEC5",
                "#B0BEC5",
                "#B0BEC5",
                "#B0BEC5",
                "#B0BEC5",
                "#B0BEC5",
                "#B0BEC5",
                "#B0BEC5",
                "#B0BEC5",
                "#B0BEC5",
                "#B0BEC5",
                "#B0BEC5",
                "#B0BEC5",
                "#B0BEC5",
                "#B0BEC5",
                "#B0BEC5",
                "#B0BEC5",
                "#B0BEC5",
                "#B0BEC5",
                "#B0BEC5",
                "#B0BEC5",
                "#B0BEC5",
                "red",
                "#B0BEC5",
                "#B0BEC5"
               ]
              ]
             }
            ],
            "label": "Topic 33",
            "method": "update"
           },
           {
            "args": [
             {
              "marker.color": [
               [
                "#B0BEC5",
                "#B0BEC5",
                "#B0BEC5",
                "#B0BEC5",
                "#B0BEC5",
                "#B0BEC5",
                "#B0BEC5",
                "#B0BEC5",
                "#B0BEC5",
                "#B0BEC5",
                "#B0BEC5",
                "#B0BEC5",
                "#B0BEC5",
                "#B0BEC5",
                "#B0BEC5",
                "#B0BEC5",
                "#B0BEC5",
                "#B0BEC5",
                "#B0BEC5",
                "#B0BEC5",
                "#B0BEC5",
                "#B0BEC5",
                "#B0BEC5",
                "#B0BEC5",
                "#B0BEC5",
                "#B0BEC5",
                "#B0BEC5",
                "#B0BEC5",
                "#B0BEC5",
                "#B0BEC5",
                "#B0BEC5",
                "#B0BEC5",
                "#B0BEC5",
                "red",
                "#B0BEC5"
               ]
              ]
             }
            ],
            "label": "Topic 34",
            "method": "update"
           },
           {
            "args": [
             {
              "marker.color": [
               [
                "#B0BEC5",
                "#B0BEC5",
                "#B0BEC5",
                "#B0BEC5",
                "#B0BEC5",
                "#B0BEC5",
                "#B0BEC5",
                "#B0BEC5",
                "#B0BEC5",
                "#B0BEC5",
                "#B0BEC5",
                "#B0BEC5",
                "#B0BEC5",
                "#B0BEC5",
                "#B0BEC5",
                "#B0BEC5",
                "#B0BEC5",
                "#B0BEC5",
                "#B0BEC5",
                "#B0BEC5",
                "#B0BEC5",
                "#B0BEC5",
                "#B0BEC5",
                "#B0BEC5",
                "#B0BEC5",
                "#B0BEC5",
                "#B0BEC5",
                "#B0BEC5",
                "#B0BEC5",
                "#B0BEC5",
                "#B0BEC5",
                "#B0BEC5",
                "#B0BEC5",
                "#B0BEC5",
                "red"
               ]
              ]
             }
            ],
            "label": "Topic 35",
            "method": "update"
           }
          ]
         }
        ],
        "template": {
         "data": {
          "bar": [
           {
            "error_x": {
             "color": "rgb(36,36,36)"
            },
            "error_y": {
             "color": "rgb(36,36,36)"
            },
            "marker": {
             "line": {
              "color": "white",
              "width": 0.5
             },
             "pattern": {
              "fillmode": "overlay",
              "size": 10,
              "solidity": 0.2
             }
            },
            "type": "bar"
           }
          ],
          "barpolar": [
           {
            "marker": {
             "line": {
              "color": "white",
              "width": 0.5
             },
             "pattern": {
              "fillmode": "overlay",
              "size": 10,
              "solidity": 0.2
             }
            },
            "type": "barpolar"
           }
          ],
          "carpet": [
           {
            "aaxis": {
             "endlinecolor": "rgb(36,36,36)",
             "gridcolor": "white",
             "linecolor": "white",
             "minorgridcolor": "white",
             "startlinecolor": "rgb(36,36,36)"
            },
            "baxis": {
             "endlinecolor": "rgb(36,36,36)",
             "gridcolor": "white",
             "linecolor": "white",
             "minorgridcolor": "white",
             "startlinecolor": "rgb(36,36,36)"
            },
            "type": "carpet"
           }
          ],
          "choropleth": [
           {
            "colorbar": {
             "outlinewidth": 1,
             "tickcolor": "rgb(36,36,36)",
             "ticks": "outside"
            },
            "type": "choropleth"
           }
          ],
          "contour": [
           {
            "colorbar": {
             "outlinewidth": 1,
             "tickcolor": "rgb(36,36,36)",
             "ticks": "outside"
            },
            "colorscale": [
             [
              0,
              "#440154"
             ],
             [
              0.1111111111111111,
              "#482878"
             ],
             [
              0.2222222222222222,
              "#3e4989"
             ],
             [
              0.3333333333333333,
              "#31688e"
             ],
             [
              0.4444444444444444,
              "#26828e"
             ],
             [
              0.5555555555555556,
              "#1f9e89"
             ],
             [
              0.6666666666666666,
              "#35b779"
             ],
             [
              0.7777777777777778,
              "#6ece58"
             ],
             [
              0.8888888888888888,
              "#b5de2b"
             ],
             [
              1,
              "#fde725"
             ]
            ],
            "type": "contour"
           }
          ],
          "contourcarpet": [
           {
            "colorbar": {
             "outlinewidth": 1,
             "tickcolor": "rgb(36,36,36)",
             "ticks": "outside"
            },
            "type": "contourcarpet"
           }
          ],
          "heatmap": [
           {
            "colorbar": {
             "outlinewidth": 1,
             "tickcolor": "rgb(36,36,36)",
             "ticks": "outside"
            },
            "colorscale": [
             [
              0,
              "#440154"
             ],
             [
              0.1111111111111111,
              "#482878"
             ],
             [
              0.2222222222222222,
              "#3e4989"
             ],
             [
              0.3333333333333333,
              "#31688e"
             ],
             [
              0.4444444444444444,
              "#26828e"
             ],
             [
              0.5555555555555556,
              "#1f9e89"
             ],
             [
              0.6666666666666666,
              "#35b779"
             ],
             [
              0.7777777777777778,
              "#6ece58"
             ],
             [
              0.8888888888888888,
              "#b5de2b"
             ],
             [
              1,
              "#fde725"
             ]
            ],
            "type": "heatmap"
           }
          ],
          "heatmapgl": [
           {
            "colorbar": {
             "outlinewidth": 1,
             "tickcolor": "rgb(36,36,36)",
             "ticks": "outside"
            },
            "colorscale": [
             [
              0,
              "#440154"
             ],
             [
              0.1111111111111111,
              "#482878"
             ],
             [
              0.2222222222222222,
              "#3e4989"
             ],
             [
              0.3333333333333333,
              "#31688e"
             ],
             [
              0.4444444444444444,
              "#26828e"
             ],
             [
              0.5555555555555556,
              "#1f9e89"
             ],
             [
              0.6666666666666666,
              "#35b779"
             ],
             [
              0.7777777777777778,
              "#6ece58"
             ],
             [
              0.8888888888888888,
              "#b5de2b"
             ],
             [
              1,
              "#fde725"
             ]
            ],
            "type": "heatmapgl"
           }
          ],
          "histogram": [
           {
            "marker": {
             "line": {
              "color": "white",
              "width": 0.6
             }
            },
            "type": "histogram"
           }
          ],
          "histogram2d": [
           {
            "colorbar": {
             "outlinewidth": 1,
             "tickcolor": "rgb(36,36,36)",
             "ticks": "outside"
            },
            "colorscale": [
             [
              0,
              "#440154"
             ],
             [
              0.1111111111111111,
              "#482878"
             ],
             [
              0.2222222222222222,
              "#3e4989"
             ],
             [
              0.3333333333333333,
              "#31688e"
             ],
             [
              0.4444444444444444,
              "#26828e"
             ],
             [
              0.5555555555555556,
              "#1f9e89"
             ],
             [
              0.6666666666666666,
              "#35b779"
             ],
             [
              0.7777777777777778,
              "#6ece58"
             ],
             [
              0.8888888888888888,
              "#b5de2b"
             ],
             [
              1,
              "#fde725"
             ]
            ],
            "type": "histogram2d"
           }
          ],
          "histogram2dcontour": [
           {
            "colorbar": {
             "outlinewidth": 1,
             "tickcolor": "rgb(36,36,36)",
             "ticks": "outside"
            },
            "colorscale": [
             [
              0,
              "#440154"
             ],
             [
              0.1111111111111111,
              "#482878"
             ],
             [
              0.2222222222222222,
              "#3e4989"
             ],
             [
              0.3333333333333333,
              "#31688e"
             ],
             [
              0.4444444444444444,
              "#26828e"
             ],
             [
              0.5555555555555556,
              "#1f9e89"
             ],
             [
              0.6666666666666666,
              "#35b779"
             ],
             [
              0.7777777777777778,
              "#6ece58"
             ],
             [
              0.8888888888888888,
              "#b5de2b"
             ],
             [
              1,
              "#fde725"
             ]
            ],
            "type": "histogram2dcontour"
           }
          ],
          "mesh3d": [
           {
            "colorbar": {
             "outlinewidth": 1,
             "tickcolor": "rgb(36,36,36)",
             "ticks": "outside"
            },
            "type": "mesh3d"
           }
          ],
          "parcoords": [
           {
            "line": {
             "colorbar": {
              "outlinewidth": 1,
              "tickcolor": "rgb(36,36,36)",
              "ticks": "outside"
             }
            },
            "type": "parcoords"
           }
          ],
          "pie": [
           {
            "automargin": true,
            "type": "pie"
           }
          ],
          "scatter": [
           {
            "marker": {
             "colorbar": {
              "outlinewidth": 1,
              "tickcolor": "rgb(36,36,36)",
              "ticks": "outside"
             }
            },
            "type": "scatter"
           }
          ],
          "scatter3d": [
           {
            "line": {
             "colorbar": {
              "outlinewidth": 1,
              "tickcolor": "rgb(36,36,36)",
              "ticks": "outside"
             }
            },
            "marker": {
             "colorbar": {
              "outlinewidth": 1,
              "tickcolor": "rgb(36,36,36)",
              "ticks": "outside"
             }
            },
            "type": "scatter3d"
           }
          ],
          "scattercarpet": [
           {
            "marker": {
             "colorbar": {
              "outlinewidth": 1,
              "tickcolor": "rgb(36,36,36)",
              "ticks": "outside"
             }
            },
            "type": "scattercarpet"
           }
          ],
          "scattergeo": [
           {
            "marker": {
             "colorbar": {
              "outlinewidth": 1,
              "tickcolor": "rgb(36,36,36)",
              "ticks": "outside"
             }
            },
            "type": "scattergeo"
           }
          ],
          "scattergl": [
           {
            "marker": {
             "colorbar": {
              "outlinewidth": 1,
              "tickcolor": "rgb(36,36,36)",
              "ticks": "outside"
             }
            },
            "type": "scattergl"
           }
          ],
          "scattermapbox": [
           {
            "marker": {
             "colorbar": {
              "outlinewidth": 1,
              "tickcolor": "rgb(36,36,36)",
              "ticks": "outside"
             }
            },
            "type": "scattermapbox"
           }
          ],
          "scatterpolar": [
           {
            "marker": {
             "colorbar": {
              "outlinewidth": 1,
              "tickcolor": "rgb(36,36,36)",
              "ticks": "outside"
             }
            },
            "type": "scatterpolar"
           }
          ],
          "scatterpolargl": [
           {
            "marker": {
             "colorbar": {
              "outlinewidth": 1,
              "tickcolor": "rgb(36,36,36)",
              "ticks": "outside"
             }
            },
            "type": "scatterpolargl"
           }
          ],
          "scatterternary": [
           {
            "marker": {
             "colorbar": {
              "outlinewidth": 1,
              "tickcolor": "rgb(36,36,36)",
              "ticks": "outside"
             }
            },
            "type": "scatterternary"
           }
          ],
          "surface": [
           {
            "colorbar": {
             "outlinewidth": 1,
             "tickcolor": "rgb(36,36,36)",
             "ticks": "outside"
            },
            "colorscale": [
             [
              0,
              "#440154"
             ],
             [
              0.1111111111111111,
              "#482878"
             ],
             [
              0.2222222222222222,
              "#3e4989"
             ],
             [
              0.3333333333333333,
              "#31688e"
             ],
             [
              0.4444444444444444,
              "#26828e"
             ],
             [
              0.5555555555555556,
              "#1f9e89"
             ],
             [
              0.6666666666666666,
              "#35b779"
             ],
             [
              0.7777777777777778,
              "#6ece58"
             ],
             [
              0.8888888888888888,
              "#b5de2b"
             ],
             [
              1,
              "#fde725"
             ]
            ],
            "type": "surface"
           }
          ],
          "table": [
           {
            "cells": {
             "fill": {
              "color": "rgb(237,237,237)"
             },
             "line": {
              "color": "white"
             }
            },
            "header": {
             "fill": {
              "color": "rgb(217,217,217)"
             },
             "line": {
              "color": "white"
             }
            },
            "type": "table"
           }
          ]
         },
         "layout": {
          "annotationdefaults": {
           "arrowhead": 0,
           "arrowwidth": 1
          },
          "autotypenumbers": "strict",
          "coloraxis": {
           "colorbar": {
            "outlinewidth": 1,
            "tickcolor": "rgb(36,36,36)",
            "ticks": "outside"
           }
          },
          "colorscale": {
           "diverging": [
            [
             0,
             "rgb(103,0,31)"
            ],
            [
             0.1,
             "rgb(178,24,43)"
            ],
            [
             0.2,
             "rgb(214,96,77)"
            ],
            [
             0.3,
             "rgb(244,165,130)"
            ],
            [
             0.4,
             "rgb(253,219,199)"
            ],
            [
             0.5,
             "rgb(247,247,247)"
            ],
            [
             0.6,
             "rgb(209,229,240)"
            ],
            [
             0.7,
             "rgb(146,197,222)"
            ],
            [
             0.8,
             "rgb(67,147,195)"
            ],
            [
             0.9,
             "rgb(33,102,172)"
            ],
            [
             1,
             "rgb(5,48,97)"
            ]
           ],
           "sequential": [
            [
             0,
             "#440154"
            ],
            [
             0.1111111111111111,
             "#482878"
            ],
            [
             0.2222222222222222,
             "#3e4989"
            ],
            [
             0.3333333333333333,
             "#31688e"
            ],
            [
             0.4444444444444444,
             "#26828e"
            ],
            [
             0.5555555555555556,
             "#1f9e89"
            ],
            [
             0.6666666666666666,
             "#35b779"
            ],
            [
             0.7777777777777778,
             "#6ece58"
            ],
            [
             0.8888888888888888,
             "#b5de2b"
            ],
            [
             1,
             "#fde725"
            ]
           ],
           "sequentialminus": [
            [
             0,
             "#440154"
            ],
            [
             0.1111111111111111,
             "#482878"
            ],
            [
             0.2222222222222222,
             "#3e4989"
            ],
            [
             0.3333333333333333,
             "#31688e"
            ],
            [
             0.4444444444444444,
             "#26828e"
            ],
            [
             0.5555555555555556,
             "#1f9e89"
            ],
            [
             0.6666666666666666,
             "#35b779"
            ],
            [
             0.7777777777777778,
             "#6ece58"
            ],
            [
             0.8888888888888888,
             "#b5de2b"
            ],
            [
             1,
             "#fde725"
            ]
           ]
          },
          "colorway": [
           "#1F77B4",
           "#FF7F0E",
           "#2CA02C",
           "#D62728",
           "#9467BD",
           "#8C564B",
           "#E377C2",
           "#7F7F7F",
           "#BCBD22",
           "#17BECF"
          ],
          "font": {
           "color": "rgb(36,36,36)"
          },
          "geo": {
           "bgcolor": "white",
           "lakecolor": "white",
           "landcolor": "white",
           "showlakes": true,
           "showland": true,
           "subunitcolor": "white"
          },
          "hoverlabel": {
           "align": "left"
          },
          "hovermode": "closest",
          "mapbox": {
           "style": "light"
          },
          "paper_bgcolor": "white",
          "plot_bgcolor": "white",
          "polar": {
           "angularaxis": {
            "gridcolor": "rgb(232,232,232)",
            "linecolor": "rgb(36,36,36)",
            "showgrid": false,
            "showline": true,
            "ticks": "outside"
           },
           "bgcolor": "white",
           "radialaxis": {
            "gridcolor": "rgb(232,232,232)",
            "linecolor": "rgb(36,36,36)",
            "showgrid": false,
            "showline": true,
            "ticks": "outside"
           }
          },
          "scene": {
           "xaxis": {
            "backgroundcolor": "white",
            "gridcolor": "rgb(232,232,232)",
            "gridwidth": 2,
            "linecolor": "rgb(36,36,36)",
            "showbackground": true,
            "showgrid": false,
            "showline": true,
            "ticks": "outside",
            "zeroline": false,
            "zerolinecolor": "rgb(36,36,36)"
           },
           "yaxis": {
            "backgroundcolor": "white",
            "gridcolor": "rgb(232,232,232)",
            "gridwidth": 2,
            "linecolor": "rgb(36,36,36)",
            "showbackground": true,
            "showgrid": false,
            "showline": true,
            "ticks": "outside",
            "zeroline": false,
            "zerolinecolor": "rgb(36,36,36)"
           },
           "zaxis": {
            "backgroundcolor": "white",
            "gridcolor": "rgb(232,232,232)",
            "gridwidth": 2,
            "linecolor": "rgb(36,36,36)",
            "showbackground": true,
            "showgrid": false,
            "showline": true,
            "ticks": "outside",
            "zeroline": false,
            "zerolinecolor": "rgb(36,36,36)"
           }
          },
          "shapedefaults": {
           "fillcolor": "black",
           "line": {
            "width": 0
           },
           "opacity": 0.3
          },
          "ternary": {
           "aaxis": {
            "gridcolor": "rgb(232,232,232)",
            "linecolor": "rgb(36,36,36)",
            "showgrid": false,
            "showline": true,
            "ticks": "outside"
           },
           "baxis": {
            "gridcolor": "rgb(232,232,232)",
            "linecolor": "rgb(36,36,36)",
            "showgrid": false,
            "showline": true,
            "ticks": "outside"
           },
           "bgcolor": "white",
           "caxis": {
            "gridcolor": "rgb(232,232,232)",
            "linecolor": "rgb(36,36,36)",
            "showgrid": false,
            "showline": true,
            "ticks": "outside"
           }
          },
          "title": {
           "x": 0.05
          },
          "xaxis": {
           "automargin": true,
           "gridcolor": "rgb(232,232,232)",
           "linecolor": "rgb(36,36,36)",
           "showgrid": false,
           "showline": true,
           "ticks": "outside",
           "title": {
            "standoff": 15
           },
           "zeroline": false,
           "zerolinecolor": "rgb(36,36,36)"
          },
          "yaxis": {
           "automargin": true,
           "gridcolor": "rgb(232,232,232)",
           "linecolor": "rgb(36,36,36)",
           "showgrid": false,
           "showline": true,
           "ticks": "outside",
           "title": {
            "standoff": 15
           },
           "zeroline": false,
           "zerolinecolor": "rgb(36,36,36)"
          }
         }
        },
        "title": {
         "font": {
          "color": "Black",
          "size": 22
         },
         "text": "<b>Intertopic Distance Map",
         "x": 0.5,
         "xanchor": "center",
         "y": 0.95,
         "yanchor": "top"
        },
        "width": 650,
        "xaxis": {
         "anchor": "y",
         "domain": [
          0,
          1
         ],
         "range": [
          -5.4365832805633545,
          19.52184705734253
         ],
         "title": {
          "text": ""
         },
         "visible": false
        },
        "yaxis": {
         "anchor": "x",
         "domain": [
          0,
          1
         ],
         "range": [
          -10.646547985076904,
          20.285255718231202
         ],
         "title": {
          "text": ""
         },
         "visible": false
        }
       }
      }
     },
     "metadata": {},
     "output_type": "display_data"
    }
   ],
   "source": [
    "fig1 = topic_model.visualize_topics()"
   ]
  },
  {
   "cell_type": "code",
   "execution_count": 22,
   "metadata": {},
   "outputs": [
    {
     "data": {
      "application/vnd.plotly.v1+json": {
       "config": {
        "plotlyServerURL": "https://plotly.com"
       },
       "data": [
        {
         "marker": {
          "color": "#C8D2D7",
          "line": {
           "color": "#6E8484",
           "width": 1
          }
         },
         "orientation": "h",
         "type": "bar",
         "x": [
          0.016504156822119878,
          0.009119926177381181,
          0.007932120875348326,
          0.01380575575142192,
          0.008855565452545002,
          0.006266489364057012,
          0.0068631809492754325,
          0.005913269991747838,
          0.012475036204834167,
          0.007591259605326618,
          0.010061036034654124,
          0.011925741241124967,
          0.011286727040040278,
          0.0066831643565356535,
          0.00878774018899215,
          0.005610310391015973,
          0.007700818763813977,
          0.005827968071241616,
          0.012889484416429129,
          0.007549477354231147,
          0.008927945631318804,
          0.006412527872917709,
          0.007768130864274203,
          0.007751848957355303,
          0.009788561882659962,
          0.007926734978689,
          0.026581283407976202,
          0.009714551960484756
         ],
         "y": [
          "<b>Topic 0</b>: signorina_ad_furto_pover...",
          "<b>Topic 1</b>: signor_natura_anima_mate...",
          "<b>Topic 2</b>: libri_biblioteca_leggere...",
          "<b>Topic 3</b>: occhi_mammina_dito_ingan...",
          "<b>Topic 4</b>: libertà_potevo_potuto_vi...",
          "<b>Topic 5</b>: moglie_matrimonio_lascio...",
          "<b>Topic 7</b>: gridai_esclamai_riso_ris...",
          "<b>Topic 8</b>: disse_colpa_municipio_es...",
          "<b>Topic 9</b>: italia_marchese_venuto_f...",
          "<b>Topic 10</b>: morto_vivo_morte_cadave...",
          "<b>Topic 11</b>: moglie_madre_figliuoli_...",
          "<b>Topic 12</b>: pascal_vivo_morto_addos...",
          "<b>Topic 13</b>: madre_mamma_zia_scolast...",
          "<b>Topic 14</b>: occhio_occhiali_capelli...",
          "<b>Topic 15</b>: bruttissimo_torto_suoce...",
          "<b>Topic 16</b>: signor_esclamò_solleva_...",
          "<b>Topic 17</b>: mano_guardò_man_guardar...",
          "<b>Topic 18</b>: dissi_pronto_digo_devi_...",
          "<b>Topic 23</b>: candida_signora_vestia_...",
          "<b>Topic 25</b>: sentii_gola_girò_forte_...",
          "<b>Topic 26</b>: biglietti_portafogli_li...",
          "<b>Topic 27</b>: treno_stazione_papaveri...",
          "<b>Topic 28</b>: viaggio_ponte_berrettin...",
          "<b>Topic 29</b>: mano_mani_spalle_occhi_...",
          "<b>Topic 30</b>: signor_dorme_debba_donn...",
          "<b>Topic 31</b>: dottor_servo_consideri_...",
          "<b>Topic 34</b>: abbajava_zampine_suppli...",
          "<b>Topic 35</b>: fratello_ritrovato_denu..."
         ]
        }
       ],
       "layout": {
        "height": 600,
        "hoverlabel": {
         "bgcolor": "white",
         "font": {
          "family": "Rockwell",
          "size": 16
         }
        },
        "template": {
         "data": {
          "bar": [
           {
            "error_x": {
             "color": "rgb(36,36,36)"
            },
            "error_y": {
             "color": "rgb(36,36,36)"
            },
            "marker": {
             "line": {
              "color": "white",
              "width": 0.5
             },
             "pattern": {
              "fillmode": "overlay",
              "size": 10,
              "solidity": 0.2
             }
            },
            "type": "bar"
           }
          ],
          "barpolar": [
           {
            "marker": {
             "line": {
              "color": "white",
              "width": 0.5
             },
             "pattern": {
              "fillmode": "overlay",
              "size": 10,
              "solidity": 0.2
             }
            },
            "type": "barpolar"
           }
          ],
          "carpet": [
           {
            "aaxis": {
             "endlinecolor": "rgb(36,36,36)",
             "gridcolor": "white",
             "linecolor": "white",
             "minorgridcolor": "white",
             "startlinecolor": "rgb(36,36,36)"
            },
            "baxis": {
             "endlinecolor": "rgb(36,36,36)",
             "gridcolor": "white",
             "linecolor": "white",
             "minorgridcolor": "white",
             "startlinecolor": "rgb(36,36,36)"
            },
            "type": "carpet"
           }
          ],
          "choropleth": [
           {
            "colorbar": {
             "outlinewidth": 1,
             "tickcolor": "rgb(36,36,36)",
             "ticks": "outside"
            },
            "type": "choropleth"
           }
          ],
          "contour": [
           {
            "colorbar": {
             "outlinewidth": 1,
             "tickcolor": "rgb(36,36,36)",
             "ticks": "outside"
            },
            "colorscale": [
             [
              0,
              "#440154"
             ],
             [
              0.1111111111111111,
              "#482878"
             ],
             [
              0.2222222222222222,
              "#3e4989"
             ],
             [
              0.3333333333333333,
              "#31688e"
             ],
             [
              0.4444444444444444,
              "#26828e"
             ],
             [
              0.5555555555555556,
              "#1f9e89"
             ],
             [
              0.6666666666666666,
              "#35b779"
             ],
             [
              0.7777777777777778,
              "#6ece58"
             ],
             [
              0.8888888888888888,
              "#b5de2b"
             ],
             [
              1,
              "#fde725"
             ]
            ],
            "type": "contour"
           }
          ],
          "contourcarpet": [
           {
            "colorbar": {
             "outlinewidth": 1,
             "tickcolor": "rgb(36,36,36)",
             "ticks": "outside"
            },
            "type": "contourcarpet"
           }
          ],
          "heatmap": [
           {
            "colorbar": {
             "outlinewidth": 1,
             "tickcolor": "rgb(36,36,36)",
             "ticks": "outside"
            },
            "colorscale": [
             [
              0,
              "#440154"
             ],
             [
              0.1111111111111111,
              "#482878"
             ],
             [
              0.2222222222222222,
              "#3e4989"
             ],
             [
              0.3333333333333333,
              "#31688e"
             ],
             [
              0.4444444444444444,
              "#26828e"
             ],
             [
              0.5555555555555556,
              "#1f9e89"
             ],
             [
              0.6666666666666666,
              "#35b779"
             ],
             [
              0.7777777777777778,
              "#6ece58"
             ],
             [
              0.8888888888888888,
              "#b5de2b"
             ],
             [
              1,
              "#fde725"
             ]
            ],
            "type": "heatmap"
           }
          ],
          "heatmapgl": [
           {
            "colorbar": {
             "outlinewidth": 1,
             "tickcolor": "rgb(36,36,36)",
             "ticks": "outside"
            },
            "colorscale": [
             [
              0,
              "#440154"
             ],
             [
              0.1111111111111111,
              "#482878"
             ],
             [
              0.2222222222222222,
              "#3e4989"
             ],
             [
              0.3333333333333333,
              "#31688e"
             ],
             [
              0.4444444444444444,
              "#26828e"
             ],
             [
              0.5555555555555556,
              "#1f9e89"
             ],
             [
              0.6666666666666666,
              "#35b779"
             ],
             [
              0.7777777777777778,
              "#6ece58"
             ],
             [
              0.8888888888888888,
              "#b5de2b"
             ],
             [
              1,
              "#fde725"
             ]
            ],
            "type": "heatmapgl"
           }
          ],
          "histogram": [
           {
            "marker": {
             "line": {
              "color": "white",
              "width": 0.6
             }
            },
            "type": "histogram"
           }
          ],
          "histogram2d": [
           {
            "colorbar": {
             "outlinewidth": 1,
             "tickcolor": "rgb(36,36,36)",
             "ticks": "outside"
            },
            "colorscale": [
             [
              0,
              "#440154"
             ],
             [
              0.1111111111111111,
              "#482878"
             ],
             [
              0.2222222222222222,
              "#3e4989"
             ],
             [
              0.3333333333333333,
              "#31688e"
             ],
             [
              0.4444444444444444,
              "#26828e"
             ],
             [
              0.5555555555555556,
              "#1f9e89"
             ],
             [
              0.6666666666666666,
              "#35b779"
             ],
             [
              0.7777777777777778,
              "#6ece58"
             ],
             [
              0.8888888888888888,
              "#b5de2b"
             ],
             [
              1,
              "#fde725"
             ]
            ],
            "type": "histogram2d"
           }
          ],
          "histogram2dcontour": [
           {
            "colorbar": {
             "outlinewidth": 1,
             "tickcolor": "rgb(36,36,36)",
             "ticks": "outside"
            },
            "colorscale": [
             [
              0,
              "#440154"
             ],
             [
              0.1111111111111111,
              "#482878"
             ],
             [
              0.2222222222222222,
              "#3e4989"
             ],
             [
              0.3333333333333333,
              "#31688e"
             ],
             [
              0.4444444444444444,
              "#26828e"
             ],
             [
              0.5555555555555556,
              "#1f9e89"
             ],
             [
              0.6666666666666666,
              "#35b779"
             ],
             [
              0.7777777777777778,
              "#6ece58"
             ],
             [
              0.8888888888888888,
              "#b5de2b"
             ],
             [
              1,
              "#fde725"
             ]
            ],
            "type": "histogram2dcontour"
           }
          ],
          "mesh3d": [
           {
            "colorbar": {
             "outlinewidth": 1,
             "tickcolor": "rgb(36,36,36)",
             "ticks": "outside"
            },
            "type": "mesh3d"
           }
          ],
          "parcoords": [
           {
            "line": {
             "colorbar": {
              "outlinewidth": 1,
              "tickcolor": "rgb(36,36,36)",
              "ticks": "outside"
             }
            },
            "type": "parcoords"
           }
          ],
          "pie": [
           {
            "automargin": true,
            "type": "pie"
           }
          ],
          "scatter": [
           {
            "marker": {
             "colorbar": {
              "outlinewidth": 1,
              "tickcolor": "rgb(36,36,36)",
              "ticks": "outside"
             }
            },
            "type": "scatter"
           }
          ],
          "scatter3d": [
           {
            "line": {
             "colorbar": {
              "outlinewidth": 1,
              "tickcolor": "rgb(36,36,36)",
              "ticks": "outside"
             }
            },
            "marker": {
             "colorbar": {
              "outlinewidth": 1,
              "tickcolor": "rgb(36,36,36)",
              "ticks": "outside"
             }
            },
            "type": "scatter3d"
           }
          ],
          "scattercarpet": [
           {
            "marker": {
             "colorbar": {
              "outlinewidth": 1,
              "tickcolor": "rgb(36,36,36)",
              "ticks": "outside"
             }
            },
            "type": "scattercarpet"
           }
          ],
          "scattergeo": [
           {
            "marker": {
             "colorbar": {
              "outlinewidth": 1,
              "tickcolor": "rgb(36,36,36)",
              "ticks": "outside"
             }
            },
            "type": "scattergeo"
           }
          ],
          "scattergl": [
           {
            "marker": {
             "colorbar": {
              "outlinewidth": 1,
              "tickcolor": "rgb(36,36,36)",
              "ticks": "outside"
             }
            },
            "type": "scattergl"
           }
          ],
          "scattermapbox": [
           {
            "marker": {
             "colorbar": {
              "outlinewidth": 1,
              "tickcolor": "rgb(36,36,36)",
              "ticks": "outside"
             }
            },
            "type": "scattermapbox"
           }
          ],
          "scatterpolar": [
           {
            "marker": {
             "colorbar": {
              "outlinewidth": 1,
              "tickcolor": "rgb(36,36,36)",
              "ticks": "outside"
             }
            },
            "type": "scatterpolar"
           }
          ],
          "scatterpolargl": [
           {
            "marker": {
             "colorbar": {
              "outlinewidth": 1,
              "tickcolor": "rgb(36,36,36)",
              "ticks": "outside"
             }
            },
            "type": "scatterpolargl"
           }
          ],
          "scatterternary": [
           {
            "marker": {
             "colorbar": {
              "outlinewidth": 1,
              "tickcolor": "rgb(36,36,36)",
              "ticks": "outside"
             }
            },
            "type": "scatterternary"
           }
          ],
          "surface": [
           {
            "colorbar": {
             "outlinewidth": 1,
             "tickcolor": "rgb(36,36,36)",
             "ticks": "outside"
            },
            "colorscale": [
             [
              0,
              "#440154"
             ],
             [
              0.1111111111111111,
              "#482878"
             ],
             [
              0.2222222222222222,
              "#3e4989"
             ],
             [
              0.3333333333333333,
              "#31688e"
             ],
             [
              0.4444444444444444,
              "#26828e"
             ],
             [
              0.5555555555555556,
              "#1f9e89"
             ],
             [
              0.6666666666666666,
              "#35b779"
             ],
             [
              0.7777777777777778,
              "#6ece58"
             ],
             [
              0.8888888888888888,
              "#b5de2b"
             ],
             [
              1,
              "#fde725"
             ]
            ],
            "type": "surface"
           }
          ],
          "table": [
           {
            "cells": {
             "fill": {
              "color": "rgb(237,237,237)"
             },
             "line": {
              "color": "white"
             }
            },
            "header": {
             "fill": {
              "color": "rgb(217,217,217)"
             },
             "line": {
              "color": "white"
             }
            },
            "type": "table"
           }
          ]
         },
         "layout": {
          "annotationdefaults": {
           "arrowhead": 0,
           "arrowwidth": 1
          },
          "autotypenumbers": "strict",
          "coloraxis": {
           "colorbar": {
            "outlinewidth": 1,
            "tickcolor": "rgb(36,36,36)",
            "ticks": "outside"
           }
          },
          "colorscale": {
           "diverging": [
            [
             0,
             "rgb(103,0,31)"
            ],
            [
             0.1,
             "rgb(178,24,43)"
            ],
            [
             0.2,
             "rgb(214,96,77)"
            ],
            [
             0.3,
             "rgb(244,165,130)"
            ],
            [
             0.4,
             "rgb(253,219,199)"
            ],
            [
             0.5,
             "rgb(247,247,247)"
            ],
            [
             0.6,
             "rgb(209,229,240)"
            ],
            [
             0.7,
             "rgb(146,197,222)"
            ],
            [
             0.8,
             "rgb(67,147,195)"
            ],
            [
             0.9,
             "rgb(33,102,172)"
            ],
            [
             1,
             "rgb(5,48,97)"
            ]
           ],
           "sequential": [
            [
             0,
             "#440154"
            ],
            [
             0.1111111111111111,
             "#482878"
            ],
            [
             0.2222222222222222,
             "#3e4989"
            ],
            [
             0.3333333333333333,
             "#31688e"
            ],
            [
             0.4444444444444444,
             "#26828e"
            ],
            [
             0.5555555555555556,
             "#1f9e89"
            ],
            [
             0.6666666666666666,
             "#35b779"
            ],
            [
             0.7777777777777778,
             "#6ece58"
            ],
            [
             0.8888888888888888,
             "#b5de2b"
            ],
            [
             1,
             "#fde725"
            ]
           ],
           "sequentialminus": [
            [
             0,
             "#440154"
            ],
            [
             0.1111111111111111,
             "#482878"
            ],
            [
             0.2222222222222222,
             "#3e4989"
            ],
            [
             0.3333333333333333,
             "#31688e"
            ],
            [
             0.4444444444444444,
             "#26828e"
            ],
            [
             0.5555555555555556,
             "#1f9e89"
            ],
            [
             0.6666666666666666,
             "#35b779"
            ],
            [
             0.7777777777777778,
             "#6ece58"
            ],
            [
             0.8888888888888888,
             "#b5de2b"
            ],
            [
             1,
             "#fde725"
            ]
           ]
          },
          "colorway": [
           "#1F77B4",
           "#FF7F0E",
           "#2CA02C",
           "#D62728",
           "#9467BD",
           "#8C564B",
           "#E377C2",
           "#7F7F7F",
           "#BCBD22",
           "#17BECF"
          ],
          "font": {
           "color": "rgb(36,36,36)"
          },
          "geo": {
           "bgcolor": "white",
           "lakecolor": "white",
           "landcolor": "white",
           "showlakes": true,
           "showland": true,
           "subunitcolor": "white"
          },
          "hoverlabel": {
           "align": "left"
          },
          "hovermode": "closest",
          "mapbox": {
           "style": "light"
          },
          "paper_bgcolor": "white",
          "plot_bgcolor": "white",
          "polar": {
           "angularaxis": {
            "gridcolor": "rgb(232,232,232)",
            "linecolor": "rgb(36,36,36)",
            "showgrid": false,
            "showline": true,
            "ticks": "outside"
           },
           "bgcolor": "white",
           "radialaxis": {
            "gridcolor": "rgb(232,232,232)",
            "linecolor": "rgb(36,36,36)",
            "showgrid": false,
            "showline": true,
            "ticks": "outside"
           }
          },
          "scene": {
           "xaxis": {
            "backgroundcolor": "white",
            "gridcolor": "rgb(232,232,232)",
            "gridwidth": 2,
            "linecolor": "rgb(36,36,36)",
            "showbackground": true,
            "showgrid": false,
            "showline": true,
            "ticks": "outside",
            "zeroline": false,
            "zerolinecolor": "rgb(36,36,36)"
           },
           "yaxis": {
            "backgroundcolor": "white",
            "gridcolor": "rgb(232,232,232)",
            "gridwidth": 2,
            "linecolor": "rgb(36,36,36)",
            "showbackground": true,
            "showgrid": false,
            "showline": true,
            "ticks": "outside",
            "zeroline": false,
            "zerolinecolor": "rgb(36,36,36)"
           },
           "zaxis": {
            "backgroundcolor": "white",
            "gridcolor": "rgb(232,232,232)",
            "gridwidth": 2,
            "linecolor": "rgb(36,36,36)",
            "showbackground": true,
            "showgrid": false,
            "showline": true,
            "ticks": "outside",
            "zeroline": false,
            "zerolinecolor": "rgb(36,36,36)"
           }
          },
          "shapedefaults": {
           "fillcolor": "black",
           "line": {
            "width": 0
           },
           "opacity": 0.3
          },
          "ternary": {
           "aaxis": {
            "gridcolor": "rgb(232,232,232)",
            "linecolor": "rgb(36,36,36)",
            "showgrid": false,
            "showline": true,
            "ticks": "outside"
           },
           "baxis": {
            "gridcolor": "rgb(232,232,232)",
            "linecolor": "rgb(36,36,36)",
            "showgrid": false,
            "showline": true,
            "ticks": "outside"
           },
           "bgcolor": "white",
           "caxis": {
            "gridcolor": "rgb(232,232,232)",
            "linecolor": "rgb(36,36,36)",
            "showgrid": false,
            "showline": true,
            "ticks": "outside"
           }
          },
          "title": {
           "x": 0.05
          },
          "xaxis": {
           "automargin": true,
           "gridcolor": "rgb(232,232,232)",
           "linecolor": "rgb(36,36,36)",
           "showgrid": false,
           "showline": true,
           "ticks": "outside",
           "title": {
            "standoff": 15
           },
           "zeroline": false,
           "zerolinecolor": "rgb(36,36,36)"
          },
          "yaxis": {
           "automargin": true,
           "gridcolor": "rgb(232,232,232)",
           "linecolor": "rgb(36,36,36)",
           "showgrid": false,
           "showline": true,
           "ticks": "outside",
           "title": {
            "standoff": 15
           },
           "zeroline": false,
           "zerolinecolor": "rgb(36,36,36)"
          }
         }
        },
        "title": {
         "font": {
          "color": "Black",
          "size": 22
         },
         "text": "<b>Topic Probability Distribution",
         "x": 0.5,
         "xanchor": "center",
         "y": 0.95,
         "yanchor": "top"
        },
        "width": 800,
        "xaxis": {
         "title": {
          "text": "Probability"
         }
        }
       }
      }
     },
     "metadata": {},
     "output_type": "display_data"
    }
   ],
   "source": [
    "topic_model.visualize_distribution(probs[200], min_probability=0.0055)"
   ]
  },
  {
   "cell_type": "code",
   "execution_count": 13,
   "metadata": {},
   "outputs": [
    {
     "data": {
      "application/vnd.plotly.v1+json": {
       "config": {
        "plotlyServerURL": "https://plotly.com"
       },
       "data": [
        {
         "marker": {
          "color": "#D55E00"
         },
         "orientation": "h",
         "type": "bar",
         "x": [
          0.015590059069026862,
          0.01575572407758621,
          0.016094680395110448,
          0.01680337063869906,
          0.023935362862223575
         ],
         "xaxis": "x",
         "y": [
          "poteva  ",
          "povera  ",
          "furto  ",
          "ad  ",
          "signorina  "
         ],
         "yaxis": "y"
        },
        {
         "marker": {
          "color": "#0072B2"
         },
         "orientation": "h",
         "type": "bar",
         "x": [
          0.01402087160371299,
          0.014026940168107413,
          0.01533420017977639,
          0.01674429625493524,
          0.02126713117628029
         ],
         "xaxis": "x2",
         "y": [
          "esso  ",
          "materia  ",
          "anima  ",
          "natura  ",
          "signor  "
         ],
         "yaxis": "y2"
        },
        {
         "marker": {
          "color": "#CC79A7"
         },
         "orientation": "h",
         "type": "bar",
         "x": [
          0.017819813677863748,
          0.022017657294452816,
          0.022911189014396247,
          0.05207370403037389,
          0.053149822392273206
         ],
         "xaxis": "x3",
         "y": [
          "giornali  ",
          "libro  ",
          "leggere  ",
          "biblioteca  ",
          "libri  "
         ],
         "yaxis": "y3"
        },
        {
         "marker": {
          "color": "#E69F00"
         },
         "orientation": "h",
         "type": "bar",
         "x": [
          0.021111622396267016,
          0.021887815118943763,
          0.022974733782757092,
          0.02727487431617112,
          0.058159121691787004
         ],
         "xaxis": "x4",
         "y": [
          "giocare  ",
          "ingannato  ",
          "dito  ",
          "mammina  ",
          "occhi  "
         ],
         "yaxis": "y4"
        },
        {
         "marker": {
          "color": "#56B4E9"
         },
         "orientation": "h",
         "type": "bar",
         "x": [
          0.017179162113912613,
          0.017258329803875882,
          0.023681421460914166,
          0.025229466588447193,
          0.025503978363998377
         ],
         "xaxis": "x5",
         "y": [
          "via  ",
          "vivere  ",
          "potuto  ",
          "potevo  ",
          "libertà  "
         ],
         "yaxis": "y5"
        }
       ],
       "layout": {
        "annotations": [
         {
          "font": {
           "size": 16
          },
          "showarrow": false,
          "text": "Topic 0",
          "x": 0.0875,
          "xanchor": "center",
          "xref": "paper",
          "y": 1,
          "yanchor": "bottom",
          "yref": "paper"
         },
         {
          "font": {
           "size": 16
          },
          "showarrow": false,
          "text": "Topic 1",
          "x": 0.36250000000000004,
          "xanchor": "center",
          "xref": "paper",
          "y": 1,
          "yanchor": "bottom",
          "yref": "paper"
         },
         {
          "font": {
           "size": 16
          },
          "showarrow": false,
          "text": "Topic 2",
          "x": 0.6375000000000001,
          "xanchor": "center",
          "xref": "paper",
          "y": 1,
          "yanchor": "bottom",
          "yref": "paper"
         },
         {
          "font": {
           "size": 16
          },
          "showarrow": false,
          "text": "Topic 3",
          "x": 0.9125,
          "xanchor": "center",
          "xref": "paper",
          "y": 1,
          "yanchor": "bottom",
          "yref": "paper"
         },
         {
          "font": {
           "size": 16
          },
          "showarrow": false,
          "text": "Topic 4",
          "x": 0.0875,
          "xanchor": "center",
          "xref": "paper",
          "y": 0.4,
          "yanchor": "bottom",
          "yref": "paper"
         }
        ],
        "height": 500,
        "hoverlabel": {
         "bgcolor": "white",
         "font": {
          "family": "Rockwell",
          "size": 16
         }
        },
        "showlegend": false,
        "template": {
         "data": {
          "bar": [
           {
            "error_x": {
             "color": "#2a3f5f"
            },
            "error_y": {
             "color": "#2a3f5f"
            },
            "marker": {
             "line": {
              "color": "white",
              "width": 0.5
             },
             "pattern": {
              "fillmode": "overlay",
              "size": 10,
              "solidity": 0.2
             }
            },
            "type": "bar"
           }
          ],
          "barpolar": [
           {
            "marker": {
             "line": {
              "color": "white",
              "width": 0.5
             },
             "pattern": {
              "fillmode": "overlay",
              "size": 10,
              "solidity": 0.2
             }
            },
            "type": "barpolar"
           }
          ],
          "carpet": [
           {
            "aaxis": {
             "endlinecolor": "#2a3f5f",
             "gridcolor": "#C8D4E3",
             "linecolor": "#C8D4E3",
             "minorgridcolor": "#C8D4E3",
             "startlinecolor": "#2a3f5f"
            },
            "baxis": {
             "endlinecolor": "#2a3f5f",
             "gridcolor": "#C8D4E3",
             "linecolor": "#C8D4E3",
             "minorgridcolor": "#C8D4E3",
             "startlinecolor": "#2a3f5f"
            },
            "type": "carpet"
           }
          ],
          "choropleth": [
           {
            "colorbar": {
             "outlinewidth": 0,
             "ticks": ""
            },
            "type": "choropleth"
           }
          ],
          "contour": [
           {
            "colorbar": {
             "outlinewidth": 0,
             "ticks": ""
            },
            "colorscale": [
             [
              0,
              "#0d0887"
             ],
             [
              0.1111111111111111,
              "#46039f"
             ],
             [
              0.2222222222222222,
              "#7201a8"
             ],
             [
              0.3333333333333333,
              "#9c179e"
             ],
             [
              0.4444444444444444,
              "#bd3786"
             ],
             [
              0.5555555555555556,
              "#d8576b"
             ],
             [
              0.6666666666666666,
              "#ed7953"
             ],
             [
              0.7777777777777778,
              "#fb9f3a"
             ],
             [
              0.8888888888888888,
              "#fdca26"
             ],
             [
              1,
              "#f0f921"
             ]
            ],
            "type": "contour"
           }
          ],
          "contourcarpet": [
           {
            "colorbar": {
             "outlinewidth": 0,
             "ticks": ""
            },
            "type": "contourcarpet"
           }
          ],
          "heatmap": [
           {
            "colorbar": {
             "outlinewidth": 0,
             "ticks": ""
            },
            "colorscale": [
             [
              0,
              "#0d0887"
             ],
             [
              0.1111111111111111,
              "#46039f"
             ],
             [
              0.2222222222222222,
              "#7201a8"
             ],
             [
              0.3333333333333333,
              "#9c179e"
             ],
             [
              0.4444444444444444,
              "#bd3786"
             ],
             [
              0.5555555555555556,
              "#d8576b"
             ],
             [
              0.6666666666666666,
              "#ed7953"
             ],
             [
              0.7777777777777778,
              "#fb9f3a"
             ],
             [
              0.8888888888888888,
              "#fdca26"
             ],
             [
              1,
              "#f0f921"
             ]
            ],
            "type": "heatmap"
           }
          ],
          "heatmapgl": [
           {
            "colorbar": {
             "outlinewidth": 0,
             "ticks": ""
            },
            "colorscale": [
             [
              0,
              "#0d0887"
             ],
             [
              0.1111111111111111,
              "#46039f"
             ],
             [
              0.2222222222222222,
              "#7201a8"
             ],
             [
              0.3333333333333333,
              "#9c179e"
             ],
             [
              0.4444444444444444,
              "#bd3786"
             ],
             [
              0.5555555555555556,
              "#d8576b"
             ],
             [
              0.6666666666666666,
              "#ed7953"
             ],
             [
              0.7777777777777778,
              "#fb9f3a"
             ],
             [
              0.8888888888888888,
              "#fdca26"
             ],
             [
              1,
              "#f0f921"
             ]
            ],
            "type": "heatmapgl"
           }
          ],
          "histogram": [
           {
            "marker": {
             "pattern": {
              "fillmode": "overlay",
              "size": 10,
              "solidity": 0.2
             }
            },
            "type": "histogram"
           }
          ],
          "histogram2d": [
           {
            "colorbar": {
             "outlinewidth": 0,
             "ticks": ""
            },
            "colorscale": [
             [
              0,
              "#0d0887"
             ],
             [
              0.1111111111111111,
              "#46039f"
             ],
             [
              0.2222222222222222,
              "#7201a8"
             ],
             [
              0.3333333333333333,
              "#9c179e"
             ],
             [
              0.4444444444444444,
              "#bd3786"
             ],
             [
              0.5555555555555556,
              "#d8576b"
             ],
             [
              0.6666666666666666,
              "#ed7953"
             ],
             [
              0.7777777777777778,
              "#fb9f3a"
             ],
             [
              0.8888888888888888,
              "#fdca26"
             ],
             [
              1,
              "#f0f921"
             ]
            ],
            "type": "histogram2d"
           }
          ],
          "histogram2dcontour": [
           {
            "colorbar": {
             "outlinewidth": 0,
             "ticks": ""
            },
            "colorscale": [
             [
              0,
              "#0d0887"
             ],
             [
              0.1111111111111111,
              "#46039f"
             ],
             [
              0.2222222222222222,
              "#7201a8"
             ],
             [
              0.3333333333333333,
              "#9c179e"
             ],
             [
              0.4444444444444444,
              "#bd3786"
             ],
             [
              0.5555555555555556,
              "#d8576b"
             ],
             [
              0.6666666666666666,
              "#ed7953"
             ],
             [
              0.7777777777777778,
              "#fb9f3a"
             ],
             [
              0.8888888888888888,
              "#fdca26"
             ],
             [
              1,
              "#f0f921"
             ]
            ],
            "type": "histogram2dcontour"
           }
          ],
          "mesh3d": [
           {
            "colorbar": {
             "outlinewidth": 0,
             "ticks": ""
            },
            "type": "mesh3d"
           }
          ],
          "parcoords": [
           {
            "line": {
             "colorbar": {
              "outlinewidth": 0,
              "ticks": ""
             }
            },
            "type": "parcoords"
           }
          ],
          "pie": [
           {
            "automargin": true,
            "type": "pie"
           }
          ],
          "scatter": [
           {
            "marker": {
             "colorbar": {
              "outlinewidth": 0,
              "ticks": ""
             }
            },
            "type": "scatter"
           }
          ],
          "scatter3d": [
           {
            "line": {
             "colorbar": {
              "outlinewidth": 0,
              "ticks": ""
             }
            },
            "marker": {
             "colorbar": {
              "outlinewidth": 0,
              "ticks": ""
             }
            },
            "type": "scatter3d"
           }
          ],
          "scattercarpet": [
           {
            "marker": {
             "colorbar": {
              "outlinewidth": 0,
              "ticks": ""
             }
            },
            "type": "scattercarpet"
           }
          ],
          "scattergeo": [
           {
            "marker": {
             "colorbar": {
              "outlinewidth": 0,
              "ticks": ""
             }
            },
            "type": "scattergeo"
           }
          ],
          "scattergl": [
           {
            "marker": {
             "colorbar": {
              "outlinewidth": 0,
              "ticks": ""
             }
            },
            "type": "scattergl"
           }
          ],
          "scattermapbox": [
           {
            "marker": {
             "colorbar": {
              "outlinewidth": 0,
              "ticks": ""
             }
            },
            "type": "scattermapbox"
           }
          ],
          "scatterpolar": [
           {
            "marker": {
             "colorbar": {
              "outlinewidth": 0,
              "ticks": ""
             }
            },
            "type": "scatterpolar"
           }
          ],
          "scatterpolargl": [
           {
            "marker": {
             "colorbar": {
              "outlinewidth": 0,
              "ticks": ""
             }
            },
            "type": "scatterpolargl"
           }
          ],
          "scatterternary": [
           {
            "marker": {
             "colorbar": {
              "outlinewidth": 0,
              "ticks": ""
             }
            },
            "type": "scatterternary"
           }
          ],
          "surface": [
           {
            "colorbar": {
             "outlinewidth": 0,
             "ticks": ""
            },
            "colorscale": [
             [
              0,
              "#0d0887"
             ],
             [
              0.1111111111111111,
              "#46039f"
             ],
             [
              0.2222222222222222,
              "#7201a8"
             ],
             [
              0.3333333333333333,
              "#9c179e"
             ],
             [
              0.4444444444444444,
              "#bd3786"
             ],
             [
              0.5555555555555556,
              "#d8576b"
             ],
             [
              0.6666666666666666,
              "#ed7953"
             ],
             [
              0.7777777777777778,
              "#fb9f3a"
             ],
             [
              0.8888888888888888,
              "#fdca26"
             ],
             [
              1,
              "#f0f921"
             ]
            ],
            "type": "surface"
           }
          ],
          "table": [
           {
            "cells": {
             "fill": {
              "color": "#EBF0F8"
             },
             "line": {
              "color": "white"
             }
            },
            "header": {
             "fill": {
              "color": "#C8D4E3"
             },
             "line": {
              "color": "white"
             }
            },
            "type": "table"
           }
          ]
         },
         "layout": {
          "annotationdefaults": {
           "arrowcolor": "#2a3f5f",
           "arrowhead": 0,
           "arrowwidth": 1
          },
          "autotypenumbers": "strict",
          "coloraxis": {
           "colorbar": {
            "outlinewidth": 0,
            "ticks": ""
           }
          },
          "colorscale": {
           "diverging": [
            [
             0,
             "#8e0152"
            ],
            [
             0.1,
             "#c51b7d"
            ],
            [
             0.2,
             "#de77ae"
            ],
            [
             0.3,
             "#f1b6da"
            ],
            [
             0.4,
             "#fde0ef"
            ],
            [
             0.5,
             "#f7f7f7"
            ],
            [
             0.6,
             "#e6f5d0"
            ],
            [
             0.7,
             "#b8e186"
            ],
            [
             0.8,
             "#7fbc41"
            ],
            [
             0.9,
             "#4d9221"
            ],
            [
             1,
             "#276419"
            ]
           ],
           "sequential": [
            [
             0,
             "#0d0887"
            ],
            [
             0.1111111111111111,
             "#46039f"
            ],
            [
             0.2222222222222222,
             "#7201a8"
            ],
            [
             0.3333333333333333,
             "#9c179e"
            ],
            [
             0.4444444444444444,
             "#bd3786"
            ],
            [
             0.5555555555555556,
             "#d8576b"
            ],
            [
             0.6666666666666666,
             "#ed7953"
            ],
            [
             0.7777777777777778,
             "#fb9f3a"
            ],
            [
             0.8888888888888888,
             "#fdca26"
            ],
            [
             1,
             "#f0f921"
            ]
           ],
           "sequentialminus": [
            [
             0,
             "#0d0887"
            ],
            [
             0.1111111111111111,
             "#46039f"
            ],
            [
             0.2222222222222222,
             "#7201a8"
            ],
            [
             0.3333333333333333,
             "#9c179e"
            ],
            [
             0.4444444444444444,
             "#bd3786"
            ],
            [
             0.5555555555555556,
             "#d8576b"
            ],
            [
             0.6666666666666666,
             "#ed7953"
            ],
            [
             0.7777777777777778,
             "#fb9f3a"
            ],
            [
             0.8888888888888888,
             "#fdca26"
            ],
            [
             1,
             "#f0f921"
            ]
           ]
          },
          "colorway": [
           "#636efa",
           "#EF553B",
           "#00cc96",
           "#ab63fa",
           "#FFA15A",
           "#19d3f3",
           "#FF6692",
           "#B6E880",
           "#FF97FF",
           "#FECB52"
          ],
          "font": {
           "color": "#2a3f5f"
          },
          "geo": {
           "bgcolor": "white",
           "lakecolor": "white",
           "landcolor": "white",
           "showlakes": true,
           "showland": true,
           "subunitcolor": "#C8D4E3"
          },
          "hoverlabel": {
           "align": "left"
          },
          "hovermode": "closest",
          "mapbox": {
           "style": "light"
          },
          "paper_bgcolor": "white",
          "plot_bgcolor": "white",
          "polar": {
           "angularaxis": {
            "gridcolor": "#EBF0F8",
            "linecolor": "#EBF0F8",
            "ticks": ""
           },
           "bgcolor": "white",
           "radialaxis": {
            "gridcolor": "#EBF0F8",
            "linecolor": "#EBF0F8",
            "ticks": ""
           }
          },
          "scene": {
           "xaxis": {
            "backgroundcolor": "white",
            "gridcolor": "#DFE8F3",
            "gridwidth": 2,
            "linecolor": "#EBF0F8",
            "showbackground": true,
            "ticks": "",
            "zerolinecolor": "#EBF0F8"
           },
           "yaxis": {
            "backgroundcolor": "white",
            "gridcolor": "#DFE8F3",
            "gridwidth": 2,
            "linecolor": "#EBF0F8",
            "showbackground": true,
            "ticks": "",
            "zerolinecolor": "#EBF0F8"
           },
           "zaxis": {
            "backgroundcolor": "white",
            "gridcolor": "#DFE8F3",
            "gridwidth": 2,
            "linecolor": "#EBF0F8",
            "showbackground": true,
            "ticks": "",
            "zerolinecolor": "#EBF0F8"
           }
          },
          "shapedefaults": {
           "line": {
            "color": "#2a3f5f"
           }
          },
          "ternary": {
           "aaxis": {
            "gridcolor": "#DFE8F3",
            "linecolor": "#A2B1C6",
            "ticks": ""
           },
           "baxis": {
            "gridcolor": "#DFE8F3",
            "linecolor": "#A2B1C6",
            "ticks": ""
           },
           "bgcolor": "white",
           "caxis": {
            "gridcolor": "#DFE8F3",
            "linecolor": "#A2B1C6",
            "ticks": ""
           }
          },
          "title": {
           "x": 0.05
          },
          "xaxis": {
           "automargin": true,
           "gridcolor": "#EBF0F8",
           "linecolor": "#EBF0F8",
           "ticks": "",
           "title": {
            "standoff": 15
           },
           "zerolinecolor": "#EBF0F8",
           "zerolinewidth": 2
          },
          "yaxis": {
           "automargin": true,
           "gridcolor": "#EBF0F8",
           "linecolor": "#EBF0F8",
           "ticks": "",
           "title": {
            "standoff": 15
           },
           "zerolinecolor": "#EBF0F8",
           "zerolinewidth": 2
          }
         }
        },
        "title": {
         "font": {
          "color": "Black",
          "size": 22
         },
         "text": "<b>Topic Word Scores",
         "x": 0.5,
         "xanchor": "center",
         "yanchor": "top"
        },
        "width": 1000,
        "xaxis": {
         "anchor": "y",
         "domain": [
          0,
          0.175
         ],
         "showgrid": true
        },
        "xaxis2": {
         "anchor": "y2",
         "domain": [
          0.275,
          0.45
         ],
         "showgrid": true
        },
        "xaxis3": {
         "anchor": "y3",
         "domain": [
          0.55,
          0.7250000000000001
         ],
         "showgrid": true
        },
        "xaxis4": {
         "anchor": "y4",
         "domain": [
          0.825,
          1
         ],
         "showgrid": true
        },
        "xaxis5": {
         "anchor": "y5",
         "domain": [
          0,
          0.175
         ],
         "showgrid": true
        },
        "xaxis6": {
         "anchor": "y6",
         "domain": [
          0.275,
          0.45
         ],
         "showgrid": true
        },
        "xaxis7": {
         "anchor": "y7",
         "domain": [
          0.55,
          0.7250000000000001
         ],
         "showgrid": true
        },
        "xaxis8": {
         "anchor": "y8",
         "domain": [
          0.825,
          1
         ],
         "showgrid": true
        },
        "yaxis": {
         "anchor": "x",
         "domain": [
          0.6000000000000001,
          1
         ],
         "showgrid": true
        },
        "yaxis2": {
         "anchor": "x2",
         "domain": [
          0.6000000000000001,
          1
         ],
         "showgrid": true
        },
        "yaxis3": {
         "anchor": "x3",
         "domain": [
          0.6000000000000001,
          1
         ],
         "showgrid": true
        },
        "yaxis4": {
         "anchor": "x4",
         "domain": [
          0.6000000000000001,
          1
         ],
         "showgrid": true
        },
        "yaxis5": {
         "anchor": "x5",
         "domain": [
          0,
          0.4
         ],
         "showgrid": true
        },
        "yaxis6": {
         "anchor": "x6",
         "domain": [
          0,
          0.4
         ],
         "showgrid": true
        },
        "yaxis7": {
         "anchor": "x7",
         "domain": [
          0,
          0.4
         ],
         "showgrid": true
        },
        "yaxis8": {
         "anchor": "x8",
         "domain": [
          0,
          0.4
         ],
         "showgrid": true
        }
       }
      }
     },
     "metadata": {},
     "output_type": "display_data"
    }
   ],
   "source": [
    "topic_model.visualize_barchart(top_n_topics=5)"
   ]
  },
  {
   "cell_type": "code",
   "execution_count": 14,
   "metadata": {},
   "outputs": [
    {
     "data": {
      "text/plain": [
       "[4, 25, 1, 30, 31]"
      ]
     },
     "execution_count": 14,
     "metadata": {},
     "output_type": "execute_result"
    }
   ],
   "source": [
    "similar_topics, similarity = topic_model.find_topics(\"coscienza\", top_n=5); similar_topics"
   ]
  },
  {
   "cell_type": "code",
   "execution_count": 15,
   "metadata": {},
   "outputs": [
    {
     "data": {
      "text/plain": [
       "[('biglietti', 0.10830130848306217),\n",
       " ('portafogli', 0.06764446173625004),\n",
       " ('libero', 0.058543638435250366),\n",
       " ('cercavo', 0.05293797044915355),\n",
       " ('contare', 0.05073334630218753),\n",
       " ('lire', 0.050425218608599096),\n",
       " ('tornai', 0.04893422409730765),\n",
       " ('banca', 0.04494239526610355),\n",
       " ('cinquantadue', 0.03986628490143791),\n",
       " ('diedi', 0.03986628490143791)]"
      ]
     },
     "execution_count": 15,
     "metadata": {},
     "output_type": "execute_result"
    }
   ],
   "source": [
    "topic_model.get_topic(26)"
   ]
  },
  {
   "cell_type": "code",
   "execution_count": 16,
   "metadata": {},
   "outputs": [
    {
     "data": {
      "text/plain": [
       "[('libri', 0.053149822392273206),\n",
       " ('biblioteca', 0.05207370403037389),\n",
       " ('leggere', 0.022911189014396247),\n",
       " ('libro', 0.022017657294452816),\n",
       " ('giornali', 0.017819813677863748),\n",
       " ('giornale', 0.015841072200668153),\n",
       " ('notizia', 0.01552240322482229),\n",
       " ('birnbaum', 0.015336379905963999),\n",
       " ('giovanni', 0.015336379905963999),\n",
       " ('topi', 0.014448252221218738)]"
      ]
     },
     "execution_count": 16,
     "metadata": {},
     "output_type": "execute_result"
    }
   ],
   "source": [
    "topic_model.get_topic(2)"
   ]
  },
  {
   "cell_type": "code",
   "execution_count": 17,
   "metadata": {},
   "outputs": [
    {
     "data": {
      "text/plain": [
       "([34, 33, 12, 23, 1],\n",
       " [0.6917401968674333,\n",
       "  0.6568817812065976,\n",
       "  0.6516371364984137,\n",
       "  0.6515098871997385,\n",
       "  0.6457676699083293])"
      ]
     },
     "execution_count": 17,
     "metadata": {},
     "output_type": "execute_result"
    }
   ],
   "source": [
    "topic_model.find_topics(\"lanternino\")"
   ]
  },
  {
   "cell_type": "code",
   "execution_count": 18,
   "metadata": {},
   "outputs": [
    {
     "data": {
      "text/plain": [
       "[('mano', 0.11009169646828097),\n",
       " ('mani', 0.10953364187871623),\n",
       " ('spalle', 0.10346024990447068),\n",
       " ('occhi', 0.09992976235702233),\n",
       " ('passò', 0.09113494230642068),\n",
       " ('capo', 0.08837996818838217),\n",
       " ('alzò', 0.08289852395840187),\n",
       " ('volto', 0.06964825813397707),\n",
       " ('cempennante', 0.06919319994903278),\n",
       " ('chiocciolino', 0.06919319994903278)]"
      ]
     },
     "execution_count": 18,
     "metadata": {},
     "output_type": "execute_result"
    }
   ],
   "source": [
    "topic_model.get_topic(29)"
   ]
  },
  {
   "cell_type": "code",
   "execution_count": 19,
   "metadata": {},
   "outputs": [
    {
     "data": {
      "text/plain": [
       "['Molti libri curiosi e piacevolissimi don Eligio Pellegrinotto, arrampicato tutto il giorno su una scala da lampionajo, ha pescato negli scaffali della biblioteca. Ogni qual volta ne trova uno, lo lancia dall’alto, con garbo, sul tavolone che sta in mezzo; la chiesetta ne rintrona; un nugolo di polvere si leva, da cui due o tre ragni scappano via spaventati: io accorro dall’abside, scavalcando la cancellata; do prima col libro stesso la caccia ai ragni su pe’l tavolone polveroso; poi apro il libro e mi metto a leggiucchiarlo.',\n",
       " 'Lo avevano messo a riposo, da caposezione in non so qual Ministero, prima del tempo, e lo avevano rovinato, non solo finanziariamente, ma anche perché, libero e padrone del suo tempo, egli si era adesso sprofondato tutto ne’ suoi fantastici studii e nelle sue nuvolose meditazioni, astraendosi più che mai dalla vita materiale. Per lo meno mezza la sua pensione doveva andarsene nell’acquisto di quei libri. Già se n’era fatta una piccola biblioteca. La dottrina teosofica però non doveva soddisfarlo interamente. Certo il tarlo della critica lo rodeva, perché, accanto a quei libri di teosofia, aveva anche una ricca collezione di saggi e di studii filosofici antichi e moderni e libri d’indagine scientifica. In questi ultimi tempi si era dato anche a gli esperimenti spiritici.',\n",
       " '«Vedi, caro, che si guadagna a chieder certi perché? Ti bagni i piedi. Torna alla tua biblioteca! L’acqua salata infradicia le scarpe; e quattrini da buttar via non ne hai. Torna alla biblioteca, e lascia i libri di filosofia: va’, va’ piuttosto a leggere anche tu che Birnbaum Giovanni Abramo fece stampare a Lipsia nel 1738 un opuscolo in –8º: ne trarrai senza dubbio maggior profitto.»']"
      ]
     },
     "execution_count": 19,
     "metadata": {},
     "output_type": "execute_result"
    }
   ],
   "source": [
    "topic_model.get_representative_docs(2)"
   ]
  },
  {
   "cell_type": "code",
   "execution_count": 20,
   "metadata": {},
   "outputs": [
    {
     "data": {
      "text/plain": [
       "<bound method BERTopic.get_params of <bertopic._bertopic.BERTopic object at 0x7fbb60ddf670>>"
      ]
     },
     "execution_count": 20,
     "metadata": {},
     "output_type": "execute_result"
    }
   ],
   "source": [
    "topic_model.get_params"
   ]
  },
  {
   "cell_type": "code",
   "execution_count": null,
   "metadata": {},
   "outputs": [],
   "source": []
  }
 ],
 "metadata": {
  "interpreter": {
   "hash": "46be0b876ca0f51bcb6c32aa779b658b92c1d733b9fd684b42983bb361d90619"
  },
  "kernelspec": {
   "display_name": "Python 3.9.12 ('base')",
   "language": "python",
   "name": "python3"
  },
  "language_info": {
   "codemirror_mode": {
    "name": "ipython",
    "version": 3
   },
   "file_extension": ".py",
   "mimetype": "text/x-python",
   "name": "python",
   "nbconvert_exporter": "python",
   "pygments_lexer": "ipython3",
   "version": "3.9.12"
  },
  "orig_nbformat": 4
 },
 "nbformat": 4,
 "nbformat_minor": 2
}
