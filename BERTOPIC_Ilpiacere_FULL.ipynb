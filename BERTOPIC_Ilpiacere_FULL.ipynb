{
 "cells": [
  {
   "cell_type": "code",
   "execution_count": 2,
   "metadata": {},
   "outputs": [],
   "source": [
    "from bertopic import BERTopic"
   ]
  },
  {
   "cell_type": "code",
   "execution_count": 3,
   "metadata": {},
   "outputs": [],
   "source": [
    "piacere = open('~/IlPiacere_LibroCompleto.txt', encoding=\"utf-8\").read().split('\\n')"
   ]
  },
  {
   "cell_type": "code",
   "execution_count": 4,
   "metadata": {},
   "outputs": [],
   "source": [
    "from sklearn.feature_extraction.text import CountVectorizer\n",
    "\n",
    "vectorizer_model = CountVectorizer(stop_words=[\"aldobrandini\", \"andrew\", \"Andrew\", \"fa\", \"stephen\", \"ferdinando\", \"sant\", \"dov\", \"disse\", \"nell\", \"un\", \"all\", \"dall\", \"cose\", \"ora\", \"m\", \"quell\", \"gran\", \"all\", \"lui\", \"vinci\", \"tiziano\", \"sciarra\", \"paolo\", \"veronese\", \"galeazzo\", \"maria\", \"sforza\", \"maffeo\", \"clivate\", \"dallo\", \"nello\", \"ancóra\", \"s\", \"d\", \"l\", \"tutt\", \"deve\", \"dell\", \"ch\", \"nell\", \"s\", \"all\", \"disse\", \"di\", \"e\", \"la\", \"un\", \"il\", \"le\", \"una\", \"che\", \"a\", \"in\", \"d'\", \"l'\", \"non\", \"con\", \"si\", \"del\", \"per\", \"gli\", \"come\", \"i\", \"della\", \"egli\", \"ella\", \"era\", \"più\", \"ed\", \"d'un\", \"così\", \"ch'\", \"o\", \"senza\", \"nell'\", \"ogni\", \"s'\", \"lui\", \"quasi\", \"quel\", \"aveva\", \"nel\", \"io\", \"al\", \"mi\", \"è\", \"nella\", \"ma\", \"dell'\", \"sua\", \"delle\", \"suo\", \"alla\", \"lo\", \"quella\", \"un'\", \"da\", \"su\", \"cosa\", \"ti\", \"altra\", \"erano\", \"quelle\", \"tutti\", \"sue\", \"tutta\", \"forse\", \"innanzi\", \"tu\", \"me\", \"de'\", \"voi\", \"cui\", \"perché\", \"poi\", \"ha\", \"vi\", \"già\", \"verso\", \"alle\", \"mio\", \"sempre\", \"ho\", \"dei\", \"mia\", \"mai\", \"uno\", \"se\", \"qualche\", \"tra\", \"anche\", \"lei\", \"dal\", \"dalla\", \"poco\", \"all'\", \"quando\", \"tutto\", \"sotto\", \"due\", \"sul\", \"tutte\", \"ad\", \"faceva\", \"appena\", \"quale\", \"talvolta\", \"tanto\", \"ove\", \"né\", \"ne'\", \"fra\", \"altre\", \"chi\", \"sopra\", \"certo\", \"allora\", \"altri\", \"col\", \"dunque\", \"tre\", \"lungo\", \"no\", \"nulla\", \"ai\", \"poiché\", \"fu\", \"contro\", \"degli\", \"molto\", \"questa\", \"questo\", \"sé\", \"prima\", \"mentre\", \"po'\", \"loro\", \"quell'\", \"altro\", \"nelle\", \"sono\", \"dall'\", \"avrebbe\", \"suoi\", \"dalle\", \"d'una\", \"de\", \"dopo\", \"ora\", \"ne\", \"so\", \"po\", \"fosse\", \"intorno\", \"ch'egli\", \"dove\", \"mezzo\", \"là\", \"assai\", \"fino\", \"li\", \"quello\", \"ch'io\", \"son\", \"negli\", \"ci\", \"fece\", \"quindi\", \"qui\", \"solo\", \"ch'ella\", \"pur\", \"avevano\", \"ebbe\", \"noi\", \"sia\", \"quali\", \"quanto\", \"stava\", \"stesso\", \"allo\", \"dietro\", \"parevano\", \"quei\", \"volte\", \"può\", \"te\", \"sì\", \"stato\", \"dai\", \"andrea\", \"elena\", \"sperelli\", \"luzio\", \"ovidio\", \"trinità\", \"de'\", \"monti\", \"luzio\", \"dolci\", \"zuccari\", \"spagna\", \"san\", \"silvestro\", \"giorgio\", \"dafne\", \"danae\", \"correggio\", \"porta\", \"pia\", \"palazzo\", \"farnese\", \"palazzo\", \"barberini\", \"via\", \"sistina\", \"aniene\", \"ancóra\", \"quattro\", \"fontane\", \"palazzo\", \"roccagiovine\", \"cherubino\", \"don\", \"giovanni\", \"via\", \"de'\", \"condotti\", \"casteldelfino\", \"pincio\", \"monte\", \"mario\", \"piazzetta\", \"mignanelli\", \"via\", \"gregoriana\", \"percy\", \"shelley\", \"inghilterra\", \"roma\", \"lady\", \"helen\", \"heathfield\", \"helen\", \"heathfield\", \"giustiniani-bandini\", \"joshua\", \"reynolds\", \"reynolds\", \"humphrey\", \"lord\", \"gibilterra\", \"carmélite\", \"palazzo\", \"chigi\", \"monna\", \"lisa\", \"nelly\", \"o'\", \"brien\", \"laldomine\", \"mona\", \"amorrosisca\", \"albergo\", \"del\", \"quirinale\", \"sùbito\", \"mumps\", \"alfonso\", \"ferdinando\", \"re\", \"di\", \"napoli\", \"alessandro\", \"lorenzo\", \"de'\", \"medici\", \"giovanni\", \"gossaert\", \"massimiliano\", \"filippo\", \"di\", \"borgogna\", \"piero\", \"di\", \"cosimo\", \"firenze\", \"papa\", \"giulio\", \"ii\", \"bartolomeo\", \"napoli\", \"la\", \"faustina\", \"giovanni\", \"sperelli\", \"carlo\", \"sperelli\", \"giovanni\", \"carlo\", \"piero\", \"fieschi\", \"carolina\", \"pericle\", \"colosseo\", \"villa\", \"medici\", \"campo\", \"vaccino\", \"piazza\", \"di\", \"spagna\", \"arco\", \"di\", \"tito\", \"tito\", \"caracci\", \"michelangelo\", \"doria\", \"barberini\", \"domenichini\", \"albani\", \"luni\", \"grecia\", \"pio\", \"vi\", \"thomas\", \"lawrence\", \"lawrence\", \"conny\", \"landbrooke\", \"elena\", \"muti\", \"gravelot\", \"luigi\", \"xv\", \"teatro\", \"valle\", \"don\", \"filippo\", \"del\", \"monte\", \"ugenta\", \"musèllaro\", \"giulio\", \"sakumi\", \"d'ateleta\", \"francesca\", \"burano\", \"lady\", \"ouless\", \"ouless\", \"lady\", \"cahen\", \"madame\", \"leonardo\", \"borghese\", \"borgia\", \"cesare\", \"sanzio\", \"ferentino\", \"mary\", \"maria\", \"silvandri\", \"secìnaro\", \"lucio\", \"vero\", \"immenraet\", \"stubbs\", \"beethoven\", \"crivelli\", \"lucrezia\", \"dyce\", \"schumann\", \"von\", \"huffel\", \"von\", \"caradosso\", \"pollajuolo\", \"antonio\", \"urbino\", \"volterra\", \"rùtolo\", \"giannetto\", \"roberto\", \"casteldieri\", \"ludovico\", \"barbarisi\", \"leczinska\", \"albónico\", \"ippolita\", \"bianca\", \"dolcebuono\", \"laura\", \"miano\", \"angelieri\", \"annibale\", \"gabriella\", \"barbarisi\", \"bommìnaco\", \"aldobrandini\", \"fa\", \"stephen\", \"ferdinando\", \"sant\", \"dov\", \"disse\", \"nell\", \"un\", \"all\", \"dall\", \"cose\", \"ora\", \"quell\", \"gran\", \"all\", \"lui\", \"vinci\", \"tiziano\", \"sciarra\", \"paolo\", \"veronese\", \"galeazzo\", \"maria\", \"sforza\", \"maffeo\", \"clivate\", \"dallo\", \"nello\", \"ancóra\", \"s\", \"d\", \"l\", \"tutt\", \"deve\", \"dell\", \"ch\", \"nell\", \"s\", \"all\", \"disse\", \"di\", \"e\", \"la\", \"un\", \"il\", \"le\", \"una\", \"che\", \"a\", \"in\", \"d'\", \"l'\", \"non\", \"con\", \"si\", \"del\", \"per\", \"gli\", \"come\", \"i\", \"della\", \"egli\", \"ella\", \"era\", \"più\", \"ed\", \"d'un\", \"così\", \"ch'\", \"o\", \"senza\", \"nell'\", \"ogni\", \"s'\", \"lui\", \"quasi\", \"quel\", \"aveva\", \"nel\", \"io\", \"al\", \"mi\", \"è\", \"nella\", \"ma\", \"dell'\", \"sua\", \"delle\", \"suo\", \"alla\", \"lo\", \"quella\", \"un'\", \"da\", \"su\", \"cosa\", \"ti\", \"altra\", \"erano\", \"quelle\", \"tutti\", \"sue\", \"tutta\", \"forse\", \"innanzi\", \"tu\", \"me\", \"de'\", \"voi\", \"cui\", \"perché\", \"poi\", \"ha\", \"vi\", \"già\", \"verso\", \"alle\", \"mio\", \"sempre\", \"ho\", \"dei\", \"mia\", \"mai\", \"uno\", \"se\", \"qualche\", \"tra\", \"anche\", \"lei\", \"dal\", \"dalla\", \"poco\", \"all'\", \"quando\", \"tutto\", \"sotto\", \"due\", \"sul\", \"tutte\", \"ad\", \"faceva\", \"appena\", \"quale\", \"talvolta\", \"tanto\", \"ove\", \"né\", \"ne'\", \"fra\", \"altre\", \"chi\", \"sopra\", \"certo\", \"allora\", \"altri\", \"col\", \"dunque\", \"tre\", \"lungo\", \"no\", \"nulla\", \"ai\", \"poiché\", \"fu\", \"contro\", \"degli\", \"molto\", \"questa\", \"questo\", \"sé\", \"prima\", \"mentre\", \"po'\", \"loro\", \"quell'\", \"altro\", \"nelle\", \"sono\", \"dall'\", \"avrebbe\", \"suoi\", \"dalle\", \"d'una\", \"de\", \"dopo\", \"ora\", \"ne\", \"so\", \"po\", \"fosse\", \"intorno\", \"ch'egli\", \"dove\", \"mezzo\", \"là\", \"assai\", \"fino\", \"li\", \"quello\", \"ch'io\", \"son\", \"negli\", \"ci\", \"fece\", \"quindi\", \"qui\", \"solo\", \"ch'ella\", \"pur\", \"avevano\", \"ebbe\", \"noi\", \"sia\", \"quali\", \"quanto\", \"stava\", \"stesso\", \"allo\", \"dietro\", \"parevano\", \"quei\", \"volte\", \"può\", \"te\", \"sì\", \"stato\", \"dai\", \"andrea\", \"elena\", \"sperelli\", \"luzio\", \"ovidio\", \"trinità\", \"de'\", \"monti\", \"luzio\", \"dolci\", \"zuccari\", \"spagna\", \"san\", \"silvestro\", \"giorgio\", \"dafne\", \"danae\", \"correggio\", \"porta\", \"pia\", \"palazzo\", \"farnese\", \"palazzo\", \"barberini\", \"via\", \"sistina\", \"aniene\", \"ancóra\", \"quattro\", \"fontane\", \"palazzo\", \"roccagiovine\", \"cherubino\", \"don\", \"giovanni\", \"via\", \"de'\", \"condotti\", \"casteldelfino\", \"pincio\", \"monte\", \"mario\", \"piazzetta\", \"mignanelli\", \"via\", \"gregoriana\", \"percy\", \"shelley\", \"inghilterra\", \"roma\", \"lady\", \"helen\", \"heathfield\", \"helen\", \"heathfield\", \"giustiniani-bandini\", \"joshua\", \"reynolds\", \"reynolds\", \"humphrey\", \"lord\", \"gibilterra\", \"carmélite\", \"palazzo\", \"chigi\", \"monna\", \"lisa\", \"nelly\", \"o'\", \"brien\", \"laldomine\", \"mona\", \"amorrosisca\", \"albergo\", \"del\", \"quirinale\", \"sùbito\", \"mumps\", \"alfonso\", \"ferdinando\", \"re\", \"di\", \"napoli\", \"alessandro\", \"lorenzo\", \"de'\", \"medici\", \"giovanni\", \"gossaert\", \"massimiliano\", \"filippo\", \"di\", \"borgogna\", \"piero\", \"di\", \"cosimo\", \"firenze\", \"papa\", \"giulio\", \"ii\", \"bartolomeo\", \"napoli\", \"la\", \"faustina\", \"giovanni\", \"sperelli\", \"carlo\", \"sperelli\", \"giovanni\", \"carlo\", \"piero\", \"fieschi\", \"carolina\", \"pericle\", \"colosseo\", \"villa\", \"medici\", \"campo\", \"vaccino\", \"piazza\", \"di\", \"spagna\", \"arco\", \"di\", \"tito\", \"tito\", \"caracci\", \"michelangelo\", \"doria\", \"barberini\", \"domenichini\", \"albani\", \"luni\", \"grecia\", \"pio\", \"vi\", \"thomas\", \"lawrence\", \"lawrence\", \"conny\", \"landbrooke\", \"elena\", \"muti\", \"gravelot\", \"luigi\", \"xv\", \"teatro\", \"valle\", \"don\", \"filippo\", \"del\", \"monte\", \"ugenta\", \"musèllaro\", \"giulio\", \"sakumi\", \"d'ateleta\", \"francesca\", \"burano\", \"lady\", \"ouless\", \"ouless\", \"lady\", \"cahen\", \"madame\", \"leonardo\", \"borghese\", \"borgia\", \"cesare\", \"sanzio\", \"ferentino\", \"mary\", \"maria\", \"silvandri\", \"secìnaro\", \"lucio\", \"vero\", \"immenraet\", \"stubbs\", \"beethoven\", \"crivelli\", \"lucrezia\", \"dyce\", \"schumann\", \"von\", \"huffel\", \"von\", \"caradosso\", \"pollajuolo\", \"antonio\", \"urbino\", \"volterra\", \"rùtolo\", \"giannetto\", \"roberto\", \"casteldieri\", \"ludovico\", \"barbarisi\", \"leczinska\", \"albónico\", \"ippolita\", \"bianca\", \"dolcebuono\", \"laura\", \"miano\", \"angelieri\", \"annibale\", \"gabriella\", \"barbarisi\", \"bommìnaco\", \"aldobrandini\", \"fa\", \"stephen\", \"ferdinando\", \"sant\", \"dov\", \"disse\", \"nell\", \"un\", \"all\", \"dall\", \"cose\", \"ora\", \"quell\", \"gran\", \"all\", \"lui\", \"vinci\", \"tiziano\", \"sciarra\", \"paolo\", \"veronese\", \"galeazzo\", \"maria\", \"sforza\", \"maffeo\", \"clivate\", \"dallo\", \"nello\", \"ancóra\", \"s\", \"d\", \"l\", \"tutt\", \"deve\", \"dell\", \"ch\", \"nell\", \"s\", \"all\", \"disse\", \"di\", \"e\", \"la\", \"un\", \"il\", \"le\", \"una\", \"che\", \"a\", \"in\", \"d'\", \"l'\", \"non\", \"con\", \"si\", \"del\", \"per\", \"gli\", \"come\", \"i\", \"della\", \"egli\", \"ella\", \"era\", \"più\", \"ed\", \"d'un\", \"così\", \"ch'\", \"o\", \"senza\", \"nell'\", \"ogni\", \"s'\", \"lui\", \"quasi\", \"quel\", \"aveva\", \"nel\", \"io\", \"al\", \"mi\", \"è\", \"nella\", \"ma\", \"dell'\", \"sua\", \"delle\", \"suo\", \"alla\", \"lo\", \"quella\", \"un'\", \"da\", \"su\", \"cosa\", \"ti\", \"altra\", \"erano\", \"quelle\", \"tutti\", \"sue\", \"tutta\", \"forse\", \"innanzi\", \"tu\", \"me\", \"de'\", \"voi\", \"cui\", \"perché\", \"poi\", \"ha\", \"vi\", \"già\", \"verso\", \"alle\", \"mio\", \"sempre\", \"ho\", \"dei\", \"mia\", \"mai\", \"uno\", \"se\", \"qualche\", \"tra\", \"anche\", \"lei\", \"dal\", \"dalla\", \"poco\", \"all'\", \"quando\", \"tutto\", \"sotto\", \"due\", \"sul\", \"tutte\", \"ad\", \"faceva\", \"appena\", \"quale\", \"talvolta\", \"tanto\", \"ove\", \"né\", \"ne'\", \"fra\", \"altre\", \"chi\", \"sopra\", \"certo\", \"allora\", \"altri\", \"col\", \"dunque\", \"tre\", \"lungo\", \"no\", \"nulla\", \"ai\", \"poiché\", \"fu\", \"contro\", \"degli\", \"molto\", \"questa\", \"questo\", \"sé\", \"prima\", \"mentre\", \"po'\", \"loro\", \"quell'\", \"altro\", \"nelle\", \"sono\", \"dall'\", \"avrebbe\", \"suoi\", \"dalle\", \"d'una\", \"de\", \"dopo\", \"ora\", \"ne\", \"so\", \"po\", \"fosse\", \"intorno\", \"ch'egli\", \"dove\", \"mezzo\", \"là\", \"assai\", \"fino\", \"li\", \"quello\", \"ch'io\", \"son\", \"negli\", \"ci\", \"fece\", \"quindi\", \"qui\", \"solo\", \"ch'ella\", \"pur\", \"avevano\", \"ebbe\", \"noi\", \"sia\", \"quali\", \"quanto\", \"stava\", \"stesso\", \"allo\", \"dietro\", \"parevano\", \"quei\", \"volte\", \"può\", \"te\", \"sì\", \"stato\", \"dai\", \"andrea\", \"elena\", \"sperelli\", \"luzio\", \"ovidio\", \"trinità\", \"de'\", \"monti\", \"luzio\", \"dolci\", \"zuccari\", \"spagna\", \"san\", \"silvestro\", \"giorgio\", \"dafne\", \"danae\", \"correggio\", \"porta\", \"pia\", \"palazzo\", \"farnese\", \"palazzo\", \"barberini\", \"via\", \"sistina\", \"aniene\", \"ancóra\", \"quattro\", \"fontane\", \"palazzo\", \"roccagiovine\", \"cherubino\", \"don\", \"giovanni\", \"via\", \"de'\", \"condotti\", \"casteldelfino\", \"pincio\", \"monte\", \"mario\", \"piazzetta\", \"mignanelli\", \"via\", \"gregoriana\", \"percy\", \"shelley\", \"inghilterra\", \"roma\", \"lady\", \"helen\", \"heathfield\", \"helen\", \"heathfield\", \"giustiniani-bandini\", \"joshua\", \"reynolds\", \"reynolds\", \"humphrey\", \"lord\", \"gibilterra\", \"carmélite\", \"palazzo\", \"chigi\", \"monna\", \"lisa\", \"nelly\", \"o'\", \"brien\", \"laldomine\", \"mona\", \"amorrosisca\", \"albergo\", \"del\", \"quirinale\", \"sùbito\", \"mumps\", \"alfonso\", \"ferdinando\", \"re\", \"di\", \"napoli\", \"alessandro\", \"lorenzo\", \"de'\", \"medici\", \"giovanni\", \"gossaert\", \"massimiliano\", \"filippo\", \"di\", \"borgogna\", \"piero\", \"di\", \"cosimo\", \"firenze\", \"papa\", \"giulio\", \"ii\", \"bartolomeo\", \"napoli\", \"la\", \"faustina\", \"giovanni\", \"sperelli\", \"carlo\", \"sperelli\", \"giovanni\", \"carlo\", \"piero\", \"fieschi\", \"carolina\", \"pericle\", \"colosseo\", \"villa\", \"medici\", \"campo\", \"vaccino\", \"piazza\", \"di\", \"spagna\", \"arco\", \"di\", \"tito\", \"tito\", \"caracci\", \"michelangelo\", \"doria\", \"barberini\", \"domenichini\", \"albani\", \"luni\", \"grecia\", \"pio\", \"vi\", \"thomas\", \"lawrence\", \"lawrence\", \"conny\", \"landbrooke\", \"elena\", \"muti\", \"gravelot\", \"luigi\", \"xv\", \"teatro\", \"valle\", \"don\", \"filippo\", \"del\", \"monte\", \"ugenta\", \"musèllaro\", \"giulio\", \"sakumi\", \"d'ateleta\", \"francesca\", \"burano\", \"lady\", \"ouless\", \"ouless\", \"lady\", \"cahen\", \"madame\", \"leonardo\", \"borghese\", \"borgia\", \"cesare\", \"sanzio\", \"ferentino\", \"mary\", \"maria\", \"silvandri\", \"secìnaro\", \"lucio\", \"vero\", \"immenraet\", \"stubbs\", \"beethoven\", \"crivelli\", \"lucrezia\", \"dyce\", \"schumann\", \"von\", \"huffel\", \"von\", \"caradosso\", \"pollajuolo\", \"antonio\", \"urbino\", \"volterra\", \"rùtolo\", \"giannetto\", \"roberto\", \"casteldieri\", \"ludovico\", \"barbarisi\", \"leczinska\", \"albónico\", \"ippolita\", \"bianca\", \"dolcebuono\", \"laura\", \"miano\", \"angelieri\", \"annibale\", \"gabriella\", \"barbarisi\", \"bommìnaco\", \"a.\", \"s.\", \"abentino\", \"aber\", \"aborrendo\", \"academia\", \"acrisio\", \"ade\", \"adolphus\", \"jeckyll\", \"adorazione\", \"dei\", \"magi\", \"africa\", \"aix-les-bains\", \"ajace\", \"albergo\", \"d'europa\", \"albergo\", \"del\", \"quirinale\", \"alberoni\", \"alberto\", \"durero\", \"albónico\", \"albumblätter\", \"alceo\", \"alenava\", \"alerione\", \"alessandro\", \"alessandro\", \"albani\", \"alessandro\", \"sperelli\", \"alfonso\", \"alfonso\", \"carafa\", \"d'ateleta\", \"alma\", \"tadema\", \"amasie\", \"ambasciata\", \"d'austria\", \"amburgo\", \"amphora\", \"anchise\", \"andrea\", \"andrea\", \"andrea\", \"al\", \"barbarisi\", \"andrea\", \"al\", \"musèllaro\", \"andrea\", \"il\", \"barbarisi\", \"andrea\", \"la\", \"tentazion\", \"andrea\", \"sperelli\", \"andrea\", \"sperelli-fieschi\", \"angelieri\", \"angélique\", \"du\", \"deffand\", \"aniene\", \"anna\", \"rosemberg\", \"annibale\", \"caracci\", \"annunciazione\", \"annunziata\", \"antinoo\", \"farnese\", \"antonio\", \"del\", \"pollajuolo\", \"antonio\", \"pollajuolo\", \"antonio\", \"salieri\", \"antonio\", \"watteau\", \"apollo\", \"apulejo\", \"metamorphoseon\", \"ara\", \"arcangelo\", \"michele\", \"arcangelo\", \"michele\", \"del\", \"perugino\", \"arcipelago\", \"arcitenens\", \"arco\", \"dei\", \"pantani\", \"arco\", \"della\", \"porta\", \"pia\", \"arco\", \"di\", \"tito\", \"ardano\", \"ariadne\", \"arici\", \"ariele\", \"aries,\", \"taurus\", \"arietta\", \"armata\", \"nera\", \"arpie\", \"arte\", \"arundel\", \"asfodilli\", \"astrakan\", \"ateleta\", \"attavante\", \"attendre\", \"pour\", \"atteindre\", \"attraevan\", \"aurora\", \"seymour\", \"aurore\", \"autunno\", \"ave\", \"aventino\", \"babuino\", \"bach\", \"badia\", \"di\", \"subiaco\", \"badia\", \"di\", \"weingarten\", \"bahar\", \"balenio\", \"intermittente\", \"balla\", \"bambocciate\", \"bandinelli\", \"barbarella\", \"barbarella\", \"viti\", \"barbarisi\", \"barbarisi\", \"allo\", \"sperelli\", \"barberini\", \"barcaccia\", \"bartolomeo\", \"sperelli\", \"basilica\", \"di\", \"san\", \"giovanni\", \"beata\", \"vergine\", \"assunta\", \"beau\", \"bébé\", \"bébé\", \"silva\", \"beethoven\", \"beffi\", \"bellerofonte\", \"bellezza\", \"belvedere\", \"belvedere\", \"della\", \"villa\", \"medici\", \"benedettini\", \"bernini\", \"bianca\", \"dolcebuono\", \"bianca\", \"maria\", \"sforza\", \"bisenti\", \"boccaccio\", \"boeckhorst\", \"bommìnaco\", \"boote\", \"borghese\", \"borgia\", \"bosco\", \"di\", \"vicomìle\", \"botticelli\", \"bouckara\", \"brantôme\", \"brummel\", \"buddha\", \"bugnano\", \"bugnara\", \"burano\", \"bussi\", \"centenarii\", \"cachoucha\", \"del\", \"raff\", \"caffè\", \"caffè\", \"di\", \"roma\", \"calabrie\", \"callimaco\", \"callot\", \"callotta\", \"camillo\", \"agrippa\", \"campania\", \"campo\", \"vaccino\", \"campomorto\", \"campos\", \"cancer\", \"capannelle\", \"caper\", \"cappella\", \"chigi\", \"cappella\", \"sistina\", \"capricci\", \"capricci\", \"di\", \"domenico\", \"scarlatti\", \"caracci\", \"caradosso\", \"carbonilla\", \"carlo\", \"baudelaire\", \"carlo\", \"de\", \"souza\", \"carlo\", \"i\", \"carlo\", \"il\", \"temerario\", \"carlo\", \"sperelli\", \"carlo\", \"viii\", \"carlotta\", \"fiordelise\", \"carmélite\", \"carmine\", \"carolina\", \"casa\", \"pallavicini\", \"casa\", \"von\", \"huffel\", \"casanova\", \"cascine\", \"cassìbile\", \"cassiopea\", \"castel\", \"castel\", \"durante\", \"casteldelfino\", \"casteldieri\", \"catania\", \"catullo\", \"cavalcanti\", \"giulia\", \"centauri\", \"centauro\", \"cento\", \"fontane\", \"cesare\", \"borgia\", \"cesari\", \"chablis\", \"champagne\", \"cherubini\", \"cherubino\", \"chimera\", \"chimere\", \"chimerico\", \"chinchilla\", \"chinon\", \"chopin\", \"cibele\", \"ciel\", \"cigno\", \"cino\", \"cipriano\", \"dei\", \"piccolpasso\", \"cipro\", \"circe\", \"circolo\", \"circolo\", \"delle\", \"cacce\", \"ciro\", \"ferri\", \"clara\", \"clara\", \"green\", \"claudio\", \"lorenese\", \"clodion\", \"coiny\", \"colei\", \"colonna\", \"colosseo\", \"comis\", \"condotti\", \"conducetemi\", \"conducimi\", \"conny\", \"conny\", \"landbrooke\", \"conquistami\", \"clara\", \"green\", \"conservatorio\", \"di\", \"bruxelles\", \"conte\", \"caligàro\", \"conte\", \"d'ugenta\", \"conte\", \"d'urbino\", \"conte\", \"di\", \"bradford\", \"contemplatori\", \"solitarii\", \"cordelia\", \"corpo\", \"di\", \"gesù\", \"corsini\", \"corso\", \"cosimo\", \"cosimo\", \"ii\", \"de'\", \"medici\", \"cosimo\", \"tura\", \"cossa\", \"costantia\", \"landbrooke\", \"costantinopoli\", \"cremona\", \"cristina\", \"nilsson\", \"crosciar\", \"cugino\", \"sperelli\", \"cupola\", \"di\", \"s.\", \"pietro\", \"cupola\", \"di\", \"san\", \"pietro\", \"d'\", \"d'elisabetta\", \"daddi\", \"dafne\", \"danae\", \"danae\", \"del\", \"correggio\", \"daniel\", \"maclisius\", \"danimarca\", \"dante\", \"gabriele\", \"rossetti\", \"dàvila\", \"de\", \"lùcoli\", \"de\", \"nativitatibus\", \"delfina\", \"delfina\", \"–\", \"demi-mondaines.\", \"descouverture\", \"desiderio\", \"diana\", \"dioscuri\", \"directoire\", \"divina\", \"simonetta\", \"dixon\", \"dogali\", \"dolcebuono\", \"domenichini\", \"domenico\", \"ghirlandajo\", \"domenico\", \"scarlatti\", \"domini\", \"don\", \"filippo\", \"don\", \"filippo\", \"del\", \"monte\", \"don\", \"giovanni\", \"don\", \"luigi\", \"don\", \"manuel\", \"don\", \"manuel\", \"ferres\", \"don\", \"manuel\", \"ferres\", \"y\", \"capdevila\", \"donatello\", \"doney\", \"donna\", \"anna\", \"donna\", \"bianca\", \"donna\", \"bianca\", \"dolcebuono\", \"donna\", \"elena\", \"donna\", \"elena\", \"muti\", \"donna\", \"francesca\", \"donna\", \"francesca\", \"d'ateleta\", \"donna\", \"giulia\", \"donna\", \"giulia\", \"moceto...\", \"tu\", \"sei\", \"donna\", \"ippolita\", \"donna\", \"ippolita\", \"albónico\", \"donna\", \"isotta\", \"cellesi\", \"donna\", \"maria\", \"donna\", \"maria\", \"–\", \"donna\", \"maria\", \"esalavano\", \"donna\", \"maria\", \"ferres\", \"donna\", \"maria\", \"ferres\", \"y\", \"capdevila\", \"donna\", \"unica\", \"doria\", \"doriforo\", \"dorothy\", \"dosso\", \"dossi\", \"du\", \"deffand\", \"duca\", \"di\", \"duca\", \"di\", \"buckingham\", \"duca\", \"di\", \"grimiti\", \"duo\", \"duomo\", \"duomo\", \"bianco\", \"earlom\", \"elena\", \"elena\", \"–\", \"elena\", \"heathfield\", \"elena\", \"muti\", \"elena!\", \"eliodoro\", \"elisa\", \"empoli\", \"endymion\", \"enrico\", \"taine\", \"epifania\", \"epifania\", \"dell'amore\", \"er\", \"amor\", \"eranvi\", \"eravi\", \"ludovico\", \"barbarisi\", \"ercole\", \"erma\", \"ermafrodito\", \"erotopaegnion\", \"esitava\", \"este\", \"europa\", \"famulus\", \"fantasie\", \"farnese\", \"faublas\", \"faustina\", \"federico\", \"d'aragona\", \"ferdinando\", \"ferdinando\", \"re\", \"di\", \"napoli\", \"ferentino\", \"ferrara\", \"ferres\", \"fiamma\", \"fiandra\", \"fiera\", \"fiesole\", \"filarmonici\", \"filippino\", \"lippi\", \"filippo\", \"filippo\", \"del\", \"gallo\", \"filippo\", \"di\", \"borgogna\", \"filli\", \"filotea\", \"fineo\", \"fiore\", \"fioretti\", \"firenze\", \"firenzuola\", \"flaminia\", \"flaubert\", \"flirtation\", \"fluttuava\", \"fontane\", \"fontane\", \"ammutolite\", \"fontane\", \"di\", \"schifanoja\", \"fontanella\", \"delle\", \"tartarughe\", \"fontanella\", \"di\", \"borghese\", \"fonte\", \"fonte\", \"della\", \"gioia\", \"fonte\", \"gaia\", \"fòri\", \"formava\", \"fòro\", \"fòro\", \"di\", \"nerva\", \"fortuna\", \"francavilla\", \"al\", \"mare\", \"francesca\", \"francesca\", \"francesca\", \"daddi\", \"francesca:\", \"francesco\", \"i\", \"francesco\", \"paolo\", \"michetti\", \"francesco\", \"petrarca\", \"francia\", \"francis\", \"redgrave\", \"frascati\", \"frauenliebe\", \"freddolosa\", \"fuga\", \"fuor\", \"g.\", \"d'a.\", \"gabriella\", \"gabriella\", \"barbarisi\", \"gabriella\", \"vanni\", \"gainsborough\", \"galatea\", \"galatee\", \"galeazzo\", \"galeazzo\", \"allo\", \"sperelli\", \"galeazzo\", \"maria\", \"sforza\", \"galeazzo\", \"secìnaro\", \"galleria\", \"borghese\", \"galleria\", \"borghese?\", \"galleria\", \"sciarra\", \"gallucci\", \"gavaudan\", \"gavotta\", \"gemini\", \"gerardo\", \"audran\", \"gervetius\", \"gesù\", \"gesù\", \"cristo\", \"giace\", \"gianicolo\", \"giannetto\", \"giannetto\", \"rùtolo\", \"gibilterra\", \"gino\", \"gino\", \"bommìnaco\", \"ginosa\", \"giorgio\", \"giorgio\", \"bizet\", \"giorgio\", \"byron\", \"giornale\", \"giovan\", \"francesco\", \"bolognesi\", \"giovanella\", \"daddi\", \"giovanna\", \"tornabuoni\", \"giovanni\", \"gossaert\", \"giovanni\", \"moceto\", \"giovanni\", \"sperelli\", \"girolamo\", \"storace\", \"gittato\", \"giulia\", \"giulia\", \"arici\", \"giulia\", \"farnese\", \"giulia\", \"moceto\", \"giulietta\", \"guicciardi\", \"giulio\", \"giulio\", \"montelatici\", \"giulio\", \"musèllaro\", \"giulio\", \"romano\", \"giungeva\", \"giunone\", \"giuntole\", \"da\", \"calcutta\", \"giuseppe\", \"haydn\", \"giustiniani\", \"giustiniani-bandini\", \"giusto\", \"sperelli\", \"giusto\", \"suttermans\", \"goethe\", \"grazia\", \"grazie\", \"grecia\", \"green\", \"grimiti\", \"guatemala\", \"guglielmo\", \"shakespeare\", \"guido\", \"guido\", \"reni\", \"halfousn\", \"street\", \"hans\", \"memling\", \"heatfield\", \"helena\", \"amyclaea\", \"helles\", \"hérissey\", \"hoffmann\", \"holbein\", \"holman\", \"hunt\", \"humphrey\", \"heathfield\", \"ida\", \"ideale\", \"idillii,\", \"il\", \"grimiti\", \"il\", \"rùtolo\", \"ila\", \"immenraet\", \"imperia\", \"impero\", \"india\", \"inghilterra\", \"ippolita\", \"ippolita\", \"albónico\", \"ippolito\", \"isola\", \"isola\", \"di\", \"san\", \"bartolomeo\", \"isotta\", \"cellesi\", \"israeliti\", \"issé\", \"issè\", \"italia\", \"itinerario\", \"dell'anima\", \"jane\", \"jefferies\", \"jenny\", \"jockey-club\", \"john\", \"keats\", \"john\", \"wilkes\", \"joshua\", \"reynolds\", \"julia\", \"kalliwoda\", \"karamanieh\", \"kien-lung\", \"l'arici\", \"là\", \"la\", \"silva\", \"la\", \"simona\", \"laldomine\", \"lampsaco\", \"landbrooke\", \"lapo\", \"gianni\", \"lass\", \"dich\", \"laura\", \"laura\", \"miano\", \"lauzun\", \"lawrences\", \"lazzarone\", \"leandro\", \"legazione\", \"leo\", \"leonardo\", \"leo\", \"leonetto\", \"leonetto\", \"lanza\", \"les\", \"aphrodites\", \"del\", \"nerciat\", \"liaisons\", \"dangereuses\", \"liberale\", \"da\", \"verona\", \"libra\", \"liebende\", \"life\", \"were\", \"single\", \"hearted!\", \"lilian\", \"theed\", \"lo\", \"sperelli\", \"loggia\", \"loggia\", \"del\", \"papa\", \"londra\", \"lord\", \"heathfield\", \"lord\", \"heathfield?\", \"lord\", \"humphrey\", \"lord\", \"humphrey\", \"heathfield\", \"lorenzo\", \"de'\", \"medici\", \"lorenzo\", \"il\", \"magnifico\", \"louis\", \"xv\", \"luca\", \"d'olanda\", \"luca\", \"della\", \"robbia\", \"lucca\", \"lucerna\", \"lucio\", \"vero\", \"lucio\", \"vero\", \"biondo\", \"lùcoli\", \"lucrezia\", \"crivelli\", \"ludovic\", \"ludovico\", \"ludovico\", \"barbarisi\", \"ludovico\", \"beethoven\", \"ludovico\", \"il\", \"moro\", \"ludovico,\", \"luigi\", \"luigi\", \"gullì\", \"luigi\", \"rameau\", \"luigi\", \"xii\", \"luigi\", \"xv\", \"luna\", \"luni\", \"luzio\", \"dolci\", \"macedone\", \"madame\", \"chrysoloras?\", \"madame\", \"de\", \"la\", \"boissière\", \"madame\", \"de\", \"parabère\", \"madame\", \"van\", \"huffel\", \"madamoiselle\", \"madamoiselle\", \"vanloo\", \"madonna\", \"madonna\", \"del\", \"giglio\", \"madonna\", \"del\", \"rosario!\", \"madonna\", \"di\", \"pavia\", \"maffeo\", \"di\", \"clivate\", \"magna\", \"grecia\", \"mallecho\", \"manca\", \"mani\", \"manifatture\", \"imperiali\", \"del\", \"giappone\", \"manuel\", \"marc-ardell\", \"marc'antonio\", \"marc'antonio!\", \"maria\", \"maria\", \"maria\", \"bandinelli\", \"maria\", \"ferres\", \"maria\", \"fortuna\", \"maria\", \"leczinska\", \"maria\", \"maddalena\", \"d'austria\", \"maria\", \"vergine\", \"maria\", \"vergine\", \"del\", \"rosario\", \"mario\", \"de'\", \"fiori\", \"mary\", \"dyce\", \"marziale\", \"massa\", \"d'albe\", \"massa\", \"d'albe!\", \"massimiliano\", \"mazurka\", \"mercedes\", \"messer\", \"ludovico\", \"metamorphoseon\", \"miano\", \"michelangelo\", \"miching\", \"miching\", \"mallecho\", \"micigliano\", \"miranda\", \"mitilene\", \"moceto\", \"mona\", \"amorrosisca\", \"monna\", \"francesca\", \"montate\", \"monte\", \"mario\", \"monte\", \"pincio\", \"monte\", \"testaccio\", \"montecassino\", \"montecitorio\", \"al\", \"corso\", \"montpensier\", \"montughi\", \"moreau\", \"morella\", \"del\", \"caligàro\", \"mosè\", \"mount\", \"edgcumbe\", \"mozart\", \"mumps\", \"murano\", \"muriella\", \"musellaro\", \"musèllaro\", \"muti\", \"muzio\", \"clementi\", \"n'\", \"napoli\", \"nazionale\", \"nazzarri\", \"nelly\", \"o'\", \"brien\", \"nemico\", \"niccolò\", \"niccoli\", \"ninì\", \"ninì\", \"santamarta\", \"obermann\", \"ofelia\", \"omero\", \"onesti\", \"onna\", \"ippolita\", \"orse\", \"orvieto\", \"ostia\", \"ovidio\", \"padmavati\", \"paisiello\", \"palazzo\", \"barberini\", \"palazzo\", \"chigi\", \"palazzo\", \"de'\", \"sabini\", \"palazzo\", \"dei\", \"sabini\", \"palazzo\", \"del\", \"re\", \"palazzo\", \"della\", \"consulta\", \"palazzo\", \"farnese\", \"palazzo\", \"roccagiovine\", \"palazzo\", \"zuccari\", \"palermo\", \"pall\", \"mall\", \"gazette\", \"pallade\", \"pandora\", \"d'alma\", \"tadema\", \"pandora\", \"infeconda\", \"paolo\", \"caligàro\", \"paolo\", \"veronese\", \"papa\", \"giulio\", \"ii\", \"parigi\", \"parlamento\", \"parma\", \"parmigiano\", \"peek-frean\", \"penetrarsi\", \"pepe\", \"percy\", \"percy\", \"bysshe\", \"shelley\", \"percy\", \"shelley\", \"pericle\", \"perseo\", \"persia\", \"perugia\", \"perugino\", \"petrarca\", \"petronio\", \"piazza\", \"barberini\", \"piazza\", \"colonna\", \"piazza\", \"del\", \"popolo\", \"piazza\", \"del\", \"quirinale\", \"piazza\", \"della\", \"piazza\", \"della\", \"trinità\", \"piazza\", \"di\", \"montecitorio\", \"piazza\", \"di\", \"spagna\", \"piazza\", \"di\", \"termini\", \"piazza\", \"di\", \"venezia\", \"piazza\", \"mignanelli\", \"piazzetta\", \"mignanelli\", \"piccola\", \"dama\", \"piedestalli\", \"piero\", \"di\", \"cosimo\", \"pietro\", \"aretino\", \"pietro\", \"duranti\", \"pietro\", \"loar\", \"pietro\", \"paolo\", \"rubens\", \"pincio\", \"pinturicchio\", \"pio\", \"vi\", \"piranesi\", \"pisa\", \"pisces\", \"pittura\", \"policleto\", \"pollajuolo\", \"pompadour\", \"pompei\", \"ponte\", \"del\", \"convito\", \"porta\", \"chiusa\", \"porta\", \"pia\", \"premunisciti\", \"priamo\", \"primaticcio\", \"primitivi\", \"principe\", \"di\", \"galles\", \"psiche\", \"quartetto\", \"quattro\", \"fontane\", \"quattrocentisti\", \"quattrocento\", \"quintetti\", \"quintetto\", \"quirinale\", \"raffaelli\", \"raffaello\", \"rameau\", \"rarae\", \"re\", \"di\", \"cipro\", \"rea\", \"silva\", \"recollection\", \"redgrave\", \"reggente\", \"rembrandt\", \"requiem\", \"restaurant\", \"reynolds\", \"riconobbe\", \"donna\", \"maria\", \"ferres\", \"riconstruir\", \"rinascimento\", \"ripa\", \"grande\", \"robert\", \"schumann\", \"roberto\", \"casteldieri\", \"roberto\", \"schumann\", \"roccagiovine\", \"roma\", \"roma\", \"degli\", \"imperatori\", \"roma\", \"delle\", \"ville\", \"rosa\", \"rosa\", \"linguatica\", \"rose\", \"rose\", \"rose\", \"rovigliano\", \"rubens\", \"ruggero\", \"ruggero\", \"ruggero\", \"grimiti\", \"rùtolo\", \"s.\", \"e.\", \"il\", \"ministro\", \"sade\", \"saffo\", \"sagan\", \"sakumi\", \"sal\", \"y\", \"pimienta\", \"salì\", \"salieri\", \"saliva\", \"salmace\", \"salutami\", \"donna\", \"giulia\", \"salutazione\", \"angelica\", \"san\", \"bernardino\", \"san\", \"dionigi\", \"san\", \"francesco\", \"san\", \"giorgio\", \"in\", \"velabro\", \"san\", \"giovanni\", \"san\", \"martino\", \"san\", \"paolo\", \"san\", \"remo\", \"san\", \"sebastianello\", \"san\", \"silvestro\", \"san\", \"sulpizio\", \"sandro\", \"botticelli\", \"sant'isidoro\", \"santa\", \"margherita\", \"santa\", \"maria\", \"del\", \"priorato\", \"santa\", \"maria\", \"in\", \"cosmedin\", \"santa\", \"maria\", \"maggiore\", \"santa\", \"maria\", \"novella\", \"santa\", \"prisca\", \"santa\", \"sabina\", \"sante\", \"sanzio\", \"sardi\", \"scerni\", \"schifanoja\", \"schumann\", \"sciampagna\", \"scita\", \"scorpione\", \"scorpius\", \"sebastiano\", \"bach\", \"secìnaro\", \"selene\", \"servio\", \"settecento\", \"settemplice\", \"sfingi\", \"shaftesbury\", \"shelley\", \"siam\", \"sibylla\", \"palmifera\", \"siena\", \"sigismondo\", \"malatesta\", \"signoria\", \"di\", \"firenze\", \"sileno\", \"silvandri\", \"simone\", \"sir\", \"frederick\", \"leiyhton\", \"sirene\", \"siviglia\", \"sofia\", \"vanloo\", \"sole\", \"sommessione\", \"sonate-fantasie\", \"sperelli\", \"starnina\", \"stazione\", \"di\", \"rovigliano\", \"stefano\", \"stefano\", \"sperelli\", \"stellt\", \"auch\", \"der\", \"dritte\", \"sich\", \"stephen\", \"strada\", \"di\", \"schifanoja\", \"stras\", \"strasburgo\", \"stringendole\", \"stroganow\", \"stubbs\", \"stuoli\", \"di\", \"sagittarii\", \"taddeo\", \"teatro\", \"teatro\", \"nazionale\", \"teatro\", \"valle\", \"teofilo\", \"gautier\", \"terenzio\", \"terme\", \"termini\", \"tevere\", \"tevere\", \"lucido\", \"thomas\", \"lawrence\", \"tibi\", \"tibullo\", \"tifone\", \"tiziani\", \"tiziano\", \"torre\", \"delle\", \"milizie\", \"toscana\", \"toschi\", \"tre\", \"fontane\", \"trecentisti\", \"trelawny\", \"tremava\", \"tremo\", \"trinità\", \"trino\", \"tritone\", \"tu\", \"giorgio\", \"ugenta\", \"urbe\", \"valentino\", \"van\", \"dyck\", \"van\", \"huffel\", \"vaticano\", \"venere\", \"venere\", \"afrodite\", \"venezia\", \"vergine\", \"vergini\", \"verrocchio\", \"via\", \"de'\", \"condotti\", \"via\", \"de'\", \"due\", \"macelli\", \"via\", \"dei\", \"condotti\", \"via\", \"dei\", \"due\", \"macelli\", \"via\", \"del\", \"babuino\", \"via\", \"del\", \"quirinale\", \"via\", \"del\", \"tritone\", \"via\", \"delle\", \"quattro\", \"fontane\", \"via\", \"frattina\", \"via\", \"gregoriana\", \"via\", \"lattea\", \"via\", \"nazionale\", \"via\", \"nomentana\", \"via\", \"rasella\", \"via\", \"sistina\", \"viale\", \"de'\", \"lauri!\", \"vicomìle\", \"vide\", \"vieux\", \"cognac\", \"vignola\", \"villa\", \"albani\", \"villa\", \"aldobrandini\", \"villa\", \"borghese\", \"villa\", \"d'este\", \"villa\", \"di\", \"schifanoja\", \"villa\", \"ludovisi\", \"villa\", \"maritima\", \"villa\", \"medici\", \"villa\", \"mondragone\", \"villa\", \"pamphily\", \"villa\", \"sciarra\", \"vinci\", \"violante\", \"viti\", \"volfango\", \"mozart\", \"volterra\", \"waki-zashi\", \"watteau\", \"west-end\", \"wolfgang\", \"zodiaco\", \"zuccari\", \"Aldobrandini\", \"Fa\", \"Stephen\", \"Ferdinando\", \"Sant\", \"Dov\", \"Disse\", \"Nell\", \"Un\", \"All\", \"Dall\", \"Cose\", \"Ora\", \"Quell\", \"Gran\", \"All\", \"Lui\", \"Vinci\", \"Tiziano\", \"Sciarra\", \"Paolo\", \"Veronese\", \"Galeazzo\", \"Maria\", \"Sforza\", \"Maffeo\", \"Clivate\", \"Dallo\", \"Nello\", \"Ancóra\", \"S\", \"D\", \"L\", \"Tutt\", \"Deve\", \"Dell\", \"Ch\", \"Nell\", \"S\", \"All\", \"Disse\", \"Di\", \"E\", \"La\", \"Un\", \"Il\", \"Le\", \"Una\", \"Che\", \"A\", \"In\", \"D'\", \"L'\", \"Non\", \"Con\", \"Si\", \"Del\", \"Per\", \"Gli\", \"Come\", \"I\", \"Della\", \"Egli\", \"Ella\", \"Era\", \"Più\", \"Ed\", \"D'un\", \"Così\", \"Ch'\", \"O\", \"Senza\", \"Nell'\", \"Ogni\", \"S'\", \"Lui\", \"Quasi\", \"Quel\", \"Aveva\", \"Nel\", \"Io\", \"Al\", \"Mi\", \"È\", \"Nella\", \"Ma\", \"Dell'\", \"Sua\", \"Delle\", \"Suo\", \"Alla\", \"Lo\", \"Quella\", \"Un'\", \"Da\", \"Su\", \"Cosa\", \"Ti\", \"Altra\", \"Erano\", \"Quelle\", \"Tutti\", \"Sue\", \"Tutta\", \"Forse\", \"Innanzi\", \"Tu\", \"Me\", \"De'\", \"Voi\", \"Cui\", \"Perché\", \"Poi\", \"Ha\", \"Vi\", \"Già\", \"Verso\", \"Alle\", \"Mio\", \"Sempre\", \"Ho\", \"Dei\", \"Mia\", \"Mai\", \"Uno\", \"Se\", \"Qualche\", \"Tra\", \"Anche\", \"Lei\", \"Dal\", \"Dalla\", \"Poco\", \"All'\", \"Quando\", \"Tutto\", \"Sotto\", \"Due\", \"Sul\", \"Tutte\", \"Ad\", \"Faceva\", \"Appena\", \"Quale\", \"Talvolta\", \"Tanto\", \"Ove\", \"Né\", \"Ne'\", \"Fra\", \"Altre\", \"Chi\", \"Sopra\", \"Certo\", \"Allora\", \"Altri\", \"Col\", \"Dunque\", \"Tre\", \"Lungo\", \"No\", \"Nulla\", \"Ai\", \"Poiché\", \"Fu\", \"Contro\", \"Degli\", \"Molto\", \"Questa\", \"Questo\", \"Sé\", \"Prima\", \"Mentre\", \"Po'\", \"Loro\", \"Quell'\", \"Altro\", \"Nelle\", \"Sono\", \"Dall'\", \"Avrebbe\", \"Suoi\", \"Dalle\", \"D'una\", \"De\", \"Dopo\", \"Ora\", \"Ne\", \"So\", \"Po\", \"Fosse\", \"Intorno\", \"Ch'egli\", \"Dove\", \"Mezzo\", \"Là\", \"Assai\", \"Fino\", \"Li\", \"Quello\", \"Ch'io\", \"Son\", \"Negli\", \"Ci\", \"Fece\", \"Quindi\", \"Qui\", \"Solo\", \"Ch'ella\", \"Pur\", \"Avevano\", \"Ebbe\", \"Noi\", \"Sia\", \"Quali\", \"Quanto\", \"Stava\", \"Stesso\", \"Allo\", \"Dietro\", \"Parevano\", \"Quei\", \"Volte\", \"Può\", \"Te\", \"Sì\", \"Stato\", \"Dai\", \"Andrea\", \"Elena\", \"Sperelli\", \"Luzio\", \"Ovidio\", \"Trinità\", \"De'\", \"Monti\", \"Luzio\", \"Dolci\", \"Zuccari\", \"Spagna\", \"San\", \"Silvestro\", \"Giorgio\", \"Dafne\", \"Danae\", \"Correggio\", \"Porta\", \"Pia\", \"Palazzo\", \"Farnese\", \"Palazzo\", \"Barberini\", \"Via\", \"Sistina\", \"Aniene\", \"Ancóra\", \"Quattro\", \"Fontane\", \"Palazzo\", \"Roccagiovine\", \"Cherubino\", \"Don\", \"Giovanni\", \"Via\", \"De'\", \"Condotti\", \"Casteldelfino\", \"Pincio\", \"Monte\", \"Mario\", \"Piazzetta\", \"Mignanelli\", \"Via\", \"Gregoriana\", \"Percy\", \"Shelley\", \"Inghilterra\", \"Roma\", \"Lady\", \"Helen\", \"Heathfield\", \"Helen\", \"Heathfield\", \"Giustiniani-Bandini\", \"Joshua\", \"Reynolds\", \"Reynolds\", \"Humphrey\", \"Lord\", \"Gibilterra\", \"Carmélite\", \"Palazzo\", \"Chigi\", \"Monna\", \"Lisa\", \"Nelly\", \"O'\", \"Brien\", \"Laldomine\", \"Mona\", \"Amorrosisca\", \"Albergo\", \"Del\", \"Quirinale\", \"Sùbito\", \"Mumps\", \"Alfonso\", \"Ferdinando\", \"Re\", \"Di\", \"Napoli\", \"Alessandro\", \"Lorenzo\", \"De'\", \"Medici\", \"Giovanni\", \"Gossaert\", \"Massimiliano\", \"Filippo\", \"Di\", \"Borgogna\", \"Piero\", \"Di\", \"Cosimo\", \"Firenze\", \"Papa\", \"Giulio\", \"Ii\", \"Bartolomeo\", \"Napoli\", \"La\", \"Faustina\", \"Giovanni\", \"Sperelli\", \"Carlo\", \"Sperelli\", \"Giovanni\", \"Carlo\", \"Piero\", \"Fieschi\", \"Carolina\", \"Pericle\", \"Colosseo\", \"Villa\", \"Medici\", \"Campo\", \"Vaccino\", \"Piazza\", \"Di\", \"Spagna\", \"Arco\", \"Di\", \"Tito\", \"Tito\", \"Caracci\", \"Michelangelo\", \"Doria\", \"Barberini\", \"Domenichini\", \"Albani\", \"Luni\", \"Grecia\", \"Pio\", \"Vi\", \"Thomas\", \"Lawrence\", \"Lawrence\", \"Conny\", \"Landbrooke\", \"Elena\", \"Muti\", \"Gravelot\", \"Luigi\", \"Xv\", \"Teatro\", \"Valle\", \"Don\", \"Filippo\", \"Del\", \"Monte\", \"Ugenta\", \"Musèllaro\", \"Giulio\", \"Sakumi\", \"D'ateleta\", \"Francesca\", \"Burano\", \"Lady\", \"Ouless\", \"Ouless\", \"Lady\", \"Cahen\", \"Madame\", \"Leonardo\", \"Borghese\", \"Borgia\", \"Cesare\", \"Sanzio\", \"Ferentino\", \"Mary\", \"Maria\", \"Silvandri\", \"Secìnaro\", \"Lucio\", \"Vero\", \"Immenraet\", \"Stubbs\", \"Beethoven\", \"Crivelli\", \"Lucrezia\", \"Dyce\", \"Schumann\", \"Von\", \"Huffel\", \"Von\", \"Caradosso\", \"Pollajuolo\", \"Antonio\", \"Urbino\", \"Volterra\", \"Rùtolo\", \"Giannetto\", \"Roberto\", \"Casteldieri\", \"Ludovico\", \"Barbarisi\", \"Leczinska\", \"Albónico\", \"Ippolita\", \"Bianca\", \"Dolcebuono\", \"Laura\", \"Miano\", \"Angelieri\", \"Annibale\", \"Gabriella\", \"Barbarisi\", \"Bommìnaco\", \"Aldobrandini\", \"Fa\", \"Stephen\", \"Ferdinando\", \"Sant\", \"Dov\", \"Disse\", \"Nell\", \"Un\", \"All\", \"Dall\", \"Cose\", \"Ora\", \"Quell\", \"Gran\", \"All\", \"Lui\", \"Vinci\", \"Tiziano\", \"Sciarra\", \"Paolo\", \"Veronese\", \"Galeazzo\", \"Maria\", \"Sforza\", \"Maffeo\", \"Clivate\", \"Dallo\", \"Nello\", \"Ancóra\", \"S\", \"D\", \"L\", \"Tutt\", \"Deve\", \"Dell\", \"Ch\", \"Nell\", \"S\", \"All\", \"Disse\", \"Di\", \"E\", \"La\", \"Un\", \"Il\", \"Le\", \"Una\", \"Che\", \"A\", \"In\", \"D'\", \"L'\", \"Non\", \"Con\", \"Si\", \"Del\", \"Per\", \"Gli\", \"Come\", \"I\", \"Della\", \"Egli\", \"Ella\", \"Era\", \"Più\", \"Ed\", \"D'un\", \"Così\", \"Ch'\", \"O\", \"Senza\", \"Nell'\", \"Ogni\", \"S'\", \"Lui\", \"Quasi\", \"Quel\", \"Aveva\", \"Nel\", \"Io\", \"Al\", \"Mi\", \"È\", \"Nella\", \"Ma\", \"Dell'\", \"Sua\", \"Delle\", \"Suo\", \"Alla\", \"Lo\", \"Quella\", \"Un'\", \"Da\", \"Su\", \"Cosa\", \"Ti\", \"Altra\", \"Erano\", \"Quelle\", \"Tutti\", \"Sue\", \"Tutta\", \"Forse\", \"Innanzi\", \"Tu\", \"Me\", \"De'\", \"Voi\", \"Cui\", \"Perché\", \"Poi\", \"Ha\", \"Vi\", \"Già\", \"Verso\", \"Alle\", \"Mio\", \"Sempre\", \"Ho\", \"Dei\", \"Mia\", \"Mai\", \"Uno\", \"Se\", \"Qualche\", \"Tra\", \"Anche\", \"Lei\", \"Dal\", \"Dalla\", \"Poco\", \"All'\", \"Quando\", \"Tutto\", \"Sotto\", \"Due\", \"Sul\", \"Tutte\", \"Ad\", \"Faceva\", \"Appena\", \"Quale\", \"Talvolta\", \"Tanto\", \"Ove\", \"Né\", \"Ne'\", \"Fra\", \"Altre\", \"Chi\", \"Sopra\", \"Certo\", \"Allora\", \"Altri\", \"Col\", \"Dunque\", \"Tre\", \"Lungo\", \"No\", \"Nulla\", \"Ai\", \"Poiché\", \"Fu\", \"Contro\", \"Degli\", \"Molto\", \"Questa\", \"Questo\", \"Sé\", \"Prima\", \"Mentre\", \"Po'\", \"Loro\", \"Quell'\", \"Altro\", \"Nelle\", \"Sono\", \"Dall'\", \"Avrebbe\", \"Suoi\", \"Dalle\", \"D'una\", \"De\", \"Dopo\", \"Ora\", \"Ne\", \"So\", \"Po\", \"Fosse\", \"Intorno\", \"Ch'egli\", \"Dove\", \"Mezzo\", \"Là\", \"Assai\", \"Fino\", \"Li\", \"Quello\", \"Ch'io\", \"Son\", \"Negli\", \"Ci\", \"Fece\", \"Quindi\", \"Qui\", \"Solo\", \"Ch'ella\", \"Pur\", \"Avevano\", \"Ebbe\", \"Noi\", \"Sia\", \"Quali\", \"Quanto\", \"Stava\", \"Stesso\", \"Allo\", \"Dietro\", \"Parevano\", \"Quei\", \"Volte\", \"Può\", \"Te\", \"Sì\", \"Stato\", \"Dai\", \"Andrea\", \"Elena\", \"Sperelli\", \"Luzio\", \"Ovidio\", \"Trinità\", \"De'\", \"Monti\", \"Luzio\", \"Dolci\", \"Zuccari\", \"Spagna\", \"San\", \"Silvestro\", \"Giorgio\", \"Dafne\", \"Danae\", \"Correggio\", \"Porta\", \"Pia\", \"Palazzo\", \"Farnese\", \"Palazzo\", \"Barberini\", \"Via\", \"Sistina\", \"Aniene\", \"Ancóra\", \"Quattro\", \"Fontane\", \"Palazzo\", \"Roccagiovine\", \"Cherubino\", \"Don\", \"Giovanni\", \"Via\", \"De'\", \"Condotti\", \"Casteldelfino\", \"Pincio\", \"Monte\", \"Mario\", \"Piazzetta\", \"Mignanelli\", \"Via\", \"Gregoriana\", \"Percy\", \"Shelley\", \"Inghilterra\", \"Roma\", \"Lady\", \"Helen\", \"Heathfield\", \"Helen\", \"Heathfield\", \"Giustiniani-Bandini\", \"Joshua\", \"Reynolds\", \"Reynolds\", \"Humphrey\", \"Lord\", \"Gibilterra\", \"Carmélite\", \"Palazzo\", \"Chigi\", \"Monna\", \"Lisa\", \"Nelly\", \"O'\", \"Brien\", \"Laldomine\", \"Mona\", \"Amorrosisca\", \"Albergo\", \"Del\", \"Quirinale\", \"Sùbito\", \"Mumps\", \"Alfonso\", \"Ferdinando\", \"Re\", \"Di\", \"Napoli\", \"Alessandro\", \"Lorenzo\", \"De'\", \"Medici\", \"Giovanni\", \"Gossaert\", \"Massimiliano\", \"Filippo\", \"Di\", \"Borgogna\", \"Piero\", \"Di\", \"Cosimo\", \"Firenze\", \"Papa\", \"Giulio\", \"Ii\", \"Bartolomeo\", \"Napoli\", \"La\", \"Faustina\", \"Giovanni\", \"Sperelli\", \"Carlo\", \"Sperelli\", \"Giovanni\", \"Carlo\", \"Piero\", \"Fieschi\", \"Carolina\", \"Pericle\", \"Colosseo\", \"Villa\", \"Medici\", \"Campo\", \"Vaccino\", \"Piazza\", \"Di\", \"Spagna\", \"Arco\", \"Di\", \"Tito\", \"Tito\", \"Caracci\", \"Michelangelo\", \"Doria\", \"Barberini\", \"Domenichini\", \"Albani\", \"Luni\", \"Grecia\", \"Pio\", \"Vi\", \"Thomas\", \"Lawrence\", \"Lawrence\", \"Conny\", \"Landbrooke\", \"Elena\", \"Muti\", \"Gravelot\", \"Luigi\", \"Xv\", \"Teatro\", \"Valle\", \"Don\", \"Filippo\", \"Del\", \"Monte\", \"Ugenta\", \"Musèllaro\", \"Giulio\", \"Sakumi\", \"D'ateleta\", \"Francesca\", \"Burano\", \"Lady\", \"Ouless\", \"Ouless\", \"Lady\", \"Cahen\", \"Madame\", \"Leonardo\", \"Borghese\", \"Borgia\", \"Cesare\", \"Sanzio\", \"Ferentino\", \"Mary\", \"Maria\", \"Silvandri\", \"Secìnaro\", \"Lucio\", \"Vero\", \"Immenraet\", \"Stubbs\", \"Beethoven\", \"Crivelli\", \"Lucrezia\", \"Dyce\", \"Schumann\", \"Von\", \"Huffel\", \"Von\", \"Caradosso\", \"Pollajuolo\", \"Antonio\", \"Urbino\", \"Volterra\", \"Rùtolo\", \"Giannetto\", \"Roberto\", \"Casteldieri\", \"Ludovico\", \"Barbarisi\", \"Leczinska\", \"Albónico\", \"Ippolita\", \"Bianca\", \"Dolcebuono\", \"Laura\", \"Miano\", \"Angelieri\", \"Annibale\", \"Gabriella\", \"Barbarisi\", \"Bommìnaco\", \"Aldobrandini\", \"Fa\", \"Stephen\", \"Ferdinando\", \"Sant\", \"Dov\", \"Disse\", \"Nell\", \"Un\", \"All\", \"Dall\", \"Cose\", \"Ora\", \"Quell\", \"Gran\", \"All\", \"Lui\", \"Vinci\", \"Tiziano\", \"Sciarra\", \"Paolo\", \"Veronese\", \"Galeazzo\", \"Maria\", \"Sforza\", \"Maffeo\", \"Clivate\", \"Dallo\", \"Nello\", \"Ancóra\", \"S\", \"D\", \"L\", \"Tutt\", \"Deve\", \"Dell\", \"Ch\", \"Nell\", \"S\", \"All\", \"Disse\", \"Di\", \"E\", \"La\", \"Un\", \"Il\", \"Le\", \"Una\", \"Che\", \"A\", \"In\", \"D'\", \"L'\", \"Non\", \"Con\", \"Si\", \"Del\", \"Per\", \"Gli\", \"Come\", \"I\", \"Della\", \"Egli\", \"Ella\", \"Era\", \"Più\", \"Ed\", \"D'un\", \"Così\", \"Ch'\", \"O\", \"Senza\", \"Nell'\", \"Ogni\", \"S'\", \"Lui\", \"Quasi\", \"Quel\", \"Aveva\", \"Nel\", \"Io\", \"Al\", \"Mi\", \"È\", \"Nella\", \"Ma\", \"Dell'\", \"Sua\", \"Delle\", \"Suo\", \"Alla\", \"Lo\", \"Quella\", \"Un'\", \"Da\", \"Su\", \"Cosa\", \"Ti\", \"Altra\", \"Erano\", \"Quelle\", \"Tutti\", \"Sue\", \"Tutta\", \"Forse\", \"Innanzi\", \"Tu\", \"Me\", \"De'\", \"Voi\", \"Cui\", \"Perché\", \"Poi\", \"Ha\", \"Vi\", \"Già\", \"Verso\", \"Alle\", \"Mio\", \"Sempre\", \"Ho\", \"Dei\", \"Mia\", \"Mai\", \"Uno\", \"Se\", \"Qualche\", \"Tra\", \"Anche\", \"Lei\", \"Dal\", \"Dalla\", \"Poco\", \"All'\", \"Quando\", \"Tutto\", \"Sotto\", \"Due\", \"Sul\", \"Tutte\", \"Ad\", \"Faceva\", \"Appena\", \"Quale\", \"Talvolta\", \"Tanto\", \"Ove\", \"Né\", \"Ne'\", \"Fra\", \"Altre\", \"Chi\", \"Sopra\", \"Certo\", \"Allora\", \"Altri\", \"Col\", \"Dunque\", \"Tre\", \"Lungo\", \"No\", \"Nulla\", \"Ai\", \"Poiché\", \"Fu\", \"Contro\", \"Degli\", \"Molto\", \"Questa\", \"Questo\", \"Sé\", \"Prima\", \"Mentre\", \"Po'\", \"Loro\", \"Quell'\", \"Altro\", \"Nelle\", \"Sono\", \"Dall'\", \"Avrebbe\", \"Suoi\", \"Dalle\", \"D'una\", \"De\", \"Dopo\", \"Ora\", \"Ne\", \"So\", \"Po\", \"Fosse\", \"Intorno\", \"Ch'egli\", \"Dove\", \"Mezzo\", \"Là\", \"Assai\", \"Fino\", \"Li\", \"Quello\", \"Ch'io\", \"Son\", \"Negli\", \"Ci\", \"Fece\", \"Quindi\", \"Qui\", \"Solo\", \"Ch'ella\", \"Pur\", \"Avevano\", \"Ebbe\", \"Noi\", \"Sia\", \"Quali\", \"Quanto\", \"Stava\", \"Stesso\", \"Allo\", \"Dietro\", \"Parevano\", \"Quei\", \"Volte\", \"Può\", \"Te\", \"Sì\", \"Stato\", \"Dai\", \"Andrea\", \"Elena\", \"Sperelli\", \"Luzio\", \"Ovidio\", \"Trinità\", \"De'\", \"Monti\", \"Luzio\", \"Dolci\", \"Zuccari\", \"Spagna\", \"San\", \"Silvestro\", \"Giorgio\", \"Dafne\", \"Danae\", \"Correggio\", \"Porta\", \"Pia\", \"Palazzo\", \"Farnese\", \"Palazzo\", \"Barberini\", \"Via\", \"Sistina\", \"Aniene\", \"Ancóra\", \"Quattro\", \"Fontane\", \"Palazzo\", \"Roccagiovine\", \"Cherubino\", \"Don\", \"Giovanni\", \"Via\", \"De'\", \"Condotti\", \"Casteldelfino\", \"Pincio\", \"Monte\", \"Mario\", \"Piazzetta\", \"Mignanelli\", \"Via\", \"Gregoriana\", \"Percy\", \"Shelley\", \"Inghilterra\", \"Roma\", \"Lady\", \"Helen\", \"Heathfield\", \"Helen\", \"Heathfield\", \"Giustiniani-Bandini\", \"Joshua\", \"Reynolds\", \"Reynolds\", \"Humphrey\", \"Lord\", \"Gibilterra\", \"Carmélite\", \"Palazzo\", \"Chigi\", \"Monna\", \"Lisa\", \"Nelly\", \"O'\", \"Brien\", \"Laldomine\", \"Mona\", \"Amorrosisca\", \"Albergo\", \"Del\", \"Quirinale\", \"Sùbito\", \"Mumps\", \"Alfonso\", \"Ferdinando\", \"Re\", \"Di\", \"Napoli\", \"Alessandro\", \"Lorenzo\", \"De'\", \"Medici\", \"Giovanni\", \"Gossaert\", \"Massimiliano\", \"Filippo\", \"Di\", \"Borgogna\", \"Piero\", \"Di\", \"Cosimo\", \"Firenze\", \"Papa\", \"Giulio\", \"Ii\", \"Bartolomeo\", \"Napoli\", \"La\", \"Faustina\", \"Giovanni\", \"Sperelli\", \"Carlo\", \"Sperelli\", \"Giovanni\", \"Carlo\", \"Piero\", \"Fieschi\", \"Carolina\", \"Pericle\", \"Colosseo\", \"Villa\", \"Medici\", \"Campo\", \"Vaccino\", \"Piazza\", \"Di\", \"Spagna\", \"Arco\", \"Di\", \"Tito\", \"Tito\", \"Caracci\", \"Michelangelo\", \"Doria\", \"Barberini\", \"Domenichini\", \"Albani\", \"Luni\", \"Grecia\", \"Pio\", \"Vi\", \"Thomas\", \"Lawrence\", \"Lawrence\", \"Conny\", \"Landbrooke\", \"Elena\", \"Muti\", \"Gravelot\", \"Luigi\", \"Xv\", \"Teatro\", \"Valle\", \"Don\", \"Filippo\", \"Del\", \"Monte\", \"Ugenta\", \"Musèllaro\", \"Giulio\", \"Sakumi\", \"D'ateleta\", \"Francesca\", \"Burano\", \"Lady\", \"Ouless\", \"Ouless\", \"Lady\", \"Cahen\", \"Madame\", \"Leonardo\", \"Borghese\", \"Borgia\", \"Cesare\", \"Sanzio\", \"Ferentino\", \"Mary\", \"Maria\", \"Silvandri\", \"Secìnaro\", \"Lucio\", \"Vero\", \"Immenraet\", \"Stubbs\", \"Beethoven\", \"Crivelli\", \"Lucrezia\", \"Dyce\", \"Schumann\", \"Von\", \"Huffel\", \"Von\", \"Caradosso\", \"Pollajuolo\", \"Antonio\", \"Urbino\", \"Volterra\", \"Rùtolo\", \"Giannetto\", \"Roberto\", \"Casteldieri\", \"Ludovico\", \"Barbarisi\", \"Leczinska\", \"Albónico\", \"Ippolita\", \"Bianca\", \"Dolcebuono\", \"Laura\", \"Miano\", \"Angelieri\", \"Annibale\", \"Gabriella\", \"Barbarisi\", \"Bommìnaco\", \"A.\", \"S.\", \"Abentino\", \"Aber\", \"Aborrendo\", \"Academia\", \"Acrisio\", \"Ade\", \"Adolphus\", \"Jeckyll\", \"Adorazione\", \"Dei\", \"Magi\", \"Africa\", \"Aix-Les-Bains\", \"Ajace\", \"Albergo\", \"D'europa\", \"Albergo\", \"Del\", \"Quirinale\", \"Alberoni\", \"Alberto\", \"Durero\", \"Albónico\", \"Albumblätter\", \"Alceo\", \"Alenava\", \"Alerione\", \"Alessandro\", \"Alessandro\", \"Albani\", \"Alessandro\", \"Sperelli\", \"Alfonso\", \"Alfonso\", \"Carafa\", \"D'ateleta\", \"Alma\", \"Tadema\", \"Amasie\", \"Ambasciata\", \"D'austria\", \"Amburgo\", \"Amphora\", \"Anchise\", \"Andrea\", \"Andrea\", \"Andrea\", \"Al\", \"Barbarisi\", \"Andrea\", \"Al\", \"Musèllaro\", \"Andrea\", \"Il\", \"Barbarisi\", \"Andrea\", \"La\", \"Tentazion\", \"Andrea\", \"Sperelli\", \"Andrea\", \"Sperelli-Fieschi\", \"Angelieri\", \"Angélique\", \"Du\", \"Deffand\", \"Aniene\", \"Anna\", \"Rosemberg\", \"Annibale\", \"Caracci\", \"Annunciazione\", \"Annunziata\", \"Antinoo\", \"Farnese\", \"Antonio\", \"Del\", \"Pollajuolo\", \"Antonio\", \"Pollajuolo\", \"Antonio\", \"Salieri\", \"Antonio\", \"Watteau\", \"Apollo\", \"Apulejo\", \"Metamorphoseon\", \"Ara\", \"Arcangelo\", \"Michele\", \"Arcangelo\", \"Michele\", \"Del\", \"Perugino\", \"Arcipelago\", \"Arcitenens\", \"Arco\", \"Dei\", \"Pantani\", \"Arco\", \"Della\", \"Porta\", \"Pia\", \"Arco\", \"Di\", \"Tito\", \"Ardano\", \"Ariadne\", \"Arici\", \"Ariele\", \"Aries,\", \"Taurus\", \"Arietta\", \"Armata\", \"Nera\", \"Arpie\", \"Arte\", \"Arundel\", \"Asfodilli\", \"Astrakan\", \"Ateleta\", \"Attavante\", \"Attendre\", \"Pour\", \"Atteindre\", \"Attraevan\", \"Aurora\", \"Seymour\", \"Aurore\", \"Autunno\", \"Ave\", \"Aventino\", \"Babuino\", \"Bach\", \"Badia\", \"Di\", \"Subiaco\", \"Badia\", \"Di\", \"Weingarten\", \"Bahar\", \"Balenio\", \"Intermittente\", \"Balla\", \"Bambocciate\", \"Bandinelli\", \"Barbarella\", \"Barbarella\", \"Viti\", \"Barbarisi\", \"Barbarisi\", \"Allo\", \"Sperelli\", \"Barberini\", \"Barcaccia\", \"Bartolomeo\", \"Sperelli\", \"Basilica\", \"Di\", \"San\", \"Giovanni\", \"Beata\", \"Vergine\", \"Assunta\", \"Beau\", \"Bébé\", \"Bébé\", \"Silva\", \"Beethoven\", \"Beffi\", \"Bellerofonte\", \"Bellezza\", \"Belvedere\", \"Belvedere\", \"Della\", \"Villa\", \"Medici\", \"Benedettini\", \"Bernini\", \"Bianca\", \"Dolcebuono\", \"Bianca\", \"Maria\", \"Sforza\", \"Bisenti\", \"Boccaccio\", \"Boeckhorst\", \"Bommìnaco\", \"Boote\", \"Borghese\", \"Borgia\", \"Bosco\", \"Di\", \"Vicomìle\", \"Botticelli\", \"Bouckara\", \"Brantôme\", \"Brummel\", \"Buddha\", \"Bugnano\", \"Bugnara\", \"Burano\", \"Bussi\", \"Centenarii\", \"Cachoucha\", \"Del\", \"Raff\", \"Caffè\", \"Caffè\", \"Di\", \"Roma\", \"Calabrie\", \"Callimaco\", \"Callot\", \"Callotta\", \"Camillo\", \"Agrippa\", \"Campania\", \"Campo\", \"Vaccino\", \"Campomorto\", \"Campos\", \"Cancer\", \"Capannelle\", \"Caper\", \"Cappella\", \"Chigi\", \"Cappella\", \"Sistina\", \"Capricci\", \"Capricci\", \"Di\", \"Domenico\", \"Scarlatti\", \"Caracci\", \"Caradosso\", \"Carbonilla\", \"Carlo\", \"Baudelaire\", \"Carlo\", \"De\", \"Souza\", \"Carlo\", \"I\", \"Carlo\", \"Il\", \"Temerario\", \"Carlo\", \"Sperelli\", \"Carlo\", \"Viii\", \"Carlotta\", \"Fiordelise\", \"Carmélite\", \"Carmine\", \"Carolina\", \"Casa\", \"Pallavicini\", \"Casa\", \"Von\", \"Huffel\", \"Casanova\", \"Cascine\", \"Cassìbile\", \"Cassiopea\", \"Castel\", \"Castel\", \"Durante\", \"Casteldelfino\", \"Casteldieri\", \"Catania\", \"Catullo\", \"Cavalcanti\", \"Giulia\", \"Centauri\", \"Centauro\", \"Cento\", \"Fontane\", \"Cesare\", \"Borgia\", \"Cesari\", \"Chablis\", \"Champagne\", \"Cherubini\", \"Cherubino\", \"Chimera\", \"Chimere\", \"Chimerico\", \"Chinchilla\", \"Chinon\", \"Chopin\", \"Cibele\", \"Ciel\", \"Cigno\", \"Cino\", \"Cipriano\", \"Dei\", \"Piccolpasso\", \"Cipro\", \"Circe\", \"Circolo\", \"Circolo\", \"Delle\", \"Cacce\", \"Ciro\", \"Ferri\", \"Clara\", \"Clara\", \"Green\", \"Claudio\", \"Lorenese\", \"Clodion\", \"Coiny\", \"Colei\", \"Colonna\", \"Colosseo\", \"Comis\", \"Condotti\", \"Conducetemi\", \"Conducimi\", \"Conny\", \"Conny\", \"Landbrooke\", \"Conquistami\", \"Clara\", \"Green\", \"Conservatorio\", \"Di\", \"Bruxelles\", \"Conte\", \"Caligàro\", \"Conte\", \"D'ugenta\", \"Conte\", \"D'urbino\", \"Conte\", \"Di\", \"Bradford\", \"Contemplatori\", \"Solitarii\", \"Cordelia\", \"Corpo\", \"Di\", \"Gesù\", \"Corsini\", \"Corso\", \"Cosimo\", \"Cosimo\", \"Ii\", \"De'\", \"Medici\", \"Cosimo\", \"Tura\", \"Cossa\", \"Costantia\", \"Landbrooke\", \"Costantinopoli\", \"Cremona\", \"Cristina\", \"Nilsson\", \"Crosciar\", \"Cugino\", \"Sperelli\", \"Cupola\", \"Di\", \"S.\", \"Pietro\", \"Cupola\", \"Di\", \"San\", \"Pietro\", \"D'\", \"D'elisabetta\", \"Daddi\", \"Dafne\", \"Danae\", \"Danae\", \"Del\", \"Correggio\", \"Daniel\", \"Maclisius\", \"Danimarca\", \"Dante\", \"Gabriele\", \"Rossetti\", \"Dàvila\", \"De\", \"Lùcoli\", \"De\", \"Nativitatibus\", \"Delfina\", \"Delfina\", \"–\", \"Demi-Mondaines.\", \"Descouverture\", \"Desiderio\", \"Diana\", \"Dioscuri\", \"Directoire\", \"Divina\", \"Simonetta\", \"Dixon\", \"Dogali\", \"Dolcebuono\", \"Domenichini\", \"Domenico\", \"Ghirlandajo\", \"Domenico\", \"Scarlatti\", \"Domini\", \"Don\", \"Filippo\", \"Don\", \"Filippo\", \"Del\", \"Monte\", \"Don\", \"Giovanni\", \"Don\", \"Luigi\", \"Don\", \"Manuel\", \"Don\", \"Manuel\", \"Ferres\", \"Don\", \"Manuel\", \"Ferres\", \"Y\", \"Capdevila\", \"Donatello\", \"Doney\", \"Donna\", \"Anna\", \"Donna\", \"Bianca\", \"Donna\", \"Bianca\", \"Dolcebuono\", \"Donna\", \"Elena\", \"Donna\", \"Elena\", \"Muti\", \"Donna\", \"Francesca\", \"Donna\", \"Francesca\", \"D'ateleta\", \"Donna\", \"Giulia\", \"Donna\", \"Giulia\", \"Moceto...\", \"Tu\", \"Sei\", \"Donna\", \"Ippolita\", \"Donna\", \"Ippolita\", \"Albónico\", \"Donna\", \"Isotta\", \"Cellesi\", \"Donna\", \"Maria\", \"Donna\", \"Maria\", \"–\", \"Donna\", \"Maria\", \"Esalavano\", \"Donna\", \"Maria\", \"Ferres\", \"Donna\", \"Maria\", \"Ferres\", \"Y\", \"Capdevila\", \"Donna\", \"Unica\", \"Doria\", \"Doriforo\", \"Dorothy\", \"Dosso\", \"Dossi\", \"Du\", \"Deffand\", \"Duca\", \"Di\", \"Duca\", \"Di\", \"Buckingham\", \"Duca\", \"Di\", \"Grimiti\", \"Duo\", \"Duomo\", \"Duomo\", \"Bianco\", \"Earlom\", \"Elena\", \"Elena\", \"–\", \"Elena\", \"Heathfield\", \"Elena\", \"Muti\", \"Elena!\", \"Eliodoro\", \"Elisa\", \"Empoli\", \"Endymion\", \"Enrico\", \"Taine\", \"Epifania\", \"Epifania\", \"Dell'amore\", \"Er\", \"Amor\", \"Eranvi\", \"Eravi\", \"Ludovico\", \"Barbarisi\", \"Ercole\", \"Erma\", \"Ermafrodito\", \"Erotopaegnion\", \"Esitava\", \"Este\", \"Europa\", \"Famulus\", \"Fantasie\", \"Farnese\", \"Faublas\", \"Faustina\", \"Federico\", \"D'aragona\", \"Ferdinando\", \"Ferdinando\", \"Re\", \"Di\", \"Napoli\", \"Ferentino\", \"Ferrara\", \"Ferres\", \"Fiamma\", \"Fiandra\", \"Fiera\", \"Fiesole\", \"Filarmonici\", \"Filippino\", \"Lippi\", \"Filippo\", \"Filippo\", \"Del\", \"Gallo\", \"Filippo\", \"Di\", \"Borgogna\", \"Filli\", \"Filotea\", \"Fineo\", \"Fiore\", \"Fioretti\", \"Firenze\", \"Firenzuola\", \"Flaminia\", \"Flaubert\", \"Flirtation\", \"Fluttuava\", \"Fontane\", \"Fontane\", \"Ammutolite\", \"Fontane\", \"Di\", \"Schifanoja\", \"Fontanella\", \"Delle\", \"Tartarughe\", \"Fontanella\", \"Di\", \"Borghese\", \"Fonte\", \"Fonte\", \"Della\", \"Gioia\", \"Fonte\", \"Gaia\", \"Fòri\", \"Formava\", \"Fòro\", \"Fòro\", \"Di\", \"Nerva\", \"Fortuna\", \"Francavilla\", \"Al\", \"Mare\", \"Francesca\", \"Francesca\", \"Francesca\", \"Daddi\", \"Francesca:\", \"Francesco\", \"I\", \"Francesco\", \"Paolo\", \"Michetti\", \"Francesco\", \"Petrarca\", \"Francia\", \"Francis\", \"Redgrave\", \"Frascati\", \"Frauenliebe\", \"Freddolosa\", \"Fuga\", \"Fuor\", \"G.\", \"D'a.\", \"Gabriella\", \"Gabriella\", \"Barbarisi\", \"Gabriella\", \"Vanni\", \"Gainsborough\", \"Galatea\", \"Galatee\", \"Galeazzo\", \"Galeazzo\", \"Allo\", \"Sperelli\", \"Galeazzo\", \"Maria\", \"Sforza\", \"Galeazzo\", \"Secìnaro\", \"Galleria\", \"Borghese\", \"Galleria\", \"Borghese?\", \"Galleria\", \"Sciarra\", \"Gallucci\", \"Gavaudan\", \"Gavotta\", \"Gemini\", \"Gerardo\", \"Audran\", \"Gervetius\", \"Gesù\", \"Gesù\", \"Cristo\", \"Giace\", \"Gianicolo\", \"Giannetto\", \"Giannetto\", \"Rùtolo\", \"Gibilterra\", \"Gino\", \"Gino\", \"Bommìnaco\", \"Ginosa\", \"Giorgio\", \"Giorgio\", \"Bizet\", \"Giorgio\", \"Byron\", \"Giornale\", \"Giovan\", \"Francesco\", \"Bolognesi\", \"Giovanella\", \"Daddi\", \"Giovanna\", \"Tornabuoni\", \"Giovanni\", \"Gossaert\", \"Giovanni\", \"Moceto\", \"Giovanni\", \"Sperelli\", \"Girolamo\", \"Storace\", \"Gittato\", \"Giulia\", \"Giulia\", \"Arici\", \"Giulia\", \"Farnese\", \"Giulia\", \"Moceto\", \"Giulietta\", \"Guicciardi\", \"Giulio\", \"Giulio\", \"Montelatici\", \"Giulio\", \"Musèllaro\", \"Giulio\", \"Romano\", \"Giungeva\", \"Giunone\", \"Giuntole\", \"Da\", \"Calcutta\", \"Giuseppe\", \"Haydn\", \"Giustiniani\", \"Giustiniani-Bandini\", \"Giusto\", \"Sperelli\", \"Giusto\", \"Suttermans\", \"Goethe\", \"Grazia\", \"Grazie\", \"Grecia\", \"Green\", \"Grimiti\", \"Guatemala\", \"Guglielmo\", \"Shakespeare\", \"Guido\", \"Guido\", \"Reni\", \"Halfousn\", \"Street\", \"Hans\", \"Memling\", \"Heatfield\", \"Helena\", \"Amyclaea\", \"Helles\", \"Hérissey\", \"Hoffmann\", \"Holbein\", \"Holman\", \"Hunt\", \"Humphrey\", \"Heathfield\", \"Ida\", \"Ideale\", \"Idillii,\", \"Il\", \"Grimiti\", \"Il\", \"Rùtolo\", \"Ila\", \"Immenraet\", \"Imperia\", \"Impero\", \"India\", \"Inghilterra\", \"Ippolita\", \"Ippolita\", \"Albónico\", \"Ippolito\", \"Isola\", \"Isola\", \"Di\", \"San\", \"Bartolomeo\", \"Isotta\", \"Cellesi\", \"Israeliti\", \"Issé\", \"Issè\", \"Italia\", \"Itinerario\", \"Dell'anima\", \"Jane\", \"Jefferies\", \"Jenny\", \"Jockey-Club\", \"John\", \"Keats\", \"John\", \"Wilkes\", \"Joshua\", \"Reynolds\", \"Julia\", \"Kalliwoda\", \"Karamanieh\", \"Kien-Lung\", \"L'arici\", \"Là\", \"La\", \"Silva\", \"La\", \"Simona\", \"Laldomine\", \"Lampsaco\", \"Landbrooke\", \"Lapo\", \"Gianni\", \"Lass\", \"Dich\", \"Laura\", \"Laura\", \"Miano\", \"Lauzun\", \"Lawrences\", \"Lazzarone\", \"Leandro\", \"Legazione\", \"Leo\", \"Leonardo\", \"Leo\", \"Leonetto\", \"Leonetto\", \"Lanza\", \"Les\", \"Aphrodites\", \"Del\", \"Nerciat\", \"Liaisons\", \"Dangereuses\", \"Liberale\", \"Da\", \"Verona\", \"Libra\", \"Liebende\", \"Life\", \"Were\", \"Single\", \"Hearted!\", \"Lilian\", \"Theed\", \"Lo\", \"Sperelli\", \"Loggia\", \"Loggia\", \"Del\", \"Papa\", \"Londra\", \"Lord\", \"Heathfield\", \"Lord\", \"Heathfield?\", \"Lord\", \"Humphrey\", \"Lord\", \"Humphrey\", \"Heathfield\", \"Lorenzo\", \"De'\", \"Medici\", \"Lorenzo\", \"Il\", \"Magnifico\", \"Louis\", \"Xv\", \"Luca\", \"D'olanda\", \"Luca\", \"Della\", \"Robbia\", \"Lucca\", \"Lucerna\", \"Lucio\", \"Vero\", \"Lucio\", \"Vero\", \"Biondo\", \"Lùcoli\", \"Lucrezia\", \"Crivelli\", \"Ludovic\", \"Ludovico\", \"Ludovico\", \"Barbarisi\", \"Ludovico\", \"Beethoven\", \"Ludovico\", \"Il\", \"Moro\", \"Ludovico,\", \"Luigi\", \"Luigi\", \"Gullì\", \"Luigi\", \"Rameau\", \"Luigi\", \"Xii\", \"Luigi\", \"Xv\", \"Luna\", \"Luni\", \"Luzio\", \"Dolci\", \"Macedone\", \"Madame\", \"Chrysoloras?\", \"Madame\", \"De\", \"La\", \"Boissière\", \"Madame\", \"De\", \"Parabère\", \"Madame\", \"Van\", \"Huffel\", \"Madamoiselle\", \"Madamoiselle\", \"Vanloo\", \"Madonna\", \"Madonna\", \"Del\", \"Giglio\", \"Madonna\", \"Del\", \"Rosario!\", \"Madonna\", \"Di\", \"Pavia\", \"Maffeo\", \"Di\", \"Clivate\", \"Magna\", \"Grecia\", \"Mallecho\", \"Manca\", \"Mani\", \"Manifatture\", \"Imperiali\", \"Del\", \"Giappone\", \"Manuel\", \"Marc-Ardell\", \"Marc'antonio\", \"Marc'antonio!\", \"Maria\", \"Maria\", \"Maria\", \"Bandinelli\", \"Maria\", \"Ferres\", \"Maria\", \"Fortuna\", \"Maria\", \"Leczinska\", \"Maria\", \"Maddalena\", \"D'austria\", \"Maria\", \"Vergine\", \"Maria\", \"Vergine\", \"Del\", \"Rosario\", \"Mario\", \"De'\", \"Fiori\", \"Mary\", \"Dyce\", \"Marziale\", \"Massa\", \"D'albe\", \"Massa\", \"D'albe!\", \"Massimiliano\", \"Mazurka\", \"Mercedes\", \"Messer\", \"Ludovico\", \"Metamorphoseon\", \"Miano\", \"Michelangelo\", \"Miching\", \"Miching\", \"Mallecho\", \"Micigliano\", \"Miranda\", \"Mitilene\", \"Moceto\", \"Mona\", \"Amorrosisca\", \"Monna\", \"Francesca\", \"Montate\", \"Monte\", \"Mario\", \"Monte\", \"Pincio\", \"Monte\", \"Testaccio\", \"Montecassino\", \"Montecitorio\", \"Al\", \"Corso\", \"Montpensier\", \"Montughi\", \"Moreau\", \"Morella\", \"Del\", \"Caligàro\", \"Mosè\", \"Mount\", \"Edgcumbe\", \"Mozart\", \"Mumps\", \"Murano\", \"Muriella\", \"Musellaro\", \"Musèllaro\", \"Muti\", \"Muzio\", \"Clementi\", \"N'\", \"Napoli\", \"Nazionale\", \"Nazzarri\", \"Nelly\", \"O'\", \"Brien\", \"Nemico\", \"Niccolò\", \"Niccoli\", \"Ninì\", \"Ninì\", \"Santamarta\", \"Obermann\", \"Ofelia\", \"Omero\", \"Onesti\", \"Onna\", \"Ippolita\", \"Orse\", \"Orvieto\", \"Ostia\", \"Ovidio\", \"Padmavati\", \"Paisiello\", \"Palazzo\", \"Barberini\", \"Palazzo\", \"Chigi\", \"Palazzo\", \"De'\", \"Sabini\", \"Palazzo\", \"Dei\", \"Sabini\", \"Palazzo\", \"Del\", \"Re\", \"Palazzo\", \"Della\", \"Consulta\", \"Palazzo\", \"Farnese\", \"Palazzo\", \"Roccagiovine\", \"Palazzo\", \"Zuccari\", \"Palermo\", \"Pall\", \"Mall\", \"Gazette\", \"Pallade\", \"Pandora\", \"D'alma\", \"Tadema\", \"Pandora\", \"Infeconda\", \"Paolo\", \"Caligàro\", \"Paolo\", \"Veronese\", \"Papa\", \"Giulio\", \"Ii\", \"Parigi\", \"Parlamento\", \"Parma\", \"Parmigiano\", \"Peek-Frean\", \"Penetrarsi\", \"Pepe\", \"Percy\", \"Percy\", \"Bysshe\", \"Shelley\", \"Percy\", \"Shelley\", \"Pericle\", \"Perseo\", \"Persia\", \"Perugia\", \"Perugino\", \"Petrarca\", \"Petronio\", \"Piazza\", \"Barberini\", \"Piazza\", \"Colonna\", \"Piazza\", \"Del\", \"Popolo\", \"Piazza\", \"Del\", \"Quirinale\", \"Piazza\", \"Della\", \"Piazza\", \"Della\", \"Trinità\", \"Piazza\", \"Di\", \"Montecitorio\", \"Piazza\", \"Di\", \"Spagna\", \"Piazza\", \"Di\", \"Termini\", \"Piazza\", \"Di\", \"Venezia\", \"Piazza\", \"Mignanelli\", \"Piazzetta\", \"Mignanelli\", \"Piccola\", \"Dama\", \"Piedestalli\", \"Piero\", \"Di\", \"Cosimo\", \"Pietro\", \"Aretino\", \"Pietro\", \"Duranti\", \"Pietro\", \"Loar\", \"Pietro\", \"Paolo\", \"Rubens\", \"Pincio\", \"Pinturicchio\", \"Pio\", \"Vi\", \"Piranesi\", \"Pisa\", \"Pisces\", \"Pittura\", \"Policleto\", \"Pollajuolo\", \"Pompadour\", \"Pompei\", \"Ponte\", \"Del\", \"Convito\", \"Porta\", \"Chiusa\", \"Porta\", \"Pia\", \"Premunisciti\", \"Priamo\", \"Primaticcio\", \"Primitivi\", \"Principe\", \"Di\", \"Galles\", \"Psiche\", \"Quartetto\", \"Quattro\", \"Fontane\", \"Quattrocentisti\", \"Quattrocento\", \"Quintetti\", \"Quintetto\", \"Quirinale\", \"Raffaelli\", \"Raffaello\", \"Rameau\", \"Rarae\", \"Re\", \"Di\", \"Cipro\", \"Rea\", \"Silva\", \"Recollection\", \"Redgrave\", \"Reggente\", \"Rembrandt\", \"Requiem\", \"Restaurant\", \"Reynolds\", \"Riconobbe\", \"Donna\", \"Maria\", \"Ferres\", \"Riconstruir\", \"Rinascimento\", \"Ripa\", \"Grande\", \"Robert\", \"Schumann\", \"Roberto\", \"Casteldieri\", \"Roberto\", \"Schumann\", \"Roccagiovine\", \"Roma\", \"Roma\", \"Degli\", \"Imperatori\", \"Roma\", \"Delle\", \"Ville\", \"Rosa\", \"Rosa\", \"Linguatica\", \"Rose\", \"Rose\", \"Rose\", \"Rovigliano\", \"Rubens\", \"Ruggero\", \"Ruggero\", \"Ruggero\", \"Grimiti\", \"Rùtolo\", \"S.\", \"E.\", \"Il\", \"Ministro\", \"Sade\", \"Saffo\", \"Sagan\", \"Sakumi\", \"Sal\", \"Y\", \"Pimienta\", \"Salì\", \"Salieri\", \"Saliva\", \"Salmace\", \"Salutami\", \"Donna\", \"Giulia\", \"Salutazione\", \"Angelica\", \"San\", \"Bernardino\", \"San\", \"Dionigi\", \"San\", \"Francesco\", \"San\", \"Giorgio\", \"In\", \"Velabro\", \"San\", \"Giovanni\", \"San\", \"Martino\", \"San\", \"Paolo\", \"San\", \"Remo\", \"San\", \"Sebastianello\", \"San\", \"Silvestro\", \"San\", \"Sulpizio\", \"Sandro\", \"Botticelli\", \"Sant'isidoro\", \"Santa\", \"Margherita\", \"Santa\", \"Maria\", \"Del\", \"Priorato\", \"Santa\", \"Maria\", \"In\", \"Cosmedin\", \"Santa\", \"Maria\", \"Maggiore\", \"Santa\", \"Maria\", \"Novella\", \"Santa\", \"Prisca\", \"Santa\", \"Sabina\", \"Sante\", \"Sanzio\", \"Sardi\", \"Scerni\", \"Schifanoja\", \"Schumann\", \"Sciampagna\", \"Scita\", \"Scorpione\", \"Scorpius\", \"Sebastiano\", \"Bach\", \"Secìnaro\", \"Selene\", \"Servio\", \"Settecento\", \"Settemplice\", \"Sfingi\", \"Shaftesbury\", \"Shelley\", \"Siam\", \"Sibylla\", \"Palmifera\", \"Siena\", \"Sigismondo\", \"Malatesta\", \"Signoria\", \"Di\", \"Firenze\", \"Sileno\", \"Silvandri\", \"Simone\", \"Sir\", \"Frederick\", \"Leiyhton\", \"Sirene\", \"Siviglia\", \"Sofia\", \"Vanloo\", \"Sole\", \"Sommessione\", \"Sonate-Fantasie\", \"Sperelli\", \"Starnina\", \"Stazione\", \"Di\", \"Rovigliano\", \"Stefano\", \"Stefano\", \"Sperelli\", \"Stellt\", \"Auch\", \"Der\", \"Dritte\", \"Sich\", \"Stephen\", \"Strada\", \"Di\", \"Schifanoja\", \"Stras\", \"Strasburgo\", \"Stringendole\", \"Stroganow\", \"Stubbs\", \"Stuoli\", \"Di\", \"Sagittarii\", \"Taddeo\", \"Teatro\", \"Teatro\", \"Nazionale\", \"Teatro\", \"Valle\", \"Teofilo\", \"Gautier\", \"Terenzio\", \"Terme\", \"Termini\", \"Tevere\", \"Tevere\", \"Lucido\", \"Thomas\", \"Lawrence\", \"Tibi\", \"Tibullo\", \"Tifone\", \"Tiziani\", \"Tiziano\", \"Torre\", \"Delle\", \"Milizie\", \"Toscana\", \"Toschi\", \"Tre\", \"Fontane\", \"Trecentisti\", \"Trelawny\", \"Tremava\", \"Tremo\", \"Trinità\", \"Trino\", \"Tritone\", \"Tu\", \"Giorgio\", \"Ugenta\", \"Urbe\", \"Valentino\", \"Van\", \"Dyck\", \"Van\", \"Huffel\", \"Vaticano\", \"Venere\", \"Venere\", \"Afrodite\", \"Venezia\", \"Vergine\", \"Vergini\", \"Verrocchio\", \"Via\", \"De'\", \"Condotti\", \"Via\", \"De'\", \"Due\", \"Macelli\", \"Via\", \"Dei\", \"Condotti\", \"Via\", \"Dei\", \"Due\", \"Macelli\", \"Via\", \"Del\", \"Babuino\", \"Via\", \"Del\", \"Quirinale\", \"Via\", \"Del\", \"Tritone\", \"Via\", \"Delle\", \"Quattro\", \"Fontane\", \"Via\", \"Frattina\", \"Via\", \"Gregoriana\", \"Via\", \"Lattea\", \"Via\", \"Nazionale\", \"Via\", \"Nomentana\", \"Via\", \"Rasella\", \"Via\", \"Sistina\", \"Viale\", \"De'\", \"Lauri!\", \"Vicomìle\", \"Vide\", \"Vieux\", \"Cognac\", \"Vignola\", \"Villa\", \"Albani\", \"Villa\", \"Aldobrandini\", \"Villa\", \"Borghese\", \"Villa\", \"D'este\", \"Villa\", \"Di\", \"Schifanoja\", \"Villa\", \"Ludovisi\", \"Villa\", \"Maritima\", \"Villa\", \"Medici\", \"Villa\", \"Mondragone\", \"Villa\", \"Pamphily\", \"Villa\", \"Sciarra\", \"Vinci\", \"Violante\", \"Viti\", \"Volfango\", \"Mozart\", \"Volterra\", \"Waki-Zashi\", \"Watteau\", \"West-End\", \"Wolfgang\", \"Zodiaco\", \"Zuccari\"])\n",
    "\n",
    "topic_model = BERTopic(language=\"multilingual\", calculate_probabilities=True, verbose=True, vectorizer_model=vectorizer_model)"
   ]
  },
  {
   "cell_type": "code",
   "execution_count": 5,
   "metadata": {},
   "outputs": [
    {
     "data": {
      "application/vnd.jupyter.widget-view+json": {
       "model_id": "0cf271ff7ac647f08d4821953f360c58",
       "version_major": 2,
       "version_minor": 0
      },
      "text/plain": [
       "Batches:   0%|          | 0/47 [00:00<?, ?it/s]"
      ]
     },
     "metadata": {},
     "output_type": "display_data"
    },
    {
     "name": "stderr",
     "output_type": "stream",
     "text": [
      "2022-07-07 11:36:16,399 - BERTopic - Transformed documents to Embeddings\n",
      "2022-07-07 11:36:22,827 - BERTopic - Reduced dimensionality\n",
      "2022-07-07 11:36:22,968 - BERTopic - Clustered reduced embeddings\n"
     ]
    }
   ],
   "source": [
    "topics, probs = topic_model.fit_transform(piacere)"
   ]
  },
  {
   "cell_type": "code",
   "execution_count": 6,
   "metadata": {},
   "outputs": [
    {
     "data": {
      "text/html": [
       "<div>\n",
       "<style scoped>\n",
       "    .dataframe tbody tr th:only-of-type {\n",
       "        vertical-align: middle;\n",
       "    }\n",
       "\n",
       "    .dataframe tbody tr th {\n",
       "        vertical-align: top;\n",
       "    }\n",
       "\n",
       "    .dataframe thead th {\n",
       "        text-align: right;\n",
       "    }\n",
       "</style>\n",
       "<table border=\"1\" class=\"dataframe\">\n",
       "  <thead>\n",
       "    <tr style=\"text-align: right;\">\n",
       "      <th></th>\n",
       "      <th>Topic</th>\n",
       "      <th>Count</th>\n",
       "      <th>Name</th>\n",
       "    </tr>\n",
       "  </thead>\n",
       "  <tbody>\n",
       "    <tr>\n",
       "      <th>0</th>\n",
       "      <td>-1</td>\n",
       "      <td>612</td>\n",
       "      <td>-1_voce_amore_occhi_pareva</td>\n",
       "    </tr>\n",
       "    <tr>\n",
       "      <th>1</th>\n",
       "      <td>0</td>\n",
       "      <td>119</td>\n",
       "      <td>0_mano_bocca_amo_parole</td>\n",
       "    </tr>\n",
       "    <tr>\n",
       "      <th>2</th>\n",
       "      <td>1</td>\n",
       "      <td>88</td>\n",
       "      <td>1_anima_vita_dio_cuore</td>\n",
       "    </tr>\n",
       "    <tr>\n",
       "      <th>3</th>\n",
       "      <td>2</td>\n",
       "      <td>83</td>\n",
       "      <td>2_vita_anima_spirito_padre</td>\n",
       "    </tr>\n",
       "    <tr>\n",
       "      <th>4</th>\n",
       "      <td>3</td>\n",
       "      <td>69</td>\n",
       "      <td>3_addio_voce_taci_tua</td>\n",
       "    </tr>\n",
       "  </tbody>\n",
       "</table>\n",
       "</div>"
      ],
      "text/plain": [
       "   Topic  Count                        Name\n",
       "0     -1    612  -1_voce_amore_occhi_pareva\n",
       "1      0    119     0_mano_bocca_amo_parole\n",
       "2      1     88      1_anima_vita_dio_cuore\n",
       "3      2     83  2_vita_anima_spirito_padre\n",
       "4      3     69       3_addio_voce_taci_tua"
      ]
     },
     "execution_count": 6,
     "metadata": {},
     "output_type": "execute_result"
    }
   ],
   "source": [
    "freq = topic_model.get_topic_info(); freq.head(5)"
   ]
  },
  {
   "cell_type": "code",
   "execution_count": 7,
   "metadata": {},
   "outputs": [
    {
     "data": {
      "text/plain": [
       "[('mano', 0.0286959847372677),\n",
       " ('bocca', 0.02473298391259707),\n",
       " ('amo', 0.018923593159216632),\n",
       " ('parole', 0.01890369671834607),\n",
       " ('vostra', 0.01879305015357303),\n",
       " ('labbra', 0.018282244933738867),\n",
       " ('amore', 0.018210115711641786),\n",
       " ('rispose', 0.018199124584977897),\n",
       " ('cuore', 0.016566709846271326),\n",
       " ('voce', 0.01642126525332335)]"
      ]
     },
     "execution_count": 7,
     "metadata": {},
     "output_type": "execute_result"
    }
   ],
   "source": [
    "topic_model.get_topic(0)  # Select the most frequent topic"
   ]
  },
  {
   "cell_type": "code",
   "execution_count": 8,
   "metadata": {},
   "outputs": [
    {
     "data": {
      "application/vnd.plotly.v1+json": {
       "config": {
        "plotlyServerURL": "https://plotly.com"
       },
       "data": [
        {
         "customdata": [
          [
           1,
           "anima | vita | dio | cuore | volontà",
           88
          ],
          [
           2,
           "vita | anima | spirito | padre | forza",
           83
          ],
          [
           3,
           "addio | voce | taci | tua | hai",
           69
          ],
          [
           4,
           "occhi | testa | capelli | bocca | color",
           68
          ],
          [
           5,
           "cuore | sentiva | spirito | lacrime | passione",
           62
          ],
          [
           6,
           "cielo | acqua | verde | vento | alberi",
           46
          ],
          [
           7,
           "interruppe | ah | rispose | amici | baronessa",
           42
          ],
          [
           8,
           "inganno | be | thine | settembre | potessi",
           33
          ],
          [
           9,
           "terreno | guardia | vittoria | barone | botta",
           32
          ],
          [
           10,
           "libro | versi | secolo | libri | corte",
           32
          ],
          [
           11,
           "tratto | braccio | principessa | occhi | ricordava",
           28
          ],
          [
           12,
           "obelisco | città | cipressi | luce | giù",
           26
          ],
          [
           13,
           "tè | vendite | vaso | tappezzerie | vendita",
           25
          ],
          [
           14,
           "madre | vieni | parlava | voleva | mamma",
           24
          ],
          [
           15,
           "musica | pianoforte | sonata | do | esprimeva",
           23
          ],
          [
           16,
           "domani | nove | mezzogiorno | signor | medico",
           18
          ],
          [
           17,
           "cavalli | cavallo | corsa | rasente | scalpitavano",
           17
          ],
          [
           18,
           "carrozza | scale | gradino | giardino | entrò",
           17
          ],
          [
           19,
           "acido | ornato | partenza | istinto | artefice",
           11
          ],
          [
           20,
           "ricordi | ambedue | ultimo | tempo | guardate",
           10
          ]
         ],
         "hovertemplate": "<b>Topic %{customdata[0]}</b><br>Words: %{customdata[1]}<br>Size: %{customdata[2]}",
         "legendgroup": "",
         "marker": {
          "color": "#B0BEC5",
          "line": {
           "color": "DarkSlateGrey",
           "width": 2
          },
          "size": [
           88,
           83,
           69,
           68,
           62,
           46,
           42,
           33,
           32,
           32,
           28,
           26,
           25,
           24,
           23,
           18,
           17,
           17,
           11,
           10
          ],
          "sizemode": "area",
          "sizeref": 0.055,
          "symbol": "circle"
         },
         "mode": "markers",
         "name": "",
         "orientation": "v",
         "showlegend": false,
         "type": "scatter",
         "x": [
          10.051486,
          -0.1263245,
          8.226529,
          -0.6438938,
          -0.32286012,
          -2.4929326,
          18.6153,
          8.445442,
          17.882969,
          -1.0231888,
          18.124283,
          -2.6880019,
          -0.78211826,
          10.431926,
          0.29352766,
          8.443422,
          18.299076,
          8.780765,
          0.14846143,
          -0.40866587
         ],
         "xaxis": "x",
         "y": [
          15.009337,
          15.378832,
          15.729247,
          14.570255,
          15.232972,
          2.072782,
          -10.154422,
          15.362002,
          -9.347239,
          14.818112,
          -9.652685,
          2.2896533,
          14.38689,
          14.671001,
          15.900346,
          15.971561,
          -9.801728,
          15.659224,
          14.973815,
          15.628224
         ],
         "yaxis": "y"
        }
       ],
       "layout": {
        "annotations": [
         {
          "showarrow": false,
          "text": "D1",
          "x": -3.0912021517753603,
          "y": 3.3448552846908566,
          "yshift": 10
         },
         {
          "showarrow": false,
          "text": "D2",
          "x": 9.158195978403091,
          "xshift": 10,
          "y": 18.36729564666748
         }
        ],
        "height": 650,
        "hoverlabel": {
         "bgcolor": "white",
         "font": {
          "family": "Rockwell",
          "size": 16
         }
        },
        "legend": {
         "itemsizing": "constant",
         "tracegroupgap": 0
        },
        "margin": {
         "t": 60
        },
        "shapes": [
         {
          "line": {
           "color": "#CFD8DC",
           "width": 2
          },
          "type": "line",
          "x0": 9.158195978403091,
          "x1": 9.158195978403091,
          "y0": -11.677585077285766,
          "y1": 18.36729564666748
         },
         {
          "line": {
           "color": "#9E9E9E",
           "width": 2
          },
          "type": "line",
          "x0": -3.0912021517753603,
          "x1": 21.40759410858154,
          "y0": 3.3448552846908566,
          "y1": 3.3448552846908566
         }
        ],
        "sliders": [
         {
          "active": 0,
          "pad": {
           "t": 50
          },
          "steps": [
           {
            "args": [
             {
              "marker.color": [
               [
                "red",
                "#B0BEC5",
                "#B0BEC5",
                "#B0BEC5",
                "#B0BEC5",
                "#B0BEC5",
                "#B0BEC5",
                "#B0BEC5",
                "#B0BEC5",
                "#B0BEC5",
                "#B0BEC5",
                "#B0BEC5",
                "#B0BEC5",
                "#B0BEC5",
                "#B0BEC5",
                "#B0BEC5",
                "#B0BEC5",
                "#B0BEC5",
                "#B0BEC5",
                "#B0BEC5"
               ]
              ]
             }
            ],
            "label": "Topic 1",
            "method": "update"
           },
           {
            "args": [
             {
              "marker.color": [
               [
                "#B0BEC5",
                "red",
                "#B0BEC5",
                "#B0BEC5",
                "#B0BEC5",
                "#B0BEC5",
                "#B0BEC5",
                "#B0BEC5",
                "#B0BEC5",
                "#B0BEC5",
                "#B0BEC5",
                "#B0BEC5",
                "#B0BEC5",
                "#B0BEC5",
                "#B0BEC5",
                "#B0BEC5",
                "#B0BEC5",
                "#B0BEC5",
                "#B0BEC5",
                "#B0BEC5"
               ]
              ]
             }
            ],
            "label": "Topic 2",
            "method": "update"
           },
           {
            "args": [
             {
              "marker.color": [
               [
                "#B0BEC5",
                "#B0BEC5",
                "red",
                "#B0BEC5",
                "#B0BEC5",
                "#B0BEC5",
                "#B0BEC5",
                "#B0BEC5",
                "#B0BEC5",
                "#B0BEC5",
                "#B0BEC5",
                "#B0BEC5",
                "#B0BEC5",
                "#B0BEC5",
                "#B0BEC5",
                "#B0BEC5",
                "#B0BEC5",
                "#B0BEC5",
                "#B0BEC5",
                "#B0BEC5"
               ]
              ]
             }
            ],
            "label": "Topic 3",
            "method": "update"
           },
           {
            "args": [
             {
              "marker.color": [
               [
                "#B0BEC5",
                "#B0BEC5",
                "#B0BEC5",
                "red",
                "#B0BEC5",
                "#B0BEC5",
                "#B0BEC5",
                "#B0BEC5",
                "#B0BEC5",
                "#B0BEC5",
                "#B0BEC5",
                "#B0BEC5",
                "#B0BEC5",
                "#B0BEC5",
                "#B0BEC5",
                "#B0BEC5",
                "#B0BEC5",
                "#B0BEC5",
                "#B0BEC5",
                "#B0BEC5"
               ]
              ]
             }
            ],
            "label": "Topic 4",
            "method": "update"
           },
           {
            "args": [
             {
              "marker.color": [
               [
                "#B0BEC5",
                "#B0BEC5",
                "#B0BEC5",
                "#B0BEC5",
                "red",
                "#B0BEC5",
                "#B0BEC5",
                "#B0BEC5",
                "#B0BEC5",
                "#B0BEC5",
                "#B0BEC5",
                "#B0BEC5",
                "#B0BEC5",
                "#B0BEC5",
                "#B0BEC5",
                "#B0BEC5",
                "#B0BEC5",
                "#B0BEC5",
                "#B0BEC5",
                "#B0BEC5"
               ]
              ]
             }
            ],
            "label": "Topic 5",
            "method": "update"
           },
           {
            "args": [
             {
              "marker.color": [
               [
                "#B0BEC5",
                "#B0BEC5",
                "#B0BEC5",
                "#B0BEC5",
                "#B0BEC5",
                "red",
                "#B0BEC5",
                "#B0BEC5",
                "#B0BEC5",
                "#B0BEC5",
                "#B0BEC5",
                "#B0BEC5",
                "#B0BEC5",
                "#B0BEC5",
                "#B0BEC5",
                "#B0BEC5",
                "#B0BEC5",
                "#B0BEC5",
                "#B0BEC5",
                "#B0BEC5"
               ]
              ]
             }
            ],
            "label": "Topic 6",
            "method": "update"
           },
           {
            "args": [
             {
              "marker.color": [
               [
                "#B0BEC5",
                "#B0BEC5",
                "#B0BEC5",
                "#B0BEC5",
                "#B0BEC5",
                "#B0BEC5",
                "red",
                "#B0BEC5",
                "#B0BEC5",
                "#B0BEC5",
                "#B0BEC5",
                "#B0BEC5",
                "#B0BEC5",
                "#B0BEC5",
                "#B0BEC5",
                "#B0BEC5",
                "#B0BEC5",
                "#B0BEC5",
                "#B0BEC5",
                "#B0BEC5"
               ]
              ]
             }
            ],
            "label": "Topic 7",
            "method": "update"
           },
           {
            "args": [
             {
              "marker.color": [
               [
                "#B0BEC5",
                "#B0BEC5",
                "#B0BEC5",
                "#B0BEC5",
                "#B0BEC5",
                "#B0BEC5",
                "#B0BEC5",
                "red",
                "#B0BEC5",
                "#B0BEC5",
                "#B0BEC5",
                "#B0BEC5",
                "#B0BEC5",
                "#B0BEC5",
                "#B0BEC5",
                "#B0BEC5",
                "#B0BEC5",
                "#B0BEC5",
                "#B0BEC5",
                "#B0BEC5"
               ]
              ]
             }
            ],
            "label": "Topic 8",
            "method": "update"
           },
           {
            "args": [
             {
              "marker.color": [
               [
                "#B0BEC5",
                "#B0BEC5",
                "#B0BEC5",
                "#B0BEC5",
                "#B0BEC5",
                "#B0BEC5",
                "#B0BEC5",
                "#B0BEC5",
                "red",
                "#B0BEC5",
                "#B0BEC5",
                "#B0BEC5",
                "#B0BEC5",
                "#B0BEC5",
                "#B0BEC5",
                "#B0BEC5",
                "#B0BEC5",
                "#B0BEC5",
                "#B0BEC5",
                "#B0BEC5"
               ]
              ]
             }
            ],
            "label": "Topic 9",
            "method": "update"
           },
           {
            "args": [
             {
              "marker.color": [
               [
                "#B0BEC5",
                "#B0BEC5",
                "#B0BEC5",
                "#B0BEC5",
                "#B0BEC5",
                "#B0BEC5",
                "#B0BEC5",
                "#B0BEC5",
                "#B0BEC5",
                "red",
                "#B0BEC5",
                "#B0BEC5",
                "#B0BEC5",
                "#B0BEC5",
                "#B0BEC5",
                "#B0BEC5",
                "#B0BEC5",
                "#B0BEC5",
                "#B0BEC5",
                "#B0BEC5"
               ]
              ]
             }
            ],
            "label": "Topic 10",
            "method": "update"
           },
           {
            "args": [
             {
              "marker.color": [
               [
                "#B0BEC5",
                "#B0BEC5",
                "#B0BEC5",
                "#B0BEC5",
                "#B0BEC5",
                "#B0BEC5",
                "#B0BEC5",
                "#B0BEC5",
                "#B0BEC5",
                "#B0BEC5",
                "red",
                "#B0BEC5",
                "#B0BEC5",
                "#B0BEC5",
                "#B0BEC5",
                "#B0BEC5",
                "#B0BEC5",
                "#B0BEC5",
                "#B0BEC5",
                "#B0BEC5"
               ]
              ]
             }
            ],
            "label": "Topic 11",
            "method": "update"
           },
           {
            "args": [
             {
              "marker.color": [
               [
                "#B0BEC5",
                "#B0BEC5",
                "#B0BEC5",
                "#B0BEC5",
                "#B0BEC5",
                "#B0BEC5",
                "#B0BEC5",
                "#B0BEC5",
                "#B0BEC5",
                "#B0BEC5",
                "#B0BEC5",
                "red",
                "#B0BEC5",
                "#B0BEC5",
                "#B0BEC5",
                "#B0BEC5",
                "#B0BEC5",
                "#B0BEC5",
                "#B0BEC5",
                "#B0BEC5"
               ]
              ]
             }
            ],
            "label": "Topic 12",
            "method": "update"
           },
           {
            "args": [
             {
              "marker.color": [
               [
                "#B0BEC5",
                "#B0BEC5",
                "#B0BEC5",
                "#B0BEC5",
                "#B0BEC5",
                "#B0BEC5",
                "#B0BEC5",
                "#B0BEC5",
                "#B0BEC5",
                "#B0BEC5",
                "#B0BEC5",
                "#B0BEC5",
                "red",
                "#B0BEC5",
                "#B0BEC5",
                "#B0BEC5",
                "#B0BEC5",
                "#B0BEC5",
                "#B0BEC5",
                "#B0BEC5"
               ]
              ]
             }
            ],
            "label": "Topic 13",
            "method": "update"
           },
           {
            "args": [
             {
              "marker.color": [
               [
                "#B0BEC5",
                "#B0BEC5",
                "#B0BEC5",
                "#B0BEC5",
                "#B0BEC5",
                "#B0BEC5",
                "#B0BEC5",
                "#B0BEC5",
                "#B0BEC5",
                "#B0BEC5",
                "#B0BEC5",
                "#B0BEC5",
                "#B0BEC5",
                "red",
                "#B0BEC5",
                "#B0BEC5",
                "#B0BEC5",
                "#B0BEC5",
                "#B0BEC5",
                "#B0BEC5"
               ]
              ]
             }
            ],
            "label": "Topic 14",
            "method": "update"
           },
           {
            "args": [
             {
              "marker.color": [
               [
                "#B0BEC5",
                "#B0BEC5",
                "#B0BEC5",
                "#B0BEC5",
                "#B0BEC5",
                "#B0BEC5",
                "#B0BEC5",
                "#B0BEC5",
                "#B0BEC5",
                "#B0BEC5",
                "#B0BEC5",
                "#B0BEC5",
                "#B0BEC5",
                "#B0BEC5",
                "red",
                "#B0BEC5",
                "#B0BEC5",
                "#B0BEC5",
                "#B0BEC5",
                "#B0BEC5"
               ]
              ]
             }
            ],
            "label": "Topic 15",
            "method": "update"
           },
           {
            "args": [
             {
              "marker.color": [
               [
                "#B0BEC5",
                "#B0BEC5",
                "#B0BEC5",
                "#B0BEC5",
                "#B0BEC5",
                "#B0BEC5",
                "#B0BEC5",
                "#B0BEC5",
                "#B0BEC5",
                "#B0BEC5",
                "#B0BEC5",
                "#B0BEC5",
                "#B0BEC5",
                "#B0BEC5",
                "#B0BEC5",
                "red",
                "#B0BEC5",
                "#B0BEC5",
                "#B0BEC5",
                "#B0BEC5"
               ]
              ]
             }
            ],
            "label": "Topic 16",
            "method": "update"
           },
           {
            "args": [
             {
              "marker.color": [
               [
                "#B0BEC5",
                "#B0BEC5",
                "#B0BEC5",
                "#B0BEC5",
                "#B0BEC5",
                "#B0BEC5",
                "#B0BEC5",
                "#B0BEC5",
                "#B0BEC5",
                "#B0BEC5",
                "#B0BEC5",
                "#B0BEC5",
                "#B0BEC5",
                "#B0BEC5",
                "#B0BEC5",
                "#B0BEC5",
                "red",
                "#B0BEC5",
                "#B0BEC5",
                "#B0BEC5"
               ]
              ]
             }
            ],
            "label": "Topic 17",
            "method": "update"
           },
           {
            "args": [
             {
              "marker.color": [
               [
                "#B0BEC5",
                "#B0BEC5",
                "#B0BEC5",
                "#B0BEC5",
                "#B0BEC5",
                "#B0BEC5",
                "#B0BEC5",
                "#B0BEC5",
                "#B0BEC5",
                "#B0BEC5",
                "#B0BEC5",
                "#B0BEC5",
                "#B0BEC5",
                "#B0BEC5",
                "#B0BEC5",
                "#B0BEC5",
                "#B0BEC5",
                "red",
                "#B0BEC5",
                "#B0BEC5"
               ]
              ]
             }
            ],
            "label": "Topic 18",
            "method": "update"
           },
           {
            "args": [
             {
              "marker.color": [
               [
                "#B0BEC5",
                "#B0BEC5",
                "#B0BEC5",
                "#B0BEC5",
                "#B0BEC5",
                "#B0BEC5",
                "#B0BEC5",
                "#B0BEC5",
                "#B0BEC5",
                "#B0BEC5",
                "#B0BEC5",
                "#B0BEC5",
                "#B0BEC5",
                "#B0BEC5",
                "#B0BEC5",
                "#B0BEC5",
                "#B0BEC5",
                "#B0BEC5",
                "red",
                "#B0BEC5"
               ]
              ]
             }
            ],
            "label": "Topic 19",
            "method": "update"
           },
           {
            "args": [
             {
              "marker.color": [
               [
                "#B0BEC5",
                "#B0BEC5",
                "#B0BEC5",
                "#B0BEC5",
                "#B0BEC5",
                "#B0BEC5",
                "#B0BEC5",
                "#B0BEC5",
                "#B0BEC5",
                "#B0BEC5",
                "#B0BEC5",
                "#B0BEC5",
                "#B0BEC5",
                "#B0BEC5",
                "#B0BEC5",
                "#B0BEC5",
                "#B0BEC5",
                "#B0BEC5",
                "#B0BEC5",
                "red"
               ]
              ]
             }
            ],
            "label": "Topic 20",
            "method": "update"
           }
          ]
         }
        ],
        "template": {
         "data": {
          "bar": [
           {
            "error_x": {
             "color": "rgb(36,36,36)"
            },
            "error_y": {
             "color": "rgb(36,36,36)"
            },
            "marker": {
             "line": {
              "color": "white",
              "width": 0.5
             },
             "pattern": {
              "fillmode": "overlay",
              "size": 10,
              "solidity": 0.2
             }
            },
            "type": "bar"
           }
          ],
          "barpolar": [
           {
            "marker": {
             "line": {
              "color": "white",
              "width": 0.5
             },
             "pattern": {
              "fillmode": "overlay",
              "size": 10,
              "solidity": 0.2
             }
            },
            "type": "barpolar"
           }
          ],
          "carpet": [
           {
            "aaxis": {
             "endlinecolor": "rgb(36,36,36)",
             "gridcolor": "white",
             "linecolor": "white",
             "minorgridcolor": "white",
             "startlinecolor": "rgb(36,36,36)"
            },
            "baxis": {
             "endlinecolor": "rgb(36,36,36)",
             "gridcolor": "white",
             "linecolor": "white",
             "minorgridcolor": "white",
             "startlinecolor": "rgb(36,36,36)"
            },
            "type": "carpet"
           }
          ],
          "choropleth": [
           {
            "colorbar": {
             "outlinewidth": 1,
             "tickcolor": "rgb(36,36,36)",
             "ticks": "outside"
            },
            "type": "choropleth"
           }
          ],
          "contour": [
           {
            "colorbar": {
             "outlinewidth": 1,
             "tickcolor": "rgb(36,36,36)",
             "ticks": "outside"
            },
            "colorscale": [
             [
              0,
              "#440154"
             ],
             [
              0.1111111111111111,
              "#482878"
             ],
             [
              0.2222222222222222,
              "#3e4989"
             ],
             [
              0.3333333333333333,
              "#31688e"
             ],
             [
              0.4444444444444444,
              "#26828e"
             ],
             [
              0.5555555555555556,
              "#1f9e89"
             ],
             [
              0.6666666666666666,
              "#35b779"
             ],
             [
              0.7777777777777778,
              "#6ece58"
             ],
             [
              0.8888888888888888,
              "#b5de2b"
             ],
             [
              1,
              "#fde725"
             ]
            ],
            "type": "contour"
           }
          ],
          "contourcarpet": [
           {
            "colorbar": {
             "outlinewidth": 1,
             "tickcolor": "rgb(36,36,36)",
             "ticks": "outside"
            },
            "type": "contourcarpet"
           }
          ],
          "heatmap": [
           {
            "colorbar": {
             "outlinewidth": 1,
             "tickcolor": "rgb(36,36,36)",
             "ticks": "outside"
            },
            "colorscale": [
             [
              0,
              "#440154"
             ],
             [
              0.1111111111111111,
              "#482878"
             ],
             [
              0.2222222222222222,
              "#3e4989"
             ],
             [
              0.3333333333333333,
              "#31688e"
             ],
             [
              0.4444444444444444,
              "#26828e"
             ],
             [
              0.5555555555555556,
              "#1f9e89"
             ],
             [
              0.6666666666666666,
              "#35b779"
             ],
             [
              0.7777777777777778,
              "#6ece58"
             ],
             [
              0.8888888888888888,
              "#b5de2b"
             ],
             [
              1,
              "#fde725"
             ]
            ],
            "type": "heatmap"
           }
          ],
          "heatmapgl": [
           {
            "colorbar": {
             "outlinewidth": 1,
             "tickcolor": "rgb(36,36,36)",
             "ticks": "outside"
            },
            "colorscale": [
             [
              0,
              "#440154"
             ],
             [
              0.1111111111111111,
              "#482878"
             ],
             [
              0.2222222222222222,
              "#3e4989"
             ],
             [
              0.3333333333333333,
              "#31688e"
             ],
             [
              0.4444444444444444,
              "#26828e"
             ],
             [
              0.5555555555555556,
              "#1f9e89"
             ],
             [
              0.6666666666666666,
              "#35b779"
             ],
             [
              0.7777777777777778,
              "#6ece58"
             ],
             [
              0.8888888888888888,
              "#b5de2b"
             ],
             [
              1,
              "#fde725"
             ]
            ],
            "type": "heatmapgl"
           }
          ],
          "histogram": [
           {
            "marker": {
             "line": {
              "color": "white",
              "width": 0.6
             }
            },
            "type": "histogram"
           }
          ],
          "histogram2d": [
           {
            "colorbar": {
             "outlinewidth": 1,
             "tickcolor": "rgb(36,36,36)",
             "ticks": "outside"
            },
            "colorscale": [
             [
              0,
              "#440154"
             ],
             [
              0.1111111111111111,
              "#482878"
             ],
             [
              0.2222222222222222,
              "#3e4989"
             ],
             [
              0.3333333333333333,
              "#31688e"
             ],
             [
              0.4444444444444444,
              "#26828e"
             ],
             [
              0.5555555555555556,
              "#1f9e89"
             ],
             [
              0.6666666666666666,
              "#35b779"
             ],
             [
              0.7777777777777778,
              "#6ece58"
             ],
             [
              0.8888888888888888,
              "#b5de2b"
             ],
             [
              1,
              "#fde725"
             ]
            ],
            "type": "histogram2d"
           }
          ],
          "histogram2dcontour": [
           {
            "colorbar": {
             "outlinewidth": 1,
             "tickcolor": "rgb(36,36,36)",
             "ticks": "outside"
            },
            "colorscale": [
             [
              0,
              "#440154"
             ],
             [
              0.1111111111111111,
              "#482878"
             ],
             [
              0.2222222222222222,
              "#3e4989"
             ],
             [
              0.3333333333333333,
              "#31688e"
             ],
             [
              0.4444444444444444,
              "#26828e"
             ],
             [
              0.5555555555555556,
              "#1f9e89"
             ],
             [
              0.6666666666666666,
              "#35b779"
             ],
             [
              0.7777777777777778,
              "#6ece58"
             ],
             [
              0.8888888888888888,
              "#b5de2b"
             ],
             [
              1,
              "#fde725"
             ]
            ],
            "type": "histogram2dcontour"
           }
          ],
          "mesh3d": [
           {
            "colorbar": {
             "outlinewidth": 1,
             "tickcolor": "rgb(36,36,36)",
             "ticks": "outside"
            },
            "type": "mesh3d"
           }
          ],
          "parcoords": [
           {
            "line": {
             "colorbar": {
              "outlinewidth": 1,
              "tickcolor": "rgb(36,36,36)",
              "ticks": "outside"
             }
            },
            "type": "parcoords"
           }
          ],
          "pie": [
           {
            "automargin": true,
            "type": "pie"
           }
          ],
          "scatter": [
           {
            "marker": {
             "colorbar": {
              "outlinewidth": 1,
              "tickcolor": "rgb(36,36,36)",
              "ticks": "outside"
             }
            },
            "type": "scatter"
           }
          ],
          "scatter3d": [
           {
            "line": {
             "colorbar": {
              "outlinewidth": 1,
              "tickcolor": "rgb(36,36,36)",
              "ticks": "outside"
             }
            },
            "marker": {
             "colorbar": {
              "outlinewidth": 1,
              "tickcolor": "rgb(36,36,36)",
              "ticks": "outside"
             }
            },
            "type": "scatter3d"
           }
          ],
          "scattercarpet": [
           {
            "marker": {
             "colorbar": {
              "outlinewidth": 1,
              "tickcolor": "rgb(36,36,36)",
              "ticks": "outside"
             }
            },
            "type": "scattercarpet"
           }
          ],
          "scattergeo": [
           {
            "marker": {
             "colorbar": {
              "outlinewidth": 1,
              "tickcolor": "rgb(36,36,36)",
              "ticks": "outside"
             }
            },
            "type": "scattergeo"
           }
          ],
          "scattergl": [
           {
            "marker": {
             "colorbar": {
              "outlinewidth": 1,
              "tickcolor": "rgb(36,36,36)",
              "ticks": "outside"
             }
            },
            "type": "scattergl"
           }
          ],
          "scattermapbox": [
           {
            "marker": {
             "colorbar": {
              "outlinewidth": 1,
              "tickcolor": "rgb(36,36,36)",
              "ticks": "outside"
             }
            },
            "type": "scattermapbox"
           }
          ],
          "scatterpolar": [
           {
            "marker": {
             "colorbar": {
              "outlinewidth": 1,
              "tickcolor": "rgb(36,36,36)",
              "ticks": "outside"
             }
            },
            "type": "scatterpolar"
           }
          ],
          "scatterpolargl": [
           {
            "marker": {
             "colorbar": {
              "outlinewidth": 1,
              "tickcolor": "rgb(36,36,36)",
              "ticks": "outside"
             }
            },
            "type": "scatterpolargl"
           }
          ],
          "scatterternary": [
           {
            "marker": {
             "colorbar": {
              "outlinewidth": 1,
              "tickcolor": "rgb(36,36,36)",
              "ticks": "outside"
             }
            },
            "type": "scatterternary"
           }
          ],
          "surface": [
           {
            "colorbar": {
             "outlinewidth": 1,
             "tickcolor": "rgb(36,36,36)",
             "ticks": "outside"
            },
            "colorscale": [
             [
              0,
              "#440154"
             ],
             [
              0.1111111111111111,
              "#482878"
             ],
             [
              0.2222222222222222,
              "#3e4989"
             ],
             [
              0.3333333333333333,
              "#31688e"
             ],
             [
              0.4444444444444444,
              "#26828e"
             ],
             [
              0.5555555555555556,
              "#1f9e89"
             ],
             [
              0.6666666666666666,
              "#35b779"
             ],
             [
              0.7777777777777778,
              "#6ece58"
             ],
             [
              0.8888888888888888,
              "#b5de2b"
             ],
             [
              1,
              "#fde725"
             ]
            ],
            "type": "surface"
           }
          ],
          "table": [
           {
            "cells": {
             "fill": {
              "color": "rgb(237,237,237)"
             },
             "line": {
              "color": "white"
             }
            },
            "header": {
             "fill": {
              "color": "rgb(217,217,217)"
             },
             "line": {
              "color": "white"
             }
            },
            "type": "table"
           }
          ]
         },
         "layout": {
          "annotationdefaults": {
           "arrowhead": 0,
           "arrowwidth": 1
          },
          "autotypenumbers": "strict",
          "coloraxis": {
           "colorbar": {
            "outlinewidth": 1,
            "tickcolor": "rgb(36,36,36)",
            "ticks": "outside"
           }
          },
          "colorscale": {
           "diverging": [
            [
             0,
             "rgb(103,0,31)"
            ],
            [
             0.1,
             "rgb(178,24,43)"
            ],
            [
             0.2,
             "rgb(214,96,77)"
            ],
            [
             0.3,
             "rgb(244,165,130)"
            ],
            [
             0.4,
             "rgb(253,219,199)"
            ],
            [
             0.5,
             "rgb(247,247,247)"
            ],
            [
             0.6,
             "rgb(209,229,240)"
            ],
            [
             0.7,
             "rgb(146,197,222)"
            ],
            [
             0.8,
             "rgb(67,147,195)"
            ],
            [
             0.9,
             "rgb(33,102,172)"
            ],
            [
             1,
             "rgb(5,48,97)"
            ]
           ],
           "sequential": [
            [
             0,
             "#440154"
            ],
            [
             0.1111111111111111,
             "#482878"
            ],
            [
             0.2222222222222222,
             "#3e4989"
            ],
            [
             0.3333333333333333,
             "#31688e"
            ],
            [
             0.4444444444444444,
             "#26828e"
            ],
            [
             0.5555555555555556,
             "#1f9e89"
            ],
            [
             0.6666666666666666,
             "#35b779"
            ],
            [
             0.7777777777777778,
             "#6ece58"
            ],
            [
             0.8888888888888888,
             "#b5de2b"
            ],
            [
             1,
             "#fde725"
            ]
           ],
           "sequentialminus": [
            [
             0,
             "#440154"
            ],
            [
             0.1111111111111111,
             "#482878"
            ],
            [
             0.2222222222222222,
             "#3e4989"
            ],
            [
             0.3333333333333333,
             "#31688e"
            ],
            [
             0.4444444444444444,
             "#26828e"
            ],
            [
             0.5555555555555556,
             "#1f9e89"
            ],
            [
             0.6666666666666666,
             "#35b779"
            ],
            [
             0.7777777777777778,
             "#6ece58"
            ],
            [
             0.8888888888888888,
             "#b5de2b"
            ],
            [
             1,
             "#fde725"
            ]
           ]
          },
          "colorway": [
           "#1F77B4",
           "#FF7F0E",
           "#2CA02C",
           "#D62728",
           "#9467BD",
           "#8C564B",
           "#E377C2",
           "#7F7F7F",
           "#BCBD22",
           "#17BECF"
          ],
          "font": {
           "color": "rgb(36,36,36)"
          },
          "geo": {
           "bgcolor": "white",
           "lakecolor": "white",
           "landcolor": "white",
           "showlakes": true,
           "showland": true,
           "subunitcolor": "white"
          },
          "hoverlabel": {
           "align": "left"
          },
          "hovermode": "closest",
          "mapbox": {
           "style": "light"
          },
          "paper_bgcolor": "white",
          "plot_bgcolor": "white",
          "polar": {
           "angularaxis": {
            "gridcolor": "rgb(232,232,232)",
            "linecolor": "rgb(36,36,36)",
            "showgrid": false,
            "showline": true,
            "ticks": "outside"
           },
           "bgcolor": "white",
           "radialaxis": {
            "gridcolor": "rgb(232,232,232)",
            "linecolor": "rgb(36,36,36)",
            "showgrid": false,
            "showline": true,
            "ticks": "outside"
           }
          },
          "scene": {
           "xaxis": {
            "backgroundcolor": "white",
            "gridcolor": "rgb(232,232,232)",
            "gridwidth": 2,
            "linecolor": "rgb(36,36,36)",
            "showbackground": true,
            "showgrid": false,
            "showline": true,
            "ticks": "outside",
            "zeroline": false,
            "zerolinecolor": "rgb(36,36,36)"
           },
           "yaxis": {
            "backgroundcolor": "white",
            "gridcolor": "rgb(232,232,232)",
            "gridwidth": 2,
            "linecolor": "rgb(36,36,36)",
            "showbackground": true,
            "showgrid": false,
            "showline": true,
            "ticks": "outside",
            "zeroline": false,
            "zerolinecolor": "rgb(36,36,36)"
           },
           "zaxis": {
            "backgroundcolor": "white",
            "gridcolor": "rgb(232,232,232)",
            "gridwidth": 2,
            "linecolor": "rgb(36,36,36)",
            "showbackground": true,
            "showgrid": false,
            "showline": true,
            "ticks": "outside",
            "zeroline": false,
            "zerolinecolor": "rgb(36,36,36)"
           }
          },
          "shapedefaults": {
           "fillcolor": "black",
           "line": {
            "width": 0
           },
           "opacity": 0.3
          },
          "ternary": {
           "aaxis": {
            "gridcolor": "rgb(232,232,232)",
            "linecolor": "rgb(36,36,36)",
            "showgrid": false,
            "showline": true,
            "ticks": "outside"
           },
           "baxis": {
            "gridcolor": "rgb(232,232,232)",
            "linecolor": "rgb(36,36,36)",
            "showgrid": false,
            "showline": true,
            "ticks": "outside"
           },
           "bgcolor": "white",
           "caxis": {
            "gridcolor": "rgb(232,232,232)",
            "linecolor": "rgb(36,36,36)",
            "showgrid": false,
            "showline": true,
            "ticks": "outside"
           }
          },
          "title": {
           "x": 0.05
          },
          "xaxis": {
           "automargin": true,
           "gridcolor": "rgb(232,232,232)",
           "linecolor": "rgb(36,36,36)",
           "showgrid": false,
           "showline": true,
           "ticks": "outside",
           "title": {
            "standoff": 15
           },
           "zeroline": false,
           "zerolinecolor": "rgb(36,36,36)"
          },
          "yaxis": {
           "automargin": true,
           "gridcolor": "rgb(232,232,232)",
           "linecolor": "rgb(36,36,36)",
           "showgrid": false,
           "showline": true,
           "ticks": "outside",
           "title": {
            "standoff": 15
           },
           "zeroline": false,
           "zerolinecolor": "rgb(36,36,36)"
          }
         }
        },
        "title": {
         "font": {
          "color": "Black",
          "size": 22
         },
         "text": "<b>Intertopic Distance Map",
         "x": 0.5,
         "xanchor": "center",
         "y": 0.95,
         "yanchor": "top"
        },
        "width": 650,
        "xaxis": {
         "anchor": "y",
         "domain": [
          0,
          1
         ],
         "range": [
          -3.0912021517753603,
          21.40759410858154
         ],
         "title": {
          "text": ""
         },
         "visible": false
        },
        "yaxis": {
         "anchor": "x",
         "domain": [
          0,
          1
         ],
         "range": [
          -11.677585077285766,
          18.36729564666748
         ],
         "title": {
          "text": ""
         },
         "visible": false
        }
       }
      }
     },
     "metadata": {},
     "output_type": "display_data"
    },
    {
     "data": {
      "application/vnd.plotly.v1+json": {
       "config": {
        "plotlyServerURL": "https://plotly.com"
       },
       "data": [
        {
         "marker": {
          "color": "#C8D2D7",
          "line": {
           "color": "#6E8484",
           "width": 1
          }
         },
         "orientation": "h",
         "type": "bar",
         "x": [
          0.020734443549656006,
          0.015346059002795112,
          0.018133903262433342,
          0.018623548504752847,
          0.13174831605978357,
          0.02825493720026486,
          0.017447124435022048,
          0.016945370021625935,
          0.01568550438314904,
          0.026463866541429747,
          0.025503329261846158,
          0.018939640510932564,
          0.03764943736969401,
          0.019102243655205874,
          0.02625365841583019,
          0.015391217815042841,
          0.017966207522757804,
          0.022479900849838672,
          0.023723877744376603,
          0.03511378940779607
         ],
         "y": [
          "<b>Topic 0</b>: mano_bocca_amo_parole_vo...",
          "<b>Topic 1</b>: anima_vita_dio_cuore_vol...",
          "<b>Topic 2</b>: vita_anima_spirito_padre...",
          "<b>Topic 3</b>: addio_voce_taci_tua_hai",
          "<b>Topic 4</b>: occhi_testa_capelli_bocc...",
          "<b>Topic 5</b>: cuore_sentiva_spirito_la...",
          "<b>Topic 6</b>: cielo_acqua_verde_vento_...",
          "<b>Topic 7</b>: interruppe_ah_rispose_am...",
          "<b>Topic 9</b>: terreno_guardia_vittoria...",
          "<b>Topic 10</b>: libro_versi_secolo_libr...",
          "<b>Topic 11</b>: tratto_braccio_principe...",
          "<b>Topic 12</b>: obelisco_città_cipressi...",
          "<b>Topic 13</b>: tè_vendite_vaso_tappezz...",
          "<b>Topic 14</b>: madre_vieni_parlava_vol...",
          "<b>Topic 15</b>: musica_pianoforte_sonat...",
          "<b>Topic 16</b>: domani_nove_mezzogiorno...",
          "<b>Topic 17</b>: cavalli_cavallo_corsa_r...",
          "<b>Topic 18</b>: carrozza_scale_gradino_...",
          "<b>Topic 19</b>: acido_ornato_partenza_i...",
          "<b>Topic 20</b>: ricordi_ambedue_ultimo_..."
         ]
        }
       ],
       "layout": {
        "height": 600,
        "hoverlabel": {
         "bgcolor": "white",
         "font": {
          "family": "Rockwell",
          "size": 16
         }
        },
        "template": {
         "data": {
          "bar": [
           {
            "error_x": {
             "color": "rgb(36,36,36)"
            },
            "error_y": {
             "color": "rgb(36,36,36)"
            },
            "marker": {
             "line": {
              "color": "white",
              "width": 0.5
             },
             "pattern": {
              "fillmode": "overlay",
              "size": 10,
              "solidity": 0.2
             }
            },
            "type": "bar"
           }
          ],
          "barpolar": [
           {
            "marker": {
             "line": {
              "color": "white",
              "width": 0.5
             },
             "pattern": {
              "fillmode": "overlay",
              "size": 10,
              "solidity": 0.2
             }
            },
            "type": "barpolar"
           }
          ],
          "carpet": [
           {
            "aaxis": {
             "endlinecolor": "rgb(36,36,36)",
             "gridcolor": "white",
             "linecolor": "white",
             "minorgridcolor": "white",
             "startlinecolor": "rgb(36,36,36)"
            },
            "baxis": {
             "endlinecolor": "rgb(36,36,36)",
             "gridcolor": "white",
             "linecolor": "white",
             "minorgridcolor": "white",
             "startlinecolor": "rgb(36,36,36)"
            },
            "type": "carpet"
           }
          ],
          "choropleth": [
           {
            "colorbar": {
             "outlinewidth": 1,
             "tickcolor": "rgb(36,36,36)",
             "ticks": "outside"
            },
            "type": "choropleth"
           }
          ],
          "contour": [
           {
            "colorbar": {
             "outlinewidth": 1,
             "tickcolor": "rgb(36,36,36)",
             "ticks": "outside"
            },
            "colorscale": [
             [
              0,
              "#440154"
             ],
             [
              0.1111111111111111,
              "#482878"
             ],
             [
              0.2222222222222222,
              "#3e4989"
             ],
             [
              0.3333333333333333,
              "#31688e"
             ],
             [
              0.4444444444444444,
              "#26828e"
             ],
             [
              0.5555555555555556,
              "#1f9e89"
             ],
             [
              0.6666666666666666,
              "#35b779"
             ],
             [
              0.7777777777777778,
              "#6ece58"
             ],
             [
              0.8888888888888888,
              "#b5de2b"
             ],
             [
              1,
              "#fde725"
             ]
            ],
            "type": "contour"
           }
          ],
          "contourcarpet": [
           {
            "colorbar": {
             "outlinewidth": 1,
             "tickcolor": "rgb(36,36,36)",
             "ticks": "outside"
            },
            "type": "contourcarpet"
           }
          ],
          "heatmap": [
           {
            "colorbar": {
             "outlinewidth": 1,
             "tickcolor": "rgb(36,36,36)",
             "ticks": "outside"
            },
            "colorscale": [
             [
              0,
              "#440154"
             ],
             [
              0.1111111111111111,
              "#482878"
             ],
             [
              0.2222222222222222,
              "#3e4989"
             ],
             [
              0.3333333333333333,
              "#31688e"
             ],
             [
              0.4444444444444444,
              "#26828e"
             ],
             [
              0.5555555555555556,
              "#1f9e89"
             ],
             [
              0.6666666666666666,
              "#35b779"
             ],
             [
              0.7777777777777778,
              "#6ece58"
             ],
             [
              0.8888888888888888,
              "#b5de2b"
             ],
             [
              1,
              "#fde725"
             ]
            ],
            "type": "heatmap"
           }
          ],
          "heatmapgl": [
           {
            "colorbar": {
             "outlinewidth": 1,
             "tickcolor": "rgb(36,36,36)",
             "ticks": "outside"
            },
            "colorscale": [
             [
              0,
              "#440154"
             ],
             [
              0.1111111111111111,
              "#482878"
             ],
             [
              0.2222222222222222,
              "#3e4989"
             ],
             [
              0.3333333333333333,
              "#31688e"
             ],
             [
              0.4444444444444444,
              "#26828e"
             ],
             [
              0.5555555555555556,
              "#1f9e89"
             ],
             [
              0.6666666666666666,
              "#35b779"
             ],
             [
              0.7777777777777778,
              "#6ece58"
             ],
             [
              0.8888888888888888,
              "#b5de2b"
             ],
             [
              1,
              "#fde725"
             ]
            ],
            "type": "heatmapgl"
           }
          ],
          "histogram": [
           {
            "marker": {
             "line": {
              "color": "white",
              "width": 0.6
             }
            },
            "type": "histogram"
           }
          ],
          "histogram2d": [
           {
            "colorbar": {
             "outlinewidth": 1,
             "tickcolor": "rgb(36,36,36)",
             "ticks": "outside"
            },
            "colorscale": [
             [
              0,
              "#440154"
             ],
             [
              0.1111111111111111,
              "#482878"
             ],
             [
              0.2222222222222222,
              "#3e4989"
             ],
             [
              0.3333333333333333,
              "#31688e"
             ],
             [
              0.4444444444444444,
              "#26828e"
             ],
             [
              0.5555555555555556,
              "#1f9e89"
             ],
             [
              0.6666666666666666,
              "#35b779"
             ],
             [
              0.7777777777777778,
              "#6ece58"
             ],
             [
              0.8888888888888888,
              "#b5de2b"
             ],
             [
              1,
              "#fde725"
             ]
            ],
            "type": "histogram2d"
           }
          ],
          "histogram2dcontour": [
           {
            "colorbar": {
             "outlinewidth": 1,
             "tickcolor": "rgb(36,36,36)",
             "ticks": "outside"
            },
            "colorscale": [
             [
              0,
              "#440154"
             ],
             [
              0.1111111111111111,
              "#482878"
             ],
             [
              0.2222222222222222,
              "#3e4989"
             ],
             [
              0.3333333333333333,
              "#31688e"
             ],
             [
              0.4444444444444444,
              "#26828e"
             ],
             [
              0.5555555555555556,
              "#1f9e89"
             ],
             [
              0.6666666666666666,
              "#35b779"
             ],
             [
              0.7777777777777778,
              "#6ece58"
             ],
             [
              0.8888888888888888,
              "#b5de2b"
             ],
             [
              1,
              "#fde725"
             ]
            ],
            "type": "histogram2dcontour"
           }
          ],
          "mesh3d": [
           {
            "colorbar": {
             "outlinewidth": 1,
             "tickcolor": "rgb(36,36,36)",
             "ticks": "outside"
            },
            "type": "mesh3d"
           }
          ],
          "parcoords": [
           {
            "line": {
             "colorbar": {
              "outlinewidth": 1,
              "tickcolor": "rgb(36,36,36)",
              "ticks": "outside"
             }
            },
            "type": "parcoords"
           }
          ],
          "pie": [
           {
            "automargin": true,
            "type": "pie"
           }
          ],
          "scatter": [
           {
            "marker": {
             "colorbar": {
              "outlinewidth": 1,
              "tickcolor": "rgb(36,36,36)",
              "ticks": "outside"
             }
            },
            "type": "scatter"
           }
          ],
          "scatter3d": [
           {
            "line": {
             "colorbar": {
              "outlinewidth": 1,
              "tickcolor": "rgb(36,36,36)",
              "ticks": "outside"
             }
            },
            "marker": {
             "colorbar": {
              "outlinewidth": 1,
              "tickcolor": "rgb(36,36,36)",
              "ticks": "outside"
             }
            },
            "type": "scatter3d"
           }
          ],
          "scattercarpet": [
           {
            "marker": {
             "colorbar": {
              "outlinewidth": 1,
              "tickcolor": "rgb(36,36,36)",
              "ticks": "outside"
             }
            },
            "type": "scattercarpet"
           }
          ],
          "scattergeo": [
           {
            "marker": {
             "colorbar": {
              "outlinewidth": 1,
              "tickcolor": "rgb(36,36,36)",
              "ticks": "outside"
             }
            },
            "type": "scattergeo"
           }
          ],
          "scattergl": [
           {
            "marker": {
             "colorbar": {
              "outlinewidth": 1,
              "tickcolor": "rgb(36,36,36)",
              "ticks": "outside"
             }
            },
            "type": "scattergl"
           }
          ],
          "scattermapbox": [
           {
            "marker": {
             "colorbar": {
              "outlinewidth": 1,
              "tickcolor": "rgb(36,36,36)",
              "ticks": "outside"
             }
            },
            "type": "scattermapbox"
           }
          ],
          "scatterpolar": [
           {
            "marker": {
             "colorbar": {
              "outlinewidth": 1,
              "tickcolor": "rgb(36,36,36)",
              "ticks": "outside"
             }
            },
            "type": "scatterpolar"
           }
          ],
          "scatterpolargl": [
           {
            "marker": {
             "colorbar": {
              "outlinewidth": 1,
              "tickcolor": "rgb(36,36,36)",
              "ticks": "outside"
             }
            },
            "type": "scatterpolargl"
           }
          ],
          "scatterternary": [
           {
            "marker": {
             "colorbar": {
              "outlinewidth": 1,
              "tickcolor": "rgb(36,36,36)",
              "ticks": "outside"
             }
            },
            "type": "scatterternary"
           }
          ],
          "surface": [
           {
            "colorbar": {
             "outlinewidth": 1,
             "tickcolor": "rgb(36,36,36)",
             "ticks": "outside"
            },
            "colorscale": [
             [
              0,
              "#440154"
             ],
             [
              0.1111111111111111,
              "#482878"
             ],
             [
              0.2222222222222222,
              "#3e4989"
             ],
             [
              0.3333333333333333,
              "#31688e"
             ],
             [
              0.4444444444444444,
              "#26828e"
             ],
             [
              0.5555555555555556,
              "#1f9e89"
             ],
             [
              0.6666666666666666,
              "#35b779"
             ],
             [
              0.7777777777777778,
              "#6ece58"
             ],
             [
              0.8888888888888888,
              "#b5de2b"
             ],
             [
              1,
              "#fde725"
             ]
            ],
            "type": "surface"
           }
          ],
          "table": [
           {
            "cells": {
             "fill": {
              "color": "rgb(237,237,237)"
             },
             "line": {
              "color": "white"
             }
            },
            "header": {
             "fill": {
              "color": "rgb(217,217,217)"
             },
             "line": {
              "color": "white"
             }
            },
            "type": "table"
           }
          ]
         },
         "layout": {
          "annotationdefaults": {
           "arrowhead": 0,
           "arrowwidth": 1
          },
          "autotypenumbers": "strict",
          "coloraxis": {
           "colorbar": {
            "outlinewidth": 1,
            "tickcolor": "rgb(36,36,36)",
            "ticks": "outside"
           }
          },
          "colorscale": {
           "diverging": [
            [
             0,
             "rgb(103,0,31)"
            ],
            [
             0.1,
             "rgb(178,24,43)"
            ],
            [
             0.2,
             "rgb(214,96,77)"
            ],
            [
             0.3,
             "rgb(244,165,130)"
            ],
            [
             0.4,
             "rgb(253,219,199)"
            ],
            [
             0.5,
             "rgb(247,247,247)"
            ],
            [
             0.6,
             "rgb(209,229,240)"
            ],
            [
             0.7,
             "rgb(146,197,222)"
            ],
            [
             0.8,
             "rgb(67,147,195)"
            ],
            [
             0.9,
             "rgb(33,102,172)"
            ],
            [
             1,
             "rgb(5,48,97)"
            ]
           ],
           "sequential": [
            [
             0,
             "#440154"
            ],
            [
             0.1111111111111111,
             "#482878"
            ],
            [
             0.2222222222222222,
             "#3e4989"
            ],
            [
             0.3333333333333333,
             "#31688e"
            ],
            [
             0.4444444444444444,
             "#26828e"
            ],
            [
             0.5555555555555556,
             "#1f9e89"
            ],
            [
             0.6666666666666666,
             "#35b779"
            ],
            [
             0.7777777777777778,
             "#6ece58"
            ],
            [
             0.8888888888888888,
             "#b5de2b"
            ],
            [
             1,
             "#fde725"
            ]
           ],
           "sequentialminus": [
            [
             0,
             "#440154"
            ],
            [
             0.1111111111111111,
             "#482878"
            ],
            [
             0.2222222222222222,
             "#3e4989"
            ],
            [
             0.3333333333333333,
             "#31688e"
            ],
            [
             0.4444444444444444,
             "#26828e"
            ],
            [
             0.5555555555555556,
             "#1f9e89"
            ],
            [
             0.6666666666666666,
             "#35b779"
            ],
            [
             0.7777777777777778,
             "#6ece58"
            ],
            [
             0.8888888888888888,
             "#b5de2b"
            ],
            [
             1,
             "#fde725"
            ]
           ]
          },
          "colorway": [
           "#1F77B4",
           "#FF7F0E",
           "#2CA02C",
           "#D62728",
           "#9467BD",
           "#8C564B",
           "#E377C2",
           "#7F7F7F",
           "#BCBD22",
           "#17BECF"
          ],
          "font": {
           "color": "rgb(36,36,36)"
          },
          "geo": {
           "bgcolor": "white",
           "lakecolor": "white",
           "landcolor": "white",
           "showlakes": true,
           "showland": true,
           "subunitcolor": "white"
          },
          "hoverlabel": {
           "align": "left"
          },
          "hovermode": "closest",
          "mapbox": {
           "style": "light"
          },
          "paper_bgcolor": "white",
          "plot_bgcolor": "white",
          "polar": {
           "angularaxis": {
            "gridcolor": "rgb(232,232,232)",
            "linecolor": "rgb(36,36,36)",
            "showgrid": false,
            "showline": true,
            "ticks": "outside"
           },
           "bgcolor": "white",
           "radialaxis": {
            "gridcolor": "rgb(232,232,232)",
            "linecolor": "rgb(36,36,36)",
            "showgrid": false,
            "showline": true,
            "ticks": "outside"
           }
          },
          "scene": {
           "xaxis": {
            "backgroundcolor": "white",
            "gridcolor": "rgb(232,232,232)",
            "gridwidth": 2,
            "linecolor": "rgb(36,36,36)",
            "showbackground": true,
            "showgrid": false,
            "showline": true,
            "ticks": "outside",
            "zeroline": false,
            "zerolinecolor": "rgb(36,36,36)"
           },
           "yaxis": {
            "backgroundcolor": "white",
            "gridcolor": "rgb(232,232,232)",
            "gridwidth": 2,
            "linecolor": "rgb(36,36,36)",
            "showbackground": true,
            "showgrid": false,
            "showline": true,
            "ticks": "outside",
            "zeroline": false,
            "zerolinecolor": "rgb(36,36,36)"
           },
           "zaxis": {
            "backgroundcolor": "white",
            "gridcolor": "rgb(232,232,232)",
            "gridwidth": 2,
            "linecolor": "rgb(36,36,36)",
            "showbackground": true,
            "showgrid": false,
            "showline": true,
            "ticks": "outside",
            "zeroline": false,
            "zerolinecolor": "rgb(36,36,36)"
           }
          },
          "shapedefaults": {
           "fillcolor": "black",
           "line": {
            "width": 0
           },
           "opacity": 0.3
          },
          "ternary": {
           "aaxis": {
            "gridcolor": "rgb(232,232,232)",
            "linecolor": "rgb(36,36,36)",
            "showgrid": false,
            "showline": true,
            "ticks": "outside"
           },
           "baxis": {
            "gridcolor": "rgb(232,232,232)",
            "linecolor": "rgb(36,36,36)",
            "showgrid": false,
            "showline": true,
            "ticks": "outside"
           },
           "bgcolor": "white",
           "caxis": {
            "gridcolor": "rgb(232,232,232)",
            "linecolor": "rgb(36,36,36)",
            "showgrid": false,
            "showline": true,
            "ticks": "outside"
           }
          },
          "title": {
           "x": 0.05
          },
          "xaxis": {
           "automargin": true,
           "gridcolor": "rgb(232,232,232)",
           "linecolor": "rgb(36,36,36)",
           "showgrid": false,
           "showline": true,
           "ticks": "outside",
           "title": {
            "standoff": 15
           },
           "zeroline": false,
           "zerolinecolor": "rgb(36,36,36)"
          },
          "yaxis": {
           "automargin": true,
           "gridcolor": "rgb(232,232,232)",
           "linecolor": "rgb(36,36,36)",
           "showgrid": false,
           "showline": true,
           "ticks": "outside",
           "title": {
            "standoff": 15
           },
           "zeroline": false,
           "zerolinecolor": "rgb(36,36,36)"
          }
         }
        },
        "title": {
         "font": {
          "color": "Black",
          "size": 22
         },
         "text": "<b>Topic Probability Distribution",
         "x": 0.5,
         "xanchor": "center",
         "y": 0.95,
         "yanchor": "top"
        },
        "width": 800,
        "xaxis": {
         "title": {
          "text": "Probability"
         }
        }
       }
      }
     },
     "metadata": {},
     "output_type": "display_data"
    },
    {
     "data": {
      "application/vnd.plotly.v1+json": {
       "config": {
        "plotlyServerURL": "https://plotly.com"
       },
       "data": [
        {
         "hoverinfo": "text",
         "marker": {
          "color": "rgb(61,153,112)"
         },
         "mode": "lines",
         "type": "scatter",
         "x": [
          0,
          0.1001708387055706,
          0.1001708387055706,
          0
         ],
         "xaxis": "x",
         "y": [
          -5,
          -5,
          -15,
          -15
         ],
         "yaxis": "y"
        },
        {
         "hoverinfo": "text",
         "marker": {
          "color": "rgb(61,153,112)"
         },
         "mode": "lines",
         "type": "scatter",
         "x": [
          0,
          0.15836750331612884,
          0.15836750331612884,
          0
         ],
         "xaxis": "x",
         "y": [
          -25,
          -25,
          -35,
          -35
         ],
         "yaxis": "y"
        },
        {
         "hoverinfo": "text",
         "marker": {
          "color": "rgb(61,153,112)"
         },
         "mode": "lines",
         "type": "scatter",
         "x": [
          0,
          0.1396801815631293,
          0.1396801815631293,
          0
         ],
         "xaxis": "x",
         "y": [
          -45,
          -45,
          -55,
          -55
         ],
         "yaxis": "y"
        },
        {
         "hoverinfo": "text",
         "marker": {
          "color": "rgb(61,153,112)"
         },
         "mode": "lines",
         "type": "scatter",
         "x": [
          0,
          0.09380642425361191,
          0.09380642425361191,
          0
         ],
         "xaxis": "x",
         "y": [
          -65,
          -65,
          -75,
          -75
         ],
         "yaxis": "y"
        },
        {
         "hoverinfo": "text",
         "marker": {
          "color": "rgb(61,153,112)"
         },
         "mode": "lines",
         "type": "scatter",
         "x": [
          0,
          0.11890231944622172,
          0.11890231944622172,
          0
         ],
         "xaxis": "x",
         "y": [
          -85,
          -85,
          -95,
          -95
         ],
         "yaxis": "y"
        },
        {
         "hoverinfo": "text",
         "marker": {
          "color": "rgb(61,153,112)"
         },
         "mode": "lines",
         "type": "scatter",
         "x": [
          0.09380642425361191,
          0.15862254150327193,
          0.15862254150327193,
          0.11890231944622172
         ],
         "xaxis": "x",
         "y": [
          -70,
          -70,
          -90,
          -90
         ],
         "yaxis": "y"
        },
        {
         "hoverinfo": "text",
         "marker": {
          "color": "rgb(61,153,112)"
         },
         "mode": "lines",
         "type": "scatter",
         "x": [
          0.1396801815631293,
          0.19042238900139524,
          0.19042238900139524,
          0.15862254150327193
         ],
         "xaxis": "x",
         "y": [
          -50,
          -50,
          -80,
          -80
         ],
         "yaxis": "y"
        },
        {
         "hoverinfo": "text",
         "marker": {
          "color": "rgb(61,153,112)"
         },
         "mode": "lines",
         "type": "scatter",
         "x": [
          0.15836750331612884,
          0.21557322720438962,
          0.21557322720438962,
          0.19042238900139524
         ],
         "xaxis": "x",
         "y": [
          -30,
          -30,
          -65,
          -65
         ],
         "yaxis": "y"
        },
        {
         "hoverinfo": "text",
         "marker": {
          "color": "rgb(61,153,112)"
         },
         "mode": "lines",
         "type": "scatter",
         "x": [
          0.1001708387055706,
          0.22620381159660344,
          0.22620381159660344,
          0.21557322720438962
         ],
         "xaxis": "x",
         "y": [
          -10,
          -10,
          -47.5,
          -47.5
         ],
         "yaxis": "y"
        },
        {
         "hoverinfo": "text",
         "marker": {
          "color": "rgb(61,153,112)"
         },
         "mode": "lines",
         "type": "scatter",
         "x": [
          0,
          0.3024983436265014,
          0.3024983436265014,
          0
         ],
         "xaxis": "x",
         "y": [
          -125,
          -125,
          -135,
          -135
         ],
         "yaxis": "y"
        },
        {
         "hoverinfo": "text",
         "marker": {
          "color": "rgb(61,153,112)"
         },
         "mode": "lines",
         "type": "scatter",
         "x": [
          0,
          0.32520903426464526,
          0.32520903426464526,
          0.3024983436265014
         ],
         "xaxis": "x",
         "y": [
          -115,
          -115,
          -130,
          -130
         ],
         "yaxis": "y"
        },
        {
         "hoverinfo": "text",
         "marker": {
          "color": "rgb(61,153,112)"
         },
         "mode": "lines",
         "type": "scatter",
         "x": [
          0,
          0.15548579284877365,
          0.15548579284877365,
          0
         ],
         "xaxis": "x",
         "y": [
          -165,
          -165,
          -175,
          -175
         ],
         "yaxis": "y"
        },
        {
         "hoverinfo": "text",
         "marker": {
          "color": "rgb(61,153,112)"
         },
         "mode": "lines",
         "type": "scatter",
         "x": [
          0,
          0.24953341258048362,
          0.24953341258048362,
          0.15548579284877365
         ],
         "xaxis": "x",
         "y": [
          -155,
          -155,
          -170,
          -170
         ],
         "yaxis": "y"
        },
        {
         "hoverinfo": "text",
         "marker": {
          "color": "rgb(61,153,112)"
         },
         "mode": "lines",
         "type": "scatter",
         "x": [
          0,
          0.2741088519603676,
          0.2741088519603676,
          0.24953341258048362
         ],
         "xaxis": "x",
         "y": [
          -145,
          -145,
          -162.5,
          -162.5
         ],
         "yaxis": "y"
        },
        {
         "hoverinfo": "text",
         "marker": {
          "color": "rgb(61,153,112)"
         },
         "mode": "lines",
         "type": "scatter",
         "x": [
          0,
          0.32448195387141177,
          0.32448195387141177,
          0
         ],
         "xaxis": "x",
         "y": [
          -195,
          -195,
          -205,
          -205
         ],
         "yaxis": "y"
        },
        {
         "hoverinfo": "text",
         "marker": {
          "color": "rgb(61,153,112)"
         },
         "mode": "lines",
         "type": "scatter",
         "x": [
          0,
          0.3777347013643226,
          0.3777347013643226,
          0.32448195387141177
         ],
         "xaxis": "x",
         "y": [
          -185,
          -185,
          -200,
          -200
         ],
         "yaxis": "y"
        },
        {
         "hoverinfo": "text",
         "marker": {
          "color": "rgb(61,153,112)"
         },
         "mode": "lines",
         "type": "scatter",
         "x": [
          0.2741088519603676,
          0.43199838776336524,
          0.43199838776336524,
          0.3777347013643226
         ],
         "xaxis": "x",
         "y": [
          -153.75,
          -153.75,
          -192.5,
          -192.5
         ],
         "yaxis": "y"
        },
        {
         "hoverinfo": "text",
         "marker": {
          "color": "rgb(61,153,112)"
         },
         "mode": "lines",
         "type": "scatter",
         "x": [
          0.32520903426464526,
          0.5011102142207234,
          0.5011102142207234,
          0.43199838776336524
         ],
         "xaxis": "x",
         "y": [
          -122.5,
          -122.5,
          -173.125,
          -173.125
         ],
         "yaxis": "y"
        },
        {
         "hoverinfo": "text",
         "marker": {
          "color": "rgb(61,153,112)"
         },
         "mode": "lines",
         "type": "scatter",
         "x": [
          0,
          0.7444638119405887,
          0.7444638119405887,
          0.5011102142207234
         ],
         "xaxis": "x",
         "y": [
          -105,
          -105,
          -147.8125,
          -147.8125
         ],
         "yaxis": "y"
        },
        {
         "hoverinfo": "text",
         "marker": {
          "color": "rgb(61,153,112)"
         },
         "mode": "lines",
         "type": "scatter",
         "x": [
          0.22620381159660344,
          0.9464757779378442,
          0.9464757779378442,
          0.7444638119405887
         ],
         "xaxis": "x",
         "y": [
          -28.75,
          -28.75,
          -126.40625,
          -126.40625
         ],
         "yaxis": "y"
        }
       ],
       "layout": {
        "autosize": false,
        "height": 515,
        "hoverlabel": {
         "bgcolor": "white",
         "font": {
          "family": "Rockwell",
          "size": 16
         }
        },
        "hovermode": "closest",
        "plot_bgcolor": "#ECEFF1",
        "showlegend": false,
        "template": {
         "data": {
          "bar": [
           {
            "error_x": {
             "color": "#2a3f5f"
            },
            "error_y": {
             "color": "#2a3f5f"
            },
            "marker": {
             "line": {
              "color": "white",
              "width": 0.5
             },
             "pattern": {
              "fillmode": "overlay",
              "size": 10,
              "solidity": 0.2
             }
            },
            "type": "bar"
           }
          ],
          "barpolar": [
           {
            "marker": {
             "line": {
              "color": "white",
              "width": 0.5
             },
             "pattern": {
              "fillmode": "overlay",
              "size": 10,
              "solidity": 0.2
             }
            },
            "type": "barpolar"
           }
          ],
          "carpet": [
           {
            "aaxis": {
             "endlinecolor": "#2a3f5f",
             "gridcolor": "#C8D4E3",
             "linecolor": "#C8D4E3",
             "minorgridcolor": "#C8D4E3",
             "startlinecolor": "#2a3f5f"
            },
            "baxis": {
             "endlinecolor": "#2a3f5f",
             "gridcolor": "#C8D4E3",
             "linecolor": "#C8D4E3",
             "minorgridcolor": "#C8D4E3",
             "startlinecolor": "#2a3f5f"
            },
            "type": "carpet"
           }
          ],
          "choropleth": [
           {
            "colorbar": {
             "outlinewidth": 0,
             "ticks": ""
            },
            "type": "choropleth"
           }
          ],
          "contour": [
           {
            "colorbar": {
             "outlinewidth": 0,
             "ticks": ""
            },
            "colorscale": [
             [
              0,
              "#0d0887"
             ],
             [
              0.1111111111111111,
              "#46039f"
             ],
             [
              0.2222222222222222,
              "#7201a8"
             ],
             [
              0.3333333333333333,
              "#9c179e"
             ],
             [
              0.4444444444444444,
              "#bd3786"
             ],
             [
              0.5555555555555556,
              "#d8576b"
             ],
             [
              0.6666666666666666,
              "#ed7953"
             ],
             [
              0.7777777777777778,
              "#fb9f3a"
             ],
             [
              0.8888888888888888,
              "#fdca26"
             ],
             [
              1,
              "#f0f921"
             ]
            ],
            "type": "contour"
           }
          ],
          "contourcarpet": [
           {
            "colorbar": {
             "outlinewidth": 0,
             "ticks": ""
            },
            "type": "contourcarpet"
           }
          ],
          "heatmap": [
           {
            "colorbar": {
             "outlinewidth": 0,
             "ticks": ""
            },
            "colorscale": [
             [
              0,
              "#0d0887"
             ],
             [
              0.1111111111111111,
              "#46039f"
             ],
             [
              0.2222222222222222,
              "#7201a8"
             ],
             [
              0.3333333333333333,
              "#9c179e"
             ],
             [
              0.4444444444444444,
              "#bd3786"
             ],
             [
              0.5555555555555556,
              "#d8576b"
             ],
             [
              0.6666666666666666,
              "#ed7953"
             ],
             [
              0.7777777777777778,
              "#fb9f3a"
             ],
             [
              0.8888888888888888,
              "#fdca26"
             ],
             [
              1,
              "#f0f921"
             ]
            ],
            "type": "heatmap"
           }
          ],
          "heatmapgl": [
           {
            "colorbar": {
             "outlinewidth": 0,
             "ticks": ""
            },
            "colorscale": [
             [
              0,
              "#0d0887"
             ],
             [
              0.1111111111111111,
              "#46039f"
             ],
             [
              0.2222222222222222,
              "#7201a8"
             ],
             [
              0.3333333333333333,
              "#9c179e"
             ],
             [
              0.4444444444444444,
              "#bd3786"
             ],
             [
              0.5555555555555556,
              "#d8576b"
             ],
             [
              0.6666666666666666,
              "#ed7953"
             ],
             [
              0.7777777777777778,
              "#fb9f3a"
             ],
             [
              0.8888888888888888,
              "#fdca26"
             ],
             [
              1,
              "#f0f921"
             ]
            ],
            "type": "heatmapgl"
           }
          ],
          "histogram": [
           {
            "marker": {
             "pattern": {
              "fillmode": "overlay",
              "size": 10,
              "solidity": 0.2
             }
            },
            "type": "histogram"
           }
          ],
          "histogram2d": [
           {
            "colorbar": {
             "outlinewidth": 0,
             "ticks": ""
            },
            "colorscale": [
             [
              0,
              "#0d0887"
             ],
             [
              0.1111111111111111,
              "#46039f"
             ],
             [
              0.2222222222222222,
              "#7201a8"
             ],
             [
              0.3333333333333333,
              "#9c179e"
             ],
             [
              0.4444444444444444,
              "#bd3786"
             ],
             [
              0.5555555555555556,
              "#d8576b"
             ],
             [
              0.6666666666666666,
              "#ed7953"
             ],
             [
              0.7777777777777778,
              "#fb9f3a"
             ],
             [
              0.8888888888888888,
              "#fdca26"
             ],
             [
              1,
              "#f0f921"
             ]
            ],
            "type": "histogram2d"
           }
          ],
          "histogram2dcontour": [
           {
            "colorbar": {
             "outlinewidth": 0,
             "ticks": ""
            },
            "colorscale": [
             [
              0,
              "#0d0887"
             ],
             [
              0.1111111111111111,
              "#46039f"
             ],
             [
              0.2222222222222222,
              "#7201a8"
             ],
             [
              0.3333333333333333,
              "#9c179e"
             ],
             [
              0.4444444444444444,
              "#bd3786"
             ],
             [
              0.5555555555555556,
              "#d8576b"
             ],
             [
              0.6666666666666666,
              "#ed7953"
             ],
             [
              0.7777777777777778,
              "#fb9f3a"
             ],
             [
              0.8888888888888888,
              "#fdca26"
             ],
             [
              1,
              "#f0f921"
             ]
            ],
            "type": "histogram2dcontour"
           }
          ],
          "mesh3d": [
           {
            "colorbar": {
             "outlinewidth": 0,
             "ticks": ""
            },
            "type": "mesh3d"
           }
          ],
          "parcoords": [
           {
            "line": {
             "colorbar": {
              "outlinewidth": 0,
              "ticks": ""
             }
            },
            "type": "parcoords"
           }
          ],
          "pie": [
           {
            "automargin": true,
            "type": "pie"
           }
          ],
          "scatter": [
           {
            "marker": {
             "colorbar": {
              "outlinewidth": 0,
              "ticks": ""
             }
            },
            "type": "scatter"
           }
          ],
          "scatter3d": [
           {
            "line": {
             "colorbar": {
              "outlinewidth": 0,
              "ticks": ""
             }
            },
            "marker": {
             "colorbar": {
              "outlinewidth": 0,
              "ticks": ""
             }
            },
            "type": "scatter3d"
           }
          ],
          "scattercarpet": [
           {
            "marker": {
             "colorbar": {
              "outlinewidth": 0,
              "ticks": ""
             }
            },
            "type": "scattercarpet"
           }
          ],
          "scattergeo": [
           {
            "marker": {
             "colorbar": {
              "outlinewidth": 0,
              "ticks": ""
             }
            },
            "type": "scattergeo"
           }
          ],
          "scattergl": [
           {
            "marker": {
             "colorbar": {
              "outlinewidth": 0,
              "ticks": ""
             }
            },
            "type": "scattergl"
           }
          ],
          "scattermapbox": [
           {
            "marker": {
             "colorbar": {
              "outlinewidth": 0,
              "ticks": ""
             }
            },
            "type": "scattermapbox"
           }
          ],
          "scatterpolar": [
           {
            "marker": {
             "colorbar": {
              "outlinewidth": 0,
              "ticks": ""
             }
            },
            "type": "scatterpolar"
           }
          ],
          "scatterpolargl": [
           {
            "marker": {
             "colorbar": {
              "outlinewidth": 0,
              "ticks": ""
             }
            },
            "type": "scatterpolargl"
           }
          ],
          "scatterternary": [
           {
            "marker": {
             "colorbar": {
              "outlinewidth": 0,
              "ticks": ""
             }
            },
            "type": "scatterternary"
           }
          ],
          "surface": [
           {
            "colorbar": {
             "outlinewidth": 0,
             "ticks": ""
            },
            "colorscale": [
             [
              0,
              "#0d0887"
             ],
             [
              0.1111111111111111,
              "#46039f"
             ],
             [
              0.2222222222222222,
              "#7201a8"
             ],
             [
              0.3333333333333333,
              "#9c179e"
             ],
             [
              0.4444444444444444,
              "#bd3786"
             ],
             [
              0.5555555555555556,
              "#d8576b"
             ],
             [
              0.6666666666666666,
              "#ed7953"
             ],
             [
              0.7777777777777778,
              "#fb9f3a"
             ],
             [
              0.8888888888888888,
              "#fdca26"
             ],
             [
              1,
              "#f0f921"
             ]
            ],
            "type": "surface"
           }
          ],
          "table": [
           {
            "cells": {
             "fill": {
              "color": "#EBF0F8"
             },
             "line": {
              "color": "white"
             }
            },
            "header": {
             "fill": {
              "color": "#C8D4E3"
             },
             "line": {
              "color": "white"
             }
            },
            "type": "table"
           }
          ]
         },
         "layout": {
          "annotationdefaults": {
           "arrowcolor": "#2a3f5f",
           "arrowhead": 0,
           "arrowwidth": 1
          },
          "autotypenumbers": "strict",
          "coloraxis": {
           "colorbar": {
            "outlinewidth": 0,
            "ticks": ""
           }
          },
          "colorscale": {
           "diverging": [
            [
             0,
             "#8e0152"
            ],
            [
             0.1,
             "#c51b7d"
            ],
            [
             0.2,
             "#de77ae"
            ],
            [
             0.3,
             "#f1b6da"
            ],
            [
             0.4,
             "#fde0ef"
            ],
            [
             0.5,
             "#f7f7f7"
            ],
            [
             0.6,
             "#e6f5d0"
            ],
            [
             0.7,
             "#b8e186"
            ],
            [
             0.8,
             "#7fbc41"
            ],
            [
             0.9,
             "#4d9221"
            ],
            [
             1,
             "#276419"
            ]
           ],
           "sequential": [
            [
             0,
             "#0d0887"
            ],
            [
             0.1111111111111111,
             "#46039f"
            ],
            [
             0.2222222222222222,
             "#7201a8"
            ],
            [
             0.3333333333333333,
             "#9c179e"
            ],
            [
             0.4444444444444444,
             "#bd3786"
            ],
            [
             0.5555555555555556,
             "#d8576b"
            ],
            [
             0.6666666666666666,
             "#ed7953"
            ],
            [
             0.7777777777777778,
             "#fb9f3a"
            ],
            [
             0.8888888888888888,
             "#fdca26"
            ],
            [
             1,
             "#f0f921"
            ]
           ],
           "sequentialminus": [
            [
             0,
             "#0d0887"
            ],
            [
             0.1111111111111111,
             "#46039f"
            ],
            [
             0.2222222222222222,
             "#7201a8"
            ],
            [
             0.3333333333333333,
             "#9c179e"
            ],
            [
             0.4444444444444444,
             "#bd3786"
            ],
            [
             0.5555555555555556,
             "#d8576b"
            ],
            [
             0.6666666666666666,
             "#ed7953"
            ],
            [
             0.7777777777777778,
             "#fb9f3a"
            ],
            [
             0.8888888888888888,
             "#fdca26"
            ],
            [
             1,
             "#f0f921"
            ]
           ]
          },
          "colorway": [
           "#636efa",
           "#EF553B",
           "#00cc96",
           "#ab63fa",
           "#FFA15A",
           "#19d3f3",
           "#FF6692",
           "#B6E880",
           "#FF97FF",
           "#FECB52"
          ],
          "font": {
           "color": "#2a3f5f"
          },
          "geo": {
           "bgcolor": "white",
           "lakecolor": "white",
           "landcolor": "white",
           "showlakes": true,
           "showland": true,
           "subunitcolor": "#C8D4E3"
          },
          "hoverlabel": {
           "align": "left"
          },
          "hovermode": "closest",
          "mapbox": {
           "style": "light"
          },
          "paper_bgcolor": "white",
          "plot_bgcolor": "white",
          "polar": {
           "angularaxis": {
            "gridcolor": "#EBF0F8",
            "linecolor": "#EBF0F8",
            "ticks": ""
           },
           "bgcolor": "white",
           "radialaxis": {
            "gridcolor": "#EBF0F8",
            "linecolor": "#EBF0F8",
            "ticks": ""
           }
          },
          "scene": {
           "xaxis": {
            "backgroundcolor": "white",
            "gridcolor": "#DFE8F3",
            "gridwidth": 2,
            "linecolor": "#EBF0F8",
            "showbackground": true,
            "ticks": "",
            "zerolinecolor": "#EBF0F8"
           },
           "yaxis": {
            "backgroundcolor": "white",
            "gridcolor": "#DFE8F3",
            "gridwidth": 2,
            "linecolor": "#EBF0F8",
            "showbackground": true,
            "ticks": "",
            "zerolinecolor": "#EBF0F8"
           },
           "zaxis": {
            "backgroundcolor": "white",
            "gridcolor": "#DFE8F3",
            "gridwidth": 2,
            "linecolor": "#EBF0F8",
            "showbackground": true,
            "ticks": "",
            "zerolinecolor": "#EBF0F8"
           }
          },
          "shapedefaults": {
           "line": {
            "color": "#2a3f5f"
           }
          },
          "ternary": {
           "aaxis": {
            "gridcolor": "#DFE8F3",
            "linecolor": "#A2B1C6",
            "ticks": ""
           },
           "baxis": {
            "gridcolor": "#DFE8F3",
            "linecolor": "#A2B1C6",
            "ticks": ""
           },
           "bgcolor": "white",
           "caxis": {
            "gridcolor": "#DFE8F3",
            "linecolor": "#A2B1C6",
            "ticks": ""
           }
          },
          "title": {
           "x": 0.05
          },
          "xaxis": {
           "automargin": true,
           "gridcolor": "#EBF0F8",
           "linecolor": "#EBF0F8",
           "ticks": "",
           "title": {
            "standoff": 15
           },
           "zerolinecolor": "#EBF0F8",
           "zerolinewidth": 2
          },
          "yaxis": {
           "automargin": true,
           "gridcolor": "#EBF0F8",
           "linecolor": "#EBF0F8",
           "ticks": "",
           "title": {
            "standoff": 15
           },
           "zerolinecolor": "#EBF0F8",
           "zerolinewidth": 2
          }
         }
        },
        "title": {
         "font": {
          "color": "Black",
          "size": 22
         },
         "text": "<b>Hierarchical Clustering",
         "x": 0.5,
         "xanchor": "center",
         "yanchor": "top"
        },
        "width": 1000,
        "xaxis": {
         "mirror": "allticks",
         "rangemode": "tozero",
         "showgrid": false,
         "showline": true,
         "showticklabels": true,
         "ticks": "outside",
         "type": "linear",
         "zeroline": false
        },
        "yaxis": {
         "mirror": "allticks",
         "range": [
          -210,
          0
         ],
         "rangemode": "tozero",
         "showgrid": false,
         "showline": true,
         "showticklabels": true,
         "tickmode": "array",
         "ticks": "outside",
         "ticktext": [
          "1_anima_vita_dio",
          "2_vita_anima_spirito",
          "8_inganno_be_thine",
          "14_madre_vieni_parlava",
          "11_tratto_braccio_principessa",
          "19_acido_ornato_partenza",
          "7_interruppe_ah_rispose",
          "20_ricordi_ambedue_ultimo",
          "0_mano_bocca_amo",
          "3_addio_voce_taci",
          "17_cavalli_cavallo_corsa",
          "6_cielo_acqua_verde",
          "4_occhi_testa_capelli",
          "13_tè_vendite_vaso",
          "10_libro_versi_secolo",
          "9_terreno_guardia_vittoria",
          "12_obelisco_città_cipressi",
          "18_carrozza_scale_gradino",
          "16_domani_nove_mezzogiorno",
          "5_cuore_sentiva_spirito",
          "15_musica_pianoforte_sonata"
         ],
         "tickvals": [
          -5,
          -15,
          -25,
          -35,
          -45,
          -55,
          -65,
          -75,
          -85,
          -95,
          -105,
          -115,
          -125,
          -135,
          -145,
          -155,
          -165,
          -175,
          -185,
          -195,
          -205
         ],
         "type": "linear",
         "zeroline": false
        }
       }
      }
     },
     "metadata": {},
     "output_type": "display_data"
    },
    {
     "data": {
      "application/vnd.plotly.v1+json": {
       "config": {
        "plotlyServerURL": "https://plotly.com"
       },
       "data": [
        {
         "marker": {
          "color": "#D55E00"
         },
         "orientation": "h",
         "type": "bar",
         "x": [
          0.01879305015357303,
          0.01890369671834607,
          0.018923593159216632,
          0.02473298391259707,
          0.0286959847372677
         ],
         "xaxis": "x",
         "y": [
          "vostra  ",
          "parole  ",
          "amo  ",
          "bocca  ",
          "mano  "
         ],
         "yaxis": "y"
        },
        {
         "marker": {
          "color": "#0072B2"
         },
         "orientation": "h",
         "type": "bar",
         "x": [
          0.018658486933338336,
          0.021167236657316322,
          0.023644246289503287,
          0.026894987583515797,
          0.03040816527876318
         ],
         "xaxis": "x2",
         "y": [
          "volontà  ",
          "cuore  ",
          "dio  ",
          "vita  ",
          "anima  "
         ],
         "yaxis": "y2"
        },
        {
         "marker": {
          "color": "#CC79A7"
         },
         "orientation": "h",
         "type": "bar",
         "x": [
          0.01614197861573166,
          0.01642159099047405,
          0.018174139833399723,
          0.022342115456881795,
          0.028435656128572347
         ],
         "xaxis": "x3",
         "y": [
          "forza  ",
          "padre  ",
          "spirito  ",
          "anima  ",
          "vita  "
         ],
         "yaxis": "y3"
        },
        {
         "marker": {
          "color": "#E69F00"
         },
         "orientation": "h",
         "type": "bar",
         "x": [
          0.026111055198420493,
          0.026715189546378523,
          0.029165987159165265,
          0.030153369384838456,
          0.05077879755797907
         ],
         "xaxis": "x4",
         "y": [
          "hai  ",
          "tua  ",
          "taci  ",
          "voce  ",
          "addio  "
         ],
         "yaxis": "y4"
        },
        {
         "marker": {
          "color": "#56B4E9"
         },
         "orientation": "h",
         "type": "bar",
         "x": [
          0.014287045378628481,
          0.01642738053113711,
          0.018335492247220017,
          0.019273497078842298,
          0.01962476894235239
         ],
         "xaxis": "x5",
         "y": [
          "color  ",
          "bocca  ",
          "capelli  ",
          "testa  ",
          "occhi  "
         ],
         "yaxis": "y5"
        }
       ],
       "layout": {
        "annotations": [
         {
          "font": {
           "size": 16
          },
          "showarrow": false,
          "text": "Topic 0",
          "x": 0.0875,
          "xanchor": "center",
          "xref": "paper",
          "y": 1,
          "yanchor": "bottom",
          "yref": "paper"
         },
         {
          "font": {
           "size": 16
          },
          "showarrow": false,
          "text": "Topic 1",
          "x": 0.36250000000000004,
          "xanchor": "center",
          "xref": "paper",
          "y": 1,
          "yanchor": "bottom",
          "yref": "paper"
         },
         {
          "font": {
           "size": 16
          },
          "showarrow": false,
          "text": "Topic 2",
          "x": 0.6375000000000001,
          "xanchor": "center",
          "xref": "paper",
          "y": 1,
          "yanchor": "bottom",
          "yref": "paper"
         },
         {
          "font": {
           "size": 16
          },
          "showarrow": false,
          "text": "Topic 3",
          "x": 0.9125,
          "xanchor": "center",
          "xref": "paper",
          "y": 1,
          "yanchor": "bottom",
          "yref": "paper"
         },
         {
          "font": {
           "size": 16
          },
          "showarrow": false,
          "text": "Topic 4",
          "x": 0.0875,
          "xanchor": "center",
          "xref": "paper",
          "y": 0.4,
          "yanchor": "bottom",
          "yref": "paper"
         }
        ],
        "height": 500,
        "hoverlabel": {
         "bgcolor": "white",
         "font": {
          "family": "Rockwell",
          "size": 16
         }
        },
        "showlegend": false,
        "template": {
         "data": {
          "bar": [
           {
            "error_x": {
             "color": "#2a3f5f"
            },
            "error_y": {
             "color": "#2a3f5f"
            },
            "marker": {
             "line": {
              "color": "white",
              "width": 0.5
             },
             "pattern": {
              "fillmode": "overlay",
              "size": 10,
              "solidity": 0.2
             }
            },
            "type": "bar"
           }
          ],
          "barpolar": [
           {
            "marker": {
             "line": {
              "color": "white",
              "width": 0.5
             },
             "pattern": {
              "fillmode": "overlay",
              "size": 10,
              "solidity": 0.2
             }
            },
            "type": "barpolar"
           }
          ],
          "carpet": [
           {
            "aaxis": {
             "endlinecolor": "#2a3f5f",
             "gridcolor": "#C8D4E3",
             "linecolor": "#C8D4E3",
             "minorgridcolor": "#C8D4E3",
             "startlinecolor": "#2a3f5f"
            },
            "baxis": {
             "endlinecolor": "#2a3f5f",
             "gridcolor": "#C8D4E3",
             "linecolor": "#C8D4E3",
             "minorgridcolor": "#C8D4E3",
             "startlinecolor": "#2a3f5f"
            },
            "type": "carpet"
           }
          ],
          "choropleth": [
           {
            "colorbar": {
             "outlinewidth": 0,
             "ticks": ""
            },
            "type": "choropleth"
           }
          ],
          "contour": [
           {
            "colorbar": {
             "outlinewidth": 0,
             "ticks": ""
            },
            "colorscale": [
             [
              0,
              "#0d0887"
             ],
             [
              0.1111111111111111,
              "#46039f"
             ],
             [
              0.2222222222222222,
              "#7201a8"
             ],
             [
              0.3333333333333333,
              "#9c179e"
             ],
             [
              0.4444444444444444,
              "#bd3786"
             ],
             [
              0.5555555555555556,
              "#d8576b"
             ],
             [
              0.6666666666666666,
              "#ed7953"
             ],
             [
              0.7777777777777778,
              "#fb9f3a"
             ],
             [
              0.8888888888888888,
              "#fdca26"
             ],
             [
              1,
              "#f0f921"
             ]
            ],
            "type": "contour"
           }
          ],
          "contourcarpet": [
           {
            "colorbar": {
             "outlinewidth": 0,
             "ticks": ""
            },
            "type": "contourcarpet"
           }
          ],
          "heatmap": [
           {
            "colorbar": {
             "outlinewidth": 0,
             "ticks": ""
            },
            "colorscale": [
             [
              0,
              "#0d0887"
             ],
             [
              0.1111111111111111,
              "#46039f"
             ],
             [
              0.2222222222222222,
              "#7201a8"
             ],
             [
              0.3333333333333333,
              "#9c179e"
             ],
             [
              0.4444444444444444,
              "#bd3786"
             ],
             [
              0.5555555555555556,
              "#d8576b"
             ],
             [
              0.6666666666666666,
              "#ed7953"
             ],
             [
              0.7777777777777778,
              "#fb9f3a"
             ],
             [
              0.8888888888888888,
              "#fdca26"
             ],
             [
              1,
              "#f0f921"
             ]
            ],
            "type": "heatmap"
           }
          ],
          "heatmapgl": [
           {
            "colorbar": {
             "outlinewidth": 0,
             "ticks": ""
            },
            "colorscale": [
             [
              0,
              "#0d0887"
             ],
             [
              0.1111111111111111,
              "#46039f"
             ],
             [
              0.2222222222222222,
              "#7201a8"
             ],
             [
              0.3333333333333333,
              "#9c179e"
             ],
             [
              0.4444444444444444,
              "#bd3786"
             ],
             [
              0.5555555555555556,
              "#d8576b"
             ],
             [
              0.6666666666666666,
              "#ed7953"
             ],
             [
              0.7777777777777778,
              "#fb9f3a"
             ],
             [
              0.8888888888888888,
              "#fdca26"
             ],
             [
              1,
              "#f0f921"
             ]
            ],
            "type": "heatmapgl"
           }
          ],
          "histogram": [
           {
            "marker": {
             "pattern": {
              "fillmode": "overlay",
              "size": 10,
              "solidity": 0.2
             }
            },
            "type": "histogram"
           }
          ],
          "histogram2d": [
           {
            "colorbar": {
             "outlinewidth": 0,
             "ticks": ""
            },
            "colorscale": [
             [
              0,
              "#0d0887"
             ],
             [
              0.1111111111111111,
              "#46039f"
             ],
             [
              0.2222222222222222,
              "#7201a8"
             ],
             [
              0.3333333333333333,
              "#9c179e"
             ],
             [
              0.4444444444444444,
              "#bd3786"
             ],
             [
              0.5555555555555556,
              "#d8576b"
             ],
             [
              0.6666666666666666,
              "#ed7953"
             ],
             [
              0.7777777777777778,
              "#fb9f3a"
             ],
             [
              0.8888888888888888,
              "#fdca26"
             ],
             [
              1,
              "#f0f921"
             ]
            ],
            "type": "histogram2d"
           }
          ],
          "histogram2dcontour": [
           {
            "colorbar": {
             "outlinewidth": 0,
             "ticks": ""
            },
            "colorscale": [
             [
              0,
              "#0d0887"
             ],
             [
              0.1111111111111111,
              "#46039f"
             ],
             [
              0.2222222222222222,
              "#7201a8"
             ],
             [
              0.3333333333333333,
              "#9c179e"
             ],
             [
              0.4444444444444444,
              "#bd3786"
             ],
             [
              0.5555555555555556,
              "#d8576b"
             ],
             [
              0.6666666666666666,
              "#ed7953"
             ],
             [
              0.7777777777777778,
              "#fb9f3a"
             ],
             [
              0.8888888888888888,
              "#fdca26"
             ],
             [
              1,
              "#f0f921"
             ]
            ],
            "type": "histogram2dcontour"
           }
          ],
          "mesh3d": [
           {
            "colorbar": {
             "outlinewidth": 0,
             "ticks": ""
            },
            "type": "mesh3d"
           }
          ],
          "parcoords": [
           {
            "line": {
             "colorbar": {
              "outlinewidth": 0,
              "ticks": ""
             }
            },
            "type": "parcoords"
           }
          ],
          "pie": [
           {
            "automargin": true,
            "type": "pie"
           }
          ],
          "scatter": [
           {
            "marker": {
             "colorbar": {
              "outlinewidth": 0,
              "ticks": ""
             }
            },
            "type": "scatter"
           }
          ],
          "scatter3d": [
           {
            "line": {
             "colorbar": {
              "outlinewidth": 0,
              "ticks": ""
             }
            },
            "marker": {
             "colorbar": {
              "outlinewidth": 0,
              "ticks": ""
             }
            },
            "type": "scatter3d"
           }
          ],
          "scattercarpet": [
           {
            "marker": {
             "colorbar": {
              "outlinewidth": 0,
              "ticks": ""
             }
            },
            "type": "scattercarpet"
           }
          ],
          "scattergeo": [
           {
            "marker": {
             "colorbar": {
              "outlinewidth": 0,
              "ticks": ""
             }
            },
            "type": "scattergeo"
           }
          ],
          "scattergl": [
           {
            "marker": {
             "colorbar": {
              "outlinewidth": 0,
              "ticks": ""
             }
            },
            "type": "scattergl"
           }
          ],
          "scattermapbox": [
           {
            "marker": {
             "colorbar": {
              "outlinewidth": 0,
              "ticks": ""
             }
            },
            "type": "scattermapbox"
           }
          ],
          "scatterpolar": [
           {
            "marker": {
             "colorbar": {
              "outlinewidth": 0,
              "ticks": ""
             }
            },
            "type": "scatterpolar"
           }
          ],
          "scatterpolargl": [
           {
            "marker": {
             "colorbar": {
              "outlinewidth": 0,
              "ticks": ""
             }
            },
            "type": "scatterpolargl"
           }
          ],
          "scatterternary": [
           {
            "marker": {
             "colorbar": {
              "outlinewidth": 0,
              "ticks": ""
             }
            },
            "type": "scatterternary"
           }
          ],
          "surface": [
           {
            "colorbar": {
             "outlinewidth": 0,
             "ticks": ""
            },
            "colorscale": [
             [
              0,
              "#0d0887"
             ],
             [
              0.1111111111111111,
              "#46039f"
             ],
             [
              0.2222222222222222,
              "#7201a8"
             ],
             [
              0.3333333333333333,
              "#9c179e"
             ],
             [
              0.4444444444444444,
              "#bd3786"
             ],
             [
              0.5555555555555556,
              "#d8576b"
             ],
             [
              0.6666666666666666,
              "#ed7953"
             ],
             [
              0.7777777777777778,
              "#fb9f3a"
             ],
             [
              0.8888888888888888,
              "#fdca26"
             ],
             [
              1,
              "#f0f921"
             ]
            ],
            "type": "surface"
           }
          ],
          "table": [
           {
            "cells": {
             "fill": {
              "color": "#EBF0F8"
             },
             "line": {
              "color": "white"
             }
            },
            "header": {
             "fill": {
              "color": "#C8D4E3"
             },
             "line": {
              "color": "white"
             }
            },
            "type": "table"
           }
          ]
         },
         "layout": {
          "annotationdefaults": {
           "arrowcolor": "#2a3f5f",
           "arrowhead": 0,
           "arrowwidth": 1
          },
          "autotypenumbers": "strict",
          "coloraxis": {
           "colorbar": {
            "outlinewidth": 0,
            "ticks": ""
           }
          },
          "colorscale": {
           "diverging": [
            [
             0,
             "#8e0152"
            ],
            [
             0.1,
             "#c51b7d"
            ],
            [
             0.2,
             "#de77ae"
            ],
            [
             0.3,
             "#f1b6da"
            ],
            [
             0.4,
             "#fde0ef"
            ],
            [
             0.5,
             "#f7f7f7"
            ],
            [
             0.6,
             "#e6f5d0"
            ],
            [
             0.7,
             "#b8e186"
            ],
            [
             0.8,
             "#7fbc41"
            ],
            [
             0.9,
             "#4d9221"
            ],
            [
             1,
             "#276419"
            ]
           ],
           "sequential": [
            [
             0,
             "#0d0887"
            ],
            [
             0.1111111111111111,
             "#46039f"
            ],
            [
             0.2222222222222222,
             "#7201a8"
            ],
            [
             0.3333333333333333,
             "#9c179e"
            ],
            [
             0.4444444444444444,
             "#bd3786"
            ],
            [
             0.5555555555555556,
             "#d8576b"
            ],
            [
             0.6666666666666666,
             "#ed7953"
            ],
            [
             0.7777777777777778,
             "#fb9f3a"
            ],
            [
             0.8888888888888888,
             "#fdca26"
            ],
            [
             1,
             "#f0f921"
            ]
           ],
           "sequentialminus": [
            [
             0,
             "#0d0887"
            ],
            [
             0.1111111111111111,
             "#46039f"
            ],
            [
             0.2222222222222222,
             "#7201a8"
            ],
            [
             0.3333333333333333,
             "#9c179e"
            ],
            [
             0.4444444444444444,
             "#bd3786"
            ],
            [
             0.5555555555555556,
             "#d8576b"
            ],
            [
             0.6666666666666666,
             "#ed7953"
            ],
            [
             0.7777777777777778,
             "#fb9f3a"
            ],
            [
             0.8888888888888888,
             "#fdca26"
            ],
            [
             1,
             "#f0f921"
            ]
           ]
          },
          "colorway": [
           "#636efa",
           "#EF553B",
           "#00cc96",
           "#ab63fa",
           "#FFA15A",
           "#19d3f3",
           "#FF6692",
           "#B6E880",
           "#FF97FF",
           "#FECB52"
          ],
          "font": {
           "color": "#2a3f5f"
          },
          "geo": {
           "bgcolor": "white",
           "lakecolor": "white",
           "landcolor": "white",
           "showlakes": true,
           "showland": true,
           "subunitcolor": "#C8D4E3"
          },
          "hoverlabel": {
           "align": "left"
          },
          "hovermode": "closest",
          "mapbox": {
           "style": "light"
          },
          "paper_bgcolor": "white",
          "plot_bgcolor": "white",
          "polar": {
           "angularaxis": {
            "gridcolor": "#EBF0F8",
            "linecolor": "#EBF0F8",
            "ticks": ""
           },
           "bgcolor": "white",
           "radialaxis": {
            "gridcolor": "#EBF0F8",
            "linecolor": "#EBF0F8",
            "ticks": ""
           }
          },
          "scene": {
           "xaxis": {
            "backgroundcolor": "white",
            "gridcolor": "#DFE8F3",
            "gridwidth": 2,
            "linecolor": "#EBF0F8",
            "showbackground": true,
            "ticks": "",
            "zerolinecolor": "#EBF0F8"
           },
           "yaxis": {
            "backgroundcolor": "white",
            "gridcolor": "#DFE8F3",
            "gridwidth": 2,
            "linecolor": "#EBF0F8",
            "showbackground": true,
            "ticks": "",
            "zerolinecolor": "#EBF0F8"
           },
           "zaxis": {
            "backgroundcolor": "white",
            "gridcolor": "#DFE8F3",
            "gridwidth": 2,
            "linecolor": "#EBF0F8",
            "showbackground": true,
            "ticks": "",
            "zerolinecolor": "#EBF0F8"
           }
          },
          "shapedefaults": {
           "line": {
            "color": "#2a3f5f"
           }
          },
          "ternary": {
           "aaxis": {
            "gridcolor": "#DFE8F3",
            "linecolor": "#A2B1C6",
            "ticks": ""
           },
           "baxis": {
            "gridcolor": "#DFE8F3",
            "linecolor": "#A2B1C6",
            "ticks": ""
           },
           "bgcolor": "white",
           "caxis": {
            "gridcolor": "#DFE8F3",
            "linecolor": "#A2B1C6",
            "ticks": ""
           }
          },
          "title": {
           "x": 0.05
          },
          "xaxis": {
           "automargin": true,
           "gridcolor": "#EBF0F8",
           "linecolor": "#EBF0F8",
           "ticks": "",
           "title": {
            "standoff": 15
           },
           "zerolinecolor": "#EBF0F8",
           "zerolinewidth": 2
          },
          "yaxis": {
           "automargin": true,
           "gridcolor": "#EBF0F8",
           "linecolor": "#EBF0F8",
           "ticks": "",
           "title": {
            "standoff": 15
           },
           "zerolinecolor": "#EBF0F8",
           "zerolinewidth": 2
          }
         }
        },
        "title": {
         "font": {
          "color": "Black",
          "size": 22
         },
         "text": "<b>Topic Word Scores",
         "x": 0.5,
         "xanchor": "center",
         "yanchor": "top"
        },
        "width": 1000,
        "xaxis": {
         "anchor": "y",
         "domain": [
          0,
          0.175
         ],
         "showgrid": true
        },
        "xaxis2": {
         "anchor": "y2",
         "domain": [
          0.275,
          0.45
         ],
         "showgrid": true
        },
        "xaxis3": {
         "anchor": "y3",
         "domain": [
          0.55,
          0.7250000000000001
         ],
         "showgrid": true
        },
        "xaxis4": {
         "anchor": "y4",
         "domain": [
          0.825,
          1
         ],
         "showgrid": true
        },
        "xaxis5": {
         "anchor": "y5",
         "domain": [
          0,
          0.175
         ],
         "showgrid": true
        },
        "xaxis6": {
         "anchor": "y6",
         "domain": [
          0.275,
          0.45
         ],
         "showgrid": true
        },
        "xaxis7": {
         "anchor": "y7",
         "domain": [
          0.55,
          0.7250000000000001
         ],
         "showgrid": true
        },
        "xaxis8": {
         "anchor": "y8",
         "domain": [
          0.825,
          1
         ],
         "showgrid": true
        },
        "yaxis": {
         "anchor": "x",
         "domain": [
          0.6000000000000001,
          1
         ],
         "showgrid": true
        },
        "yaxis2": {
         "anchor": "x2",
         "domain": [
          0.6000000000000001,
          1
         ],
         "showgrid": true
        },
        "yaxis3": {
         "anchor": "x3",
         "domain": [
          0.6000000000000001,
          1
         ],
         "showgrid": true
        },
        "yaxis4": {
         "anchor": "x4",
         "domain": [
          0.6000000000000001,
          1
         ],
         "showgrid": true
        },
        "yaxis5": {
         "anchor": "x5",
         "domain": [
          0,
          0.4
         ],
         "showgrid": true
        },
        "yaxis6": {
         "anchor": "x6",
         "domain": [
          0,
          0.4
         ],
         "showgrid": true
        },
        "yaxis7": {
         "anchor": "x7",
         "domain": [
          0,
          0.4
         ],
         "showgrid": true
        },
        "yaxis8": {
         "anchor": "x8",
         "domain": [
          0,
          0.4
         ],
         "showgrid": true
        }
       }
      }
     },
     "metadata": {},
     "output_type": "display_data"
    },
    {
     "data": {
      "application/vnd.plotly.v1+json": {
       "config": {
        "plotlyServerURL": "https://plotly.com"
       },
       "data": [
        {
         "coloraxis": "coloraxis",
         "hovertemplate": "x: %{x}<br>y: %{y}<br>Similarity Score: %{z}<extra></extra>",
         "name": "0",
         "type": "heatmap",
         "x": [
          "0_mano_bocca_amo",
          "3_addio_voce_taci",
          "1_anima_vita_dio",
          "2_vita_anima_spirito",
          "4_occhi_testa_capelli",
          "5_cuore_sentiva_spirito",
          "6_cielo_acqua_verde",
          "7_interruppe_ah_rispose",
          "20_ricordi_ambedue_ultimo",
          "8_inganno_be_thine",
          "14_madre_vieni_parlava",
          "9_terreno_guardia_vittoria",
          "10_libro_versi_secolo",
          "11_tratto_braccio_principessa",
          "19_acido_ornato_partenza",
          "12_obelisco_città_cipressi",
          "18_carrozza_scale_gradino",
          "13_tè_vendite_vaso",
          "15_musica_pianoforte_sonata",
          "16_domani_nove_mezzogiorno",
          "17_cavalli_cavallo_corsa"
         ],
         "xaxis": "x",
         "y": [
          "0_mano_bocca_amo",
          "3_addio_voce_taci",
          "1_anima_vita_dio",
          "2_vita_anima_spirito",
          "4_occhi_testa_capelli",
          "5_cuore_sentiva_spirito",
          "6_cielo_acqua_verde",
          "7_interruppe_ah_rispose",
          "20_ricordi_ambedue_ultimo",
          "8_inganno_be_thine",
          "14_madre_vieni_parlava",
          "9_terreno_guardia_vittoria",
          "10_libro_versi_secolo",
          "11_tratto_braccio_principessa",
          "19_acido_ornato_partenza",
          "12_obelisco_città_cipressi",
          "18_carrozza_scale_gradino",
          "13_tè_vendite_vaso",
          "15_musica_pianoforte_sonata",
          "16_domani_nove_mezzogiorno",
          "17_cavalli_cavallo_corsa"
         ],
         "yaxis": "y",
         "z": [
          [
           1.0000000000000002,
           0.9435281757300328,
           0.9298770729083845,
           0.9229777612512705,
           0.8463580640167344,
           0.9240065399353734,
           0.7977009431281115,
           0.9329652983307875,
           0.9274989148027537,
           0.9051716751714651,
           0.914037371397307,
           0.8299568831850281,
           0.8860388667485971,
           0.9235419115467703,
           0.9138302781629908,
           0.8538497429150694,
           0.8596452573852308,
           0.8342274062470316,
           0.8698394371955246,
           0.843820831205871,
           0.7544992303399133
          ],
          [
           0.9435281757300328,
           0.9999999999999997,
           0.9037036949008074,
           0.905849249144672,
           0.8075782736611471,
           0.8739387834063794,
           0.8097465008487732,
           0.9434017848361087,
           0.9458335833418411,
           0.9156448450767687,
           0.9206737030521908,
           0.8367883379666405,
           0.8689501157405257,
           0.9204953770514429,
           0.9074408955285919,
           0.8609738203172141,
           0.8541132348159708,
           0.8372182871831928,
           0.84503019165627,
           0.8743164602918732,
           0.7559333694605227
          ],
          [
           0.9298770729083845,
           0.9037036949008074,
           1.0000000000000004,
           0.9406201087443338,
           0.8021401789708631,
           0.9382182065102721,
           0.8071797297994324,
           0.9108248464107803,
           0.9292425035820193,
           0.9234201672180206,
           0.8853624054200311,
           0.8528465234301708,
           0.8815409530826622,
           0.903600586821002,
           0.9121075670991254,
           0.8714209968407013,
           0.8511830546014318,
           0.8278430588371744,
           0.8363339725384634,
           0.8571306107749094,
           0.7342689309214333
          ],
          [
           0.9229777612512705,
           0.905849249144672,
           0.9406201087443338,
           1.0000000000000002,
           0.8036177444680719,
           0.9278975996708461,
           0.826190752833308,
           0.9125196209176982,
           0.9230541973341808,
           0.9104473459328534,
           0.8979689153455204,
           0.8638689269484948,
           0.9018847752776913,
           0.9063733903042911,
           0.9293184027001213,
           0.8803317395081481,
           0.868935715218263,
           0.8216208867881691,
           0.8455263259101972,
           0.8318734698089401,
           0.7440967139247691
          ],
          [
           0.8463580640167344,
           0.8075782736611471,
           0.8021401789708631,
           0.8036177444680719,
           0.9999999999999996,
           0.7772965768469035,
           0.7974635245695827,
           0.8202884066889257,
           0.8212531484460918,
           0.7983152200645823,
           0.7977142216494044,
           0.7646208741766244,
           0.7784906218278252,
           0.8859886216354201,
           0.8382890483948754,
           0.8323983139160248,
           0.8254722724842508,
           0.8081898250512369,
           0.7447726929954736,
           0.7323040313898106,
           0.7038176832192733
          ],
          [
           0.9240065399353734,
           0.8739387834063794,
           0.9382182065102721,
           0.9278975996708461,
           0.7772965768469035,
           0.9999999999999994,
           0.7764286734777861,
           0.8677084307057835,
           0.8710776908520699,
           0.8699672435417026,
           0.8631597385210034,
           0.7823682498356468,
           0.8360581213466445,
           0.8796549925601318,
           0.8743152338594107,
           0.8168491452402176,
           0.8013495900030165,
           0.7895630194572406,
           0.8117868657230269,
           0.7755305367968174,
           0.6942028112236448
          ],
          [
           0.7977009431281115,
           0.8097465008487732,
           0.8071797297994324,
           0.826190752833308,
           0.7974635245695827,
           0.7764286734777861,
           1.0000000000000002,
           0.8132296801977299,
           0.8279775310694087,
           0.7981388515929094,
           0.7815376940037476,
           0.7815166171524656,
           0.7793432049929844,
           0.8173050755978278,
           0.8349580666155332,
           0.85659504383116,
           0.8318749192445904,
           0.7907772735217518,
           0.7686055876684007,
           0.758008897178748,
           0.6525554399108039
          ],
          [
           0.9329652983307875,
           0.9434017848361087,
           0.9108248464107803,
           0.9125196209176982,
           0.8202884066889257,
           0.8677084307057835,
           0.8132296801977299,
           1,
           0.941278532964858,
           0.9288830229854705,
           0.9275393013018972,
           0.8799222656718964,
           0.8911713300974029,
           0.9259614619466972,
           0.9300743423254507,
           0.890564876937514,
           0.8847386470148689,
           0.8588029301079103,
           0.8675299972578806,
           0.8717269547403675,
           0.7829012430450893
          ],
          [
           0.9274989148027537,
           0.9458335833418411,
           0.9292425035820193,
           0.9230541973341808,
           0.8212531484460918,
           0.8710776908520699,
           0.8279775310694087,
           0.941278532964858,
           0.9999999999999998,
           0.9357453907584221,
           0.9164332471759353,
           0.8799887650488323,
           0.9083447833720072,
           0.9272171453706315,
           0.9294858168461032,
           0.8877902685165631,
           0.8824361152486401,
           0.8631785999278683,
           0.8561652314870057,
           0.886892430148414,
           0.7647664139450983
          ],
          [
           0.9051716751714651,
           0.9156448450767687,
           0.9234201672180206,
           0.9104473459328534,
           0.7983152200645823,
           0.8699672435417026,
           0.7981388515929094,
           0.9288830229854705,
           0.9357453907584221,
           1,
           0.9037403977630878,
           0.8492946024535077,
           0.8592191681230904,
           0.8992576194852658,
           0.903423204435885,
           0.8510149916153009,
           0.8451178254344941,
           0.823414964624433,
           0.8313395133779892,
           0.8823684509500203,
           0.7754713915695794
          ],
          [
           0.914037371397307,
           0.9206737030521908,
           0.8853624054200311,
           0.8979689153455204,
           0.7977142216494044,
           0.8631597385210034,
           0.7815376940037476,
           0.9275393013018972,
           0.9164332471759353,
           0.9037403977630878,
           0.9999999999999999,
           0.8064630981137365,
           0.8594001875843609,
           0.9181278799727739,
           0.8944458883983777,
           0.8277840766757395,
           0.8465755705800448,
           0.8362804543989368,
           0.815163134181332,
           0.8570416052827116,
           0.7592946087421091
          ],
          [
           0.8299568831850281,
           0.8367883379666405,
           0.8528465234301708,
           0.8638689269484948,
           0.7646208741766244,
           0.7823682498356468,
           0.7815166171524656,
           0.8799222656718964,
           0.8799887650488323,
           0.8492946024535077,
           0.8064630981137365,
           1.0000000000000004,
           0.8369090725187225,
           0.8410019493757964,
           0.8561765410630755,
           0.8702532854742575,
           0.9005445599255171,
           0.8039801390992786,
           0.7821873478942275,
           0.8059149981489662,
           0.7790205416742086
          ],
          [
           0.8860388667485971,
           0.8689501157405257,
           0.8815409530826622,
           0.9018847752776913,
           0.7784906218278252,
           0.8360581213466445,
           0.7793432049929844,
           0.8911713300974029,
           0.9083447833720072,
           0.8592191681230904,
           0.8594001875843609,
           0.8369090725187225,
           0.9999999999999999,
           0.8715935021077554,
           0.8951429495795802,
           0.8613353387081378,
           0.8550489427510543,
           0.8377763238156578,
           0.8459155966540954,
           0.7954283012831533,
           0.7400770256546262
          ],
          [
           0.9235419115467703,
           0.9204953770514429,
           0.903600586821002,
           0.9063733903042911,
           0.8859886216354201,
           0.8796549925601318,
           0.8173050755978278,
           0.9259614619466972,
           0.9272171453706315,
           0.8992576194852658,
           0.9181278799727739,
           0.8410019493757964,
           0.8715935021077554,
           0.9999999999999997,
           0.9200741700018427,
           0.8952186634589322,
           0.8748212773511028,
           0.8793279443410473,
           0.8275536476716424,
           0.837021980320687,
           0.7605817538942804
          ],
          [
           0.9138302781629908,
           0.9074408955285919,
           0.9121075670991254,
           0.9293184027001213,
           0.8382890483948754,
           0.8743152338594107,
           0.8349580666155332,
           0.9300743423254507,
           0.9294858168461032,
           0.903423204435885,
           0.8944458883983777,
           0.8561765410630755,
           0.8951429495795802,
           0.9200741700018427,
           0.9999999999999998,
           0.9160082547673638,
           0.8748729812521291,
           0.8621598202785443,
           0.8479926083871467,
           0.8156611142277337,
           0.7769896889526252
          ],
          [
           0.8538497429150694,
           0.8609738203172141,
           0.8714209968407013,
           0.8803317395081481,
           0.8323983139160248,
           0.8168491452402176,
           0.85659504383116,
           0.890564876937514,
           0.8877902685165631,
           0.8510149916153009,
           0.8277840766757395,
           0.8702532854742575,
           0.8613353387081378,
           0.8952186634589322,
           0.9160082547673638,
           1.0000000000000007,
           0.9041692646408367,
           0.8642810704850289,
           0.8476369731678045,
           0.7959008084759669,
           0.7382795866735903
          ],
          [
           0.8596452573852308,
           0.8541132348159708,
           0.8511830546014318,
           0.868935715218263,
           0.8254722724842508,
           0.8013495900030165,
           0.8318749192445904,
           0.8847386470148689,
           0.8824361152486401,
           0.8451178254344941,
           0.8465755705800448,
           0.9005445599255171,
           0.8550489427510543,
           0.8748212773511028,
           0.8748729812521291,
           0.9041692646408367,
           1.0000000000000002,
           0.8543811081651276,
           0.8599848672962224,
           0.7989710144767678,
           0.7609450488976948
          ],
          [
           0.8342274062470316,
           0.8372182871831928,
           0.8278430588371744,
           0.8216208867881691,
           0.8081898250512369,
           0.7895630194572406,
           0.7907772735217518,
           0.8588029301079103,
           0.8631785999278683,
           0.823414964624433,
           0.8362804543989368,
           0.8039801390992786,
           0.8377763238156578,
           0.8793279443410473,
           0.8621598202785443,
           0.8642810704850289,
           0.8543811081651276,
           0.9999999999999998,
           0.7725437113551518,
           0.7776410233685971,
           0.7024523346777004
          ],
          [
           0.8698394371955246,
           0.84503019165627,
           0.8363339725384634,
           0.8455263259101972,
           0.7447726929954736,
           0.8117868657230269,
           0.7686055876684007,
           0.8675299972578806,
           0.8561652314870057,
           0.8313395133779892,
           0.815163134181332,
           0.7821873478942275,
           0.8459155966540954,
           0.8275536476716424,
           0.8479926083871467,
           0.8476369731678045,
           0.8599848672962224,
           0.7725437113551518,
           0.9999999999999998,
           0.7649424601744257,
           0.6855201361221244
          ],
          [
           0.843820831205871,
           0.8743164602918732,
           0.8571306107749094,
           0.8318734698089401,
           0.7323040313898106,
           0.7755305367968174,
           0.758008897178748,
           0.8717269547403675,
           0.886892430148414,
           0.8823684509500203,
           0.8570416052827116,
           0.8059149981489662,
           0.7954283012831533,
           0.837021980320687,
           0.8156611142277337,
           0.7959008084759669,
           0.7989710144767678,
           0.7776410233685971,
           0.7649424601744257,
           1.0000000000000007,
           0.7028247839688009
          ],
          [
           0.7544992303399133,
           0.7559333694605227,
           0.7342689309214333,
           0.7440967139247691,
           0.7038176832192733,
           0.6942028112236448,
           0.6525554399108039,
           0.7829012430450893,
           0.7647664139450983,
           0.7754713915695794,
           0.7592946087421091,
           0.7790205416742086,
           0.7400770256546262,
           0.7605817538942804,
           0.7769896889526252,
           0.7382795866735903,
           0.7609450488976948,
           0.7024523346777004,
           0.6855201361221244,
           0.7028247839688009,
           1
          ]
         ]
        }
       ],
       "layout": {
        "coloraxis": {
         "colorbar": {
          "title": {
           "text": "Similarity Score"
          }
         },
         "colorscale": [
          [
           0,
           "rgb(247,252,240)"
          ],
          [
           0.125,
           "rgb(224,243,219)"
          ],
          [
           0.25,
           "rgb(204,235,197)"
          ],
          [
           0.375,
           "rgb(168,221,181)"
          ],
          [
           0.5,
           "rgb(123,204,196)"
          ],
          [
           0.625,
           "rgb(78,179,211)"
          ],
          [
           0.75,
           "rgb(43,140,190)"
          ],
          [
           0.875,
           "rgb(8,104,172)"
          ],
          [
           1,
           "rgb(8,64,129)"
          ]
         ]
        },
        "height": 1000,
        "hoverlabel": {
         "bgcolor": "white",
         "font": {
          "family": "Rockwell",
          "size": 16
         }
        },
        "legend": {
         "title": {
          "text": "Trend"
         }
        },
        "margin": {
         "t": 60
        },
        "showlegend": true,
        "template": {
         "data": {
          "bar": [
           {
            "error_x": {
             "color": "#2a3f5f"
            },
            "error_y": {
             "color": "#2a3f5f"
            },
            "marker": {
             "line": {
              "color": "#E5ECF6",
              "width": 0.5
             },
             "pattern": {
              "fillmode": "overlay",
              "size": 10,
              "solidity": 0.2
             }
            },
            "type": "bar"
           }
          ],
          "barpolar": [
           {
            "marker": {
             "line": {
              "color": "#E5ECF6",
              "width": 0.5
             },
             "pattern": {
              "fillmode": "overlay",
              "size": 10,
              "solidity": 0.2
             }
            },
            "type": "barpolar"
           }
          ],
          "carpet": [
           {
            "aaxis": {
             "endlinecolor": "#2a3f5f",
             "gridcolor": "white",
             "linecolor": "white",
             "minorgridcolor": "white",
             "startlinecolor": "#2a3f5f"
            },
            "baxis": {
             "endlinecolor": "#2a3f5f",
             "gridcolor": "white",
             "linecolor": "white",
             "minorgridcolor": "white",
             "startlinecolor": "#2a3f5f"
            },
            "type": "carpet"
           }
          ],
          "choropleth": [
           {
            "colorbar": {
             "outlinewidth": 0,
             "ticks": ""
            },
            "type": "choropleth"
           }
          ],
          "contour": [
           {
            "colorbar": {
             "outlinewidth": 0,
             "ticks": ""
            },
            "colorscale": [
             [
              0,
              "#0d0887"
             ],
             [
              0.1111111111111111,
              "#46039f"
             ],
             [
              0.2222222222222222,
              "#7201a8"
             ],
             [
              0.3333333333333333,
              "#9c179e"
             ],
             [
              0.4444444444444444,
              "#bd3786"
             ],
             [
              0.5555555555555556,
              "#d8576b"
             ],
             [
              0.6666666666666666,
              "#ed7953"
             ],
             [
              0.7777777777777778,
              "#fb9f3a"
             ],
             [
              0.8888888888888888,
              "#fdca26"
             ],
             [
              1,
              "#f0f921"
             ]
            ],
            "type": "contour"
           }
          ],
          "contourcarpet": [
           {
            "colorbar": {
             "outlinewidth": 0,
             "ticks": ""
            },
            "type": "contourcarpet"
           }
          ],
          "heatmap": [
           {
            "colorbar": {
             "outlinewidth": 0,
             "ticks": ""
            },
            "colorscale": [
             [
              0,
              "#0d0887"
             ],
             [
              0.1111111111111111,
              "#46039f"
             ],
             [
              0.2222222222222222,
              "#7201a8"
             ],
             [
              0.3333333333333333,
              "#9c179e"
             ],
             [
              0.4444444444444444,
              "#bd3786"
             ],
             [
              0.5555555555555556,
              "#d8576b"
             ],
             [
              0.6666666666666666,
              "#ed7953"
             ],
             [
              0.7777777777777778,
              "#fb9f3a"
             ],
             [
              0.8888888888888888,
              "#fdca26"
             ],
             [
              1,
              "#f0f921"
             ]
            ],
            "type": "heatmap"
           }
          ],
          "heatmapgl": [
           {
            "colorbar": {
             "outlinewidth": 0,
             "ticks": ""
            },
            "colorscale": [
             [
              0,
              "#0d0887"
             ],
             [
              0.1111111111111111,
              "#46039f"
             ],
             [
              0.2222222222222222,
              "#7201a8"
             ],
             [
              0.3333333333333333,
              "#9c179e"
             ],
             [
              0.4444444444444444,
              "#bd3786"
             ],
             [
              0.5555555555555556,
              "#d8576b"
             ],
             [
              0.6666666666666666,
              "#ed7953"
             ],
             [
              0.7777777777777778,
              "#fb9f3a"
             ],
             [
              0.8888888888888888,
              "#fdca26"
             ],
             [
              1,
              "#f0f921"
             ]
            ],
            "type": "heatmapgl"
           }
          ],
          "histogram": [
           {
            "marker": {
             "pattern": {
              "fillmode": "overlay",
              "size": 10,
              "solidity": 0.2
             }
            },
            "type": "histogram"
           }
          ],
          "histogram2d": [
           {
            "colorbar": {
             "outlinewidth": 0,
             "ticks": ""
            },
            "colorscale": [
             [
              0,
              "#0d0887"
             ],
             [
              0.1111111111111111,
              "#46039f"
             ],
             [
              0.2222222222222222,
              "#7201a8"
             ],
             [
              0.3333333333333333,
              "#9c179e"
             ],
             [
              0.4444444444444444,
              "#bd3786"
             ],
             [
              0.5555555555555556,
              "#d8576b"
             ],
             [
              0.6666666666666666,
              "#ed7953"
             ],
             [
              0.7777777777777778,
              "#fb9f3a"
             ],
             [
              0.8888888888888888,
              "#fdca26"
             ],
             [
              1,
              "#f0f921"
             ]
            ],
            "type": "histogram2d"
           }
          ],
          "histogram2dcontour": [
           {
            "colorbar": {
             "outlinewidth": 0,
             "ticks": ""
            },
            "colorscale": [
             [
              0,
              "#0d0887"
             ],
             [
              0.1111111111111111,
              "#46039f"
             ],
             [
              0.2222222222222222,
              "#7201a8"
             ],
             [
              0.3333333333333333,
              "#9c179e"
             ],
             [
              0.4444444444444444,
              "#bd3786"
             ],
             [
              0.5555555555555556,
              "#d8576b"
             ],
             [
              0.6666666666666666,
              "#ed7953"
             ],
             [
              0.7777777777777778,
              "#fb9f3a"
             ],
             [
              0.8888888888888888,
              "#fdca26"
             ],
             [
              1,
              "#f0f921"
             ]
            ],
            "type": "histogram2dcontour"
           }
          ],
          "mesh3d": [
           {
            "colorbar": {
             "outlinewidth": 0,
             "ticks": ""
            },
            "type": "mesh3d"
           }
          ],
          "parcoords": [
           {
            "line": {
             "colorbar": {
              "outlinewidth": 0,
              "ticks": ""
             }
            },
            "type": "parcoords"
           }
          ],
          "pie": [
           {
            "automargin": true,
            "type": "pie"
           }
          ],
          "scatter": [
           {
            "marker": {
             "colorbar": {
              "outlinewidth": 0,
              "ticks": ""
             }
            },
            "type": "scatter"
           }
          ],
          "scatter3d": [
           {
            "line": {
             "colorbar": {
              "outlinewidth": 0,
              "ticks": ""
             }
            },
            "marker": {
             "colorbar": {
              "outlinewidth": 0,
              "ticks": ""
             }
            },
            "type": "scatter3d"
           }
          ],
          "scattercarpet": [
           {
            "marker": {
             "colorbar": {
              "outlinewidth": 0,
              "ticks": ""
             }
            },
            "type": "scattercarpet"
           }
          ],
          "scattergeo": [
           {
            "marker": {
             "colorbar": {
              "outlinewidth": 0,
              "ticks": ""
             }
            },
            "type": "scattergeo"
           }
          ],
          "scattergl": [
           {
            "marker": {
             "colorbar": {
              "outlinewidth": 0,
              "ticks": ""
             }
            },
            "type": "scattergl"
           }
          ],
          "scattermapbox": [
           {
            "marker": {
             "colorbar": {
              "outlinewidth": 0,
              "ticks": ""
             }
            },
            "type": "scattermapbox"
           }
          ],
          "scatterpolar": [
           {
            "marker": {
             "colorbar": {
              "outlinewidth": 0,
              "ticks": ""
             }
            },
            "type": "scatterpolar"
           }
          ],
          "scatterpolargl": [
           {
            "marker": {
             "colorbar": {
              "outlinewidth": 0,
              "ticks": ""
             }
            },
            "type": "scatterpolargl"
           }
          ],
          "scatterternary": [
           {
            "marker": {
             "colorbar": {
              "outlinewidth": 0,
              "ticks": ""
             }
            },
            "type": "scatterternary"
           }
          ],
          "surface": [
           {
            "colorbar": {
             "outlinewidth": 0,
             "ticks": ""
            },
            "colorscale": [
             [
              0,
              "#0d0887"
             ],
             [
              0.1111111111111111,
              "#46039f"
             ],
             [
              0.2222222222222222,
              "#7201a8"
             ],
             [
              0.3333333333333333,
              "#9c179e"
             ],
             [
              0.4444444444444444,
              "#bd3786"
             ],
             [
              0.5555555555555556,
              "#d8576b"
             ],
             [
              0.6666666666666666,
              "#ed7953"
             ],
             [
              0.7777777777777778,
              "#fb9f3a"
             ],
             [
              0.8888888888888888,
              "#fdca26"
             ],
             [
              1,
              "#f0f921"
             ]
            ],
            "type": "surface"
           }
          ],
          "table": [
           {
            "cells": {
             "fill": {
              "color": "#EBF0F8"
             },
             "line": {
              "color": "white"
             }
            },
            "header": {
             "fill": {
              "color": "#C8D4E3"
             },
             "line": {
              "color": "white"
             }
            },
            "type": "table"
           }
          ]
         },
         "layout": {
          "annotationdefaults": {
           "arrowcolor": "#2a3f5f",
           "arrowhead": 0,
           "arrowwidth": 1
          },
          "autotypenumbers": "strict",
          "coloraxis": {
           "colorbar": {
            "outlinewidth": 0,
            "ticks": ""
           }
          },
          "colorscale": {
           "diverging": [
            [
             0,
             "#8e0152"
            ],
            [
             0.1,
             "#c51b7d"
            ],
            [
             0.2,
             "#de77ae"
            ],
            [
             0.3,
             "#f1b6da"
            ],
            [
             0.4,
             "#fde0ef"
            ],
            [
             0.5,
             "#f7f7f7"
            ],
            [
             0.6,
             "#e6f5d0"
            ],
            [
             0.7,
             "#b8e186"
            ],
            [
             0.8,
             "#7fbc41"
            ],
            [
             0.9,
             "#4d9221"
            ],
            [
             1,
             "#276419"
            ]
           ],
           "sequential": [
            [
             0,
             "#0d0887"
            ],
            [
             0.1111111111111111,
             "#46039f"
            ],
            [
             0.2222222222222222,
             "#7201a8"
            ],
            [
             0.3333333333333333,
             "#9c179e"
            ],
            [
             0.4444444444444444,
             "#bd3786"
            ],
            [
             0.5555555555555556,
             "#d8576b"
            ],
            [
             0.6666666666666666,
             "#ed7953"
            ],
            [
             0.7777777777777778,
             "#fb9f3a"
            ],
            [
             0.8888888888888888,
             "#fdca26"
            ],
            [
             1,
             "#f0f921"
            ]
           ],
           "sequentialminus": [
            [
             0,
             "#0d0887"
            ],
            [
             0.1111111111111111,
             "#46039f"
            ],
            [
             0.2222222222222222,
             "#7201a8"
            ],
            [
             0.3333333333333333,
             "#9c179e"
            ],
            [
             0.4444444444444444,
             "#bd3786"
            ],
            [
             0.5555555555555556,
             "#d8576b"
            ],
            [
             0.6666666666666666,
             "#ed7953"
            ],
            [
             0.7777777777777778,
             "#fb9f3a"
            ],
            [
             0.8888888888888888,
             "#fdca26"
            ],
            [
             1,
             "#f0f921"
            ]
           ]
          },
          "colorway": [
           "#636efa",
           "#EF553B",
           "#00cc96",
           "#ab63fa",
           "#FFA15A",
           "#19d3f3",
           "#FF6692",
           "#B6E880",
           "#FF97FF",
           "#FECB52"
          ],
          "font": {
           "color": "#2a3f5f"
          },
          "geo": {
           "bgcolor": "white",
           "lakecolor": "white",
           "landcolor": "#E5ECF6",
           "showlakes": true,
           "showland": true,
           "subunitcolor": "white"
          },
          "hoverlabel": {
           "align": "left"
          },
          "hovermode": "closest",
          "mapbox": {
           "style": "light"
          },
          "paper_bgcolor": "white",
          "plot_bgcolor": "#E5ECF6",
          "polar": {
           "angularaxis": {
            "gridcolor": "white",
            "linecolor": "white",
            "ticks": ""
           },
           "bgcolor": "#E5ECF6",
           "radialaxis": {
            "gridcolor": "white",
            "linecolor": "white",
            "ticks": ""
           }
          },
          "scene": {
           "xaxis": {
            "backgroundcolor": "#E5ECF6",
            "gridcolor": "white",
            "gridwidth": 2,
            "linecolor": "white",
            "showbackground": true,
            "ticks": "",
            "zerolinecolor": "white"
           },
           "yaxis": {
            "backgroundcolor": "#E5ECF6",
            "gridcolor": "white",
            "gridwidth": 2,
            "linecolor": "white",
            "showbackground": true,
            "ticks": "",
            "zerolinecolor": "white"
           },
           "zaxis": {
            "backgroundcolor": "#E5ECF6",
            "gridcolor": "white",
            "gridwidth": 2,
            "linecolor": "white",
            "showbackground": true,
            "ticks": "",
            "zerolinecolor": "white"
           }
          },
          "shapedefaults": {
           "line": {
            "color": "#2a3f5f"
           }
          },
          "ternary": {
           "aaxis": {
            "gridcolor": "white",
            "linecolor": "white",
            "ticks": ""
           },
           "baxis": {
            "gridcolor": "white",
            "linecolor": "white",
            "ticks": ""
           },
           "bgcolor": "#E5ECF6",
           "caxis": {
            "gridcolor": "white",
            "linecolor": "white",
            "ticks": ""
           }
          },
          "title": {
           "x": 0.05
          },
          "xaxis": {
           "automargin": true,
           "gridcolor": "white",
           "linecolor": "white",
           "ticks": "",
           "title": {
            "standoff": 15
           },
           "zerolinecolor": "white",
           "zerolinewidth": 2
          },
          "yaxis": {
           "automargin": true,
           "gridcolor": "white",
           "linecolor": "white",
           "ticks": "",
           "title": {
            "standoff": 15
           },
           "zerolinecolor": "white",
           "zerolinewidth": 2
          }
         }
        },
        "title": {
         "font": {
          "color": "Black",
          "size": 22
         },
         "text": "<b>Similarity Matrix",
         "x": 0.55,
         "xanchor": "center",
         "y": 0.95,
         "yanchor": "top"
        },
        "width": 1000,
        "xaxis": {
         "anchor": "y",
         "constrain": "domain",
         "domain": [
          0,
          1
         ],
         "scaleanchor": "y"
        },
        "yaxis": {
         "anchor": "x",
         "autorange": "reversed",
         "constrain": "domain",
         "domain": [
          0,
          1
         ]
        }
       }
      }
     },
     "metadata": {},
     "output_type": "display_data"
    },
    {
     "data": {
      "application/vnd.plotly.v1+json": {
       "config": {
        "plotlyServerURL": "https://plotly.com"
       },
       "data": [
        {
         "hovertext": "<b>Topic -1</b>:voce_amore_occhi_pareva_parole_ani",
         "line": {
          "color": "black",
          "width": 1.5
         },
         "mode": "lines+lines",
         "name": "",
         "opacity": 0.1,
         "type": "scatter",
         "x": [
          1,
          2,
          3,
          4,
          5,
          6,
          7,
          8,
          9,
          10
         ],
         "y": [
          0.011994744455297076,
          0.011122611860879811,
          0.010678829362748311,
          0.008461981802032805,
          0.008247318792611353,
          0.007866644430539452,
          0.007631507153311929,
          0.007413221662732186,
          0.007366768219750228,
          0.007210798202706715
         ]
        },
        {
         "hovertext": "<b>Topic 0</b>:mano_bocca_amo_parole_vostra_labbra",
         "line": {
          "color": "black",
          "width": 1.5
         },
         "mode": "lines+lines",
         "name": "",
         "opacity": 0.1,
         "type": "scatter",
         "x": [
          1,
          2,
          3,
          4,
          5,
          6,
          7,
          8,
          9,
          10
         ],
         "y": [
          0.0286959847372677,
          0.02473298391259707,
          0.018923593159216632,
          0.01890369671834607,
          0.01879305015357303,
          0.018282244933738867,
          0.018210115711641786,
          0.018199124584977897,
          0.016566709846271326,
          0.01642126525332335
         ]
        },
        {
         "hovertext": "<b>Topic 1</b>:anima_vita_dio_cuore_volontà_dolore",
         "line": {
          "color": "black",
          "width": 1.5
         },
         "mode": "lines+lines",
         "name": "",
         "opacity": 0.1,
         "type": "scatter",
         "x": [
          1,
          2,
          3,
          4,
          5,
          6,
          7,
          8,
          9,
          10
         ],
         "y": [
          0.03040816527876318,
          0.026894987583515797,
          0.023644246289503287,
          0.021167236657316322,
          0.018658486933338336,
          0.01848256758742358,
          0.01846554317264944,
          0.016923513032697676,
          0.01671176785680235,
          0.015506969698083604
         ]
        },
        {
         "hovertext": "<b>Topic 2</b>:vita_anima_spirito_padre_forza_esse",
         "line": {
          "color": "black",
          "width": 1.5
         },
         "mode": "lines+lines",
         "name": "",
         "opacity": 0.1,
         "type": "scatter",
         "x": [
          1,
          2,
          3,
          4,
          5,
          6,
          7,
          8,
          9,
          10
         ],
         "y": [
          0.028435656128572347,
          0.022342115456881795,
          0.018174139833399723,
          0.01642159099047405,
          0.01614197861573166,
          0.015013419862373685,
          0.014885188620307917,
          0.01335986068489576,
          0.012505876181812347,
          0.012070213100904982
         ]
        },
        {
         "hovertext": "<b>Topic 3</b>:addio_voce_taci_tua_hai_chiese_risp",
         "line": {
          "color": "black",
          "width": 1.5
         },
         "mode": "lines+lines",
         "name": "",
         "opacity": 0.1,
         "type": "scatter",
         "x": [
          1,
          2,
          3,
          4,
          5,
          6,
          7,
          8,
          9,
          10
         ],
         "y": [
          0.05077879755797907,
          0.030153369384838456,
          0.029165987159165265,
          0.026715189546378523,
          0.026111055198420493,
          0.0260430419603231,
          0.02227862947326684,
          0.022102058245319335,
          0.02187449036937395,
          0.021723403364762386
         ]
        },
        {
         "hovertext": "<b>Topic 4</b>:occhi_testa_capelli_bocca_color_fro",
         "line": {
          "color": "black",
          "width": 1.5
         },
         "mode": "lines+lines",
         "name": "",
         "opacity": 0.1,
         "type": "scatter",
         "x": [
          1,
          2,
          3,
          4,
          5,
          6,
          7,
          8,
          9,
          10
         ],
         "y": [
          0.01962476894235239,
          0.019273497078842298,
          0.018335492247220017,
          0.01642738053113711,
          0.014287045378628481,
          0.011653531986088511,
          0.011495839378941193,
          0.011107316441554237,
          0.010756364719467164,
          0.010307410068824963
         ]
        },
        {
         "hovertext": "<b>Topic 5</b>:cuore_sentiva_spirito_lacrime_passi",
         "line": {
          "color": "black",
          "width": 1.5
         },
         "mode": "lines+lines",
         "name": "",
         "opacity": 0.1,
         "type": "scatter",
         "x": [
          1,
          2,
          3,
          4,
          5,
          6,
          7,
          8,
          9,
          10
         ],
         "y": [
          0.020119521192897824,
          0.01675531766721432,
          0.01551843108462237,
          0.014353496105718528,
          0.013695143690175791,
          0.013143157046372287,
          0.012895206758229426,
          0.012366036992337683,
          0.01230816853633478,
          0.012232870271692843
         ]
        },
        {
         "hovertext": "<b>Topic 6</b>:cielo_acqua_verde_vento_alberi_oro_",
         "line": {
          "color": "black",
          "width": 1.5
         },
         "mode": "lines+lines",
         "name": "",
         "opacity": 0.1,
         "type": "scatter",
         "x": [
          1,
          2,
          3,
          4,
          5,
          6,
          7,
          8,
          9,
          10
         ],
         "y": [
          0.034337801355302934,
          0.03187573404223799,
          0.026341368724991227,
          0.022640023505577072,
          0.021868915727911598,
          0.021324847260769372,
          0.020756742544813096,
          0.018631624084724054,
          0.018589511603803892,
          0.018303129010378394
         ]
        },
        {
         "hovertext": "<b>Topic 7</b>:interruppe_ah_rispose_amici_barones",
         "line": {
          "color": "black",
          "width": 1.5
         },
         "mode": "lines+lines",
         "name": "",
         "opacity": 0.1,
         "type": "scatter",
         "x": [
          1,
          2,
          3,
          4,
          5,
          6,
          7,
          8,
          9,
          10
         ],
         "y": [
          0.026328560614733293,
          0.025722640594410283,
          0.021279214319325897,
          0.019385729707356823,
          0.019376036306885044,
          0.019198907527269205,
          0.018684114819068398,
          0.01808424020602887,
          0.01667887697714572,
          0.016580731769977125
         ]
        },
        {
         "hovertext": "<b>Topic 8</b>:inganno_be_thine_settembre_potessi_",
         "line": {
          "color": "black",
          "width": 1.5
         },
         "mode": "lines+lines",
         "name": "",
         "opacity": 0.1,
         "type": "scatter",
         "x": [
          1,
          2,
          3,
          4,
          5,
          6,
          7,
          8,
          9,
          10
         ],
         "y": [
          0.1036444943491236,
          0.08614191329948058,
          0.08614191329948058,
          0.07942917235214816,
          0.0770404200289793,
          0.07501840372764373,
          0.07030034274610261,
          0.06691078083399293,
          0.05738122665100064,
          0.05477809727760793
         ]
        },
        {
         "hovertext": "<b>Topic 9</b>:terreno_guardia_vittoria_barone_bot",
         "line": {
          "color": "black",
          "width": 1.5
         },
         "mode": "lines+lines",
         "name": "",
         "opacity": 0.1,
         "type": "scatter",
         "x": [
          1,
          2,
          3,
          4,
          5,
          6,
          7,
          8,
          9,
          10
         ],
         "y": [
          0.028108068853639312,
          0.028108068853639312,
          0.027609469227246386,
          0.02634903902114426,
          0.026328418355688426,
          0.026328418355688426,
          0.023992643391754977,
          0.023980646407154256,
          0.02342100737649252,
          0.022087575381797106
         ]
        },
        {
         "hovertext": "<b>Topic 10</b>:libro_versi_secolo_libri_corte_poe",
         "line": {
          "color": "black",
          "width": 1.5
         },
         "mode": "lines+lines",
         "name": "",
         "opacity": 0.1,
         "type": "scatter",
         "x": [
          1,
          2,
          3,
          4,
          5,
          6,
          7,
          8,
          9,
          10
         ],
         "y": [
          0.03054333769728264,
          0.027637881570853128,
          0.02264972859109901,
          0.022047101549989612,
          0.021482810585498058,
          0.02002351056853234,
          0.01931969587674359,
          0.016824192757918827,
          0.016824192757918827,
          0.01620778100932797
         ]
        },
        {
         "hovertext": "<b>Topic 11</b>:tratto_braccio_principessa_occhi_r",
         "line": {
          "color": "black",
          "width": 1.5
         },
         "mode": "lines+lines",
         "name": "",
         "opacity": 0.1,
         "type": "scatter",
         "x": [
          1,
          2,
          3,
          4,
          5,
          6,
          7,
          8,
          9,
          10
         ],
         "y": [
          0.02209710303314402,
          0.021362978550687774,
          0.018999104918922576,
          0.018862889472660835,
          0.01854810497035831,
          0.018424349186005228,
          0.018424349186005228,
          0.01786932058085462,
          0.01634815720304835,
          0.0160452120543178
         ]
        },
        {
         "hovertext": "<b>Topic 12</b>:obelisco_città_cipressi_luce_giù_a",
         "line": {
          "color": "black",
          "width": 1.5
         },
         "mode": "lines+lines",
         "name": "",
         "opacity": 0.1,
         "type": "scatter",
         "x": [
          1,
          2,
          3,
          4,
          5,
          6,
          7,
          8,
          9,
          10
         ],
         "y": [
          0.032122817915652684,
          0.028613920638269782,
          0.023059245396454285,
          0.022910696779968456,
          0.021441040651149542,
          0.02072760793137133,
          0.019972103181201212,
          0.019653601668425752,
          0.01957561779674137,
          0.019042867780033716
         ]
        },
        {
         "hovertext": "<b>Topic 13</b>:tè_vendite_vaso_tappezzerie_vendit",
         "line": {
          "color": "black",
          "width": 1.5
         },
         "mode": "lines+lines",
         "name": "",
         "opacity": 0.1,
         "type": "scatter",
         "x": [
          1,
          2,
          3,
          4,
          5,
          6,
          7,
          8,
          9,
          10
         ],
         "y": [
          0.02351950356076904,
          0.022499600170879736,
          0.018381068019365676,
          0.017579619585670392,
          0.016578756265263655,
          0.016548679813994993,
          0.015985040129101392,
          0.01582190125279128,
          0.013863627282247264,
          0.013654548643419055
         ]
        },
        {
         "hovertext": "<b>Topic 14</b>:madre_vieni_parlava_voleva_mamma_a",
         "line": {
          "color": "black",
          "width": 1.5
         },
         "mode": "lines+lines",
         "name": "",
         "opacity": 0.1,
         "type": "scatter",
         "x": [
          1,
          2,
          3,
          4,
          5,
          6,
          7,
          8,
          9,
          10
         ],
         "y": [
          0.04955976252151607,
          0.04661961816473018,
          0.03364304821704389,
          0.02788589012398121,
          0.02698533887903812,
          0.025568247395660965,
          0.02517435318506665,
          0.022943142456762083,
          0.022943142456762083,
          0.022943142456762083
         ]
        },
        {
         "hovertext": "<b>Topic 15</b>:musica_pianoforte_sonata_do_esprim",
         "line": {
          "color": "black",
          "width": 1.5
         },
         "mode": "lines+lines",
         "name": "",
         "opacity": 0.1,
         "type": "scatter",
         "x": [
          1,
          2,
          3,
          4,
          5,
          6,
          7,
          8,
          9,
          10
         ],
         "y": [
          0.07042635132767897,
          0.043799354205320794,
          0.036084801793043825,
          0.024861210420609584,
          0.024861210420609584,
          0.02292499674688063,
          0.02292499674688063,
          0.022465763001254968,
          0.02223445033747757,
          0.021390948626750145
         ]
        },
        {
         "hovertext": "<b>Topic 16</b>:domani_nove_mezzogiorno_signor_med",
         "line": {
          "color": "black",
          "width": 1.5
         },
         "mode": "lines+lines",
         "name": "",
         "opacity": 0.1,
         "type": "scatter",
         "x": [
          1,
          2,
          3,
          4,
          5,
          6,
          7,
          8,
          9,
          10
         ],
         "y": [
          0.11032787619066167,
          0.07046983435811556,
          0.06500013039409841,
          0.056953387372970656,
          0.05409939427547791,
          0.05409939427547791,
          0.05409939427547791,
          0.050947746387241435,
          0.04697988957207704,
          0.04436886134864533
         ]
        },
        {
         "hovertext": "<b>Topic 17</b>:cavalli_cavallo_corsa_rasente_scal",
         "line": {
          "color": "black",
          "width": 1.5
         },
         "mode": "lines+lines",
         "name": "",
         "opacity": 0.1,
         "type": "scatter",
         "x": [
          1,
          2,
          3,
          4,
          5,
          6,
          7,
          8,
          9,
          10
         ],
         "y": [
          0.11791529834875873,
          0.07269849059387405,
          0.04893727370629272,
          0.04709173127776751,
          0.03727491777157593,
          0.03727491777157593,
          0.03727491777157593,
          0.035103407028206565,
          0.03356343948560281,
          0.0323695217695008
         ]
        },
        {
         "hovertext": "<b>Topic 18</b>:carrozza_scale_gradino_giardino_en",
         "line": {
          "color": "black",
          "width": 1.5
         },
         "mode": "lines+lines",
         "name": "",
         "opacity": 0.1,
         "type": "scatter",
         "x": [
          1,
          2,
          3,
          4,
          5,
          6,
          7,
          8,
          9,
          10
         ],
         "y": [
          0.11558551171992378,
          0.08174620546246092,
          0.0742521485550305,
          0.06865374964722902,
          0.06614130464996884,
          0.05867656046921046,
          0.05149031223542176,
          0.048518360792783974,
          0.04827619558610355,
          0.045815006545923964
         ]
        },
        {
         "hovertext": "<b>Topic 19</b>:acido_ornato_partenza_istinto_arte",
         "line": {
          "color": "black",
          "width": 1.5
         },
         "mode": "lines+lines",
         "name": "",
         "opacity": 0.1,
         "type": "scatter",
         "x": [
          1,
          2,
          3,
          4,
          5,
          6,
          7,
          8,
          9,
          10
         ],
         "y": [
          0.03671308776577668,
          0.0319709000209132,
          0.030799536932681892,
          0.030799536932681892,
          0.030799536932681892,
          0.02957563031451685,
          0.02703487825662963,
          0.02676481391854426,
          0.02477837157644078,
          0.024594929412705756
         ]
        },
        {
         "hovertext": "<b>Topic 20</b>:ricordi_ambedue_ultimo_tempo_guard",
         "line": {
          "color": "black",
          "width": 1.5
         },
         "mode": "lines+lines",
         "name": "",
         "opacity": 0.1,
         "type": "scatter",
         "x": [
          1,
          2,
          3,
          4,
          5,
          6,
          7,
          8,
          9,
          10
         ],
         "y": [
          0.04074911706166467,
          0.0372755444973708,
          0.03264593669094475,
          0.030772882583159095,
          0.029932557371888463,
          0.027220786458575806,
          0.026940514979459023,
          0.022744186999695507,
          0.021923470828379175,
          0.02143142317227268
         ]
        }
       ],
       "layout": {
        "height": 500,
        "hoverlabel": {
         "bgcolor": "white",
         "font": {
          "family": "Rockwell",
          "size": 16
         }
        },
        "showlegend": false,
        "template": {
         "data": {
          "bar": [
           {
            "error_x": {
             "color": "#2a3f5f"
            },
            "error_y": {
             "color": "#2a3f5f"
            },
            "marker": {
             "line": {
              "color": "white",
              "width": 0.5
             },
             "pattern": {
              "fillmode": "overlay",
              "size": 10,
              "solidity": 0.2
             }
            },
            "type": "bar"
           }
          ],
          "barpolar": [
           {
            "marker": {
             "line": {
              "color": "white",
              "width": 0.5
             },
             "pattern": {
              "fillmode": "overlay",
              "size": 10,
              "solidity": 0.2
             }
            },
            "type": "barpolar"
           }
          ],
          "carpet": [
           {
            "aaxis": {
             "endlinecolor": "#2a3f5f",
             "gridcolor": "#C8D4E3",
             "linecolor": "#C8D4E3",
             "minorgridcolor": "#C8D4E3",
             "startlinecolor": "#2a3f5f"
            },
            "baxis": {
             "endlinecolor": "#2a3f5f",
             "gridcolor": "#C8D4E3",
             "linecolor": "#C8D4E3",
             "minorgridcolor": "#C8D4E3",
             "startlinecolor": "#2a3f5f"
            },
            "type": "carpet"
           }
          ],
          "choropleth": [
           {
            "colorbar": {
             "outlinewidth": 0,
             "ticks": ""
            },
            "type": "choropleth"
           }
          ],
          "contour": [
           {
            "colorbar": {
             "outlinewidth": 0,
             "ticks": ""
            },
            "colorscale": [
             [
              0,
              "#0d0887"
             ],
             [
              0.1111111111111111,
              "#46039f"
             ],
             [
              0.2222222222222222,
              "#7201a8"
             ],
             [
              0.3333333333333333,
              "#9c179e"
             ],
             [
              0.4444444444444444,
              "#bd3786"
             ],
             [
              0.5555555555555556,
              "#d8576b"
             ],
             [
              0.6666666666666666,
              "#ed7953"
             ],
             [
              0.7777777777777778,
              "#fb9f3a"
             ],
             [
              0.8888888888888888,
              "#fdca26"
             ],
             [
              1,
              "#f0f921"
             ]
            ],
            "type": "contour"
           }
          ],
          "contourcarpet": [
           {
            "colorbar": {
             "outlinewidth": 0,
             "ticks": ""
            },
            "type": "contourcarpet"
           }
          ],
          "heatmap": [
           {
            "colorbar": {
             "outlinewidth": 0,
             "ticks": ""
            },
            "colorscale": [
             [
              0,
              "#0d0887"
             ],
             [
              0.1111111111111111,
              "#46039f"
             ],
             [
              0.2222222222222222,
              "#7201a8"
             ],
             [
              0.3333333333333333,
              "#9c179e"
             ],
             [
              0.4444444444444444,
              "#bd3786"
             ],
             [
              0.5555555555555556,
              "#d8576b"
             ],
             [
              0.6666666666666666,
              "#ed7953"
             ],
             [
              0.7777777777777778,
              "#fb9f3a"
             ],
             [
              0.8888888888888888,
              "#fdca26"
             ],
             [
              1,
              "#f0f921"
             ]
            ],
            "type": "heatmap"
           }
          ],
          "heatmapgl": [
           {
            "colorbar": {
             "outlinewidth": 0,
             "ticks": ""
            },
            "colorscale": [
             [
              0,
              "#0d0887"
             ],
             [
              0.1111111111111111,
              "#46039f"
             ],
             [
              0.2222222222222222,
              "#7201a8"
             ],
             [
              0.3333333333333333,
              "#9c179e"
             ],
             [
              0.4444444444444444,
              "#bd3786"
             ],
             [
              0.5555555555555556,
              "#d8576b"
             ],
             [
              0.6666666666666666,
              "#ed7953"
             ],
             [
              0.7777777777777778,
              "#fb9f3a"
             ],
             [
              0.8888888888888888,
              "#fdca26"
             ],
             [
              1,
              "#f0f921"
             ]
            ],
            "type": "heatmapgl"
           }
          ],
          "histogram": [
           {
            "marker": {
             "pattern": {
              "fillmode": "overlay",
              "size": 10,
              "solidity": 0.2
             }
            },
            "type": "histogram"
           }
          ],
          "histogram2d": [
           {
            "colorbar": {
             "outlinewidth": 0,
             "ticks": ""
            },
            "colorscale": [
             [
              0,
              "#0d0887"
             ],
             [
              0.1111111111111111,
              "#46039f"
             ],
             [
              0.2222222222222222,
              "#7201a8"
             ],
             [
              0.3333333333333333,
              "#9c179e"
             ],
             [
              0.4444444444444444,
              "#bd3786"
             ],
             [
              0.5555555555555556,
              "#d8576b"
             ],
             [
              0.6666666666666666,
              "#ed7953"
             ],
             [
              0.7777777777777778,
              "#fb9f3a"
             ],
             [
              0.8888888888888888,
              "#fdca26"
             ],
             [
              1,
              "#f0f921"
             ]
            ],
            "type": "histogram2d"
           }
          ],
          "histogram2dcontour": [
           {
            "colorbar": {
             "outlinewidth": 0,
             "ticks": ""
            },
            "colorscale": [
             [
              0,
              "#0d0887"
             ],
             [
              0.1111111111111111,
              "#46039f"
             ],
             [
              0.2222222222222222,
              "#7201a8"
             ],
             [
              0.3333333333333333,
              "#9c179e"
             ],
             [
              0.4444444444444444,
              "#bd3786"
             ],
             [
              0.5555555555555556,
              "#d8576b"
             ],
             [
              0.6666666666666666,
              "#ed7953"
             ],
             [
              0.7777777777777778,
              "#fb9f3a"
             ],
             [
              0.8888888888888888,
              "#fdca26"
             ],
             [
              1,
              "#f0f921"
             ]
            ],
            "type": "histogram2dcontour"
           }
          ],
          "mesh3d": [
           {
            "colorbar": {
             "outlinewidth": 0,
             "ticks": ""
            },
            "type": "mesh3d"
           }
          ],
          "parcoords": [
           {
            "line": {
             "colorbar": {
              "outlinewidth": 0,
              "ticks": ""
             }
            },
            "type": "parcoords"
           }
          ],
          "pie": [
           {
            "automargin": true,
            "type": "pie"
           }
          ],
          "scatter": [
           {
            "marker": {
             "colorbar": {
              "outlinewidth": 0,
              "ticks": ""
             }
            },
            "type": "scatter"
           }
          ],
          "scatter3d": [
           {
            "line": {
             "colorbar": {
              "outlinewidth": 0,
              "ticks": ""
             }
            },
            "marker": {
             "colorbar": {
              "outlinewidth": 0,
              "ticks": ""
             }
            },
            "type": "scatter3d"
           }
          ],
          "scattercarpet": [
           {
            "marker": {
             "colorbar": {
              "outlinewidth": 0,
              "ticks": ""
             }
            },
            "type": "scattercarpet"
           }
          ],
          "scattergeo": [
           {
            "marker": {
             "colorbar": {
              "outlinewidth": 0,
              "ticks": ""
             }
            },
            "type": "scattergeo"
           }
          ],
          "scattergl": [
           {
            "marker": {
             "colorbar": {
              "outlinewidth": 0,
              "ticks": ""
             }
            },
            "type": "scattergl"
           }
          ],
          "scattermapbox": [
           {
            "marker": {
             "colorbar": {
              "outlinewidth": 0,
              "ticks": ""
             }
            },
            "type": "scattermapbox"
           }
          ],
          "scatterpolar": [
           {
            "marker": {
             "colorbar": {
              "outlinewidth": 0,
              "ticks": ""
             }
            },
            "type": "scatterpolar"
           }
          ],
          "scatterpolargl": [
           {
            "marker": {
             "colorbar": {
              "outlinewidth": 0,
              "ticks": ""
             }
            },
            "type": "scatterpolargl"
           }
          ],
          "scatterternary": [
           {
            "marker": {
             "colorbar": {
              "outlinewidth": 0,
              "ticks": ""
             }
            },
            "type": "scatterternary"
           }
          ],
          "surface": [
           {
            "colorbar": {
             "outlinewidth": 0,
             "ticks": ""
            },
            "colorscale": [
             [
              0,
              "#0d0887"
             ],
             [
              0.1111111111111111,
              "#46039f"
             ],
             [
              0.2222222222222222,
              "#7201a8"
             ],
             [
              0.3333333333333333,
              "#9c179e"
             ],
             [
              0.4444444444444444,
              "#bd3786"
             ],
             [
              0.5555555555555556,
              "#d8576b"
             ],
             [
              0.6666666666666666,
              "#ed7953"
             ],
             [
              0.7777777777777778,
              "#fb9f3a"
             ],
             [
              0.8888888888888888,
              "#fdca26"
             ],
             [
              1,
              "#f0f921"
             ]
            ],
            "type": "surface"
           }
          ],
          "table": [
           {
            "cells": {
             "fill": {
              "color": "#EBF0F8"
             },
             "line": {
              "color": "white"
             }
            },
            "header": {
             "fill": {
              "color": "#C8D4E3"
             },
             "line": {
              "color": "white"
             }
            },
            "type": "table"
           }
          ]
         },
         "layout": {
          "annotationdefaults": {
           "arrowcolor": "#2a3f5f",
           "arrowhead": 0,
           "arrowwidth": 1
          },
          "autotypenumbers": "strict",
          "coloraxis": {
           "colorbar": {
            "outlinewidth": 0,
            "ticks": ""
           }
          },
          "colorscale": {
           "diverging": [
            [
             0,
             "#8e0152"
            ],
            [
             0.1,
             "#c51b7d"
            ],
            [
             0.2,
             "#de77ae"
            ],
            [
             0.3,
             "#f1b6da"
            ],
            [
             0.4,
             "#fde0ef"
            ],
            [
             0.5,
             "#f7f7f7"
            ],
            [
             0.6,
             "#e6f5d0"
            ],
            [
             0.7,
             "#b8e186"
            ],
            [
             0.8,
             "#7fbc41"
            ],
            [
             0.9,
             "#4d9221"
            ],
            [
             1,
             "#276419"
            ]
           ],
           "sequential": [
            [
             0,
             "#0d0887"
            ],
            [
             0.1111111111111111,
             "#46039f"
            ],
            [
             0.2222222222222222,
             "#7201a8"
            ],
            [
             0.3333333333333333,
             "#9c179e"
            ],
            [
             0.4444444444444444,
             "#bd3786"
            ],
            [
             0.5555555555555556,
             "#d8576b"
            ],
            [
             0.6666666666666666,
             "#ed7953"
            ],
            [
             0.7777777777777778,
             "#fb9f3a"
            ],
            [
             0.8888888888888888,
             "#fdca26"
            ],
            [
             1,
             "#f0f921"
            ]
           ],
           "sequentialminus": [
            [
             0,
             "#0d0887"
            ],
            [
             0.1111111111111111,
             "#46039f"
            ],
            [
             0.2222222222222222,
             "#7201a8"
            ],
            [
             0.3333333333333333,
             "#9c179e"
            ],
            [
             0.4444444444444444,
             "#bd3786"
            ],
            [
             0.5555555555555556,
             "#d8576b"
            ],
            [
             0.6666666666666666,
             "#ed7953"
            ],
            [
             0.7777777777777778,
             "#fb9f3a"
            ],
            [
             0.8888888888888888,
             "#fdca26"
            ],
            [
             1,
             "#f0f921"
            ]
           ]
          },
          "colorway": [
           "#636efa",
           "#EF553B",
           "#00cc96",
           "#ab63fa",
           "#FFA15A",
           "#19d3f3",
           "#FF6692",
           "#B6E880",
           "#FF97FF",
           "#FECB52"
          ],
          "font": {
           "color": "#2a3f5f"
          },
          "geo": {
           "bgcolor": "white",
           "lakecolor": "white",
           "landcolor": "white",
           "showlakes": true,
           "showland": true,
           "subunitcolor": "#C8D4E3"
          },
          "hoverlabel": {
           "align": "left"
          },
          "hovermode": "closest",
          "mapbox": {
           "style": "light"
          },
          "paper_bgcolor": "white",
          "plot_bgcolor": "white",
          "polar": {
           "angularaxis": {
            "gridcolor": "#EBF0F8",
            "linecolor": "#EBF0F8",
            "ticks": ""
           },
           "bgcolor": "white",
           "radialaxis": {
            "gridcolor": "#EBF0F8",
            "linecolor": "#EBF0F8",
            "ticks": ""
           }
          },
          "scene": {
           "xaxis": {
            "backgroundcolor": "white",
            "gridcolor": "#DFE8F3",
            "gridwidth": 2,
            "linecolor": "#EBF0F8",
            "showbackground": true,
            "ticks": "",
            "zerolinecolor": "#EBF0F8"
           },
           "yaxis": {
            "backgroundcolor": "white",
            "gridcolor": "#DFE8F3",
            "gridwidth": 2,
            "linecolor": "#EBF0F8",
            "showbackground": true,
            "ticks": "",
            "zerolinecolor": "#EBF0F8"
           },
           "zaxis": {
            "backgroundcolor": "white",
            "gridcolor": "#DFE8F3",
            "gridwidth": 2,
            "linecolor": "#EBF0F8",
            "showbackground": true,
            "ticks": "",
            "zerolinecolor": "#EBF0F8"
           }
          },
          "shapedefaults": {
           "line": {
            "color": "#2a3f5f"
           }
          },
          "ternary": {
           "aaxis": {
            "gridcolor": "#DFE8F3",
            "linecolor": "#A2B1C6",
            "ticks": ""
           },
           "baxis": {
            "gridcolor": "#DFE8F3",
            "linecolor": "#A2B1C6",
            "ticks": ""
           },
           "bgcolor": "white",
           "caxis": {
            "gridcolor": "#DFE8F3",
            "linecolor": "#A2B1C6",
            "ticks": ""
           }
          },
          "title": {
           "x": 0.05
          },
          "xaxis": {
           "automargin": true,
           "gridcolor": "#EBF0F8",
           "linecolor": "#EBF0F8",
           "ticks": "",
           "title": {
            "standoff": 15
           },
           "zerolinecolor": "#EBF0F8",
           "zerolinewidth": 2
          },
          "yaxis": {
           "automargin": true,
           "gridcolor": "#EBF0F8",
           "linecolor": "#EBF0F8",
           "ticks": "",
           "title": {
            "standoff": 15
           },
           "zerolinecolor": "#EBF0F8",
           "zerolinewidth": 2
          }
         }
        },
        "title": {
         "font": {
          "color": "Black",
          "size": 22
         },
         "text": "<b>Term score decline per Topic</b>",
         "x": 0.5,
         "xanchor": "center",
         "y": 0.9,
         "yanchor": "top"
        },
        "width": 800,
        "xaxis": {
         "dtick": 2,
         "range": [
          0,
          10
         ],
         "tick0": 1,
         "title": {
          "text": "Term Rank"
         }
        },
        "yaxis": {
         "title": {
          "text": "c-TF-IDF score"
         }
        }
       }
      }
     },
     "metadata": {},
     "output_type": "display_data"
    }
   ],
   "source": [
    "fig1 = topic_model.visualize_topics()\n",
    "fig2 = topic_model.visualize_distribution(probs[200], min_probability=0.015)\n",
    "fig3 = topic_model.visualize_hierarchy(top_n_topics=50)\n",
    "fig4 = topic_model.visualize_barchart(top_n_topics=5)\n",
    "fig5 = topic_model.visualize_heatmap(n_clusters=15, width=1000, height=1000)\n",
    "fig6 = topic_model.visualize_term_rank()\n",
    "\n",
    "fig1.show()\n",
    "fig2.show()\n",
    "fig3.show()\n",
    "fig4.show()\n",
    "fig5.show()\n",
    "fig6.show()"
   ]
  },
  {
   "cell_type": "code",
   "execution_count": 9,
   "metadata": {},
   "outputs": [],
   "source": [
    "fig1.write_html(\"~/Fig1.html\", default_width=500, default_height=550)\n",
    "fig2.write_html(\"~/Fig2.html\", default_width=500, default_height=550)\n",
    "fig3.write_html(\"~/Fig3.html\", default_width=500, default_height=550)\n",
    "fig4.write_html(\"~/Fig4.html\", default_width=500, default_height=550)\n",
    "fig5.write_html(\"~/Fig5.html\", default_width=500, default_height=550)\n",
    "fig6.write_html(\"~/Fig6.html\", default_width=500, default_height=550)"
   ]
  },
  {
   "cell_type": "code",
   "execution_count": null,
   "metadata": {},
   "outputs": [],
   "source": []
  }
 ],
 "metadata": {
  "interpreter": {
   "hash": "46be0b876ca0f51bcb6c32aa779b658b92c1d733b9fd684b42983bb361d90619"
  },
  "kernelspec": {
   "display_name": "Python 3 (ipykernel)",
   "language": "python",
   "name": "python3"
  },
  "language_info": {
   "codemirror_mode": {
    "name": "ipython",
    "version": 3
   },
   "file_extension": ".py",
   "mimetype": "text/x-python",
   "name": "python",
   "nbconvert_exporter": "python",
   "pygments_lexer": "ipython3",
   "version": "3.9.12"
  }
 },
 "nbformat": 4,
 "nbformat_minor": 2
}
